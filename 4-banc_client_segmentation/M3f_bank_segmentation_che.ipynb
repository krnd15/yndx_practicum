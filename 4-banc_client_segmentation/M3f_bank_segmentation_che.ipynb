{
 "cells": [
  {
   "cell_type": "markdown",
   "id": "64b7da8e",
   "metadata": {},
   "source": [
    "# Оглавление: \n",
    "2. <a name=\"dashboard\">  Дашборд и презентация \n",
    "</a>\n",
    "3. [Описание проета](#descript)\n",
    "4.[Предобработка данных](#preprocess)\n",
    "5.[Исследовательский анализ данных](#analysis)\n",
    "6.[Сегментация клиентов](#segment)\n",
    "7.[Проверка гипотез](#check)\n",
    "8.[Выводы](#cncl)"
   ]
  },
  {
   "cell_type": "markdown",
   "id": "79d92149",
   "metadata": {},
   "source": [
    "# [Дашборд и презентация](#dashboard)\n",
    "\n",
    "\n",
    "Дашборд: https://public.tableau.com/views/_16584298036940/Dashboard1?:language=en-US&:display_count=n&:origin=viz_share_link"
   ]
  },
  {
   "cell_type": "markdown",
   "id": "90474617",
   "metadata": {},
   "source": [
    "Презентация: https://disk.yandex.ru/i/GEAls0gv7Eo4lw"
   ]
  },
  {
   "cell_type": "markdown",
   "id": "84318253",
   "metadata": {},
   "source": [
    "# <a name=\"descript\"> Описание проекта и цель:\n",
    "</a> \n",
    "\n",
    "**Описание проекта:**\n",
    "\n",
    "Заказчик: Небольшой региональный банк, располагается в Ярославле, Ростов Великий и Рыбинск.\n",
    "Проблема: Банк столкнулся с оттоком клиентов. Менеджеры банка полгают, что проблема оттока связана с одним из продуктов. \n",
    "\n",
    "**Цель:**\n",
    "\n",
    "Проанализировать клиентов банка, провести сегментацию клиентов по признакам, которые могут влиять на отток, сформировать и проверить статистические гипотезы на равернство срених между продуктами."
   ]
  },
  {
   "cell_type": "code",
   "execution_count": 1,
   "id": "96719a1d",
   "metadata": {},
   "outputs": [],
   "source": [
    "import os\n",
    "from urllib.error import HTTPError\n",
    "\n",
    "import pandas as pd\n",
    "import numpy as np\n",
    "\n",
    "import seaborn as sns\n",
    "sns.set(style='white')\n",
    "import matplotlib.pyplot as plt\n",
    "\n",
    "from scipy import stats as st\n",
    "# ignore warnings\n",
    "import warnings\n",
    "warnings.filterwarnings('ignore')"
   ]
  },
  {
   "cell_type": "markdown",
   "id": "0a3c214f",
   "metadata": {},
   "source": [
    "# <a name=\"preprocess\"> Предобработка данных:\n",
    "</a> "
   ]
  },
  {
   "cell_type": "markdown",
   "id": "db164ef2",
   "metadata": {},
   "source": [
    "* проверить корректность полученных данных, \n",
    "* обработать дубликаты, \n",
    "* удалить пустые строки, если они есть, \n",
    "* наименования, привести к единому стилю, если в них есть проблемы, \n",
    "* привести типы, \n",
    "* заменить пропущенные значения. "
   ]
  },
  {
   "cell_type": "code",
   "execution_count": 2,
   "id": "76914b79",
   "metadata": {
    "scrolled": true
   },
   "outputs": [
    {
     "data": {
      "text/html": [
       "<div>\n",
       "<style scoped>\n",
       "    .dataframe tbody tr th:only-of-type {\n",
       "        vertical-align: middle;\n",
       "    }\n",
       "\n",
       "    .dataframe tbody tr th {\n",
       "        vertical-align: top;\n",
       "    }\n",
       "\n",
       "    .dataframe thead th {\n",
       "        text-align: right;\n",
       "    }\n",
       "</style>\n",
       "<table border=\"1\" class=\"dataframe\">\n",
       "  <thead>\n",
       "    <tr style=\"text-align: right;\">\n",
       "      <th></th>\n",
       "      <th>Unnamed: 0</th>\n",
       "      <th>userid</th>\n",
       "      <th>score</th>\n",
       "      <th>city</th>\n",
       "      <th>gender</th>\n",
       "      <th>age</th>\n",
       "      <th>equity</th>\n",
       "      <th>balance</th>\n",
       "      <th>products</th>\n",
       "      <th>credit_card</th>\n",
       "      <th>last_activity</th>\n",
       "      <th>salary</th>\n",
       "      <th>churn</th>\n",
       "    </tr>\n",
       "  </thead>\n",
       "  <tbody>\n",
       "    <tr>\n",
       "      <th>0</th>\n",
       "      <td>0</td>\n",
       "      <td>258835</td>\n",
       "      <td>673</td>\n",
       "      <td>Ростов</td>\n",
       "      <td>Ж</td>\n",
       "      <td>32</td>\n",
       "      <td>0</td>\n",
       "      <td>467428.54</td>\n",
       "      <td>1</td>\n",
       "      <td>0</td>\n",
       "      <td>1</td>\n",
       "      <td>81011.65</td>\n",
       "      <td>True</td>\n",
       "    </tr>\n",
       "    <tr>\n",
       "      <th>1</th>\n",
       "      <td>1</td>\n",
       "      <td>96660</td>\n",
       "      <td>691</td>\n",
       "      <td>Ростов</td>\n",
       "      <td>Ж</td>\n",
       "      <td>31</td>\n",
       "      <td>3</td>\n",
       "      <td>65548.60</td>\n",
       "      <td>1</td>\n",
       "      <td>0</td>\n",
       "      <td>1</td>\n",
       "      <td>57005.02</td>\n",
       "      <td>True</td>\n",
       "    </tr>\n",
       "    <tr>\n",
       "      <th>2</th>\n",
       "      <td>2</td>\n",
       "      <td>99838</td>\n",
       "      <td>679</td>\n",
       "      <td>Ростов</td>\n",
       "      <td>Ж</td>\n",
       "      <td>30</td>\n",
       "      <td>1</td>\n",
       "      <td>686979.40</td>\n",
       "      <td>1</td>\n",
       "      <td>1</td>\n",
       "      <td>1</td>\n",
       "      <td>149687.98</td>\n",
       "      <td>True</td>\n",
       "    </tr>\n",
       "    <tr>\n",
       "      <th>3</th>\n",
       "      <td>3</td>\n",
       "      <td>216099</td>\n",
       "      <td>717</td>\n",
       "      <td>Рыбинск</td>\n",
       "      <td>Ж</td>\n",
       "      <td>25</td>\n",
       "      <td>2</td>\n",
       "      <td>1292171.92</td>\n",
       "      <td>1</td>\n",
       "      <td>0</td>\n",
       "      <td>1</td>\n",
       "      <td>19502.68</td>\n",
       "      <td>True</td>\n",
       "    </tr>\n",
       "    <tr>\n",
       "      <th>4</th>\n",
       "      <td>4</td>\n",
       "      <td>120240</td>\n",
       "      <td>744</td>\n",
       "      <td>Рыбинск</td>\n",
       "      <td>Ж</td>\n",
       "      <td>37</td>\n",
       "      <td>1</td>\n",
       "      <td>1390927.97</td>\n",
       "      <td>1</td>\n",
       "      <td>0</td>\n",
       "      <td>1</td>\n",
       "      <td>36861.24</td>\n",
       "      <td>True</td>\n",
       "    </tr>\n",
       "  </tbody>\n",
       "</table>\n",
       "</div>"
      ],
      "text/plain": [
       "   Unnamed: 0  userid  score     city gender  age  equity     balance  \\\n",
       "0           0  258835    673   Ростов      Ж   32       0   467428.54   \n",
       "1           1   96660    691   Ростов      Ж   31       3    65548.60   \n",
       "2           2   99838    679   Ростов      Ж   30       1   686979.40   \n",
       "3           3  216099    717  Рыбинск      Ж   25       2  1292171.92   \n",
       "4           4  120240    744  Рыбинск      Ж   37       1  1390927.97   \n",
       "\n",
       "   products  credit_card  last_activity     salary  churn  \n",
       "0         1            0              1   81011.65   True  \n",
       "1         1            0              1   57005.02   True  \n",
       "2         1            1              1  149687.98   True  \n",
       "3         1            0              1   19502.68   True  \n",
       "4         1            0              1   36861.24   True  "
      ]
     },
     "execution_count": 2,
     "metadata": {},
     "output_type": "execute_result"
    }
   ],
   "source": [
    "local_path = 'C:\\\\Dev\\\\Jupyter\\\\dist\\\\downloads\\\\bank_dataset_new.csv'\n",
    "web_path = 'https://drive.google.com/uc?export=download&id=1avzNMbAm9vXJWBpGUK6mZxGgGl'\n",
    "\n",
    "if os.path.exists(local_path):\n",
    "    df = pd.read_csv(local_path)\n",
    "else:\n",
    "    try:\n",
    "        df = pd.read_csv(web_path)\n",
    "    except HTTPError:\n",
    "        print(\"Oops!\")\n",
    "        df = pd.DataFrame()\n",
    "df.head()"
   ]
  },
  {
   "cell_type": "markdown",
   "id": "027c0c7d",
   "metadata": {},
   "source": [
    "- `userid` — идентификатор пользователя,\n",
    "- `score` — баллы кредитного скоринга,\n",
    "- `city` — город,\n",
    "- `gender` — пол,\n",
    "- `age` — возраст,\n",
    "- `equity` — приблизительная оценка собственности клиента. Чем больше баллов, тем более ценной собственностью обладает клиент по нашим данным.\n",
    "- `balance` — баланс на счёте,\n",
    "- `products` — количество продуктов, которыми пользуется клиент [1, 3, 4, 0, 2],\n",
    "- `credit_card` — есть ли кредитная карта,\n",
    "- `last_activity` — был ли клиент активен последнее время [1, 0],\n",
    "- `salary` — заработная плата клиента,\n",
    "- `churn` — уходит или нет."
   ]
  },
  {
   "cell_type": "markdown",
   "id": "eb7d528a",
   "metadata": {},
   "source": [
    "столбец `Unnamed: 0` можно удалить, он дублирует инексы по строкам"
   ]
  },
  {
   "cell_type": "code",
   "execution_count": 3,
   "id": "db62efc8",
   "metadata": {
    "scrolled": false
   },
   "outputs": [
    {
     "data": {
      "text/html": [
       "<div>\n",
       "<style scoped>\n",
       "    .dataframe tbody tr th:only-of-type {\n",
       "        vertical-align: middle;\n",
       "    }\n",
       "\n",
       "    .dataframe tbody tr th {\n",
       "        vertical-align: top;\n",
       "    }\n",
       "\n",
       "    .dataframe thead th {\n",
       "        text-align: right;\n",
       "    }\n",
       "</style>\n",
       "<table border=\"1\" class=\"dataframe\">\n",
       "  <thead>\n",
       "    <tr style=\"text-align: right;\">\n",
       "      <th></th>\n",
       "      <th>userid</th>\n",
       "      <th>score</th>\n",
       "      <th>city</th>\n",
       "      <th>gender</th>\n",
       "      <th>age</th>\n",
       "      <th>equity</th>\n",
       "      <th>balance</th>\n",
       "      <th>products</th>\n",
       "      <th>credit_card</th>\n",
       "      <th>last_activity</th>\n",
       "      <th>salary</th>\n",
       "      <th>churn</th>\n",
       "    </tr>\n",
       "  </thead>\n",
       "  <tbody>\n",
       "    <tr>\n",
       "      <th>0</th>\n",
       "      <td>258835</td>\n",
       "      <td>673</td>\n",
       "      <td>Ростов</td>\n",
       "      <td>Ж</td>\n",
       "      <td>32</td>\n",
       "      <td>0</td>\n",
       "      <td>467428.54</td>\n",
       "      <td>1</td>\n",
       "      <td>0</td>\n",
       "      <td>1</td>\n",
       "      <td>81011.65</td>\n",
       "      <td>True</td>\n",
       "    </tr>\n",
       "    <tr>\n",
       "      <th>1</th>\n",
       "      <td>96660</td>\n",
       "      <td>691</td>\n",
       "      <td>Ростов</td>\n",
       "      <td>Ж</td>\n",
       "      <td>31</td>\n",
       "      <td>3</td>\n",
       "      <td>65548.60</td>\n",
       "      <td>1</td>\n",
       "      <td>0</td>\n",
       "      <td>1</td>\n",
       "      <td>57005.02</td>\n",
       "      <td>True</td>\n",
       "    </tr>\n",
       "    <tr>\n",
       "      <th>2</th>\n",
       "      <td>99838</td>\n",
       "      <td>679</td>\n",
       "      <td>Ростов</td>\n",
       "      <td>Ж</td>\n",
       "      <td>30</td>\n",
       "      <td>1</td>\n",
       "      <td>686979.40</td>\n",
       "      <td>1</td>\n",
       "      <td>1</td>\n",
       "      <td>1</td>\n",
       "      <td>149687.98</td>\n",
       "      <td>True</td>\n",
       "    </tr>\n",
       "    <tr>\n",
       "      <th>3</th>\n",
       "      <td>216099</td>\n",
       "      <td>717</td>\n",
       "      <td>Рыбинск</td>\n",
       "      <td>Ж</td>\n",
       "      <td>25</td>\n",
       "      <td>2</td>\n",
       "      <td>1292171.92</td>\n",
       "      <td>1</td>\n",
       "      <td>0</td>\n",
       "      <td>1</td>\n",
       "      <td>19502.68</td>\n",
       "      <td>True</td>\n",
       "    </tr>\n",
       "    <tr>\n",
       "      <th>4</th>\n",
       "      <td>120240</td>\n",
       "      <td>744</td>\n",
       "      <td>Рыбинск</td>\n",
       "      <td>Ж</td>\n",
       "      <td>37</td>\n",
       "      <td>1</td>\n",
       "      <td>1390927.97</td>\n",
       "      <td>1</td>\n",
       "      <td>0</td>\n",
       "      <td>1</td>\n",
       "      <td>36861.24</td>\n",
       "      <td>True</td>\n",
       "    </tr>\n",
       "  </tbody>\n",
       "</table>\n",
       "</div>"
      ],
      "text/plain": [
       "   userid  score     city gender  age  equity     balance  products  \\\n",
       "0  258835    673   Ростов      Ж   32       0   467428.54         1   \n",
       "1   96660    691   Ростов      Ж   31       3    65548.60         1   \n",
       "2   99838    679   Ростов      Ж   30       1   686979.40         1   \n",
       "3  216099    717  Рыбинск      Ж   25       2  1292171.92         1   \n",
       "4  120240    744  Рыбинск      Ж   37       1  1390927.97         1   \n",
       "\n",
       "   credit_card  last_activity     salary  churn  \n",
       "0            0              1   81011.65   True  \n",
       "1            0              1   57005.02   True  \n",
       "2            1              1  149687.98   True  \n",
       "3            0              1   19502.68   True  \n",
       "4            0              1   36861.24   True  "
      ]
     },
     "execution_count": 3,
     "metadata": {},
     "output_type": "execute_result"
    }
   ],
   "source": [
    "df = df.drop(['Unnamed: 0'], axis = 1)\n",
    "df.head()"
   ]
  },
  {
   "cell_type": "code",
   "execution_count": 4,
   "id": "536bacf1",
   "metadata": {
    "scrolled": false
   },
   "outputs": [
    {
     "name": "stdout",
     "output_type": "stream",
     "text": [
      "<class 'pandas.core.frame.DataFrame'>\n",
      "RangeIndex: 10000 entries, 0 to 9999\n",
      "Data columns (total 12 columns):\n",
      " #   Column         Non-Null Count  Dtype  \n",
      "---  ------         --------------  -----  \n",
      " 0   userid         10000 non-null  int64  \n",
      " 1   score          10000 non-null  int64  \n",
      " 2   city           10000 non-null  object \n",
      " 3   gender         10000 non-null  object \n",
      " 4   age            10000 non-null  int64  \n",
      " 5   equity         10000 non-null  int64  \n",
      " 6   balance        7706 non-null   float64\n",
      " 7   products       10000 non-null  int64  \n",
      " 8   credit_card    10000 non-null  int64  \n",
      " 9   last_activity  10000 non-null  int64  \n",
      " 10  salary         10000 non-null  float64\n",
      " 11  churn          10000 non-null  bool   \n",
      "dtypes: bool(1), float64(2), int64(7), object(2)\n",
      "memory usage: 869.3+ KB\n"
     ]
    }
   ],
   "source": [
    "df.info()"
   ]
  },
  {
   "cell_type": "code",
   "execution_count": 5,
   "id": "13be2010",
   "metadata": {},
   "outputs": [
    {
     "name": "stdout",
     "output_type": "stream",
     "text": [
      "userid            0.00\n",
      "score             0.00\n",
      "city              0.00\n",
      "gender            0.00\n",
      "age               0.00\n",
      "equity            0.00\n",
      "balance          22.94\n",
      "products          0.00\n",
      "credit_card       0.00\n",
      "last_activity     0.00\n",
      "salary            0.00\n",
      "churn             0.00\n",
      "dtype: float64\n"
     ]
    }
   ],
   "source": [
    "print (df.isna().mean()*100)"
   ]
  },
  {
   "cell_type": "markdown",
   "id": "03d653be",
   "metadata": {},
   "source": [
    "По типам значений и названиям колонок каких-либо неожиданных значений нет, в корректировках они не нуждаются.  Есть проблема с пропущенными значениями `balance`  поскольку таких значений 23%, это очень много, удалить их нельзя. Далее в ходе исследования посмотрим, как можно будет поступить с этими пропусками. "
   ]
  },
  {
   "cell_type": "code",
   "execution_count": 6,
   "id": "ca79a26a",
   "metadata": {
    "scrolled": true
   },
   "outputs": [
    {
     "data": {
      "text/html": [
       "<div>\n",
       "<style scoped>\n",
       "    .dataframe tbody tr th:only-of-type {\n",
       "        vertical-align: middle;\n",
       "    }\n",
       "\n",
       "    .dataframe tbody tr th {\n",
       "        vertical-align: top;\n",
       "    }\n",
       "\n",
       "    .dataframe thead th {\n",
       "        text-align: right;\n",
       "    }\n",
       "</style>\n",
       "<table border=\"1\" class=\"dataframe\">\n",
       "  <thead>\n",
       "    <tr style=\"text-align: right;\">\n",
       "      <th></th>\n",
       "      <th>userid</th>\n",
       "      <th>score</th>\n",
       "      <th>city</th>\n",
       "      <th>gender</th>\n",
       "      <th>age</th>\n",
       "      <th>equity</th>\n",
       "      <th>balance</th>\n",
       "      <th>products</th>\n",
       "      <th>credit_card</th>\n",
       "      <th>last_activity</th>\n",
       "      <th>salary</th>\n",
       "      <th>churn</th>\n",
       "    </tr>\n",
       "  </thead>\n",
       "  <tbody>\n",
       "    <tr>\n",
       "      <th>1439</th>\n",
       "      <td>154581</td>\n",
       "      <td>358</td>\n",
       "      <td>Рыбинск</td>\n",
       "      <td>М</td>\n",
       "      <td>32</td>\n",
       "      <td>0</td>\n",
       "      <td>NaN</td>\n",
       "      <td>1</td>\n",
       "      <td>1</td>\n",
       "      <td>0</td>\n",
       "      <td>68687.05</td>\n",
       "      <td>False</td>\n",
       "    </tr>\n",
       "    <tr>\n",
       "      <th>1442</th>\n",
       "      <td>92746</td>\n",
       "      <td>431</td>\n",
       "      <td>Рыбинск</td>\n",
       "      <td>М</td>\n",
       "      <td>31</td>\n",
       "      <td>0</td>\n",
       "      <td>NaN</td>\n",
       "      <td>1</td>\n",
       "      <td>1</td>\n",
       "      <td>1</td>\n",
       "      <td>123472.49</td>\n",
       "      <td>False</td>\n",
       "    </tr>\n",
       "    <tr>\n",
       "      <th>1443</th>\n",
       "      <td>161908</td>\n",
       "      <td>350</td>\n",
       "      <td>Ярославль</td>\n",
       "      <td>Ж</td>\n",
       "      <td>29</td>\n",
       "      <td>0</td>\n",
       "      <td>NaN</td>\n",
       "      <td>1</td>\n",
       "      <td>1</td>\n",
       "      <td>0</td>\n",
       "      <td>109259.26</td>\n",
       "      <td>False</td>\n",
       "    </tr>\n",
       "    <tr>\n",
       "      <th>1453</th>\n",
       "      <td>155767</td>\n",
       "      <td>496</td>\n",
       "      <td>Ярославль</td>\n",
       "      <td>Ж</td>\n",
       "      <td>33</td>\n",
       "      <td>0</td>\n",
       "      <td>NaN</td>\n",
       "      <td>1</td>\n",
       "      <td>1</td>\n",
       "      <td>0</td>\n",
       "      <td>101401.75</td>\n",
       "      <td>False</td>\n",
       "    </tr>\n",
       "    <tr>\n",
       "      <th>1454</th>\n",
       "      <td>122713</td>\n",
       "      <td>506</td>\n",
       "      <td>Ярославль</td>\n",
       "      <td>Ж</td>\n",
       "      <td>33</td>\n",
       "      <td>0</td>\n",
       "      <td>NaN</td>\n",
       "      <td>1</td>\n",
       "      <td>1</td>\n",
       "      <td>0</td>\n",
       "      <td>120079.69</td>\n",
       "      <td>False</td>\n",
       "    </tr>\n",
       "    <tr>\n",
       "      <th>...</th>\n",
       "      <td>...</td>\n",
       "      <td>...</td>\n",
       "      <td>...</td>\n",
       "      <td>...</td>\n",
       "      <td>...</td>\n",
       "      <td>...</td>\n",
       "      <td>...</td>\n",
       "      <td>...</td>\n",
       "      <td>...</td>\n",
       "      <td>...</td>\n",
       "      <td>...</td>\n",
       "      <td>...</td>\n",
       "    </tr>\n",
       "    <tr>\n",
       "      <th>9993</th>\n",
       "      <td>248568</td>\n",
       "      <td>552</td>\n",
       "      <td>Рыбинск</td>\n",
       "      <td>Ж</td>\n",
       "      <td>43</td>\n",
       "      <td>0</td>\n",
       "      <td>NaN</td>\n",
       "      <td>1</td>\n",
       "      <td>1</td>\n",
       "      <td>0</td>\n",
       "      <td>115193.33</td>\n",
       "      <td>False</td>\n",
       "    </tr>\n",
       "    <tr>\n",
       "      <th>9994</th>\n",
       "      <td>145758</td>\n",
       "      <td>466</td>\n",
       "      <td>Ярославль</td>\n",
       "      <td>Ж</td>\n",
       "      <td>40</td>\n",
       "      <td>0</td>\n",
       "      <td>NaN</td>\n",
       "      <td>1</td>\n",
       "      <td>0</td>\n",
       "      <td>0</td>\n",
       "      <td>11553.53</td>\n",
       "      <td>False</td>\n",
       "    </tr>\n",
       "    <tr>\n",
       "      <th>9995</th>\n",
       "      <td>186605</td>\n",
       "      <td>466</td>\n",
       "      <td>Рыбинск</td>\n",
       "      <td>М</td>\n",
       "      <td>42</td>\n",
       "      <td>0</td>\n",
       "      <td>NaN</td>\n",
       "      <td>1</td>\n",
       "      <td>1</td>\n",
       "      <td>1</td>\n",
       "      <td>85203.00</td>\n",
       "      <td>False</td>\n",
       "    </tr>\n",
       "    <tr>\n",
       "      <th>9996</th>\n",
       "      <td>204842</td>\n",
       "      <td>311</td>\n",
       "      <td>Ярославль</td>\n",
       "      <td>М</td>\n",
       "      <td>27</td>\n",
       "      <td>0</td>\n",
       "      <td>NaN</td>\n",
       "      <td>1</td>\n",
       "      <td>1</td>\n",
       "      <td>0</td>\n",
       "      <td>141654.61</td>\n",
       "      <td>False</td>\n",
       "    </tr>\n",
       "    <tr>\n",
       "      <th>9999</th>\n",
       "      <td>128656</td>\n",
       "      <td>458</td>\n",
       "      <td>Ярославль</td>\n",
       "      <td>Ж</td>\n",
       "      <td>37</td>\n",
       "      <td>0</td>\n",
       "      <td>NaN</td>\n",
       "      <td>1</td>\n",
       "      <td>1</td>\n",
       "      <td>1</td>\n",
       "      <td>171531.19</td>\n",
       "      <td>False</td>\n",
       "    </tr>\n",
       "  </tbody>\n",
       "</table>\n",
       "<p>2294 rows × 12 columns</p>\n",
       "</div>"
      ],
      "text/plain": [
       "      userid  score       city gender  age  equity  balance  products  \\\n",
       "1439  154581    358    Рыбинск      М   32       0      NaN         1   \n",
       "1442   92746    431    Рыбинск      М   31       0      NaN         1   \n",
       "1443  161908    350  Ярославль      Ж   29       0      NaN         1   \n",
       "1453  155767    496  Ярославль      Ж   33       0      NaN         1   \n",
       "1454  122713    506  Ярославль      Ж   33       0      NaN         1   \n",
       "...      ...    ...        ...    ...  ...     ...      ...       ...   \n",
       "9993  248568    552    Рыбинск      Ж   43       0      NaN         1   \n",
       "9994  145758    466  Ярославль      Ж   40       0      NaN         1   \n",
       "9995  186605    466    Рыбинск      М   42       0      NaN         1   \n",
       "9996  204842    311  Ярославль      М   27       0      NaN         1   \n",
       "9999  128656    458  Ярославль      Ж   37       0      NaN         1   \n",
       "\n",
       "      credit_card  last_activity     salary  churn  \n",
       "1439            1              0   68687.05  False  \n",
       "1442            1              1  123472.49  False  \n",
       "1443            1              0  109259.26  False  \n",
       "1453            1              0  101401.75  False  \n",
       "1454            1              0  120079.69  False  \n",
       "...           ...            ...        ...    ...  \n",
       "9993            1              0  115193.33  False  \n",
       "9994            0              0   11553.53  False  \n",
       "9995            1              1   85203.00  False  \n",
       "9996            1              0  141654.61  False  \n",
       "9999            1              1  171531.19  False  \n",
       "\n",
       "[2294 rows x 12 columns]"
      ]
     },
     "execution_count": 6,
     "metadata": {},
     "output_type": "execute_result"
    }
   ],
   "source": [
    "df[df.isnull().any(1)]\n"
   ]
  },
  {
   "cell_type": "markdown",
   "id": "2cfeb6a2",
   "metadata": {},
   "source": [
    "Пустые строки в балансе встречаются в основном по количеству продуктов  1 и 2 в с наличием кредитной карты, таким образом, при количестве продуктов 1 или 2 и значении `credit_card` = 1, клиент пользуется кредитными средствами всегда. В ситуации когда `credit_card` =0 и  `products`= 1 клиент пользуется вероятнее всего также кредитными средствами в виде кредитного продукта (например потребительский кредит). Эти строки можно будет занулить, чтобы они не мешали при проведении A/B теста \n"
   ]
  },
  {
   "cell_type": "code",
   "execution_count": 7,
   "id": "7a3f7e46",
   "metadata": {},
   "outputs": [],
   "source": [
    "df['balance'] = df['balance'].fillna(0)"
   ]
  },
  {
   "cell_type": "code",
   "execution_count": 8,
   "id": "43fe2021",
   "metadata": {
    "scrolled": false
   },
   "outputs": [
    {
     "name": "stdout",
     "output_type": "stream",
     "text": [
      "Empty DataFrame\n",
      "Columns: [userid, score, city, gender, age, equity, balance, products, credit_card, last_activity, salary, churn]\n",
      "Index: []\n"
     ]
    }
   ],
   "source": [
    "print(df[df.duplicated()].head())"
   ]
  },
  {
   "cell_type": "markdown",
   "id": "1d985aa2",
   "metadata": {},
   "source": [
    "Дубликаты отсутсвуют."
   ]
  },
  {
   "cell_type": "markdown",
   "id": "12f4d1c9",
   "metadata": {},
   "source": [
    "Добаввим в датасет столбцы с кодировкой категориальных данных по локации и половому признаку. Используем для этого метод One Hot Encoding, что поможет в анализе портрета нашего клиента. Чтобы не созавать большое количество столбцов, по половому признаку, создадим новый столбец `gender_cat` где будут значения согласно двоичному кодированию."
   ]
  },
  {
   "cell_type": "code",
   "execution_count": 9,
   "id": "ebf0adef",
   "metadata": {},
   "outputs": [
    {
     "data": {
      "text/html": [
       "<div>\n",
       "<style scoped>\n",
       "    .dataframe tbody tr th:only-of-type {\n",
       "        vertical-align: middle;\n",
       "    }\n",
       "\n",
       "    .dataframe tbody tr th {\n",
       "        vertical-align: top;\n",
       "    }\n",
       "\n",
       "    .dataframe thead th {\n",
       "        text-align: right;\n",
       "    }\n",
       "</style>\n",
       "<table border=\"1\" class=\"dataframe\">\n",
       "  <thead>\n",
       "    <tr style=\"text-align: right;\">\n",
       "      <th></th>\n",
       "      <th>userid</th>\n",
       "      <th>score</th>\n",
       "      <th>city</th>\n",
       "      <th>gender</th>\n",
       "      <th>age</th>\n",
       "      <th>equity</th>\n",
       "      <th>balance</th>\n",
       "      <th>products</th>\n",
       "      <th>credit_card</th>\n",
       "      <th>last_activity</th>\n",
       "      <th>salary</th>\n",
       "      <th>churn</th>\n",
       "      <th>city_Ростов</th>\n",
       "      <th>city_Рыбинск</th>\n",
       "      <th>city_Ярославль</th>\n",
       "      <th>gender_cat</th>\n",
       "    </tr>\n",
       "  </thead>\n",
       "  <tbody>\n",
       "    <tr>\n",
       "      <th>0</th>\n",
       "      <td>258835</td>\n",
       "      <td>673</td>\n",
       "      <td>Ростов</td>\n",
       "      <td>Ж</td>\n",
       "      <td>32</td>\n",
       "      <td>0</td>\n",
       "      <td>467428.54</td>\n",
       "      <td>1</td>\n",
       "      <td>0</td>\n",
       "      <td>1</td>\n",
       "      <td>81011.65</td>\n",
       "      <td>True</td>\n",
       "      <td>1</td>\n",
       "      <td>0</td>\n",
       "      <td>0</td>\n",
       "      <td>1</td>\n",
       "    </tr>\n",
       "    <tr>\n",
       "      <th>1</th>\n",
       "      <td>96660</td>\n",
       "      <td>691</td>\n",
       "      <td>Ростов</td>\n",
       "      <td>Ж</td>\n",
       "      <td>31</td>\n",
       "      <td>3</td>\n",
       "      <td>65548.60</td>\n",
       "      <td>1</td>\n",
       "      <td>0</td>\n",
       "      <td>1</td>\n",
       "      <td>57005.02</td>\n",
       "      <td>True</td>\n",
       "      <td>1</td>\n",
       "      <td>0</td>\n",
       "      <td>0</td>\n",
       "      <td>1</td>\n",
       "    </tr>\n",
       "    <tr>\n",
       "      <th>2</th>\n",
       "      <td>99838</td>\n",
       "      <td>679</td>\n",
       "      <td>Ростов</td>\n",
       "      <td>Ж</td>\n",
       "      <td>30</td>\n",
       "      <td>1</td>\n",
       "      <td>686979.40</td>\n",
       "      <td>1</td>\n",
       "      <td>1</td>\n",
       "      <td>1</td>\n",
       "      <td>149687.98</td>\n",
       "      <td>True</td>\n",
       "      <td>1</td>\n",
       "      <td>0</td>\n",
       "      <td>0</td>\n",
       "      <td>1</td>\n",
       "    </tr>\n",
       "    <tr>\n",
       "      <th>3</th>\n",
       "      <td>216099</td>\n",
       "      <td>717</td>\n",
       "      <td>Рыбинск</td>\n",
       "      <td>Ж</td>\n",
       "      <td>25</td>\n",
       "      <td>2</td>\n",
       "      <td>1292171.92</td>\n",
       "      <td>1</td>\n",
       "      <td>0</td>\n",
       "      <td>1</td>\n",
       "      <td>19502.68</td>\n",
       "      <td>True</td>\n",
       "      <td>0</td>\n",
       "      <td>1</td>\n",
       "      <td>0</td>\n",
       "      <td>1</td>\n",
       "    </tr>\n",
       "    <tr>\n",
       "      <th>4</th>\n",
       "      <td>120240</td>\n",
       "      <td>744</td>\n",
       "      <td>Рыбинск</td>\n",
       "      <td>Ж</td>\n",
       "      <td>37</td>\n",
       "      <td>1</td>\n",
       "      <td>1390927.97</td>\n",
       "      <td>1</td>\n",
       "      <td>0</td>\n",
       "      <td>1</td>\n",
       "      <td>36861.24</td>\n",
       "      <td>True</td>\n",
       "      <td>0</td>\n",
       "      <td>1</td>\n",
       "      <td>0</td>\n",
       "      <td>1</td>\n",
       "    </tr>\n",
       "  </tbody>\n",
       "</table>\n",
       "</div>"
      ],
      "text/plain": [
       "   userid  score     city gender  age  equity     balance  products  \\\n",
       "0  258835    673   Ростов      Ж   32       0   467428.54         1   \n",
       "1   96660    691   Ростов      Ж   31       3    65548.60         1   \n",
       "2   99838    679   Ростов      Ж   30       1   686979.40         1   \n",
       "3  216099    717  Рыбинск      Ж   25       2  1292171.92         1   \n",
       "4  120240    744  Рыбинск      Ж   37       1  1390927.97         1   \n",
       "\n",
       "   credit_card  last_activity     salary  churn  city_Ростов  city_Рыбинск  \\\n",
       "0            0              1   81011.65   True            1             0   \n",
       "1            0              1   57005.02   True            1             0   \n",
       "2            1              1  149687.98   True            1             0   \n",
       "3            0              1   19502.68   True            0             1   \n",
       "4            0              1   36861.24   True            0             1   \n",
       "\n",
       "   city_Ярославль  gender_cat  \n",
       "0               0           1  \n",
       "1               0           1  \n",
       "2               0           1  \n",
       "3               0           1  \n",
       "4               0           1  "
      ]
     },
     "execution_count": 9,
     "metadata": {},
     "output_type": "execute_result"
    }
   ],
   "source": [
    "df['city_c'] = df['city'].copy()\n",
    "df = pd.get_dummies(df, columns=['city_c'], prefix=['city'])\n",
    "df['gender_cat'] = np.where(df['gender'] == 'Ж', 1, 0)\n",
    "df.head()"
   ]
  },
  {
   "cell_type": "markdown",
   "id": "258dea57",
   "metadata": {},
   "source": [
    "# <a name=\"analysis\">  Исследовательский анализ данных </a>"
   ]
  },
  {
   "cell_type": "markdown",
   "id": "3439c1b0",
   "metadata": {},
   "source": [
    "* Изучить средние значения и стандартные отклонения для всех клиентов, остающихся клиентов и клиентов-оттока,\n",
    "* Изучить как влияет на отток локация и пол, \n",
    "* Проверить распределение оттока по признакам и вывить основные с наибольшим оттоком,  \n",
    "* Проверить как количество продуктов продуктов влияет на отток, \n",
    "* Сегментировать клиентов по ключевым показателям, \n",
    "* Проверить динамику оттока внутри каждой группы"
   ]
  },
  {
   "cell_type": "markdown",
   "id": "50a450e0",
   "metadata": {},
   "source": [
    "##  Изучить средние значения и стандартные отклонения для всех клиентов, остающихся клиентов и клиентов-оттока\n"
   ]
  },
  {
   "cell_type": "markdown",
   "id": "0e4745d6",
   "metadata": {},
   "source": [
    "Посмотрим внимательнее на характеристики нашего пользователя и составим портрет среднего клиента.\n"
   ]
  },
  {
   "cell_type": "code",
   "execution_count": 10,
   "id": "35b217eb",
   "metadata": {},
   "outputs": [
    {
     "name": "stdout",
     "output_type": "stream",
     "text": [
      "Портрет среднестатистического клиента банка:\n"
     ]
    },
    {
     "data": {
      "text/html": [
       "<div>\n",
       "<style scoped>\n",
       "    .dataframe tbody tr th:only-of-type {\n",
       "        vertical-align: middle;\n",
       "    }\n",
       "\n",
       "    .dataframe tbody tr th {\n",
       "        vertical-align: top;\n",
       "    }\n",
       "\n",
       "    .dataframe thead th {\n",
       "        text-align: right;\n",
       "    }\n",
       "</style>\n",
       "<table border=\"1\" class=\"dataframe\">\n",
       "  <thead>\n",
       "    <tr style=\"text-align: right;\">\n",
       "      <th></th>\n",
       "      <th>count</th>\n",
       "      <th>mean</th>\n",
       "      <th>std</th>\n",
       "      <th>min</th>\n",
       "      <th>25%</th>\n",
       "      <th>50%</th>\n",
       "      <th>75%</th>\n",
       "      <th>max</th>\n",
       "    </tr>\n",
       "  </thead>\n",
       "  <tbody>\n",
       "    <tr>\n",
       "      <th>userid</th>\n",
       "      <td>10000.0</td>\n",
       "      <td>153706.098000</td>\n",
       "      <td>6.888353e+04</td>\n",
       "      <td>1436.00</td>\n",
       "      <td>98693.0000</td>\n",
       "      <td>159656.00</td>\n",
       "      <td>212808.50</td>\n",
       "      <td>2.640130e+05</td>\n",
       "    </tr>\n",
       "    <tr>\n",
       "      <th>score</th>\n",
       "      <td>10000.0</td>\n",
       "      <td>603.584900</td>\n",
       "      <td>1.321770e+02</td>\n",
       "      <td>300.00</td>\n",
       "      <td>506.0000</td>\n",
       "      <td>610.00</td>\n",
       "      <td>713.00</td>\n",
       "      <td>8.500000e+02</td>\n",
       "    </tr>\n",
       "    <tr>\n",
       "      <th>age</th>\n",
       "      <td>10000.0</td>\n",
       "      <td>42.837100</td>\n",
       "      <td>1.212851e+01</td>\n",
       "      <td>18.00</td>\n",
       "      <td>34.0000</td>\n",
       "      <td>40.00</td>\n",
       "      <td>51.00</td>\n",
       "      <td>8.600000e+01</td>\n",
       "    </tr>\n",
       "    <tr>\n",
       "      <th>equity</th>\n",
       "      <td>10000.0</td>\n",
       "      <td>1.747200</td>\n",
       "      <td>1.713764e+00</td>\n",
       "      <td>0.00</td>\n",
       "      <td>0.0000</td>\n",
       "      <td>1.00</td>\n",
       "      <td>3.00</td>\n",
       "      <td>9.000000e+00</td>\n",
       "    </tr>\n",
       "    <tr>\n",
       "      <th>balance</th>\n",
       "      <td>10000.0</td>\n",
       "      <td>600787.686586</td>\n",
       "      <td>1.874689e+06</td>\n",
       "      <td>0.00</td>\n",
       "      <td>25047.0350</td>\n",
       "      <td>268677.72</td>\n",
       "      <td>771976.43</td>\n",
       "      <td>1.263859e+08</td>\n",
       "    </tr>\n",
       "    <tr>\n",
       "      <th>products</th>\n",
       "      <td>10000.0</td>\n",
       "      <td>1.115900</td>\n",
       "      <td>4.107116e-01</td>\n",
       "      <td>0.00</td>\n",
       "      <td>1.0000</td>\n",
       "      <td>1.00</td>\n",
       "      <td>1.00</td>\n",
       "      <td>4.000000e+00</td>\n",
       "    </tr>\n",
       "    <tr>\n",
       "      <th>credit_card</th>\n",
       "      <td>10000.0</td>\n",
       "      <td>0.842300</td>\n",
       "      <td>3.644777e-01</td>\n",
       "      <td>0.00</td>\n",
       "      <td>1.0000</td>\n",
       "      <td>1.00</td>\n",
       "      <td>1.00</td>\n",
       "      <td>1.000000e+00</td>\n",
       "    </tr>\n",
       "    <tr>\n",
       "      <th>last_activity</th>\n",
       "      <td>10000.0</td>\n",
       "      <td>0.499800</td>\n",
       "      <td>5.000250e-01</td>\n",
       "      <td>0.00</td>\n",
       "      <td>0.0000</td>\n",
       "      <td>0.00</td>\n",
       "      <td>1.00</td>\n",
       "      <td>1.000000e+00</td>\n",
       "    </tr>\n",
       "    <tr>\n",
       "      <th>salary</th>\n",
       "      <td>10000.0</td>\n",
       "      <td>95468.122363</td>\n",
       "      <td>1.325737e+05</td>\n",
       "      <td>380.84</td>\n",
       "      <td>31449.2925</td>\n",
       "      <td>63440.57</td>\n",
       "      <td>108795.85</td>\n",
       "      <td>1.378131e+06</td>\n",
       "    </tr>\n",
       "    <tr>\n",
       "      <th>city_Ростов</th>\n",
       "      <td>10000.0</td>\n",
       "      <td>0.143100</td>\n",
       "      <td>3.501923e-01</td>\n",
       "      <td>0.00</td>\n",
       "      <td>0.0000</td>\n",
       "      <td>0.00</td>\n",
       "      <td>0.00</td>\n",
       "      <td>1.000000e+00</td>\n",
       "    </tr>\n",
       "    <tr>\n",
       "      <th>city_Рыбинск</th>\n",
       "      <td>10000.0</td>\n",
       "      <td>0.266300</td>\n",
       "      <td>4.420451e-01</td>\n",
       "      <td>0.00</td>\n",
       "      <td>0.0000</td>\n",
       "      <td>0.00</td>\n",
       "      <td>1.00</td>\n",
       "      <td>1.000000e+00</td>\n",
       "    </tr>\n",
       "    <tr>\n",
       "      <th>city_Ярославль</th>\n",
       "      <td>10000.0</td>\n",
       "      <td>0.590600</td>\n",
       "      <td>4.917477e-01</td>\n",
       "      <td>0.00</td>\n",
       "      <td>0.0000</td>\n",
       "      <td>1.00</td>\n",
       "      <td>1.00</td>\n",
       "      <td>1.000000e+00</td>\n",
       "    </tr>\n",
       "    <tr>\n",
       "      <th>gender_cat</th>\n",
       "      <td>10000.0</td>\n",
       "      <td>0.499200</td>\n",
       "      <td>5.000244e-01</td>\n",
       "      <td>0.00</td>\n",
       "      <td>0.0000</td>\n",
       "      <td>0.00</td>\n",
       "      <td>1.00</td>\n",
       "      <td>1.000000e+00</td>\n",
       "    </tr>\n",
       "  </tbody>\n",
       "</table>\n",
       "</div>"
      ],
      "text/plain": [
       "                  count           mean           std      min         25%  \\\n",
       "userid          10000.0  153706.098000  6.888353e+04  1436.00  98693.0000   \n",
       "score           10000.0     603.584900  1.321770e+02   300.00    506.0000   \n",
       "age             10000.0      42.837100  1.212851e+01    18.00     34.0000   \n",
       "equity          10000.0       1.747200  1.713764e+00     0.00      0.0000   \n",
       "balance         10000.0  600787.686586  1.874689e+06     0.00  25047.0350   \n",
       "products        10000.0       1.115900  4.107116e-01     0.00      1.0000   \n",
       "credit_card     10000.0       0.842300  3.644777e-01     0.00      1.0000   \n",
       "last_activity   10000.0       0.499800  5.000250e-01     0.00      0.0000   \n",
       "salary          10000.0   95468.122363  1.325737e+05   380.84  31449.2925   \n",
       "city_Ростов     10000.0       0.143100  3.501923e-01     0.00      0.0000   \n",
       "city_Рыбинск    10000.0       0.266300  4.420451e-01     0.00      0.0000   \n",
       "city_Ярославль  10000.0       0.590600  4.917477e-01     0.00      0.0000   \n",
       "gender_cat      10000.0       0.499200  5.000244e-01     0.00      0.0000   \n",
       "\n",
       "                      50%        75%           max  \n",
       "userid          159656.00  212808.50  2.640130e+05  \n",
       "score              610.00     713.00  8.500000e+02  \n",
       "age                 40.00      51.00  8.600000e+01  \n",
       "equity               1.00       3.00  9.000000e+00  \n",
       "balance         268677.72  771976.43  1.263859e+08  \n",
       "products             1.00       1.00  4.000000e+00  \n",
       "credit_card          1.00       1.00  1.000000e+00  \n",
       "last_activity        0.00       1.00  1.000000e+00  \n",
       "salary           63440.57  108795.85  1.378131e+06  \n",
       "city_Ростов          0.00       0.00  1.000000e+00  \n",
       "city_Рыбинск         0.00       1.00  1.000000e+00  \n",
       "city_Ярославль       1.00       1.00  1.000000e+00  \n",
       "gender_cat           0.00       1.00  1.000000e+00  "
      ]
     },
     "execution_count": 10,
     "metadata": {},
     "output_type": "execute_result"
    }
   ],
   "source": [
    "print ('Портрет среднестатистического клиента банка:') \n",
    "df.describe().T"
   ]
  },
  {
   "cell_type": "markdown",
   "id": "2bd0a3e3",
   "metadata": {},
   "source": [
    "Наш клиент в возрасте 40 -42 года, с баллоом  кредитного скоринга - 610, в собственности клиента веротянее нвсего только небольшие накопления, возможно в виде вклада, с балансом менее 500тыс руб, использует 1 продукт, владелец кредитной карты (вероятнее всего это и есть единственный продукт ), неактивный, с медианной зарплатой в 63 тыс руб. 59,1 %  из Ярославля, 27% из Рыбинска и 14% и Ростова, с одинаковым распределением по половому признаку."
   ]
  },
  {
   "cell_type": "code",
   "execution_count": 11,
   "id": "12a3d594",
   "metadata": {
    "scrolled": false
   },
   "outputs": [
    {
     "name": "stdout",
     "output_type": "stream",
     "text": [
      "Отток:\n"
     ]
    },
    {
     "data": {
      "text/html": [
       "<div>\n",
       "<style scoped>\n",
       "    .dataframe tbody tr th:only-of-type {\n",
       "        vertical-align: middle;\n",
       "    }\n",
       "\n",
       "    .dataframe tbody tr th {\n",
       "        vertical-align: top;\n",
       "    }\n",
       "\n",
       "    .dataframe thead th {\n",
       "        text-align: right;\n",
       "    }\n",
       "</style>\n",
       "<table border=\"1\" class=\"dataframe\">\n",
       "  <thead>\n",
       "    <tr style=\"text-align: right;\">\n",
       "      <th></th>\n",
       "      <th>count</th>\n",
       "      <th>mean</th>\n",
       "      <th>std</th>\n",
       "      <th>min</th>\n",
       "      <th>25%</th>\n",
       "      <th>50%</th>\n",
       "      <th>75%</th>\n",
       "      <th>max</th>\n",
       "    </tr>\n",
       "  </thead>\n",
       "  <tbody>\n",
       "    <tr>\n",
       "      <th>userid</th>\n",
       "      <td>1437.0</td>\n",
       "      <td>1.532021e+05</td>\n",
       "      <td>6.862017e+04</td>\n",
       "      <td>3450.00</td>\n",
       "      <td>99284.00</td>\n",
       "      <td>159286.00</td>\n",
       "      <td>211730.00</td>\n",
       "      <td>263963.00</td>\n",
       "    </tr>\n",
       "    <tr>\n",
       "      <th>score</th>\n",
       "      <td>1437.0</td>\n",
       "      <td>7.283361e+02</td>\n",
       "      <td>5.904839e+01</td>\n",
       "      <td>419.00</td>\n",
       "      <td>687.00</td>\n",
       "      <td>726.00</td>\n",
       "      <td>770.00</td>\n",
       "      <td>850.00</td>\n",
       "    </tr>\n",
       "    <tr>\n",
       "      <th>age</th>\n",
       "      <td>1437.0</td>\n",
       "      <td>3.917954e+01</td>\n",
       "      <td>1.022333e+01</td>\n",
       "      <td>18.00</td>\n",
       "      <td>32.00</td>\n",
       "      <td>37.00</td>\n",
       "      <td>46.00</td>\n",
       "      <td>79.00</td>\n",
       "    </tr>\n",
       "    <tr>\n",
       "      <th>equity</th>\n",
       "      <td>1437.0</td>\n",
       "      <td>2.765484e+00</td>\n",
       "      <td>1.829800e+00</td>\n",
       "      <td>0.00</td>\n",
       "      <td>1.00</td>\n",
       "      <td>3.00</td>\n",
       "      <td>4.00</td>\n",
       "      <td>9.00</td>\n",
       "    </tr>\n",
       "    <tr>\n",
       "      <th>balance</th>\n",
       "      <td>1437.0</td>\n",
       "      <td>1.547334e+06</td>\n",
       "      <td>2.941579e+06</td>\n",
       "      <td>1476.51</td>\n",
       "      <td>433219.17</td>\n",
       "      <td>995244.91</td>\n",
       "      <td>1669049.39</td>\n",
       "      <td>67126874.68</td>\n",
       "    </tr>\n",
       "    <tr>\n",
       "      <th>products</th>\n",
       "      <td>1437.0</td>\n",
       "      <td>1.441893e+00</td>\n",
       "      <td>8.413074e-01</td>\n",
       "      <td>0.00</td>\n",
       "      <td>1.00</td>\n",
       "      <td>1.00</td>\n",
       "      <td>1.00</td>\n",
       "      <td>4.00</td>\n",
       "    </tr>\n",
       "    <tr>\n",
       "      <th>credit_card</th>\n",
       "      <td>1437.0</td>\n",
       "      <td>5.386221e-01</td>\n",
       "      <td>4.986796e-01</td>\n",
       "      <td>0.00</td>\n",
       "      <td>0.00</td>\n",
       "      <td>1.00</td>\n",
       "      <td>1.00</td>\n",
       "      <td>1.00</td>\n",
       "    </tr>\n",
       "    <tr>\n",
       "      <th>last_activity</th>\n",
       "      <td>1437.0</td>\n",
       "      <td>8.503827e-01</td>\n",
       "      <td>3.568200e-01</td>\n",
       "      <td>0.00</td>\n",
       "      <td>1.00</td>\n",
       "      <td>1.00</td>\n",
       "      <td>1.00</td>\n",
       "      <td>1.00</td>\n",
       "    </tr>\n",
       "    <tr>\n",
       "      <th>salary</th>\n",
       "      <td>1437.0</td>\n",
       "      <td>1.190438e+05</td>\n",
       "      <td>1.542005e+05</td>\n",
       "      <td>3325.20</td>\n",
       "      <td>46656.59</td>\n",
       "      <td>82117.28</td>\n",
       "      <td>127408.59</td>\n",
       "      <td>1378131.45</td>\n",
       "    </tr>\n",
       "    <tr>\n",
       "      <th>city_Ростов</th>\n",
       "      <td>1437.0</td>\n",
       "      <td>1.391788e-01</td>\n",
       "      <td>3.462536e-01</td>\n",
       "      <td>0.00</td>\n",
       "      <td>0.00</td>\n",
       "      <td>0.00</td>\n",
       "      <td>0.00</td>\n",
       "      <td>1.00</td>\n",
       "    </tr>\n",
       "    <tr>\n",
       "      <th>city_Рыбинск</th>\n",
       "      <td>1437.0</td>\n",
       "      <td>2.080724e-01</td>\n",
       "      <td>4.060702e-01</td>\n",
       "      <td>0.00</td>\n",
       "      <td>0.00</td>\n",
       "      <td>0.00</td>\n",
       "      <td>0.00</td>\n",
       "      <td>1.00</td>\n",
       "    </tr>\n",
       "    <tr>\n",
       "      <th>city_Ярославль</th>\n",
       "      <td>1437.0</td>\n",
       "      <td>6.527488e-01</td>\n",
       "      <td>4.762622e-01</td>\n",
       "      <td>0.00</td>\n",
       "      <td>0.00</td>\n",
       "      <td>1.00</td>\n",
       "      <td>1.00</td>\n",
       "      <td>1.00</td>\n",
       "    </tr>\n",
       "    <tr>\n",
       "      <th>gender_cat</th>\n",
       "      <td>1437.0</td>\n",
       "      <td>3.938761e-01</td>\n",
       "      <td>4.887780e-01</td>\n",
       "      <td>0.00</td>\n",
       "      <td>0.00</td>\n",
       "      <td>0.00</td>\n",
       "      <td>1.00</td>\n",
       "      <td>1.00</td>\n",
       "    </tr>\n",
       "  </tbody>\n",
       "</table>\n",
       "</div>"
      ],
      "text/plain": [
       "                 count          mean           std      min        25%  \\\n",
       "userid          1437.0  1.532021e+05  6.862017e+04  3450.00   99284.00   \n",
       "score           1437.0  7.283361e+02  5.904839e+01   419.00     687.00   \n",
       "age             1437.0  3.917954e+01  1.022333e+01    18.00      32.00   \n",
       "equity          1437.0  2.765484e+00  1.829800e+00     0.00       1.00   \n",
       "balance         1437.0  1.547334e+06  2.941579e+06  1476.51  433219.17   \n",
       "products        1437.0  1.441893e+00  8.413074e-01     0.00       1.00   \n",
       "credit_card     1437.0  5.386221e-01  4.986796e-01     0.00       0.00   \n",
       "last_activity   1437.0  8.503827e-01  3.568200e-01     0.00       1.00   \n",
       "salary          1437.0  1.190438e+05  1.542005e+05  3325.20   46656.59   \n",
       "city_Ростов     1437.0  1.391788e-01  3.462536e-01     0.00       0.00   \n",
       "city_Рыбинск    1437.0  2.080724e-01  4.060702e-01     0.00       0.00   \n",
       "city_Ярославль  1437.0  6.527488e-01  4.762622e-01     0.00       0.00   \n",
       "gender_cat      1437.0  3.938761e-01  4.887780e-01     0.00       0.00   \n",
       "\n",
       "                      50%         75%          max  \n",
       "userid          159286.00   211730.00    263963.00  \n",
       "score              726.00      770.00       850.00  \n",
       "age                 37.00       46.00        79.00  \n",
       "equity               3.00        4.00         9.00  \n",
       "balance         995244.91  1669049.39  67126874.68  \n",
       "products             1.00        1.00         4.00  \n",
       "credit_card          1.00        1.00         1.00  \n",
       "last_activity        1.00        1.00         1.00  \n",
       "salary           82117.28   127408.59   1378131.45  \n",
       "city_Ростов          0.00        0.00         1.00  \n",
       "city_Рыбинск         0.00        0.00         1.00  \n",
       "city_Ярославль       1.00        1.00         1.00  \n",
       "gender_cat           0.00        1.00         1.00  "
      ]
     },
     "execution_count": 11,
     "metadata": {},
     "output_type": "execute_result"
    }
   ],
   "source": [
    "print ('Отток:') \n",
    "df.query('churn == 1').describe().T\n"
   ]
  },
  {
   "cell_type": "markdown",
   "id": "73480fbd",
   "metadata": {},
   "source": [
    "Посмотрим на самые интересные показатели по оттоку клиентов: \n",
    "- `score` — Медианные значения баллов  кредитного скоринга составляют 726. при этом примерно 75% выборки находится примерно до 770,\n",
    "- `equity` — приблизительная оценка собственности клиента. Медианное значение 3, т.е. это клиенты, у которых нет дорогой собственности в виде актива. Вероятнее всего это автомобиль эконом класса/небольшие накопления/небольшой инвестиционный портфель, \n",
    "- `balance` — медианное значение баланса менее 1 млн ед, \n",
    "- `products` — с использованием одного продукта, \n",
    "- `credit_card` — с наличием кредитной карты\n",
    "- `last_activity` — активный клиент,\n",
    "- `salary` — заработная плата клиента в 82тыс ед,\n",
    "\n",
    "Если коротко описать портрет клиента на отток, то это пользователь 37-39 лет, с оценкой собственноси 3 балла, с средним балансом менее 1 млн.руб, использующий 1 продукт, имеющий на руках кредитную карту, клиент активен и медианной зп 82тыс.руб, преимущественно мужчины (61%). 65,3 % уходящих клиентов из Ярославля, 21% из Рыбинска, 14% из Ростова"
   ]
  },
  {
   "cell_type": "code",
   "execution_count": 12,
   "id": "ea53e26a",
   "metadata": {
    "scrolled": false
   },
   "outputs": [
    {
     "name": "stdout",
     "output_type": "stream",
     "text": [
      "Действующий:\n"
     ]
    },
    {
     "data": {
      "text/html": [
       "<div>\n",
       "<style scoped>\n",
       "    .dataframe tbody tr th:only-of-type {\n",
       "        vertical-align: middle;\n",
       "    }\n",
       "\n",
       "    .dataframe tbody tr th {\n",
       "        vertical-align: top;\n",
       "    }\n",
       "\n",
       "    .dataframe thead th {\n",
       "        text-align: right;\n",
       "    }\n",
       "</style>\n",
       "<table border=\"1\" class=\"dataframe\">\n",
       "  <thead>\n",
       "    <tr style=\"text-align: right;\">\n",
       "      <th></th>\n",
       "      <th>count</th>\n",
       "      <th>mean</th>\n",
       "      <th>std</th>\n",
       "      <th>min</th>\n",
       "      <th>25%</th>\n",
       "      <th>50%</th>\n",
       "      <th>75%</th>\n",
       "      <th>max</th>\n",
       "    </tr>\n",
       "  </thead>\n",
       "  <tbody>\n",
       "    <tr>\n",
       "      <th>userid</th>\n",
       "      <td>8563.0</td>\n",
       "      <td>153790.679552</td>\n",
       "      <td>6.893126e+04</td>\n",
       "      <td>1436.00</td>\n",
       "      <td>98467.50</td>\n",
       "      <td>159679.00</td>\n",
       "      <td>213073.000</td>\n",
       "      <td>2.640130e+05</td>\n",
       "    </tr>\n",
       "    <tr>\n",
       "      <th>score</th>\n",
       "      <td>8563.0</td>\n",
       "      <td>582.649772</td>\n",
       "      <td>1.294908e+02</td>\n",
       "      <td>300.00</td>\n",
       "      <td>490.00</td>\n",
       "      <td>581.00</td>\n",
       "      <td>681.000</td>\n",
       "      <td>8.500000e+02</td>\n",
       "    </tr>\n",
       "    <tr>\n",
       "      <th>age</th>\n",
       "      <td>8563.0</td>\n",
       "      <td>43.450893</td>\n",
       "      <td>1.231414e+01</td>\n",
       "      <td>18.00</td>\n",
       "      <td>34.00</td>\n",
       "      <td>41.00</td>\n",
       "      <td>52.000</td>\n",
       "      <td>8.600000e+01</td>\n",
       "    </tr>\n",
       "    <tr>\n",
       "      <th>equity</th>\n",
       "      <td>8563.0</td>\n",
       "      <td>1.576317</td>\n",
       "      <td>1.632524e+00</td>\n",
       "      <td>0.00</td>\n",
       "      <td>0.00</td>\n",
       "      <td>1.00</td>\n",
       "      <td>3.000</td>\n",
       "      <td>9.000000e+00</td>\n",
       "    </tr>\n",
       "    <tr>\n",
       "      <th>balance</th>\n",
       "      <td>8563.0</td>\n",
       "      <td>441942.932198</td>\n",
       "      <td>1.573994e+06</td>\n",
       "      <td>0.00</td>\n",
       "      <td>0.00</td>\n",
       "      <td>207137.25</td>\n",
       "      <td>603679.225</td>\n",
       "      <td>1.263859e+08</td>\n",
       "    </tr>\n",
       "    <tr>\n",
       "      <th>products</th>\n",
       "      <td>8563.0</td>\n",
       "      <td>1.061194</td>\n",
       "      <td>2.396989e-01</td>\n",
       "      <td>1.00</td>\n",
       "      <td>1.00</td>\n",
       "      <td>1.00</td>\n",
       "      <td>1.000</td>\n",
       "      <td>2.000000e+00</td>\n",
       "    </tr>\n",
       "    <tr>\n",
       "      <th>credit_card</th>\n",
       "      <td>8563.0</td>\n",
       "      <td>0.893262</td>\n",
       "      <td>3.087983e-01</td>\n",
       "      <td>0.00</td>\n",
       "      <td>1.00</td>\n",
       "      <td>1.00</td>\n",
       "      <td>1.000</td>\n",
       "      <td>1.000000e+00</td>\n",
       "    </tr>\n",
       "    <tr>\n",
       "      <th>last_activity</th>\n",
       "      <td>8563.0</td>\n",
       "      <td>0.440967</td>\n",
       "      <td>4.965319e-01</td>\n",
       "      <td>0.00</td>\n",
       "      <td>0.00</td>\n",
       "      <td>0.00</td>\n",
       "      <td>1.000</td>\n",
       "      <td>1.000000e+00</td>\n",
       "    </tr>\n",
       "    <tr>\n",
       "      <th>salary</th>\n",
       "      <td>8563.0</td>\n",
       "      <td>91511.774835</td>\n",
       "      <td>1.281745e+05</td>\n",
       "      <td>380.84</td>\n",
       "      <td>30100.26</td>\n",
       "      <td>60043.72</td>\n",
       "      <td>105283.410</td>\n",
       "      <td>1.327784e+06</td>\n",
       "    </tr>\n",
       "    <tr>\n",
       "      <th>city_Ростов</th>\n",
       "      <td>8563.0</td>\n",
       "      <td>0.143758</td>\n",
       "      <td>3.508647e-01</td>\n",
       "      <td>0.00</td>\n",
       "      <td>0.00</td>\n",
       "      <td>0.00</td>\n",
       "      <td>0.000</td>\n",
       "      <td>1.000000e+00</td>\n",
       "    </tr>\n",
       "    <tr>\n",
       "      <th>city_Рыбинск</th>\n",
       "      <td>8563.0</td>\n",
       "      <td>0.276071</td>\n",
       "      <td>4.470787e-01</td>\n",
       "      <td>0.00</td>\n",
       "      <td>0.00</td>\n",
       "      <td>0.00</td>\n",
       "      <td>1.000</td>\n",
       "      <td>1.000000e+00</td>\n",
       "    </tr>\n",
       "    <tr>\n",
       "      <th>city_Ярославль</th>\n",
       "      <td>8563.0</td>\n",
       "      <td>0.580171</td>\n",
       "      <td>4.935597e-01</td>\n",
       "      <td>0.00</td>\n",
       "      <td>0.00</td>\n",
       "      <td>1.00</td>\n",
       "      <td>1.000</td>\n",
       "      <td>1.000000e+00</td>\n",
       "    </tr>\n",
       "    <tr>\n",
       "      <th>gender_cat</th>\n",
       "      <td>8563.0</td>\n",
       "      <td>0.516875</td>\n",
       "      <td>4.997443e-01</td>\n",
       "      <td>0.00</td>\n",
       "      <td>0.00</td>\n",
       "      <td>1.00</td>\n",
       "      <td>1.000</td>\n",
       "      <td>1.000000e+00</td>\n",
       "    </tr>\n",
       "  </tbody>\n",
       "</table>\n",
       "</div>"
      ],
      "text/plain": [
       "                 count           mean           std      min       25%  \\\n",
       "userid          8563.0  153790.679552  6.893126e+04  1436.00  98467.50   \n",
       "score           8563.0     582.649772  1.294908e+02   300.00    490.00   \n",
       "age             8563.0      43.450893  1.231414e+01    18.00     34.00   \n",
       "equity          8563.0       1.576317  1.632524e+00     0.00      0.00   \n",
       "balance         8563.0  441942.932198  1.573994e+06     0.00      0.00   \n",
       "products        8563.0       1.061194  2.396989e-01     1.00      1.00   \n",
       "credit_card     8563.0       0.893262  3.087983e-01     0.00      1.00   \n",
       "last_activity   8563.0       0.440967  4.965319e-01     0.00      0.00   \n",
       "salary          8563.0   91511.774835  1.281745e+05   380.84  30100.26   \n",
       "city_Ростов     8563.0       0.143758  3.508647e-01     0.00      0.00   \n",
       "city_Рыбинск    8563.0       0.276071  4.470787e-01     0.00      0.00   \n",
       "city_Ярославль  8563.0       0.580171  4.935597e-01     0.00      0.00   \n",
       "gender_cat      8563.0       0.516875  4.997443e-01     0.00      0.00   \n",
       "\n",
       "                      50%         75%           max  \n",
       "userid          159679.00  213073.000  2.640130e+05  \n",
       "score              581.00     681.000  8.500000e+02  \n",
       "age                 41.00      52.000  8.600000e+01  \n",
       "equity               1.00       3.000  9.000000e+00  \n",
       "balance         207137.25  603679.225  1.263859e+08  \n",
       "products             1.00       1.000  2.000000e+00  \n",
       "credit_card          1.00       1.000  1.000000e+00  \n",
       "last_activity        0.00       1.000  1.000000e+00  \n",
       "salary           60043.72  105283.410  1.327784e+06  \n",
       "city_Ростов          0.00       0.000  1.000000e+00  \n",
       "city_Рыбинск         0.00       1.000  1.000000e+00  \n",
       "city_Ярославль       1.00       1.000  1.000000e+00  \n",
       "gender_cat           1.00       1.000  1.000000e+00  "
      ]
     },
     "execution_count": 12,
     "metadata": {},
     "output_type": "execute_result"
    }
   ],
   "source": [
    "print ('Действующий:') \n",
    "df.query('churn == 0').describe().T"
   ]
  },
  {
   "cell_type": "markdown",
   "id": "ba82c30c",
   "metadata": {},
   "source": [
    "Наш действующий клиент с медианным кредитным рейтингом 581, что в целом ниже в разрезе общей группы, средний возраст 41- 43года, с приблизительной оценкой собственности 1 балл, балансом на счете менее 400 тыс руб, количеством продуктов 1, наличием кредитной карты, зарплатой 60 тыс.руб, по половому признаку значительных различий также нет. Преимущественно это клиенты из Ярославля 58% , Рыбинска 28% и Ростова 14%."
   ]
  },
  {
   "cell_type": "markdown",
   "id": "55f8b839",
   "metadata": {},
   "source": [
    "## Влияние локации и полового признака на отток"
   ]
  },
  {
   "cell_type": "code",
   "execution_count": 13,
   "id": "6e38b3d9",
   "metadata": {},
   "outputs": [
    {
     "data": {
      "image/png": "[encoded data removed]",
      "text/plain": [
       "<Figure size 432x288 with 1 Axes>"
      ]
     },
     "metadata": {
      "needs_background": "light"
     },
     "output_type": "display_data"
    }
   ],
   "source": [
    "sns.histplot(df, x = 'city', hue = 'churn', palette = 'Blues' ).set_title('Диаграмма в разрезе оттока по городам')\n",
    "plt.legend(['Отток', 'Оставшиеся']);"
   ]
  },
  {
   "cell_type": "markdown",
   "id": "9aceead3",
   "metadata": {},
   "source": [
    "Большая часть клиентов-оттока из Ярославля, также можно обратить внимание, что больше всего клиентов из Ярославля"
   ]
  },
  {
   "cell_type": "code",
   "execution_count": 14,
   "id": "02d2369b",
   "metadata": {},
   "outputs": [
    {
     "data": {
      "image/png": "[encoded data removed]",
      "text/plain": [
       "<Figure size 432x288 with 1 Axes>"
      ]
     },
     "metadata": {
      "needs_background": "light"
     },
     "output_type": "display_data"
    }
   ],
   "source": [
    "sns.histplot(df, x = 'gender' , hue = 'churn' ,  multiple = 'dodge', palette = 'Blues').set_title('Диаграмма оттока по половому признаку');\n"
   ]
  },
  {
   "cell_type": "markdown",
   "id": "4519abf6",
   "metadata": {},
   "source": [
    "Отток по разбивке по половому признаку больше у мужчин, при этом женщин среди клиентов, которые остаются с нашим банком больше. \n"
   ]
  },
  {
   "cell_type": "markdown",
   "id": "ed334098",
   "metadata": {},
   "source": [
    "## Распределение признаков в разрезе оттока"
   ]
  },
  {
   "cell_type": "code",
   "execution_count": 15,
   "id": "ecc406a6",
   "metadata": {
    "scrolled": false
   },
   "outputs": [
    {
     "data": {
      "image/png": "[encoded data removed]",
      "text/plain": [
       "<Figure size 1080x936 with 8 Axes>"
      ]
     },
     "metadata": {
      "needs_background": "light"
     },
     "output_type": "display_data"
    }
   ],
   "source": [
    "res = ['score', 'age', 'equity','products', 'balance', 'credit_card', 'last_activity','salary']\n",
    "col_count, row_count = 3,4\n",
    "plt.figure(figsize = (15,13))\n",
    "\n",
    "for i, j in enumerate(res):\n",
    "    for chn in df['churn'].unique():\n",
    "        current = df.query('churn == @chn')\n",
    "        sns.distplot(current[j], ax = plt.subplot(row_count, col_count, i+1))\n",
    "        \n",
    "    plt.title(j)\n",
    "    plt.legend(['Отток', 'Оставшиеся'])\n",
    "    \n",
    "    \n",
    "plt.suptitle('Распределение параметров по оттоку')\n",
    "\n",
    "plt.tight_layout() "
   ]
  },
  {
   "cell_type": "markdown",
   "id": "59b1c8b0",
   "metadata": {},
   "source": [
    "**Отток по `score`:**\n",
    "    Отток растет согласно графика у клиентов, с высокими оценками скоринга. Пиковые значения сосредоточены в 700 - 800 ед.\n",
    "\n",
    "**Отток по `age`:**\n",
    "   Наибольший отток среди клиентов от 20 - 35 лет, среди клиентов старшего возраста, такой отток глобально не наблюдается. Есть небольшой всплеск на графике оттока в возрастной гуппе 56-59 лет, но в точке 60 он начинает снижаться. Т.о. стоит ориентироваться на более консервативные инструменты,\n",
    "    \n",
    "**Отток по `equity`:**\n",
    "    Пик оттока приходится на 2, которое является  небольшим значением личных активов клиента. Если смотреть на кривую распределения, то в значения 2-3 значения оттока и остающихся клиентов не имеют особых различий, т.е. в оценки собственнсти в значених 2-3 уходит больше половины клиентов. \n",
    " \n",
    "**Отток по `products`:**\n",
    "   Основной отток приходится на пользователей с количеством продуктов 1 и 3, далее все значения располагаютс ближе к 0\n",
    "    \n",
    " **Отток по `balance`:**\n",
    "     Отток расположен, в большей степени в нулевых или около нулевых значений, т.е. у клиентов на счтаех небольшие суммы. \n",
    " \n",
    " **Отток по `credit_card`:**\n",
    "    В рамках распределения также нельзя говорить о высоком влиянии оттока при наличии/отстуствии кредитной карты. Пики кривой оттока примерно на одном уровне, как при использовании кредитной карты, так и при ее неиспользовании.\n",
    "    \n",
    "**Отток по `last_activity`:**\n",
    "   Наиболее активные клиенты, чаще всего уходят, что является оределенным сюрпризом. \n",
    "  \n",
    "**Отток по `salary`:**\n",
    "  Величина уходящих клиентов также высокая, но среди клиентов с минимальными доходами.\n",
    "  \n",
    "  "
   ]
  },
  {
   "cell_type": "markdown",
   "id": "e1971acd",
   "metadata": {},
   "source": [
    "Посмотрим на графики в масштабе, для этого часть данных с высокими показателями остатка средств на счете, нам придется откинуть, так как они мешают увидеть детальнее все что происходит на графике"
   ]
  },
  {
   "cell_type": "code",
   "execution_count": 16,
   "id": "cf5076b6",
   "metadata": {
    "scrolled": false
   },
   "outputs": [
    {
     "data": {
      "image/png": "[encoded data removed]",
      "text/plain": [
       "<Figure size 936x504 with 1 Axes>"
      ]
     },
     "metadata": {
      "needs_background": "light"
     },
     "output_type": "display_data"
    }
   ],
   "source": [
    "plt.figure(figsize = (13,7))\n",
    "q95_b = np.percentile(df['balance'], 99)\n",
    "sns.histplot(data = df.query('balance <= @q95_b'), x= 'balance', hue = 'churn', stat='density', common_norm = False);"
   ]
  },
  {
   "cell_type": "markdown",
   "id": "1e2d07dc",
   "metadata": {},
   "source": [
    "Чаще всего из банка уходят клиенты с наибольшими остатками средств на счете, плотность распределения примерно одинаковая независимо от сумм на счете примерно до 1,5 млн.руб, после чего у клиентов с большим капиталом плотность распределения снижается. Теперь посмотрим на распределение в зарплате также в масштабе"
   ]
  },
  {
   "cell_type": "code",
   "execution_count": 17,
   "id": "2597b55b",
   "metadata": {},
   "outputs": [
    {
     "data": {
      "text/plain": [
       "<AxesSubplot:xlabel='salary', ylabel='Density'>"
      ]
     },
     "execution_count": 17,
     "metadata": {},
     "output_type": "execute_result"
    },
    {
     "data": {
      "image/png": "[encoded data removed]",
      "text/plain": [
       "<Figure size 936x504 with 1 Axes>"
      ]
     },
     "metadata": {
      "needs_background": "light"
     },
     "output_type": "display_data"
    }
   ],
   "source": [
    "plt.figure(figsize = (13,7))\n",
    "q95_s = np.percentile(df['salary'], 99)\n",
    "sns.histplot(data = df.query('salary <= @q95_s'), x= 'salary', hue = 'churn', stat='density', common_norm = False)"
   ]
  },
  {
   "cell_type": "markdown",
   "id": "c0f3e183",
   "metadata": {},
   "source": [
    "Основной пик приходится на минимальные и средние зарплаты, плотность распределения в диапазоне от 30 -150 тыс самая высокая, после чего начинает снижаться, т.е. в банке выгоднее оставаться при высоких капиталах"
   ]
  },
  {
   "cell_type": "markdown",
   "id": "c3f45099",
   "metadata": {},
   "source": [
    "## Матрица корреляции"
   ]
  },
  {
   "cell_type": "code",
   "execution_count": 18,
   "id": "fa703317",
   "metadata": {
    "scrolled": false
   },
   "outputs": [
    {
     "data": {
      "image/png": "[encoded data removed]",
      "text/plain": [
       "<Figure size 1080x720 with 2 Axes>"
      ]
     },
     "metadata": {
      "needs_background": "light"
     },
     "output_type": "display_data"
    }
   ],
   "source": [
    "plt.figure(figsize = (15,10))\n",
    "sns.heatmap(data = df.corr(), annot = True, square = True, cmap = 'coolwarm').set_title('Матрица корреляций');"
   ]
  },
  {
   "cell_type": "markdown",
   "id": "6013f625",
   "metadata": {},
   "source": [
    "Корреляции между признаками нет, рассмотрим связи между признаками и продуктами, в разрезе оттока"
   ]
  },
  {
   "cell_type": "markdown",
   "id": "bcecf149",
   "metadata": {},
   "source": [
    "## Изучение взаимосвязи между  количеством продуктов, в разрезе оттока, по признакам"
   ]
  },
  {
   "cell_type": "code",
   "execution_count": 19,
   "id": "c482b363",
   "metadata": {
    "scrolled": true
   },
   "outputs": [
    {
     "data": {
      "text/html": [
       "<div>\n",
       "<style scoped>\n",
       "    .dataframe tbody tr th:only-of-type {\n",
       "        vertical-align: middle;\n",
       "    }\n",
       "\n",
       "    .dataframe tbody tr th {\n",
       "        vertical-align: top;\n",
       "    }\n",
       "\n",
       "    .dataframe thead tr th {\n",
       "        text-align: left;\n",
       "    }\n",
       "</style>\n",
       "<table border=\"1\" class=\"dataframe\">\n",
       "  <thead>\n",
       "    <tr>\n",
       "      <th></th>\n",
       "      <th>products</th>\n",
       "      <th colspan=\"2\" halign=\"left\">churn</th>\n",
       "      <th colspan=\"2\" halign=\"left\">city_Ростов</th>\n",
       "      <th colspan=\"2\" halign=\"left\">city_Рыбинск</th>\n",
       "      <th colspan=\"2\" halign=\"left\">city_Ярославль</th>\n",
       "    </tr>\n",
       "    <tr>\n",
       "      <th></th>\n",
       "      <th></th>\n",
       "      <th>count</th>\n",
       "      <th>mean</th>\n",
       "      <th>count</th>\n",
       "      <th>mean</th>\n",
       "      <th>count</th>\n",
       "      <th>mean</th>\n",
       "      <th>count</th>\n",
       "      <th>mean</th>\n",
       "    </tr>\n",
       "  </thead>\n",
       "  <tbody>\n",
       "    <tr>\n",
       "      <th>0</th>\n",
       "      <td>1</td>\n",
       "      <td>9161</td>\n",
       "      <td>0.122</td>\n",
       "      <td>9161.0</td>\n",
       "      <td>0.142</td>\n",
       "      <td>9161.0</td>\n",
       "      <td>0.267</td>\n",
       "      <td>9161.0</td>\n",
       "      <td>0.592</td>\n",
       "    </tr>\n",
       "    <tr>\n",
       "      <th>1</th>\n",
       "      <td>2</td>\n",
       "      <td>524</td>\n",
       "      <td>0.000</td>\n",
       "      <td>524.0</td>\n",
       "      <td>0.183</td>\n",
       "      <td>524.0</td>\n",
       "      <td>0.303</td>\n",
       "      <td>524.0</td>\n",
       "      <td>0.513</td>\n",
       "    </tr>\n",
       "    <tr>\n",
       "      <th>2</th>\n",
       "      <td>3</td>\n",
       "      <td>306</td>\n",
       "      <td>1.000</td>\n",
       "      <td>306.0</td>\n",
       "      <td>0.124</td>\n",
       "      <td>306.0</td>\n",
       "      <td>0.196</td>\n",
       "      <td>306.0</td>\n",
       "      <td>0.680</td>\n",
       "    </tr>\n",
       "    <tr>\n",
       "      <th>3</th>\n",
       "      <td>4</td>\n",
       "      <td>8</td>\n",
       "      <td>1.000</td>\n",
       "      <td>8.0</td>\n",
       "      <td>0.000</td>\n",
       "      <td>8.0</td>\n",
       "      <td>0.125</td>\n",
       "      <td>8.0</td>\n",
       "      <td>0.875</td>\n",
       "    </tr>\n",
       "  </tbody>\n",
       "</table>\n",
       "</div>"
      ],
      "text/plain": [
       "  products churn        city_Ростов        city_Рыбинск        city_Ярославль  \\\n",
       "           count   mean       count   mean        count   mean          count   \n",
       "0        1  9161  0.122      9161.0  0.142       9161.0  0.267         9161.0   \n",
       "1        2   524  0.000       524.0  0.183        524.0  0.303          524.0   \n",
       "2        3   306  1.000       306.0  0.124        306.0  0.196          306.0   \n",
       "3        4     8  1.000         8.0  0.000          8.0  0.125            8.0   \n",
       "\n",
       "          \n",
       "    mean  \n",
       "0  0.592  \n",
       "1  0.513  \n",
       "2  0.680  \n",
       "3  0.875  "
      ]
     },
     "execution_count": 19,
     "metadata": {},
     "output_type": "execute_result"
    }
   ],
   "source": [
    "prod_churn = round(df.query('products != 0').pivot_table(index = 'products',  values = ['city_Ярославль', \n",
    "    'city_Рыбинск', 'city_Ростов' ,'churn'], aggfunc =('count' , 'mean')).reset_index(),3)\n",
    "\n",
    "prod_churn"
   ]
  },
  {
   "cell_type": "code",
   "execution_count": 20,
   "id": "dc01bb96",
   "metadata": {},
   "outputs": [
    {
     "data": {
      "text/plain": [
       "Text(0.5, 0.98, 'Взаимосвязи между количеством продуктов, в разрезе оттока')"
      ]
     },
     "execution_count": 20,
     "metadata": {},
     "output_type": "execute_result"
    },
    {
     "data": {
      "image/png": "[encoded data removed]",
      "text/plain": [
       "<Figure size 426.35x360 with 1 Axes>"
      ]
     },
     "metadata": {
      "needs_background": "light"
     },
     "output_type": "display_data"
    },
    {
     "data": {
      "image/png": "[encoded data removed]",
      "text/plain": [
       "<Figure size 426.35x360 with 1 Axes>"
      ]
     },
     "metadata": {
      "needs_background": "light"
     },
     "output_type": "display_data"
    },
    {
     "data": {
      "image/png": "[encoded data removed]",
      "text/plain": [
       "<Figure size 426.35x360 with 1 Axes>"
      ]
     },
     "metadata": {
      "needs_background": "light"
     },
     "output_type": "display_data"
    },
    {
     "data": {
      "image/png": "[encoded data removed]",
      "text/plain": [
       "<Figure size 426.35x360 with 1 Axes>"
      ]
     },
     "metadata": {
      "needs_background": "light"
     },
     "output_type": "display_data"
    },
    {
     "data": {
      "image/png": "[encoded data removed]",
      "text/plain": [
       "<Figure size 426.35x360 with 1 Axes>"
      ]
     },
     "metadata": {
      "needs_background": "light"
     },
     "output_type": "display_data"
    }
   ],
   "source": [
    "param = ['score', 'age', 'equity', 'salary', 'last_activity']\n",
    "\n",
    "for i in param:\n",
    "\n",
    "    sns.catplot  (x = 'products', y = i, hue = 'churn',data = df, alpha = 0.5, palette = 'husl')\n",
    "    plt.title(i)\n",
    "plt.suptitle('Взаимосвязи между количеством продуктов, в разрезе оттока')"
   ]
  },
  {
   "cell_type": "markdown",
   "id": "d5482f91",
   "metadata": {},
   "source": [
    "1. Количество отсутствия  продуктов (0) не рассматриваем, так как это только один клиент.  \n",
    "2. Большой отток в зависимости от количества продуктов наблюдается в `score` у клиентов с количеством продуктов 3 и 4 -это клиенты с высокой кредитной оценкой.  Уходят клиенты с хорошим кредитным рейтингом выше 550 баллов, это примерно от 50% перцентили и выше.\n",
    "Такая же ситуация наблюдается по возвратсному признаку `age`, `equity`, `salary`,`last_activity`. \n",
    "3. Больше всего отток наблюдается у клиентов с количеством продуктов 3, затем 4. \n",
    "4. Отток при использовании 1 продукта составляет около 12 % , но в количественном выражении он больше чем отток в 3 и  группе\n",
    "5. Клиенты Ярославля по прежнему продолжают уходить, вероятнее всего такой большой отток мог быть связан с акционным оформлением кредитных карт с наличием каких-либо бонусов, после чего клиенты стали возвращаться обратно и закрывать свои продукты или с проблемами в отделении, менеджерам стоит проверить отделения в Ярославле. \n",
    "6. Стоит отметить, что мы также теряем активных клиентов использующих 4, 3 или 1 продукт. Чаще всего клиенты пользуются 2 продуктами, вероятнее всего проблема в неперспективности предлагаемых продуктов / невыгодных условиях для активных клиентов, которые исполmзуют по несколько продуктов. "
   ]
  },
  {
   "cell_type": "code",
   "execution_count": 21,
   "id": "58b46c6d",
   "metadata": {
    "scrolled": true
   },
   "outputs": [
    {
     "data": {
      "image/png": "[encoded data removed]",
      "text/plain": [
       "<Figure size 432x288 with 1 Axes>"
      ]
     },
     "metadata": {
      "needs_background": "light"
     },
     "output_type": "display_data"
    }
   ],
   "source": [
    "df_age = df.groupby('age').agg({'churn':['mean','count']}).droplevel(0,1).set_axis(['churn','share'],1)\n",
    "plt.plot(df_age.index, df_age.churn, linestyle=\":\", color=\"gray\")\n",
    "plt.scatter(df_age.index,df_age.churn,s=df_age.share,alpha=0.7)\n",
    "plt.title(\"Уровень и размер оттока в зависимости от возраста\")\n",
    "plt.xlabel(\"Возраст\")\n",
    "plt.hlines(df.churn.mean(),18,92,ls='--',color='r');"
   ]
  },
  {
   "cell_type": "markdown",
   "id": "4d46e03e",
   "metadata": {},
   "source": [
    "По возврасту клиентов отток увеличивается от 25-45 лет он наиболее максимален, далее от 45-60 лет он начинается уменьшаться, после 60 лет отток минимизируется. \n",
    "\n",
    "Можно будет разделить клиентов по группам: \n",
    "- до 25 и добавить их в группу 1, \n",
    "- от 25-45 в группу 2, \n",
    "- от 45-60  в группу 3, \n",
    "- все остальные попадут в группу 4. \n"
   ]
  },
  {
   "cell_type": "markdown",
   "id": "f4b29d53",
   "metadata": {},
   "source": [
    "## Изучение взаимосвязи между возрастными группами, в разрезе продуктов по оттоку клиентов"
   ]
  },
  {
   "cell_type": "code",
   "execution_count": 22,
   "id": "b0fd5e81",
   "metadata": {},
   "outputs": [],
   "source": [
    "def cat(row):\n",
    "    if row < 25:\n",
    "        return '1'\n",
    "    if 25 <= row <= 45:\n",
    "        return '2'\n",
    "    if 45 < row <= 60:\n",
    "        return '3'\n",
    "\n",
    "    return '4'\n",
    "\n",
    "df['age_cat'] = df['age'].apply(cat)"
   ]
  },
  {
   "cell_type": "markdown",
   "id": "9b24cf08",
   "metadata": {},
   "source": [
    "Посмотрим как распределяется отток согласно возрастной группе, в разрезе активности и городов: "
   ]
  },
  {
   "cell_type": "code",
   "execution_count": 23,
   "id": "cc77131c",
   "metadata": {
    "scrolled": true
   },
   "outputs": [
    {
     "data": {
      "text/html": [
       "<div>\n",
       "<style scoped>\n",
       "    .dataframe tbody tr th:only-of-type {\n",
       "        vertical-align: middle;\n",
       "    }\n",
       "\n",
       "    .dataframe tbody tr th {\n",
       "        vertical-align: top;\n",
       "    }\n",
       "\n",
       "    .dataframe thead tr th {\n",
       "        text-align: left;\n",
       "    }\n",
       "</style>\n",
       "<table border=\"1\" class=\"dataframe\">\n",
       "  <thead>\n",
       "    <tr>\n",
       "      <th></th>\n",
       "      <th>age_cat</th>\n",
       "      <th colspan=\"5\" halign=\"left\">count</th>\n",
       "      <th colspan=\"5\" halign=\"left\">mean</th>\n",
       "    </tr>\n",
       "    <tr>\n",
       "      <th></th>\n",
       "      <th></th>\n",
       "      <th>churn</th>\n",
       "      <th>city_Ростов</th>\n",
       "      <th>city_Рыбинск</th>\n",
       "      <th>city_Ярославль</th>\n",
       "      <th>last_activity</th>\n",
       "      <th>churn</th>\n",
       "      <th>city_Ростов</th>\n",
       "      <th>city_Рыбинск</th>\n",
       "      <th>city_Ярославль</th>\n",
       "      <th>last_activity</th>\n",
       "    </tr>\n",
       "  </thead>\n",
       "  <tbody>\n",
       "    <tr>\n",
       "      <th>0</th>\n",
       "      <td>1</td>\n",
       "      <td>165</td>\n",
       "      <td>165</td>\n",
       "      <td>165</td>\n",
       "      <td>165</td>\n",
       "      <td>165</td>\n",
       "      <td>0.097</td>\n",
       "      <td>0.152</td>\n",
       "      <td>0.261</td>\n",
       "      <td>0.588</td>\n",
       "      <td>0.576</td>\n",
       "    </tr>\n",
       "    <tr>\n",
       "      <th>1</th>\n",
       "      <td>2</td>\n",
       "      <td>6301</td>\n",
       "      <td>6301</td>\n",
       "      <td>6301</td>\n",
       "      <td>6301</td>\n",
       "      <td>6301</td>\n",
       "      <td>0.166</td>\n",
       "      <td>0.131</td>\n",
       "      <td>0.254</td>\n",
       "      <td>0.615</td>\n",
       "      <td>0.496</td>\n",
       "    </tr>\n",
       "    <tr>\n",
       "      <th>2</th>\n",
       "      <td>3</td>\n",
       "      <td>2499</td>\n",
       "      <td>2499</td>\n",
       "      <td>2499</td>\n",
       "      <td>2499</td>\n",
       "      <td>2499</td>\n",
       "      <td>0.142</td>\n",
       "      <td>0.158</td>\n",
       "      <td>0.290</td>\n",
       "      <td>0.551</td>\n",
       "      <td>0.489</td>\n",
       "    </tr>\n",
       "    <tr>\n",
       "      <th>3</th>\n",
       "      <td>4</td>\n",
       "      <td>1034</td>\n",
       "      <td>1034</td>\n",
       "      <td>1034</td>\n",
       "      <td>1034</td>\n",
       "      <td>1034</td>\n",
       "      <td>0.015</td>\n",
       "      <td>0.181</td>\n",
       "      <td>0.281</td>\n",
       "      <td>0.538</td>\n",
       "      <td>0.537</td>\n",
       "    </tr>\n",
       "  </tbody>\n",
       "</table>\n",
       "</div>"
      ],
      "text/plain": [
       "  age_cat count                                                         mean  \\\n",
       "          churn city_Ростов city_Рыбинск city_Ярославль last_activity  churn   \n",
       "0       1   165         165          165            165           165  0.097   \n",
       "1       2  6301        6301         6301           6301          6301  0.166   \n",
       "2       3  2499        2499         2499           2499          2499  0.142   \n",
       "3       4  1034        1034         1034           1034          1034  0.015   \n",
       "\n",
       "                                                         \n",
       "  city_Ростов city_Рыбинск city_Ярославль last_activity  \n",
       "0       0.152        0.261          0.588         0.576  \n",
       "1       0.131        0.254          0.615         0.496  \n",
       "2       0.158        0.290          0.551         0.489  \n",
       "3       0.181        0.281          0.538         0.537  "
      ]
     },
     "execution_count": 23,
     "metadata": {},
     "output_type": "execute_result"
    }
   ],
   "source": [
    "round (df.query('products != 0').pivot_table( index = 'age_cat' , values = ['last_activity', 'city_Ярославль', 'city_Рыбинск', \n",
    "                'city_Ростов' ,'churn'], aggfunc = ['count' , 'mean']).reset_index(),3)\n",
    "\n"
   ]
  },
  {
   "cell_type": "markdown",
   "id": "d8f77ae4",
   "metadata": {},
   "source": [
    "Наибольший отток среди  возврастных групп: \n",
    "1. группа 1 **(клиенты  до 25 лет)** - отток  10%, в количественном измерении он минимален.\n",
    "2. группа 2 **(25-45лет)** - отток 17%, в количественном измерении это максимальные значения оттока, по возрастным группам. Чаще всего это клиенты из \"семейного сегмента\" которые могут быть обременены кредитами, возможно также стоит обратить внимание на  кредитную линейку продуктов, которая существует в банке, \n",
    "3. группа 3 **(45-60 лет)** - отток 14% также как и в группе 2 это может быть \"семейная группа\" клиентов, которые могут обременены кредитами, но также заинтересованы в консервативных инструментах,\n",
    "4. группа 4 **(клиенты 60+)** - отток менее 2 %. Для данного типа клиентов приоритетнее более консервативные продукты \n"
   ]
  },
  {
   "cell_type": "code",
   "execution_count": 24,
   "id": "fc728603",
   "metadata": {},
   "outputs": [
    {
     "data": {
      "image/png": "[encoded data removed]",
      "text/plain": [
       "<Figure size 720x576 with 1 Axes>"
      ]
     },
     "metadata": {
      "needs_background": "light"
     },
     "output_type": "display_data"
    }
   ],
   "source": [
    "plt.figure(figsize = (10,8))\n",
    "sns.countplot(x = 'age_cat' , hue = 'churn', data = df.sort_values(by ='age_cat', ascending = True),\n",
    "              palette = 'husl').set_title('Отток в возврастных категориях')\n",
    "plt.legend(['Оставшиеся', 'Отток']);"
   ]
  },
  {
   "cell_type": "markdown",
   "id": "46a903da",
   "metadata": {},
   "source": [
    "проверим как отток распределяется в возвратных гуппах по количеству используемых продуктов"
   ]
  },
  {
   "cell_type": "code",
   "execution_count": 25,
   "id": "93e1660f",
   "metadata": {
    "scrolled": false
   },
   "outputs": [
    {
     "data": {
      "text/plain": [
       "<Figure size 2160x720 with 0 Axes>"
      ]
     },
     "metadata": {},
     "output_type": "display_data"
    },
    {
     "data": {
      "image/png": "[encoded data removed]",
      "text/plain": [
       "<Figure size 642.35x180 with 4 Axes>"
      ]
     },
     "metadata": {
      "needs_background": "light"
     },
     "output_type": "display_data"
    }
   ],
   "source": [
    "plt.figure(figsize = (30, 10))\n",
    "sns.catplot (x = 'age_cat', col='products' , col_wrap=4,  hue = 'churn', kind = 'count' , \n",
    "              data = df.query('products != 0')[df.products.notnull()].sort_values(by = 'age_cat' , ascending = True),\n",
    "              height=2.5, aspect=.8, alpha =0.8, palette = 'husl')\n",
    "    \n",
    "plt.suptitle('Взаимосвязи между возрастными группами, в разрезе продуктов и оттока клиентов')\n",
    "\n",
    "plt.tight_layout();"
   ]
  },
  {
   "cell_type": "markdown",
   "id": "f821bb01",
   "metadata": {},
   "source": [
    "В разрезе по возрастной группе, отток больше всего наблюдается среди клиентов среднего возраста (группа 2 до 45 лет),у клиентов испольлзующих один или три  продукта. Также величина оттока наблюдается при использовании только 1 продукта, среди возрастной группы (45-60 лет). В четвертом продукте такие клиенты есть, но их очень мало. "
   ]
  },
  {
   "cell_type": "markdown",
   "id": "147f794d",
   "metadata": {},
   "source": [
    "## Изучение взаимосвязи между  группами кредитного рейтинга, в разрезе  оттока клиентов"
   ]
  },
  {
   "cell_type": "code",
   "execution_count": 26,
   "id": "2d4e85f8",
   "metadata": {},
   "outputs": [],
   "source": [
    "def cat_2(row):\n",
    "    if row < np.percentile(df.query('churn == 1')['score'], 25):\n",
    "        return '1'\n",
    "    return '2'\n",
    "  \n",
    "df['score_cat'] = df['score'].apply(cat_2)\n"
   ]
  },
  {
   "cell_type": "markdown",
   "id": "3691a526",
   "metadata": {},
   "source": [
    "С баллами кредитного рейтинга будем рассматривать только параметры оттока в рамках количества используемых продуктов, поскольку на остальные параметы кредитный рейтинг не будет оказывать влияния. Банку также важно, чтобы кредитный рейтинг клиента был высоким - это будет говорить о его надежности и платежеспособности, а также о том, что клиент не будет попадать в риск профиль по банкротству. Поскольку на графике распределения видно, что у банка высокий уровень оттока клиентов с высоким кредитным рейтингом, данное явление, может носить негативный характер. Проверим какая величина оттока у клиентов согласно разбиению по группам. "
   ]
  },
  {
   "cell_type": "code",
   "execution_count": 27,
   "id": "1cd2941d",
   "metadata": {
    "scrolled": true
   },
   "outputs": [
    {
     "data": {
      "text/html": [
       "<div>\n",
       "<style scoped>\n",
       "    .dataframe tbody tr th:only-of-type {\n",
       "        vertical-align: middle;\n",
       "    }\n",
       "\n",
       "    .dataframe tbody tr th {\n",
       "        vertical-align: top;\n",
       "    }\n",
       "\n",
       "    .dataframe thead tr th {\n",
       "        text-align: left;\n",
       "    }\n",
       "</style>\n",
       "<table border=\"1\" class=\"dataframe\">\n",
       "  <thead>\n",
       "    <tr>\n",
       "      <th></th>\n",
       "      <th>score_cat</th>\n",
       "      <th>count</th>\n",
       "      <th>mean</th>\n",
       "    </tr>\n",
       "    <tr>\n",
       "      <th></th>\n",
       "      <th></th>\n",
       "      <th>churn</th>\n",
       "      <th>churn</th>\n",
       "    </tr>\n",
       "  </thead>\n",
       "  <tbody>\n",
       "    <tr>\n",
       "      <th>0</th>\n",
       "      <td>1</td>\n",
       "      <td>6877</td>\n",
       "      <td>0.051</td>\n",
       "    </tr>\n",
       "    <tr>\n",
       "      <th>1</th>\n",
       "      <td>2</td>\n",
       "      <td>3122</td>\n",
       "      <td>0.347</td>\n",
       "    </tr>\n",
       "  </tbody>\n",
       "</table>\n",
       "</div>"
      ],
      "text/plain": [
       "  score_cat count   mean\n",
       "            churn  churn\n",
       "0         1  6877  0.051\n",
       "1         2  3122  0.347"
      ]
     },
     "execution_count": 27,
     "metadata": {},
     "output_type": "execute_result"
    }
   ],
   "source": [
    "round (df.query('products != 0').pivot_table( index = 'score_cat' , values ='churn', aggfunc = ['count' , 'mean']).reset_index(),3)\n"
   ]
  },
  {
   "cell_type": "markdown",
   "id": "25431b9e",
   "metadata": {},
   "source": [
    " Наибольший отток у клиентов в группе 2 и 3 с высокими кредитными рейтингами (балл кредитного рейтинга от 687 и выше).  "
   ]
  },
  {
   "cell_type": "markdown",
   "id": "e8566464",
   "metadata": {},
   "source": [
    "## Промежуточные итоги: \n",
    "\n",
    "1. Наибольшее влияние на отток оказывают следующие параметры: \n",
    "* `products`,\n",
    "* `score`,\n",
    "* `age`\n",
    "\n",
    "2. Наибольший отток наблюдается среди клиентов использующих 3, 4, 1 продукты. Клиенты использующие 1 продукт уходят реже. \n",
    "3. Мы можем сегментировать клиентов следующим образом: \n",
    "    3.1 по оттоку в группе продуктов  `products`\n",
    "    * сегмент с 3 продуктами где наблюдается максимальный отток с более чем 50% перцентили.\n",
    "    * сегмент с 4 и 1 продуктом, где средняя величина оттока\n",
    "    * сегмент с 2 продуктами, где отток не наблюдается\n",
    "    3.2 по значенияю `score` клиенты с хорошей оценкой скоринга \n",
    "    * от 50% перцентили и выше хоршие показатели скоринга, \n",
    "    * ниже 50% перцнтили низкие показатели скоринга\n",
    "    3.3 по возарастному сегменту клиентов "
   ]
  },
  {
   "cell_type": "markdown",
   "id": "679571b8",
   "metadata": {},
   "source": [
    "# <a name=\"segment\"> Сегментация клиентов </a> \n",
    "\n",
    "\n",
    "* Написание функции для сегментирования клиентов\n",
    "* Сегменты в разрезе оттока\n",
    "* Доля оттока в зависомости от города по сегментации клиентов\n",
    "* Доля оттока в разрезе использования кредитных карт по сегментированным клиентам\n",
    "\n",
    "\n",
    "\n",
    "Дальнейшее деление по трем признакам `products` -`score` - `age_cat` не будет иметь смысла, потому что сделать группы мелкими, так как в группах 3 и 4 отток по количеству менее 200, в `score` отток по количеству подуктов основной приходился на 3 и 4 продукта, т.е. это сделает группы еще более мелкими.\n",
    " \n",
    " \n",
    " \n",
    " Именно поэтому делить будем на основании двух признаков `products`- `age_cat`, посмотрим на сводной таблице как это будет выглядеть:"
   ]
  },
  {
   "cell_type": "code",
   "execution_count": 28,
   "id": "551dc77b",
   "metadata": {
    "scrolled": true
   },
   "outputs": [
    {
     "data": {
      "text/html": [
       "<div>\n",
       "<style scoped>\n",
       "    .dataframe tbody tr th:only-of-type {\n",
       "        vertical-align: middle;\n",
       "    }\n",
       "\n",
       "    .dataframe tbody tr th {\n",
       "        vertical-align: top;\n",
       "    }\n",
       "\n",
       "    .dataframe thead th {\n",
       "        text-align: right;\n",
       "    }\n",
       "</style>\n",
       "<table border=\"1\" class=\"dataframe\">\n",
       "  <thead>\n",
       "    <tr style=\"text-align: right;\">\n",
       "      <th></th>\n",
       "      <th>products</th>\n",
       "      <th>age_cat</th>\n",
       "      <th>counted</th>\n",
       "      <th>mean_churn</th>\n",
       "      <th>cnt_churn</th>\n",
       "    </tr>\n",
       "  </thead>\n",
       "  <tbody>\n",
       "    <tr>\n",
       "      <th>0</th>\n",
       "      <td>1</td>\n",
       "      <td>1</td>\n",
       "      <td>158</td>\n",
       "      <td>0.101266</td>\n",
       "      <td>16.0</td>\n",
       "    </tr>\n",
       "    <tr>\n",
       "      <th>1</th>\n",
       "      <td>1</td>\n",
       "      <td>2</td>\n",
       "      <td>5804</td>\n",
       "      <td>0.142660</td>\n",
       "      <td>828.0</td>\n",
       "    </tr>\n",
       "    <tr>\n",
       "      <th>2</th>\n",
       "      <td>1</td>\n",
       "      <td>3</td>\n",
       "      <td>2296</td>\n",
       "      <td>0.116289</td>\n",
       "      <td>267.0</td>\n",
       "    </tr>\n",
       "    <tr>\n",
       "      <th>3</th>\n",
       "      <td>1</td>\n",
       "      <td>4</td>\n",
       "      <td>903</td>\n",
       "      <td>0.012182</td>\n",
       "      <td>11.0</td>\n",
       "    </tr>\n",
       "    <tr>\n",
       "      <th>4</th>\n",
       "      <td>3</td>\n",
       "      <td>2</td>\n",
       "      <td>213</td>\n",
       "      <td>1.000000</td>\n",
       "      <td>213.0</td>\n",
       "    </tr>\n",
       "    <tr>\n",
       "      <th>5</th>\n",
       "      <td>3</td>\n",
       "      <td>3</td>\n",
       "      <td>88</td>\n",
       "      <td>1.000000</td>\n",
       "      <td>88.0</td>\n",
       "    </tr>\n",
       "    <tr>\n",
       "      <th>6</th>\n",
       "      <td>3</td>\n",
       "      <td>4</td>\n",
       "      <td>5</td>\n",
       "      <td>1.000000</td>\n",
       "      <td>5.0</td>\n",
       "    </tr>\n",
       "    <tr>\n",
       "      <th>7</th>\n",
       "      <td>4</td>\n",
       "      <td>2</td>\n",
       "      <td>7</td>\n",
       "      <td>1.000000</td>\n",
       "      <td>7.0</td>\n",
       "    </tr>\n",
       "    <tr>\n",
       "      <th>8</th>\n",
       "      <td>4</td>\n",
       "      <td>3</td>\n",
       "      <td>1</td>\n",
       "      <td>1.000000</td>\n",
       "      <td>1.0</td>\n",
       "    </tr>\n",
       "  </tbody>\n",
       "</table>\n",
       "</div>"
      ],
      "text/plain": [
       "   products age_cat  counted  mean_churn  cnt_churn\n",
       "0         1       1      158    0.101266       16.0\n",
       "1         1       2     5804    0.142660      828.0\n",
       "2         1       3     2296    0.116289      267.0\n",
       "3         1       4      903    0.012182       11.0\n",
       "4         3       2      213    1.000000      213.0\n",
       "5         3       3       88    1.000000       88.0\n",
       "6         3       4        5    1.000000        5.0\n",
       "7         4       2        7    1.000000        7.0\n",
       "8         4       3        1    1.000000        1.0"
      ]
     },
     "execution_count": 28,
     "metadata": {},
     "output_type": "execute_result"
    }
   ],
   "source": [
    "df_res = df.query('products != [0, 2]').pivot_table( index = ['products' , 'age_cat' ], \n",
    "            values = 'churn', aggfunc = ['count','mean']).reset_index()\n",
    "df_res.columns = ['products' , 'age_cat' , 'counted' , 'mean_churn']\n",
    "df_res['cnt_churn'] = df_res['counted']*df_res['mean_churn']\n",
    "df_res"
   ]
  },
  {
   "cell_type": "markdown",
   "id": "804e3be0",
   "metadata": {},
   "source": [
    "* пользователей использующих 4 продукта, объединим с пользователеями использующими 3 продукта, не взирая на возрастной признак, так как группы получаются слишком маленькие,\n",
    "\n",
    "* пользователи использующие 1 продукт придется объединить по возрастному признаку групп 1, 3 и 4. \n",
    "* пользователи использующие 1 продукт и попадающие во 2 возрастную группу попадают в отдельный сегмент\n",
    "\n",
    "\n",
    " Напишем ф-ю для добавления дополнительного столбца в датасет с сегментами, так будет удобнее проводить филльтрацию в коде и при построении графиков. "
   ]
  },
  {
   "cell_type": "markdown",
   "id": "a4bcadf6",
   "metadata": {},
   "source": [
    "## Написание функции для сегментирования клиентов"
   ]
  },
  {
   "cell_type": "code",
   "execution_count": 29,
   "id": "a50b0646",
   "metadata": {
    "scrolled": true
   },
   "outputs": [
    {
     "data": {
      "text/plain": [
       "segment 1    828\n",
       "segment 3    314\n",
       "segment 2    294\n",
       "segment 0      1\n",
       "Name: segments, dtype: int64"
      ]
     },
     "execution_count": 29,
     "metadata": {},
     "output_type": "execute_result"
    }
   ],
   "source": [
    "def seg(data):\n",
    "    \n",
    "    if (data['products'] == 1) and (data['age_cat'] == '2'):\n",
    "        return 'segment 1'\n",
    "    \n",
    "    if (data['products'] == 1 )and (data['age_cat'] == '1' or data['age_cat'] == '3' or data['age_cat'] == '4' ):\n",
    "        return 'segment 2'\n",
    "                                  \n",
    "    if data['products'] >= 3:\n",
    "        return 'segment 3'\n",
    "    return 'segment 0'\n",
    "    \n",
    "df['segments'] = df.apply(seg, axis=1)\n",
    "# какое количество отточных сегментов в группах \n",
    "df.query('churn ==1')['segments'].value_counts()\n"
   ]
  },
  {
   "cell_type": "markdown",
   "id": "e93d2610",
   "metadata": {},
   "source": [
    "## Сегменты в разрезе оттока"
   ]
  },
  {
   "cell_type": "code",
   "execution_count": 30,
   "id": "f6df0dac",
   "metadata": {
    "scrolled": false
   },
   "outputs": [
    {
     "data": {
      "image/png": "[encoded data removed]",
      "text/plain": [
       "<Figure size 720x576 with 1 Axes>"
      ]
     },
     "metadata": {
      "needs_background": "light"
     },
     "output_type": "display_data"
    }
   ],
   "source": [
    "plt.figure(figsize = (10,8))\n",
    "sns.countplot(x ='segments' , hue = 'churn' , data = df.query('segments != \"segment 0\"').sort_values(by ='segments' , ascending = True),\n",
    "              palette = 'husl').set_title('Отток в разрезе сегмента')\n",
    "plt.legend(['Оставшиеся', 'Отток']);"
   ]
  },
  {
   "cell_type": "markdown",
   "id": "3174ee44",
   "metadata": {},
   "source": [
    "## Доля оттока в зависомости от города по сегментации клиентов"
   ]
  },
  {
   "cell_type": "code",
   "execution_count": 31,
   "id": "1f8e6da6",
   "metadata": {
    "scrolled": false
   },
   "outputs": [
    {
     "data": {
      "image/png": "[encoded data removed]",
      "text/plain": [
       "<Figure size 720x720 with 2 Axes>"
      ]
     },
     "metadata": {
      "needs_background": "light"
     },
     "output_type": "display_data"
    }
   ],
   "source": [
    "df_seg_piv = df.query('segments != \"segment 0\"').pivot_table(index = 'segments' , columns = 'city' , values = 'churn' , aggfunc = 'mean')\n",
    "\n",
    "\n",
    "plt.figure(figsize=(10, 10))\n",
    "plt.title('% оттока клиентов в зависимости от города и сегмента')\n",
    "sns.heatmap(df_seg_piv, annot=True, fmt='.2%',  cmap=\"YlGnBu\")\n",
    "plt.xlabel('Город') \n",
    "plt.ylabel('Сегменты'); "
   ]
  },
  {
   "cell_type": "markdown",
   "id": "46ed636b",
   "metadata": {},
   "source": [
    "В целом наибольший отток в 1 сегменте, если помнить о количестве уходящих клиентов в этом сегменте, затем отток высокий в 3 сегменте, в сравнении оттоков по городам оттока-клиентов"
   ]
  },
  {
   "cell_type": "markdown",
   "id": "277bb880",
   "metadata": {},
   "source": [
    "## Доля оттока в разрезе использования кредитных карт по сегментированным клиентам"
   ]
  },
  {
   "cell_type": "code",
   "execution_count": 32,
   "id": "4ad48a06",
   "metadata": {},
   "outputs": [
    {
     "data": {
      "image/png": "[encoded data removed]",
      "text/plain": [
       "<Figure size 720x720 with 2 Axes>"
      ]
     },
     "metadata": {
      "needs_background": "light"
     },
     "output_type": "display_data"
    }
   ],
   "source": [
    "df_seg_cc = df.query('segments != \"segment 0\"').pivot_table(index = 'segments' , columns = 'credit_card' , values = 'churn' , aggfunc = 'mean')\n",
    "\n",
    "\n",
    "plt.figure(figsize=(10, 10))\n",
    "plt.title('% оттока клиентов в зависимости от использования кредитных карты и сегмента')\n",
    "sns.heatmap(df_seg_cc, annot=True, fmt='.2%',  cmap=\"YlGnBu\")\n",
    "plt.xlabel('кредитная карта') \n",
    "plt.ylabel('Сегменты'); "
   ]
  },
  {
   "cell_type": "markdown",
   "id": "02613c88",
   "metadata": {},
   "source": [
    "## Промежуточные итоги: \n",
    "\n",
    "\n",
    "Наибольший отток у нас среди клиентов `Segment 1`(клиенты использующие 1 продукт, возрастной группы 25-45 лет) :\n",
    "\n",
    "- для этих сегментов следует рассмотреть более выгодные тарифы обслуживания по продуктам, так как видно, что клиенты после использования одного продукта уходят. Можно предположить, что качество продуктов и оказываемых услуг оставляет желать лучшего. \n",
    "- В основном уходят  клиенты из Ярославля и Ростова это около 13 % уходящих клиентов в каждом из городов. Необходимо рассмотреть тщательнее линейки предлагаемых клиентам продуктов. \n",
    "- Стоит рассмотреть варианты повышенных кэшбеков, например за использование кредитных карт\n",
    "\n",
    "\n",
    "`Segment 3`(клиенты использующие 3-4 продукта всех возрастных групп, преимущественно возрастной группы 25-45 лет):\n",
    "Поскольку клиенты используют больше  двух продуктов, данная группа должна быть приоритетной, необходимо разрабоать меры лояльности к таким клиентам.\n",
    "\n",
    "- стоит добавить льготные условия обслуживания для клиентов молодого возраста, например до 25 лет, чтобы клиентов можно было привязать дебетовыми картами, \n",
    "- чаще из этого сегмента уходят клиенты, которые не пользовались кредитными картами. Отток по кредитным картам составляет 100% - это все приходящие клиенты,\n",
    "- для клиентов молодой возрастной категори также стоит рассмотреть кредитные карты с льготным периодом большим по сроку, чем для остальных групп,\n",
    "- договорится с партнерами о системе партнерских скидок, в рамках использования кредитных карт/дебетовых карт, для клиентов возрастной группы 25-45 лет. Такие как дополнительные скидки на развлечения массового характера (вероятнее всего это семейные категории клиентов), как аквапарки, кино, походы в супермаркет\n",
    "\n",
    "`Segment 2`является следующим по величине оттока.  В данный сегмент попадают клиенты использующие только 1 продукт, разных возрастных категорий с минимальным оттоком в своей группе (преимущественно клиенты 45-60 лет) \n",
    "\n",
    "- стоит рассмотреть варианты, дополнительных бонусов от партнеров, для данной категории клиентов. Такие как дополнительные скидки на развлечения массового характера (вероятнее всего это семейные категории клиентов), как аквапарки, кино, походы в супермаркет, \n",
    "\n",
    "- возмоность введения льготных \"привественных\" тарифов на обслуживание, \n",
    "\n",
    "- Рассмотреть новые линейки продуктов  консервативных инструментов, \n",
    "\n",
    "- дополнительные повышенные кэшбеки, \n",
    "\n",
    "- повышенные ставки по вкладам для части клиентов у которых баланс на счете от определенной суммы\n"
   ]
  },
  {
   "cell_type": "markdown",
   "id": "d07ba5ad",
   "metadata": {},
   "source": [
    "# <a name=\"check\">  Проверка гипотез\n",
    "</a>\n",
    "\n",
    "* гипотеза 1: О различии дохода между клиентами использующими 1 и 2 продукта, \n",
    "* гипотеза 2: О различии дохода между клиентами использующими 3 и 4 продукт, \n",
    "* гипотеза 3: О различии дохода между клиентами-оттока с максимальным оттоком по сегментарной группе"
   ]
  },
  {
   "cell_type": "code",
   "execution_count": 33,
   "id": "c82218a1",
   "metadata": {
    "scrolled": true
   },
   "outputs": [
    {
     "data": {
      "text/plain": [
       "<seaborn.axisgrid.FacetGrid at 0x13fdbe63c40>"
      ]
     },
     "execution_count": 33,
     "metadata": {},
     "output_type": "execute_result"
    },
    {
     "data": {
      "image/png": "[encoded data removed]",
      "text/plain": [
       "<Figure size 414.8x360 with 1 Axes>"
      ]
     },
     "metadata": {
      "needs_background": "light"
     },
     "output_type": "display_data"
    }
   ],
   "source": [
    "sns.displot(data = df.query('products !=0'), x= 'salary', hue = 'products', kde = True)"
   ]
  },
  {
   "cell_type": "code",
   "execution_count": 34,
   "id": "7253abf0",
   "metadata": {},
   "outputs": [
    {
     "data": {
      "text/html": [
       "<div>\n",
       "<style scoped>\n",
       "    .dataframe tbody tr th:only-of-type {\n",
       "        vertical-align: middle;\n",
       "    }\n",
       "\n",
       "    .dataframe tbody tr th {\n",
       "        vertical-align: top;\n",
       "    }\n",
       "\n",
       "    .dataframe thead th {\n",
       "        text-align: right;\n",
       "    }\n",
       "</style>\n",
       "<table border=\"1\" class=\"dataframe\">\n",
       "  <thead>\n",
       "    <tr style=\"text-align: right;\">\n",
       "      <th></th>\n",
       "      <th>salary</th>\n",
       "    </tr>\n",
       "    <tr>\n",
       "      <th>products</th>\n",
       "      <th></th>\n",
       "    </tr>\n",
       "  </thead>\n",
       "  <tbody>\n",
       "    <tr>\n",
       "      <th>1</th>\n",
       "      <td>9161</td>\n",
       "    </tr>\n",
       "    <tr>\n",
       "      <th>2</th>\n",
       "      <td>524</td>\n",
       "    </tr>\n",
       "    <tr>\n",
       "      <th>3</th>\n",
       "      <td>306</td>\n",
       "    </tr>\n",
       "    <tr>\n",
       "      <th>4</th>\n",
       "      <td>8</td>\n",
       "    </tr>\n",
       "  </tbody>\n",
       "</table>\n",
       "</div>"
      ],
      "text/plain": [
       "          salary\n",
       "products        \n",
       "1           9161\n",
       "2            524\n",
       "3            306\n",
       "4              8"
      ]
     },
     "execution_count": 34,
     "metadata": {},
     "output_type": "execute_result"
    }
   ],
   "source": [
    "df.query('products !=0').pivot_table(index = 'products' , values = 'salary', aggfunc = 'count')"
   ]
  },
  {
   "cell_type": "markdown",
   "id": "4620a769",
   "metadata": {},
   "source": [
    "Распределение ненормальное,  но поскольку выбоки не равны между собой по размеру,  воспользуемся непараметрическим тестом Манна-Уитни. Напишем для этого функцию теста Манна-Уитни"
   ]
  },
  {
   "cell_type": "code",
   "execution_count": 35,
   "id": "52360852",
   "metadata": {},
   "outputs": [],
   "source": [
    "def test (sample1, sample2):\n",
    "        \n",
    "    alpha = .05\n",
    "    results = st.mannwhitneyu(sample1, sample2)\n",
    "    print('p-значение: ', results.pvalue)\n",
    "        \n",
    "    if results.pvalue < alpha:\n",
    "        print('Отвергаем нулевую гипотезу: разница статистически значима')\n",
    "    else:\n",
    "        print('Не получилось отвергнуть нулевую гипотезу, вывод о различии сделать нельзя') \n",
    "           \n",
    "    return\n"
   ]
  },
  {
   "cell_type": "markdown",
   "id": "227cc15d",
   "metadata": {},
   "source": [
    "## Гипотеза 1\n",
    "\n",
    "О различии дохода между клиентами использующими один и два продукта\n",
    "\n",
    "* *H0 - Средний доход  клиентов использующих 1 продукт равен среднему доходу использующих 2 продукта;*\n",
    "* *H1 - Средний доход  клиентов использующих 1 продукт НЕ равен среднему доходу использующих 2 продукта*"
   ]
  },
  {
   "cell_type": "code",
   "execution_count": 36,
   "id": "c709b277",
   "metadata": {},
   "outputs": [],
   "source": [
    "AB_prod1 = df.query('products ==1')['salary'] \n",
    "AB_prod2 = df.query('products ==2')['salary']"
   ]
  },
  {
   "cell_type": "code",
   "execution_count": 37,
   "id": "f39ad8ba",
   "metadata": {},
   "outputs": [
    {
     "name": "stdout",
     "output_type": "stream",
     "text": [
      "p-значение:  1.1763819557266414e-39\n",
      "Отвергаем нулевую гипотезу: разница статистически значима\n"
     ]
    }
   ],
   "source": [
    "AB_prod12 = test(AB_prod1, AB_prod2)\n",
    "\n"
   ]
  },
  {
   "cell_type": "markdown",
   "id": "08ba5938",
   "metadata": {},
   "source": [
    "Отвергаем нулевую гипотезу о равенстве средних доходов между клиентами использующими 1 и 2 продукта"
   ]
  },
  {
   "cell_type": "markdown",
   "id": "8def73c0",
   "metadata": {},
   "source": [
    "## Гипотеза 2\n",
    "\n",
    "О различии дохода между клиентами использующими 3 и 4 продукта\n",
    "\n",
    "* *H0 - Средний доход  клиентов использующих 3 продукта равен среднему доходу использующих 4 продукта;*\n",
    "* *H1 - Средний доход  клиентов использующих 3 продукта НЕ равен среднему доходу использующих 4 продукта*"
   ]
  },
  {
   "cell_type": "code",
   "execution_count": 38,
   "id": "ac8a2123",
   "metadata": {},
   "outputs": [
    {
     "name": "stdout",
     "output_type": "stream",
     "text": [
      "p-значение:  0.699912791822136\n",
      "Не получилось отвергнуть нулевую гипотезу, вывод о различии сделать нельзя\n"
     ]
    }
   ],
   "source": [
    "AB_prod3 = df.query('products ==3')['salary']\n",
    "AB_prod4 = df.query('products ==4')['salary']\n",
    "AB_prod34 = test (AB_prod3, AB_prod4)"
   ]
  },
  {
   "cell_type": "markdown",
   "id": "e156b60b",
   "metadata": {},
   "source": [
    "Нулевую гипотезу о равенстве средних доходов между клиентами испольлзующими  3 и 4 продукта принимаем "
   ]
  },
  {
   "cell_type": "markdown",
   "id": "e124ef11",
   "metadata": {},
   "source": [
    "## Гипотеза 3\n",
    "\n",
    "\n",
    "проверим гипотезу о  различии в доходе между клиентами-оттока между сегментами с макимальным оттоком\n",
    "Поскольку максимальный отток в сегментах 2 и 1, сравним доходы клиентов в этих сегментах. \n",
    "\n",
    "* *H0 - Средний доход  клиентов во втором  сегменте равен среднему доходу клиентов в первом сегменте;*\n",
    "* *H1 - Средний доход  клиентов во втором сегменте НЕ равен среднему доходу клиентов в первом сегменте*\n"
   ]
  },
  {
   "cell_type": "code",
   "execution_count": 39,
   "id": "71de5e7a",
   "metadata": {},
   "outputs": [
    {
     "data": {
      "text/plain": [
       "<seaborn.axisgrid.FacetGrid at 0x13fe061bb50>"
      ]
     },
     "execution_count": 39,
     "metadata": {},
     "output_type": "execute_result"
    },
    {
     "data": {
      "image/png": "[encoded data removed]",
      "text/plain": [
       "<Figure size 450.975x360 with 1 Axes>"
      ]
     },
     "metadata": {
      "needs_background": "light"
     },
     "output_type": "display_data"
    }
   ],
   "source": [
    "sns.displot(data = df.query('churn == 1'), x= 'salary', hue = 'segments', kde = True)"
   ]
  },
  {
   "cell_type": "code",
   "execution_count": 40,
   "id": "eb827265",
   "metadata": {
    "scrolled": false
   },
   "outputs": [
    {
     "data": {
      "text/html": [
       "<div>\n",
       "<style scoped>\n",
       "    .dataframe tbody tr th:only-of-type {\n",
       "        vertical-align: middle;\n",
       "    }\n",
       "\n",
       "    .dataframe tbody tr th {\n",
       "        vertical-align: top;\n",
       "    }\n",
       "\n",
       "    .dataframe thead th {\n",
       "        text-align: right;\n",
       "    }\n",
       "</style>\n",
       "<table border=\"1\" class=\"dataframe\">\n",
       "  <thead>\n",
       "    <tr style=\"text-align: right;\">\n",
       "      <th></th>\n",
       "      <th>salary</th>\n",
       "    </tr>\n",
       "    <tr>\n",
       "      <th>segments</th>\n",
       "      <th></th>\n",
       "    </tr>\n",
       "  </thead>\n",
       "  <tbody>\n",
       "    <tr>\n",
       "      <th>segment 1</th>\n",
       "      <td>828</td>\n",
       "    </tr>\n",
       "    <tr>\n",
       "      <th>segment 2</th>\n",
       "      <td>294</td>\n",
       "    </tr>\n",
       "  </tbody>\n",
       "</table>\n",
       "</div>"
      ],
      "text/plain": [
       "           salary\n",
       "segments         \n",
       "segment 1     828\n",
       "segment 2     294"
      ]
     },
     "execution_count": 40,
     "metadata": {},
     "output_type": "execute_result"
    }
   ],
   "source": [
    "df.query('churn == 1 and segments == [\"segment 1\", \"segment 2\"]').pivot_table(index = 'segments', \n",
    "                    values = 'salary' , aggfunc = 'count')"
   ]
  },
  {
   "cell_type": "markdown",
   "id": "e1f17400",
   "metadata": {},
   "source": [
    "Распределение носит характер ненормального, но выборки по размеру не равны"
   ]
  },
  {
   "cell_type": "code",
   "execution_count": 41,
   "id": "f590fb42",
   "metadata": {},
   "outputs": [],
   "source": [
    "seg_1 = df.query('churn == 1 and segments == \"segment 1\"')['salary']"
   ]
  },
  {
   "cell_type": "code",
   "execution_count": 42,
   "id": "4aa3189e",
   "metadata": {
    "scrolled": true
   },
   "outputs": [],
   "source": [
    "seg_2 = df.query('churn == 1 and segments == \"segment 2\"')['salary']\n"
   ]
  },
  {
   "cell_type": "code",
   "execution_count": 43,
   "id": "48ee983d",
   "metadata": {},
   "outputs": [
    {
     "name": "stdout",
     "output_type": "stream",
     "text": [
      "p-значение:  0.488199575723821\n",
      "Не получилось отвергнуть нулевую гипотезу, вывод о различии сделать нельзя\n"
     ]
    }
   ],
   "source": [
    "AB_seg24 = test(seg_1, seg_2)"
   ]
  },
  {
   "cell_type": "markdown",
   "id": "85185078",
   "metadata": {},
   "source": [
    "Получается, что у нас доходы между клиентами из сегмента 1 и сегмента 2 равны, между клиентами в доходе нет разницы."
   ]
  },
  {
   "attachments": {
    "image-5.png": {
     "image/png": "[encoded data removed]"
    },
    "image-6.png": {
     "image/png": "[encoded data removed]"
    },
    "image-7.png": {
     "image/png": "[encoded data removed]"
    }
   },
   "cell_type": "markdown",
   "id": "1598b722",
   "metadata": {},
   "source": [
    "# <a name=\"cncl\">  Выводы\n",
    "</a>\n",
    "\n",
    "Наибольший отток наблюдается среди клиентов использующих только один продукт, три или четыре продукта, а также среди клиентов 2 и 3 ыозрастной группы (клиенты от 25 - 60 лет) среди клиентов до 25 лет и клиентов 60+ отток меньше. \n",
    "\n",
    "![image-5.png](attachment:image-5.png)\n",
    "\n",
    "В результате чего клиенты были разделены на сегменты: \n",
    "\n",
    "Segment 0 – клиенты использующие два продукта, во всех возрастных категориях\n",
    "Segment 1 – клиенты использующие только один продукт и относящиеся к возрастной группе до 32 лет \n",
    "Segment 2 – клиенты использующие только один продукт и относящиеся к возрастной группе до 46 лет\n",
    "Segment 3 – клиенты использующие только один продукт и относящиеся к возрастной группе 46+\n",
    "Segment 4 – клиенты использующие 3-4 продукта и относящиеся, ко всем трем возрастным  группам\n",
    "\n",
    "![image-6.png](attachment:image-6.png)\n",
    "\n",
    "Также выяснили, что среди выделенных сегментов основной отток прихоится на клиентов из Ярославля и Ростова: \n",
    "\n",
    "![image-7.png](attachment:image-7.png)\n",
    "\n",
    "\n",
    "Наибольший отток у нас среди клиентов `Segment 1`(клиенты использующие 1 продукт, возрастной группы 25-45 лет) :\n",
    "\n",
    "- для этих сегментов следует рассмотреть более выгодные тарифы обслуживания по продуктам, так как видно, что клиенты после использования одного продукта уходят. Можно предположить, что качество продуктов и оказываемых услуг оставляет желать лучшего. \n",
    "- В основном уходят  клиенты из Ярославля и Ростова это около 13 % уходящих клиентов в каждом из городов. Необходимо рассмотреть тщательнее линейки предлагаемых клиентам продуктов. \n",
    "- Стоит рассмотреть варианты повышенных кэшбеков, например за использование кредитных карт\n",
    "\n",
    "\n",
    "`Segment 3`(клиенты использующие 3-4 продукта всех возрастных групп, преимущественно возрастной группы 25-45 лет):\n",
    "Поскольку клиенты используют больше  двух продуктов, данная группа должна быть приоритетной, необходимо разрабоать меры лояльности к таким клиентам.\n",
    "\n",
    "- стоит добавить льготные условия обслуживания для клиентов молодого возраста, например до 25 лет, чтобы клиентов можно было привязать дебетовыми картами, \n",
    "- чаще из этого сегмента уходят клиенты, которые не пользовались кредитными картами. Отток по кредитным картам составляет 100% - это все приходящие клиенты,\n",
    "- для клиентов молодой возрастной категори также стоит рассмотреть кредитные карты с льготным периодом большим по сроку, чем для остальных групп,\n",
    "- договорится с партнерами о системе партнерских скидок, в рамках использования кредитных карт/дебетовых карт, для клиентов возрастной группы 25-45 лет. Такие как дополнительные скидки на развлечения массового характера (вероятнее всего это семейные категории клиентов), как аквапарки, кино, походы в супермаркет\n",
    "\n",
    "`Segment 2`является следующим по величине оттока.  В данный сегмент попадают клиенты использующие только 1 продукт, разных возрастных категорий с минимальным оттоком в своей группе (преимущественно клиенты 45-60 лет) \n",
    "\n",
    "- стоит рассмотреть варианты, дополнительных бонусов от партнеров, для данной категории клиентов. Такие как дополнительные скидки на развлечения массового характера (вероятнее всего это семейные категории клиентов), как аквапарки, кино, походы в супермаркет, \n",
    "\n",
    "- возмоность введения льготных \"привественных\" тарифов на обслуживание, \n",
    "\n",
    "- Рассмотреть новые линейки продуктов  консервативных инструментов, \n",
    "\n",
    "- дополнительные повышенные кэшбеки, \n",
    "\n",
    "- повышенные ставки по вкладам для части клиентов у которых баланс на счете от определенной суммы\n",
    "\n"
   ]
  },
  {
   "cell_type": "code",
   "execution_count": null,
   "id": "5489ba62",
   "metadata": {},
   "outputs": [],
   "source": []
  }
 ],
 "metadata": {
  "ExecuteTimeLog": [
   {
    "duration": 110,
    "start_time": "2022-07-23T18:03:53.358Z"
   },
   {
    "duration": 80,
    "start_time": "2022-07-23T18:03:57.758Z"
   },
   {
    "duration": 1160,
    "start_time": "2022-07-23T18:04:02.401Z"
   },
   {
    "duration": 357,
    "start_time": "2022-07-23T18:04:06.073Z"
   },
   {
    "duration": 350,
    "start_time": "2022-07-23T18:04:52.259Z"
   },
   {
    "duration": 265,
    "start_time": "2022-07-23T18:05:11.467Z"
   },
   {
    "duration": 272,
    "start_time": "2022-07-23T18:05:59.801Z"
   },
   {
    "duration": 9,
    "start_time": "2022-07-23T18:06:16.505Z"
   },
   {
    "duration": 5,
    "start_time": "2022-07-23T18:06:19.151Z"
   },
   {
    "duration": 8,
    "start_time": "2022-07-23T18:06:26.075Z"
   },
   {
    "duration": 279,
    "start_time": "2022-07-23T18:07:41.860Z"
   },
   {
    "duration": 264,
    "start_time": "2022-07-23T18:08:07.467Z"
   },
   {
    "duration": 268,
    "start_time": "2022-07-23T18:08:21.861Z"
   },
   {
    "duration": 1528,
    "start_time": "2022-07-23T18:08:35.397Z"
   },
   {
    "duration": 219,
    "start_time": "2022-07-23T18:29:01.420Z"
   },
   {
    "duration": 156,
    "start_time": "2022-07-23T18:29:08.145Z"
   },
   {
    "duration": 173,
    "start_time": "2022-07-23T18:30:01.013Z"
   },
   {
    "duration": 48,
    "start_time": "2022-07-23T21:03:24.795Z"
   },
   {
    "duration": 1127,
    "start_time": "2022-07-23T21:03:33.639Z"
   },
   {
    "duration": 1546,
    "start_time": "2022-07-23T21:03:34.768Z"
   },
   {
    "duration": 16,
    "start_time": "2022-07-23T21:03:36.316Z"
   },
   {
    "duration": 21,
    "start_time": "2022-07-23T21:03:36.334Z"
   },
   {
    "duration": 10,
    "start_time": "2022-07-23T21:03:36.358Z"
   },
   {
    "duration": 27,
    "start_time": "2022-07-23T21:03:36.370Z"
   },
   {
    "duration": 4,
    "start_time": "2022-07-23T21:03:36.398Z"
   },
   {
    "duration": 18,
    "start_time": "2022-07-23T21:03:36.404Z"
   },
   {
    "duration": 54,
    "start_time": "2022-07-23T21:03:36.424Z"
   },
   {
    "duration": 43,
    "start_time": "2022-07-23T21:03:36.480Z"
   },
   {
    "duration": 62,
    "start_time": "2022-07-23T21:03:36.524Z"
   },
   {
    "duration": 45,
    "start_time": "2022-07-23T21:03:36.587Z"
   },
   {
    "duration": 203,
    "start_time": "2022-07-23T21:03:36.634Z"
   },
   {
    "duration": 148,
    "start_time": "2022-07-23T21:03:36.840Z"
   },
   {
    "duration": 2842,
    "start_time": "2022-07-23T21:03:36.990Z"
   },
   {
    "duration": 1375,
    "start_time": "2022-07-23T21:03:39.833Z"
   },
   {
    "duration": 50,
    "start_time": "2022-07-23T21:03:41.210Z"
   },
   {
    "duration": 3165,
    "start_time": "2022-07-23T21:03:41.262Z"
   },
   {
    "duration": 46189,
    "start_time": "2022-07-23T21:03:44.429Z"
   },
   {
    "duration": 41,
    "start_time": "2022-07-23T21:04:30.620Z"
   },
   {
    "duration": 158,
    "start_time": "2022-07-23T21:04:30.663Z"
   },
   {
    "duration": 156,
    "start_time": "2022-07-23T21:04:30.823Z"
   },
   {
    "duration": 892,
    "start_time": "2022-07-23T21:04:30.981Z"
   },
   {
    "duration": 18168,
    "start_time": "2022-07-23T21:04:31.875Z"
   },
   {
    "duration": 30,
    "start_time": "2022-07-23T21:04:50.045Z"
   },
   {
    "duration": 25,
    "start_time": "2022-07-23T21:04:50.076Z"
   },
   {
    "duration": 164,
    "start_time": "2022-07-23T21:04:50.102Z"
   },
   {
    "duration": 176,
    "start_time": "2022-07-23T21:04:50.267Z"
   },
   {
    "duration": 368,
    "start_time": "2022-07-23T21:04:50.444Z"
   },
   {
    "duration": 365,
    "start_time": "2022-07-23T21:04:50.814Z"
   },
   {
    "duration": 1988,
    "start_time": "2022-07-23T21:04:51.181Z"
   },
   {
    "duration": 14,
    "start_time": "2022-07-23T21:04:53.171Z"
   },
   {
    "duration": 11,
    "start_time": "2022-07-23T21:04:53.187Z"
   },
   {
    "duration": 36,
    "start_time": "2022-07-23T21:04:53.199Z"
   },
   {
    "duration": 36,
    "start_time": "2022-07-23T21:04:53.237Z"
   },
   {
    "duration": 1646,
    "start_time": "2022-07-23T21:04:53.275Z"
   },
   {
    "duration": 1631,
    "start_time": "2022-07-23T21:04:54.923Z"
   },
   {
    "duration": 13,
    "start_time": "2022-07-23T21:04:56.560Z"
   },
   {
    "duration": 8,
    "start_time": "2022-07-23T21:04:56.574Z"
   },
   {
    "duration": 8,
    "start_time": "2022-07-23T21:04:56.583Z"
   },
   {
    "duration": 5,
    "start_time": "2022-07-23T21:04:56.594Z"
   },
   {
    "duration": 55,
    "start_time": "2022-07-24T05:56:20.774Z"
   },
   {
    "duration": 46,
    "start_time": "2022-07-24T05:56:45.362Z"
   },
   {
    "duration": 1299,
    "start_time": "2022-07-24T05:56:58.091Z"
   },
   {
    "duration": 1381,
    "start_time": "2022-07-24T05:56:59.392Z"
   },
   {
    "duration": 13,
    "start_time": "2022-07-24T05:57:00.774Z"
   },
   {
    "duration": 23,
    "start_time": "2022-07-24T05:57:00.789Z"
   },
   {
    "duration": 10,
    "start_time": "2022-07-24T05:57:00.813Z"
   },
   {
    "duration": 21,
    "start_time": "2022-07-24T05:57:00.824Z"
   },
   {
    "duration": 3,
    "start_time": "2022-07-24T05:57:00.847Z"
   },
   {
    "duration": 27,
    "start_time": "2022-07-24T05:57:00.852Z"
   },
   {
    "duration": 23,
    "start_time": "2022-07-24T05:57:00.881Z"
   },
   {
    "duration": 46,
    "start_time": "2022-07-24T05:57:00.911Z"
   },
   {
    "duration": 69,
    "start_time": "2022-07-24T05:57:00.959Z"
   },
   {
    "duration": 50,
    "start_time": "2022-07-24T05:57:01.030Z"
   },
   {
    "duration": 190,
    "start_time": "2022-07-24T05:57:01.081Z"
   },
   {
    "duration": 160,
    "start_time": "2022-07-24T05:57:01.273Z"
   },
   {
    "duration": 3413,
    "start_time": "2022-07-24T05:57:01.435Z"
   },
   {
    "duration": 1034,
    "start_time": "2022-07-24T05:57:04.850Z"
   },
   {
    "duration": 0,
    "start_time": "2022-07-24T05:57:05.886Z"
   },
   {
    "duration": 0,
    "start_time": "2022-07-24T05:57:05.887Z"
   },
   {
    "duration": 0,
    "start_time": "2022-07-24T05:57:05.888Z"
   },
   {
    "duration": 0,
    "start_time": "2022-07-24T05:57:05.889Z"
   },
   {
    "duration": 0,
    "start_time": "2022-07-24T05:57:05.890Z"
   },
   {
    "duration": 0,
    "start_time": "2022-07-24T05:57:05.891Z"
   },
   {
    "duration": 0,
    "start_time": "2022-07-24T05:57:05.892Z"
   },
   {
    "duration": 0,
    "start_time": "2022-07-24T05:57:05.893Z"
   },
   {
    "duration": 0,
    "start_time": "2022-07-24T05:57:05.894Z"
   },
   {
    "duration": 0,
    "start_time": "2022-07-24T05:57:05.895Z"
   },
   {
    "duration": 0,
    "start_time": "2022-07-24T05:57:05.896Z"
   },
   {
    "duration": 0,
    "start_time": "2022-07-24T05:57:05.897Z"
   },
   {
    "duration": 0,
    "start_time": "2022-07-24T05:57:05.899Z"
   },
   {
    "duration": 0,
    "start_time": "2022-07-24T05:57:05.900Z"
   },
   {
    "duration": 0,
    "start_time": "2022-07-24T05:57:05.901Z"
   },
   {
    "duration": 0,
    "start_time": "2022-07-24T05:57:05.902Z"
   },
   {
    "duration": 0,
    "start_time": "2022-07-24T05:57:05.903Z"
   },
   {
    "duration": 0,
    "start_time": "2022-07-24T05:57:05.904Z"
   },
   {
    "duration": 0,
    "start_time": "2022-07-24T05:57:05.905Z"
   },
   {
    "duration": 0,
    "start_time": "2022-07-24T05:57:05.906Z"
   },
   {
    "duration": 0,
    "start_time": "2022-07-24T05:57:05.907Z"
   },
   {
    "duration": 0,
    "start_time": "2022-07-24T05:57:05.908Z"
   },
   {
    "duration": 0,
    "start_time": "2022-07-24T05:57:05.910Z"
   },
   {
    "duration": 0,
    "start_time": "2022-07-24T05:57:05.911Z"
   },
   {
    "duration": 0,
    "start_time": "2022-07-24T05:57:05.912Z"
   },
   {
    "duration": 0,
    "start_time": "2022-07-24T05:57:05.914Z"
   },
   {
    "duration": 16,
    "start_time": "2022-07-24T06:00:02.010Z"
   },
   {
    "duration": 3608,
    "start_time": "2022-07-24T06:03:16.010Z"
   },
   {
    "duration": 2661,
    "start_time": "2022-07-24T06:06:35.228Z"
   },
   {
    "duration": 2601,
    "start_time": "2022-07-24T06:07:12.502Z"
   },
   {
    "duration": 189,
    "start_time": "2022-07-24T06:08:29.350Z"
   },
   {
    "duration": 297,
    "start_time": "2022-07-24T06:08:37.855Z"
   },
   {
    "duration": 216,
    "start_time": "2022-07-24T06:09:09.263Z"
   },
   {
    "duration": 213,
    "start_time": "2022-07-24T06:09:13.887Z"
   },
   {
    "duration": 4,
    "start_time": "2022-07-24T06:13:53.635Z"
   },
   {
    "duration": 4,
    "start_time": "2022-07-24T06:14:00.862Z"
   },
   {
    "duration": 5,
    "start_time": "2022-07-24T06:14:05.903Z"
   },
   {
    "duration": 181,
    "start_time": "2022-07-24T06:14:23.436Z"
   },
   {
    "duration": 224,
    "start_time": "2022-07-24T06:14:56.666Z"
   },
   {
    "duration": 406,
    "start_time": "2022-07-24T06:20:08.553Z"
   },
   {
    "duration": 607,
    "start_time": "2022-07-24T06:21:10.455Z"
   },
   {
    "duration": 333,
    "start_time": "2022-07-24T06:21:17.490Z"
   },
   {
    "duration": 315,
    "start_time": "2022-07-24T06:21:50.521Z"
   },
   {
    "duration": 326,
    "start_time": "2022-07-24T06:22:12.693Z"
   },
   {
    "duration": 397,
    "start_time": "2022-07-24T06:23:26.574Z"
   },
   {
    "duration": 978,
    "start_time": "2022-07-24T06:28:07.384Z"
   },
   {
    "duration": 915,
    "start_time": "2022-07-24T06:29:08.768Z"
   },
   {
    "duration": 49,
    "start_time": "2022-07-24T06:31:33.616Z"
   },
   {
    "duration": 431,
    "start_time": "2022-07-24T06:31:42.641Z"
   },
   {
    "duration": 32,
    "start_time": "2022-07-24T06:38:14.655Z"
   },
   {
    "duration": 601,
    "start_time": "2022-07-24T06:38:24.071Z"
   },
   {
    "duration": 1877,
    "start_time": "2022-07-24T06:42:52.388Z"
   },
   {
    "duration": 55,
    "start_time": "2022-07-24T06:45:47.239Z"
   },
   {
    "duration": 1739,
    "start_time": "2022-07-24T07:10:02.361Z"
   },
   {
    "duration": 1726,
    "start_time": "2022-07-24T07:10:22.197Z"
   },
   {
    "duration": 202,
    "start_time": "2022-07-24T07:12:08.663Z"
   },
   {
    "duration": 1532,
    "start_time": "2022-07-24T07:13:18.634Z"
   },
   {
    "duration": 19,
    "start_time": "2022-07-24T07:23:30.732Z"
   },
   {
    "duration": 1040,
    "start_time": "2022-07-24T07:23:48.507Z"
   },
   {
    "duration": 16,
    "start_time": "2022-07-24T07:24:17.387Z"
   },
   {
    "duration": 13,
    "start_time": "2022-07-24T07:24:36.053Z"
   },
   {
    "duration": 5,
    "start_time": "2022-07-24T07:24:46.446Z"
   },
   {
    "duration": 12,
    "start_time": "2022-07-24T07:25:25.853Z"
   },
   {
    "duration": 74,
    "start_time": "2022-07-24T07:28:59.732Z"
   },
   {
    "duration": 7,
    "start_time": "2022-07-24T07:29:28.019Z"
   },
   {
    "duration": 7,
    "start_time": "2022-07-24T07:29:49.117Z"
   },
   {
    "duration": 4,
    "start_time": "2022-07-24T07:29:59.204Z"
   },
   {
    "duration": 51,
    "start_time": "2022-07-24T07:30:43.558Z"
   },
   {
    "duration": 3697,
    "start_time": "2022-07-24T07:30:52.937Z"
   },
   {
    "duration": 53706,
    "start_time": "2022-07-24T07:31:08.209Z"
   },
   {
    "duration": 42,
    "start_time": "2022-07-24T07:32:01.917Z"
   },
   {
    "duration": 177,
    "start_time": "2022-07-24T07:32:49.393Z"
   },
   {
    "duration": 176,
    "start_time": "2022-07-24T07:33:02.490Z"
   },
   {
    "duration": 1010,
    "start_time": "2022-07-24T07:37:13.370Z"
   },
   {
    "duration": 1188,
    "start_time": "2022-07-24T07:37:38.914Z"
   },
   {
    "duration": 1756,
    "start_time": "2022-07-24T07:37:40.105Z"
   },
   {
    "duration": 12,
    "start_time": "2022-07-24T07:37:41.863Z"
   },
   {
    "duration": 25,
    "start_time": "2022-07-24T07:37:41.877Z"
   },
   {
    "duration": 7,
    "start_time": "2022-07-24T07:37:41.904Z"
   },
   {
    "duration": 23,
    "start_time": "2022-07-24T07:37:41.913Z"
   },
   {
    "duration": 4,
    "start_time": "2022-07-24T07:37:41.938Z"
   },
   {
    "duration": 17,
    "start_time": "2022-07-24T07:37:41.943Z"
   },
   {
    "duration": 20,
    "start_time": "2022-07-24T07:37:41.962Z"
   },
   {
    "duration": 52,
    "start_time": "2022-07-24T07:37:42.009Z"
   },
   {
    "duration": 65,
    "start_time": "2022-07-24T07:37:42.063Z"
   },
   {
    "duration": 50,
    "start_time": "2022-07-24T07:37:42.130Z"
   },
   {
    "duration": 209,
    "start_time": "2022-07-24T07:37:42.181Z"
   },
   {
    "duration": 185,
    "start_time": "2022-07-24T07:37:42.392Z"
   },
   {
    "duration": 3401,
    "start_time": "2022-07-24T07:37:42.579Z"
   },
   {
    "duration": 414,
    "start_time": "2022-07-24T07:37:45.982Z"
   },
   {
    "duration": 549,
    "start_time": "2022-07-24T07:37:46.397Z"
   },
   {
    "duration": 1705,
    "start_time": "2022-07-24T07:37:46.948Z"
   },
   {
    "duration": 56,
    "start_time": "2022-07-24T07:37:48.655Z"
   },
   {
    "duration": 3483,
    "start_time": "2022-07-24T07:37:48.713Z"
   },
   {
    "duration": 51371,
    "start_time": "2022-07-24T07:37:52.206Z"
   },
   {
    "duration": 49,
    "start_time": "2022-07-24T07:38:43.579Z"
   },
   {
    "duration": 183,
    "start_time": "2022-07-24T07:38:43.631Z"
   },
   {
    "duration": 181,
    "start_time": "2022-07-24T07:38:43.816Z"
   },
   {
    "duration": 1016,
    "start_time": "2022-07-24T07:38:43.998Z"
   },
   {
    "duration": 19960,
    "start_time": "2022-07-24T07:38:45.016Z"
   },
   {
    "duration": 32,
    "start_time": "2022-07-24T07:39:04.977Z"
   },
   {
    "duration": 30,
    "start_time": "2022-07-24T07:39:05.013Z"
   },
   {
    "duration": 177,
    "start_time": "2022-07-24T07:39:05.045Z"
   },
   {
    "duration": 188,
    "start_time": "2022-07-24T07:39:05.224Z"
   },
   {
    "duration": 377,
    "start_time": "2022-07-24T07:39:05.415Z"
   },
   {
    "duration": 476,
    "start_time": "2022-07-24T07:39:05.793Z"
   },
   {
    "duration": 2077,
    "start_time": "2022-07-24T07:39:06.270Z"
   },
   {
    "duration": 13,
    "start_time": "2022-07-24T07:39:08.349Z"
   },
   {
    "duration": 3,
    "start_time": "2022-07-24T07:39:08.364Z"
   },
   {
    "duration": 11,
    "start_time": "2022-07-24T07:39:08.368Z"
   },
   {
    "duration": 11,
    "start_time": "2022-07-24T07:39:08.380Z"
   },
   {
    "duration": 1810,
    "start_time": "2022-07-24T07:39:08.409Z"
   },
   {
    "duration": 1794,
    "start_time": "2022-07-24T07:39:10.221Z"
   },
   {
    "duration": 16,
    "start_time": "2022-07-24T07:39:12.017Z"
   },
   {
    "duration": 10,
    "start_time": "2022-07-24T07:39:12.035Z"
   },
   {
    "duration": 6,
    "start_time": "2022-07-24T07:39:12.046Z"
   },
   {
    "duration": 10,
    "start_time": "2022-07-24T07:39:12.053Z"
   },
   {
    "duration": 48,
    "start_time": "2022-07-24T09:33:08.483Z"
   },
   {
    "duration": 1288,
    "start_time": "2022-07-24T09:33:14.863Z"
   },
   {
    "duration": 1486,
    "start_time": "2022-07-24T09:33:16.153Z"
   },
   {
    "duration": 13,
    "start_time": "2022-07-24T09:33:17.641Z"
   },
   {
    "duration": 17,
    "start_time": "2022-07-24T09:33:17.656Z"
   },
   {
    "duration": 7,
    "start_time": "2022-07-24T09:33:17.675Z"
   },
   {
    "duration": 20,
    "start_time": "2022-07-24T09:33:17.683Z"
   },
   {
    "duration": 4,
    "start_time": "2022-07-24T09:33:17.724Z"
   },
   {
    "duration": 17,
    "start_time": "2022-07-24T09:33:17.730Z"
   },
   {
    "duration": 20,
    "start_time": "2022-07-24T09:33:17.749Z"
   },
   {
    "duration": 64,
    "start_time": "2022-07-24T09:33:17.772Z"
   },
   {
    "duration": 42,
    "start_time": "2022-07-24T09:33:17.838Z"
   },
   {
    "duration": 70,
    "start_time": "2022-07-24T09:33:17.882Z"
   },
   {
    "duration": 190,
    "start_time": "2022-07-24T09:33:17.954Z"
   },
   {
    "duration": 163,
    "start_time": "2022-07-24T09:33:18.145Z"
   },
   {
    "duration": 3351,
    "start_time": "2022-07-24T09:33:18.310Z"
   },
   {
    "duration": 392,
    "start_time": "2022-07-24T09:33:21.663Z"
   },
   {
    "duration": 569,
    "start_time": "2022-07-24T09:33:22.057Z"
   },
   {
    "duration": 1572,
    "start_time": "2022-07-24T09:33:22.628Z"
   },
   {
    "duration": 55,
    "start_time": "2022-07-24T09:33:24.202Z"
   },
   {
    "duration": 3554,
    "start_time": "2022-07-24T09:33:24.258Z"
   },
   {
    "duration": 48844,
    "start_time": "2022-07-24T09:33:27.814Z"
   },
   {
    "duration": 8,
    "start_time": "2022-07-24T09:34:16.659Z"
   },
   {
    "duration": 38,
    "start_time": "2022-07-24T09:34:16.668Z"
   },
   {
    "duration": 195,
    "start_time": "2022-07-24T09:34:16.708Z"
   },
   {
    "duration": 177,
    "start_time": "2022-07-24T09:34:16.905Z"
   },
   {
    "duration": 1027,
    "start_time": "2022-07-24T09:34:17.084Z"
   },
   {
    "duration": 19020,
    "start_time": "2022-07-24T09:34:18.113Z"
   },
   {
    "duration": 45,
    "start_time": "2022-07-24T09:34:37.138Z"
   },
   {
    "duration": 55,
    "start_time": "2022-07-24T09:34:37.186Z"
   },
   {
    "duration": 268,
    "start_time": "2022-07-24T09:34:37.244Z"
   },
   {
    "duration": 238,
    "start_time": "2022-07-24T09:34:37.514Z"
   },
   {
    "duration": 522,
    "start_time": "2022-07-24T09:34:37.754Z"
   },
   {
    "duration": 514,
    "start_time": "2022-07-24T09:34:38.277Z"
   },
   {
    "duration": 2231,
    "start_time": "2022-07-24T09:34:38.793Z"
   },
   {
    "duration": 20,
    "start_time": "2022-07-24T09:34:41.026Z"
   },
   {
    "duration": 5,
    "start_time": "2022-07-24T09:34:41.048Z"
   },
   {
    "duration": 19,
    "start_time": "2022-07-24T09:34:41.055Z"
   },
   {
    "duration": 13,
    "start_time": "2022-07-24T09:34:41.076Z"
   },
   {
    "duration": 1806,
    "start_time": "2022-07-24T09:34:41.090Z"
   },
   {
    "duration": 1782,
    "start_time": "2022-07-24T09:34:42.898Z"
   },
   {
    "duration": 22,
    "start_time": "2022-07-24T09:34:44.683Z"
   },
   {
    "duration": 24,
    "start_time": "2022-07-24T09:34:44.707Z"
   },
   {
    "duration": 11,
    "start_time": "2022-07-24T09:34:44.733Z"
   },
   {
    "duration": 12,
    "start_time": "2022-07-24T09:34:44.747Z"
   },
   {
    "duration": 9,
    "start_time": "2022-07-24T09:35:44.027Z"
   },
   {
    "duration": 8,
    "start_time": "2022-07-24T09:35:48.488Z"
   },
   {
    "duration": 7,
    "start_time": "2022-07-24T09:35:52.685Z"
   },
   {
    "duration": 10,
    "start_time": "2022-07-24T09:35:57.001Z"
   },
   {
    "duration": 8,
    "start_time": "2022-07-24T09:36:00.553Z"
   },
   {
    "duration": 9,
    "start_time": "2022-07-24T09:36:03.927Z"
   },
   {
    "duration": 10,
    "start_time": "2022-07-24T09:39:15.391Z"
   },
   {
    "duration": 57,
    "start_time": "2022-07-24T09:40:16.236Z"
   },
   {
    "duration": 1162,
    "start_time": "2022-07-24T09:40:24.510Z"
   },
   {
    "duration": 1490,
    "start_time": "2022-07-24T09:40:25.674Z"
   },
   {
    "duration": 17,
    "start_time": "2022-07-24T09:40:27.167Z"
   },
   {
    "duration": 30,
    "start_time": "2022-07-24T09:40:27.188Z"
   },
   {
    "duration": 16,
    "start_time": "2022-07-24T09:40:27.223Z"
   },
   {
    "duration": 34,
    "start_time": "2022-07-24T09:40:27.241Z"
   },
   {
    "duration": 4,
    "start_time": "2022-07-24T09:40:27.277Z"
   },
   {
    "duration": 23,
    "start_time": "2022-07-24T09:40:27.283Z"
   },
   {
    "duration": 28,
    "start_time": "2022-07-24T09:40:27.324Z"
   },
   {
    "duration": 71,
    "start_time": "2022-07-24T09:40:27.355Z"
   },
   {
    "duration": 49,
    "start_time": "2022-07-24T09:40:27.429Z"
   },
   {
    "duration": 71,
    "start_time": "2022-07-24T09:40:27.480Z"
   },
   {
    "duration": 184,
    "start_time": "2022-07-24T09:40:27.553Z"
   },
   {
    "duration": 172,
    "start_time": "2022-07-24T09:40:27.739Z"
   },
   {
    "duration": 4272,
    "start_time": "2022-07-24T09:40:27.913Z"
   },
   {
    "duration": 444,
    "start_time": "2022-07-24T09:40:32.187Z"
   },
   {
    "duration": 627,
    "start_time": "2022-07-24T09:40:32.633Z"
   },
   {
    "duration": 1612,
    "start_time": "2022-07-24T09:40:33.262Z"
   },
   {
    "duration": 57,
    "start_time": "2022-07-24T09:40:34.876Z"
   },
   {
    "duration": 3464,
    "start_time": "2022-07-24T09:40:34.935Z"
   },
   {
    "duration": 51,
    "start_time": "2022-07-24T09:40:38.401Z"
   },
   {
    "duration": 0,
    "start_time": "2022-07-24T09:40:38.454Z"
   },
   {
    "duration": 0,
    "start_time": "2022-07-24T09:40:38.455Z"
   },
   {
    "duration": 0,
    "start_time": "2022-07-24T09:40:38.456Z"
   },
   {
    "duration": 0,
    "start_time": "2022-07-24T09:40:38.457Z"
   },
   {
    "duration": 0,
    "start_time": "2022-07-24T09:40:38.458Z"
   },
   {
    "duration": 0,
    "start_time": "2022-07-24T09:40:38.459Z"
   },
   {
    "duration": 0,
    "start_time": "2022-07-24T09:40:38.460Z"
   },
   {
    "duration": 0,
    "start_time": "2022-07-24T09:40:38.462Z"
   },
   {
    "duration": 0,
    "start_time": "2022-07-24T09:40:38.463Z"
   },
   {
    "duration": 0,
    "start_time": "2022-07-24T09:40:38.464Z"
   },
   {
    "duration": 0,
    "start_time": "2022-07-24T09:40:38.465Z"
   },
   {
    "duration": 0,
    "start_time": "2022-07-24T09:40:38.466Z"
   },
   {
    "duration": 0,
    "start_time": "2022-07-24T09:40:38.467Z"
   },
   {
    "duration": 0,
    "start_time": "2022-07-24T09:40:38.469Z"
   },
   {
    "duration": 0,
    "start_time": "2022-07-24T09:40:38.470Z"
   },
   {
    "duration": 0,
    "start_time": "2022-07-24T09:40:38.471Z"
   },
   {
    "duration": 0,
    "start_time": "2022-07-24T09:40:38.471Z"
   },
   {
    "duration": 0,
    "start_time": "2022-07-24T09:40:38.472Z"
   },
   {
    "duration": 0,
    "start_time": "2022-07-24T09:40:38.474Z"
   },
   {
    "duration": 0,
    "start_time": "2022-07-24T09:40:38.475Z"
   },
   {
    "duration": 0,
    "start_time": "2022-07-24T09:40:38.476Z"
   },
   {
    "duration": 0,
    "start_time": "2022-07-24T09:40:38.477Z"
   },
   {
    "duration": 59,
    "start_time": "2022-07-24T09:41:00.082Z"
   },
   {
    "duration": 10,
    "start_time": "2022-07-24T09:41:07.272Z"
   },
   {
    "duration": 51,
    "start_time": "2022-07-24T09:41:12.614Z"
   },
   {
    "duration": 165,
    "start_time": "2022-07-24T09:43:04.949Z"
   },
   {
    "duration": 8,
    "start_time": "2022-07-24T09:47:30.120Z"
   },
   {
    "duration": 48,
    "start_time": "2022-07-24T09:47:33.110Z"
   },
   {
    "duration": 280,
    "start_time": "2022-07-24T09:50:17.266Z"
   },
   {
    "duration": 1017,
    "start_time": "2022-07-24T09:50:41.029Z"
   },
   {
    "duration": 20677,
    "start_time": "2022-07-24T09:52:56.761Z"
   },
   {
    "duration": 38,
    "start_time": "2022-07-24T09:53:17.440Z"
   },
   {
    "duration": 134,
    "start_time": "2022-07-24T09:55:40.091Z"
   },
   {
    "duration": 34,
    "start_time": "2022-07-24T09:56:01.197Z"
   },
   {
    "duration": 30,
    "start_time": "2022-07-24T09:56:09.443Z"
   },
   {
    "duration": 171,
    "start_time": "2022-07-24T09:56:23.458Z"
   },
   {
    "duration": 179,
    "start_time": "2022-07-24T09:57:50.775Z"
   },
   {
    "duration": 27,
    "start_time": "2022-07-24T09:58:15.974Z"
   },
   {
    "duration": 4,
    "start_time": "2022-07-24T10:00:34.951Z"
   },
   {
    "duration": 5,
    "start_time": "2022-07-24T10:04:10.184Z"
   },
   {
    "duration": 5,
    "start_time": "2022-07-24T10:04:28.597Z"
   },
   {
    "duration": 7,
    "start_time": "2022-07-24T10:07:11.184Z"
   },
   {
    "duration": 38,
    "start_time": "2022-07-24T10:07:12.935Z"
   },
   {
    "duration": 156,
    "start_time": "2022-07-24T10:07:25.688Z"
   },
   {
    "duration": 1110,
    "start_time": "2022-07-24T10:07:30.432Z"
   },
   {
    "duration": 19216,
    "start_time": "2022-07-24T10:07:34.733Z"
   },
   {
    "duration": 26,
    "start_time": "2022-07-24T10:07:53.952Z"
   },
   {
    "duration": 51,
    "start_time": "2022-07-24T10:07:53.980Z"
   },
   {
    "duration": 174,
    "start_time": "2022-07-24T10:07:54.365Z"
   },
   {
    "duration": 1160,
    "start_time": "2022-07-24T10:09:19.790Z"
   },
   {
    "duration": 1375,
    "start_time": "2022-07-24T10:09:20.953Z"
   },
   {
    "duration": 13,
    "start_time": "2022-07-24T10:09:22.330Z"
   },
   {
    "duration": 14,
    "start_time": "2022-07-24T10:09:22.346Z"
   },
   {
    "duration": 8,
    "start_time": "2022-07-24T10:09:22.362Z"
   },
   {
    "duration": 21,
    "start_time": "2022-07-24T10:09:22.371Z"
   },
   {
    "duration": 4,
    "start_time": "2022-07-24T10:09:22.393Z"
   },
   {
    "duration": 16,
    "start_time": "2022-07-24T10:09:22.424Z"
   },
   {
    "duration": 25,
    "start_time": "2022-07-24T10:09:22.443Z"
   },
   {
    "duration": 70,
    "start_time": "2022-07-24T10:09:22.471Z"
   },
   {
    "duration": 48,
    "start_time": "2022-07-24T10:09:22.542Z"
   },
   {
    "duration": 69,
    "start_time": "2022-07-24T10:09:22.591Z"
   },
   {
    "duration": 201,
    "start_time": "2022-07-24T10:09:22.662Z"
   },
   {
    "duration": 281,
    "start_time": "2022-07-24T10:09:22.865Z"
   },
   {
    "duration": 6641,
    "start_time": "2022-07-24T10:09:23.148Z"
   },
   {
    "duration": 841,
    "start_time": "2022-07-24T10:09:29.825Z"
   },
   {
    "duration": 578,
    "start_time": "2022-07-24T10:09:30.668Z"
   },
   {
    "duration": 1619,
    "start_time": "2022-07-24T10:09:31.247Z"
   },
   {
    "duration": 77,
    "start_time": "2022-07-24T10:09:32.868Z"
   },
   {
    "duration": 4254,
    "start_time": "2022-07-24T10:09:32.947Z"
   },
   {
    "duration": 8,
    "start_time": "2022-07-24T10:09:37.204Z"
   },
   {
    "duration": 68,
    "start_time": "2022-07-24T10:09:37.214Z"
   },
   {
    "duration": 227,
    "start_time": "2022-07-24T10:09:37.284Z"
   },
   {
    "duration": 177,
    "start_time": "2022-07-24T10:09:37.513Z"
   },
   {
    "duration": 978,
    "start_time": "2022-07-24T10:09:37.692Z"
   },
   {
    "duration": 19754,
    "start_time": "2022-07-24T10:09:38.672Z"
   },
   {
    "duration": 27,
    "start_time": "2022-07-24T10:09:58.428Z"
   },
   {
    "duration": 32,
    "start_time": "2022-07-24T10:09:58.458Z"
   },
   {
    "duration": 4,
    "start_time": "2022-07-24T10:09:58.492Z"
   },
   {
    "duration": 225,
    "start_time": "2022-07-24T10:09:58.525Z"
   },
   {
    "duration": 224,
    "start_time": "2022-07-24T10:09:58.752Z"
   },
   {
    "duration": 442,
    "start_time": "2022-07-24T10:09:58.978Z"
   },
   {
    "duration": 468,
    "start_time": "2022-07-24T10:09:59.423Z"
   },
   {
    "duration": 2055,
    "start_time": "2022-07-24T10:09:59.893Z"
   },
   {
    "duration": 17,
    "start_time": "2022-07-24T10:10:01.950Z"
   },
   {
    "duration": 11,
    "start_time": "2022-07-24T10:10:01.969Z"
   },
   {
    "duration": 41,
    "start_time": "2022-07-24T10:10:01.982Z"
   },
   {
    "duration": 17,
    "start_time": "2022-07-24T10:10:02.025Z"
   },
   {
    "duration": 1740,
    "start_time": "2022-07-24T10:10:02.044Z"
   },
   {
    "duration": 1701,
    "start_time": "2022-07-24T10:10:03.787Z"
   },
   {
    "duration": 17,
    "start_time": "2022-07-24T10:10:05.490Z"
   },
   {
    "duration": 7,
    "start_time": "2022-07-24T10:10:05.525Z"
   },
   {
    "duration": 14,
    "start_time": "2022-07-24T10:10:05.534Z"
   },
   {
    "duration": 8,
    "start_time": "2022-07-24T10:10:05.549Z"
   },
   {
    "duration": 1247,
    "start_time": "2022-07-24T10:12:26.472Z"
   },
   {
    "duration": 1342,
    "start_time": "2022-07-24T10:12:27.721Z"
   },
   {
    "duration": 14,
    "start_time": "2022-07-24T10:12:29.067Z"
   },
   {
    "duration": 21,
    "start_time": "2022-07-24T10:12:29.082Z"
   },
   {
    "duration": 21,
    "start_time": "2022-07-24T10:12:29.105Z"
   },
   {
    "duration": 20,
    "start_time": "2022-07-24T10:12:29.128Z"
   },
   {
    "duration": 3,
    "start_time": "2022-07-24T10:12:29.150Z"
   },
   {
    "duration": 20,
    "start_time": "2022-07-24T10:12:29.155Z"
   },
   {
    "duration": 21,
    "start_time": "2022-07-24T10:12:29.178Z"
   },
   {
    "duration": 66,
    "start_time": "2022-07-24T10:12:29.201Z"
   },
   {
    "duration": 65,
    "start_time": "2022-07-24T10:12:29.269Z"
   },
   {
    "duration": 56,
    "start_time": "2022-07-24T10:12:29.335Z"
   },
   {
    "duration": 193,
    "start_time": "2022-07-24T10:12:29.393Z"
   },
   {
    "duration": 169,
    "start_time": "2022-07-24T10:12:29.588Z"
   },
   {
    "duration": 3222,
    "start_time": "2022-07-24T10:12:29.759Z"
   },
   {
    "duration": 408,
    "start_time": "2022-07-24T10:12:32.983Z"
   },
   {
    "duration": 600,
    "start_time": "2022-07-24T10:12:33.393Z"
   },
   {
    "duration": 1679,
    "start_time": "2022-07-24T10:12:33.994Z"
   },
   {
    "duration": 71,
    "start_time": "2022-07-24T10:12:35.676Z"
   },
   {
    "duration": 3421,
    "start_time": "2022-07-24T10:12:35.749Z"
   },
   {
    "duration": 6,
    "start_time": "2022-07-24T10:12:39.172Z"
   },
   {
    "duration": 55,
    "start_time": "2022-07-24T10:12:39.180Z"
   },
   {
    "duration": 173,
    "start_time": "2022-07-24T10:12:39.237Z"
   },
   {
    "duration": 175,
    "start_time": "2022-07-24T10:12:39.412Z"
   },
   {
    "duration": 944,
    "start_time": "2022-07-24T10:12:39.589Z"
   },
   {
    "duration": 20355,
    "start_time": "2022-07-24T10:12:40.535Z"
   },
   {
    "duration": 34,
    "start_time": "2022-07-24T10:13:00.894Z"
   },
   {
    "duration": 31,
    "start_time": "2022-07-24T10:13:00.930Z"
   },
   {
    "duration": 3,
    "start_time": "2022-07-24T10:13:00.963Z"
   },
   {
    "duration": 177,
    "start_time": "2022-07-24T10:13:00.968Z"
   },
   {
    "duration": 191,
    "start_time": "2022-07-24T10:13:01.147Z"
   },
   {
    "duration": 376,
    "start_time": "2022-07-24T10:13:01.340Z"
   },
   {
    "duration": 534,
    "start_time": "2022-07-24T10:13:01.717Z"
   },
   {
    "duration": 1999,
    "start_time": "2022-07-24T10:13:02.253Z"
   },
   {
    "duration": 15,
    "start_time": "2022-07-24T10:13:04.253Z"
   },
   {
    "duration": 3,
    "start_time": "2022-07-24T10:13:04.270Z"
   },
   {
    "duration": 17,
    "start_time": "2022-07-24T10:13:04.274Z"
   },
   {
    "duration": 13,
    "start_time": "2022-07-24T10:13:04.292Z"
   },
   {
    "duration": 1785,
    "start_time": "2022-07-24T10:13:04.325Z"
   },
   {
    "duration": 1793,
    "start_time": "2022-07-24T10:13:06.112Z"
   },
   {
    "duration": 27,
    "start_time": "2022-07-24T10:13:07.907Z"
   },
   {
    "duration": 9,
    "start_time": "2022-07-24T10:13:07.936Z"
   },
   {
    "duration": 8,
    "start_time": "2022-07-24T10:13:07.947Z"
   },
   {
    "duration": 10,
    "start_time": "2022-07-24T10:13:07.957Z"
   },
   {
    "duration": 4,
    "start_time": "2022-07-24T10:13:42.140Z"
   },
   {
    "duration": 6,
    "start_time": "2022-07-24T10:13:47.811Z"
   },
   {
    "duration": 33,
    "start_time": "2022-07-24T10:15:33.760Z"
   },
   {
    "duration": 134,
    "start_time": "2022-07-24T10:29:36.765Z"
   },
   {
    "duration": 173,
    "start_time": "2022-07-24T10:29:59.561Z"
   },
   {
    "duration": 420,
    "start_time": "2022-07-24T10:30:08.341Z"
   },
   {
    "duration": 421,
    "start_time": "2022-07-24T10:30:46.165Z"
   },
   {
    "duration": 347,
    "start_time": "2022-07-24T10:32:34.444Z"
   },
   {
    "duration": 5,
    "start_time": "2022-07-24T10:58:26.592Z"
   },
   {
    "duration": 12,
    "start_time": "2022-07-24T10:58:37.166Z"
   },
   {
    "duration": 16,
    "start_time": "2022-07-24T11:07:43.805Z"
   },
   {
    "duration": 7,
    "start_time": "2022-07-24T11:07:49.534Z"
   },
   {
    "duration": 7,
    "start_time": "2022-07-24T11:07:51.272Z"
   },
   {
    "duration": 6,
    "start_time": "2022-07-24T11:07:58.914Z"
   },
   {
    "duration": 8,
    "start_time": "2022-07-24T11:25:23.462Z"
   },
   {
    "duration": 10,
    "start_time": "2022-07-24T11:25:28.242Z"
   },
   {
    "duration": 11,
    "start_time": "2022-07-24T11:26:00.333Z"
   },
   {
    "duration": 5,
    "start_time": "2022-07-24T11:28:55.314Z"
   },
   {
    "duration": 5,
    "start_time": "2022-07-24T11:30:37.170Z"
   },
   {
    "duration": 159,
    "start_time": "2022-07-24T11:47:53.250Z"
   },
   {
    "duration": 188,
    "start_time": "2022-07-24T11:48:08.820Z"
   },
   {
    "duration": 367,
    "start_time": "2022-07-24T11:49:10.214Z"
   },
   {
    "duration": 183,
    "start_time": "2022-07-24T11:49:28.617Z"
   },
   {
    "duration": 210,
    "start_time": "2022-07-24T12:00:22.728Z"
   },
   {
    "duration": 1151,
    "start_time": "2022-07-24T12:00:42.715Z"
   },
   {
    "duration": 1933,
    "start_time": "2022-07-24T12:00:43.868Z"
   },
   {
    "duration": 14,
    "start_time": "2022-07-24T12:00:45.803Z"
   },
   {
    "duration": 14,
    "start_time": "2022-07-24T12:00:45.819Z"
   },
   {
    "duration": 9,
    "start_time": "2022-07-24T12:00:45.834Z"
   },
   {
    "duration": 19,
    "start_time": "2022-07-24T12:00:45.845Z"
   },
   {
    "duration": 4,
    "start_time": "2022-07-24T12:00:45.866Z"
   },
   {
    "duration": 17,
    "start_time": "2022-07-24T12:00:45.872Z"
   },
   {
    "duration": 51,
    "start_time": "2022-07-24T12:00:45.891Z"
   },
   {
    "duration": 47,
    "start_time": "2022-07-24T12:00:45.945Z"
   },
   {
    "duration": 70,
    "start_time": "2022-07-24T12:00:45.994Z"
   },
   {
    "duration": 64,
    "start_time": "2022-07-24T12:00:46.066Z"
   },
   {
    "duration": 181,
    "start_time": "2022-07-24T12:00:46.132Z"
   },
   {
    "duration": 179,
    "start_time": "2022-07-24T12:00:46.314Z"
   },
   {
    "duration": 3351,
    "start_time": "2022-07-24T12:00:46.494Z"
   },
   {
    "duration": 411,
    "start_time": "2022-07-24T12:00:49.847Z"
   },
   {
    "duration": 580,
    "start_time": "2022-07-24T12:00:50.259Z"
   },
   {
    "duration": 2206,
    "start_time": "2022-07-24T12:00:50.841Z"
   },
   {
    "duration": 98,
    "start_time": "2022-07-24T12:00:53.049Z"
   },
   {
    "duration": 3691,
    "start_time": "2022-07-24T12:00:53.149Z"
   },
   {
    "duration": 225,
    "start_time": "2022-07-24T12:00:56.842Z"
   },
   {
    "duration": 9,
    "start_time": "2022-07-24T12:00:57.069Z"
   },
   {
    "duration": 79,
    "start_time": "2022-07-24T12:00:57.080Z"
   },
   {
    "duration": 265,
    "start_time": "2022-07-24T12:00:57.162Z"
   },
   {
    "duration": 179,
    "start_time": "2022-07-24T12:00:57.429Z"
   },
   {
    "duration": 1016,
    "start_time": "2022-07-24T12:00:57.610Z"
   },
   {
    "duration": 19280,
    "start_time": "2022-07-24T12:00:58.628Z"
   },
   {
    "duration": 34,
    "start_time": "2022-07-24T12:01:17.913Z"
   },
   {
    "duration": 35,
    "start_time": "2022-07-24T12:01:17.949Z"
   },
   {
    "duration": 165,
    "start_time": "2022-07-24T12:01:17.986Z"
   },
   {
    "duration": 175,
    "start_time": "2022-07-24T12:01:18.153Z"
   },
   {
    "duration": 350,
    "start_time": "2022-07-24T12:01:18.330Z"
   },
   {
    "duration": 480,
    "start_time": "2022-07-24T12:01:18.682Z"
   },
   {
    "duration": 2078,
    "start_time": "2022-07-24T12:01:19.164Z"
   },
   {
    "duration": 15,
    "start_time": "2022-07-24T12:01:21.244Z"
   },
   {
    "duration": 3,
    "start_time": "2022-07-24T12:01:21.261Z"
   },
   {
    "duration": 17,
    "start_time": "2022-07-24T12:01:21.266Z"
   },
   {
    "duration": 10,
    "start_time": "2022-07-24T12:01:21.285Z"
   },
   {
    "duration": 1796,
    "start_time": "2022-07-24T12:01:21.297Z"
   },
   {
    "duration": 1463,
    "start_time": "2022-07-24T12:01:23.094Z"
   },
   {
    "duration": 24,
    "start_time": "2022-07-24T12:01:24.559Z"
   },
   {
    "duration": 22,
    "start_time": "2022-07-24T12:01:24.586Z"
   },
   {
    "duration": 4,
    "start_time": "2022-07-24T12:01:24.610Z"
   },
   {
    "duration": 8,
    "start_time": "2022-07-24T12:01:24.626Z"
   },
   {
    "duration": 20,
    "start_time": "2022-07-24T12:01:24.637Z"
   },
   {
    "duration": 25,
    "start_time": "2022-07-24T12:01:24.660Z"
   },
   {
    "duration": 211,
    "start_time": "2022-07-24T12:01:24.687Z"
   },
   {
    "duration": 217,
    "start_time": "2022-07-24T12:01:37.914Z"
   },
   {
    "duration": 241,
    "start_time": "2022-07-24T12:01:41.948Z"
   },
   {
    "duration": 237,
    "start_time": "2022-07-24T12:01:51.614Z"
   },
   {
    "duration": 205,
    "start_time": "2022-07-24T12:01:56.409Z"
   },
   {
    "duration": 204,
    "start_time": "2022-07-24T12:02:04.092Z"
   },
   {
    "duration": 185,
    "start_time": "2022-07-24T12:06:41.086Z"
   },
   {
    "duration": 255,
    "start_time": "2022-07-24T12:45:02.153Z"
   },
   {
    "duration": 1155,
    "start_time": "2022-07-24T13:19:09.434Z"
   },
   {
    "duration": 1708,
    "start_time": "2022-07-24T13:19:10.591Z"
   },
   {
    "duration": 18,
    "start_time": "2022-07-24T13:19:12.301Z"
   },
   {
    "duration": 29,
    "start_time": "2022-07-24T13:19:12.322Z"
   },
   {
    "duration": 16,
    "start_time": "2022-07-24T13:19:12.353Z"
   },
   {
    "duration": 19,
    "start_time": "2022-07-24T13:19:12.371Z"
   },
   {
    "duration": 3,
    "start_time": "2022-07-24T13:19:12.391Z"
   },
   {
    "duration": 16,
    "start_time": "2022-07-24T13:19:12.396Z"
   },
   {
    "duration": 29,
    "start_time": "2022-07-24T13:19:12.413Z"
   },
   {
    "duration": 44,
    "start_time": "2022-07-24T13:19:12.445Z"
   },
   {
    "duration": 67,
    "start_time": "2022-07-24T13:19:12.491Z"
   },
   {
    "duration": 46,
    "start_time": "2022-07-24T13:19:12.559Z"
   },
   {
    "duration": 202,
    "start_time": "2022-07-24T13:19:12.607Z"
   },
   {
    "duration": 173,
    "start_time": "2022-07-24T13:19:12.811Z"
   },
   {
    "duration": 3375,
    "start_time": "2022-07-24T13:19:12.986Z"
   },
   {
    "duration": 407,
    "start_time": "2022-07-24T13:19:16.363Z"
   },
   {
    "duration": 587,
    "start_time": "2022-07-24T13:19:16.772Z"
   },
   {
    "duration": 1662,
    "start_time": "2022-07-24T13:19:17.361Z"
   },
   {
    "duration": 46,
    "start_time": "2022-07-24T13:19:19.025Z"
   },
   {
    "duration": 3388,
    "start_time": "2022-07-24T13:19:19.073Z"
   },
   {
    "duration": 6,
    "start_time": "2022-07-24T13:19:22.463Z"
   },
   {
    "duration": 57,
    "start_time": "2022-07-24T13:19:22.471Z"
   },
   {
    "duration": 178,
    "start_time": "2022-07-24T13:19:22.530Z"
   },
   {
    "duration": 187,
    "start_time": "2022-07-24T13:19:22.710Z"
   },
   {
    "duration": 991,
    "start_time": "2022-07-24T13:19:22.898Z"
   },
   {
    "duration": 18663,
    "start_time": "2022-07-24T13:19:23.890Z"
   },
   {
    "duration": 27,
    "start_time": "2022-07-24T13:19:42.555Z"
   },
   {
    "duration": 48,
    "start_time": "2022-07-24T13:19:42.586Z"
   },
   {
    "duration": 134,
    "start_time": "2022-07-24T13:19:42.635Z"
   },
   {
    "duration": 211,
    "start_time": "2022-07-24T13:19:42.771Z"
   },
   {
    "duration": 362,
    "start_time": "2022-07-24T13:19:42.984Z"
   },
   {
    "duration": 458,
    "start_time": "2022-07-24T13:19:43.348Z"
   },
   {
    "duration": 2020,
    "start_time": "2022-07-24T13:19:43.808Z"
   },
   {
    "duration": 15,
    "start_time": "2022-07-24T13:19:45.829Z"
   },
   {
    "duration": 3,
    "start_time": "2022-07-24T13:19:45.845Z"
   },
   {
    "duration": 12,
    "start_time": "2022-07-24T13:19:45.850Z"
   },
   {
    "duration": 11,
    "start_time": "2022-07-24T13:19:45.863Z"
   },
   {
    "duration": 1800,
    "start_time": "2022-07-24T13:19:45.876Z"
   },
   {
    "duration": 1479,
    "start_time": "2022-07-24T13:19:47.677Z"
   },
   {
    "duration": 14,
    "start_time": "2022-07-24T13:19:49.158Z"
   },
   {
    "duration": 11,
    "start_time": "2022-07-24T13:19:49.174Z"
   },
   {
    "duration": 6,
    "start_time": "2022-07-24T13:19:49.187Z"
   },
   {
    "duration": 31,
    "start_time": "2022-07-24T13:19:49.195Z"
   },
   {
    "duration": 10,
    "start_time": "2022-07-24T13:19:49.228Z"
   },
   {
    "duration": 12,
    "start_time": "2022-07-24T13:19:49.239Z"
   },
   {
    "duration": 1504,
    "start_time": "2022-07-25T10:13:36.436Z"
   },
   {
    "duration": 1801,
    "start_time": "2022-07-25T10:13:37.945Z"
   },
   {
    "duration": 13,
    "start_time": "2022-07-25T10:13:39.747Z"
   },
   {
    "duration": 23,
    "start_time": "2022-07-25T10:13:39.762Z"
   },
   {
    "duration": 15,
    "start_time": "2022-07-25T10:13:39.787Z"
   },
   {
    "duration": 49,
    "start_time": "2022-07-25T10:13:39.805Z"
   },
   {
    "duration": 4,
    "start_time": "2022-07-25T10:13:39.857Z"
   },
   {
    "duration": 34,
    "start_time": "2022-07-25T10:13:39.864Z"
   },
   {
    "duration": 37,
    "start_time": "2022-07-25T10:13:39.900Z"
   },
   {
    "duration": 63,
    "start_time": "2022-07-25T10:13:39.941Z"
   },
   {
    "duration": 80,
    "start_time": "2022-07-25T10:13:40.006Z"
   },
   {
    "duration": 70,
    "start_time": "2022-07-25T10:13:40.088Z"
   },
   {
    "duration": 288,
    "start_time": "2022-07-25T10:13:40.160Z"
   },
   {
    "duration": 220,
    "start_time": "2022-07-25T10:13:40.450Z"
   },
   {
    "duration": 3618,
    "start_time": "2022-07-25T10:13:40.671Z"
   },
   {
    "duration": 552,
    "start_time": "2022-07-25T10:13:44.291Z"
   },
   {
    "duration": 689,
    "start_time": "2022-07-25T10:13:44.844Z"
   },
   {
    "duration": 1791,
    "start_time": "2022-07-25T10:13:45.540Z"
   },
   {
    "duration": 27,
    "start_time": "2022-07-25T10:13:48.809Z"
   },
   {
    "duration": 116,
    "start_time": "2022-07-25T10:14:14.097Z"
   },
   {
    "duration": 27,
    "start_time": "2022-07-25T10:14:24.864Z"
   },
   {
    "duration": 12,
    "start_time": "2022-07-25T10:14:46.038Z"
   },
   {
    "duration": 15,
    "start_time": "2022-07-25T10:14:52.993Z"
   },
   {
    "duration": 18,
    "start_time": "2022-07-25T10:15:40.843Z"
   },
   {
    "duration": 392,
    "start_time": "2022-07-25T10:16:38.762Z"
   },
   {
    "duration": 398,
    "start_time": "2022-07-25T10:16:47.899Z"
   },
   {
    "duration": 365,
    "start_time": "2022-07-25T10:17:15.334Z"
   },
   {
    "duration": 390,
    "start_time": "2022-07-25T10:17:38.872Z"
   },
   {
    "duration": 85,
    "start_time": "2022-07-25T10:19:52.897Z"
   },
   {
    "duration": 389,
    "start_time": "2022-07-25T10:20:00.492Z"
   },
   {
    "duration": 468,
    "start_time": "2022-07-25T10:20:17.020Z"
   },
   {
    "duration": 370,
    "start_time": "2022-07-25T10:20:50.834Z"
   },
   {
    "duration": 475,
    "start_time": "2022-07-25T10:21:07.112Z"
   }
  ],
  "kernelspec": {
   "display_name": "Python 3 (ipykernel)",
   "language": "python",
   "name": "python3"
  },
  "language_info": {
   "codemirror_mode": {
    "name": "ipython",
    "version": 3
   },
   "file_extension": ".py",
   "mimetype": "text/x-python",
   "name": "python",
   "nbconvert_exporter": "python",
   "pygments_lexer": "ipython3",
   "version": "3.10.1"
  },
  "toc": {
   "base_numbering": 1,
   "nav_menu": {},
   "number_sections": true,
   "sideBar": true,
   "skip_h1_title": false,
   "title_cell": "Table of Contents",
   "title_sidebar": "Contents",
   "toc_cell": false,
   "toc_position": {
    "height": "calc(100% - 180px)",
    "left": "10px",
    "top": "150px",
    "width": "235.026px"
   },
   "toc_section_display": true,
   "toc_window_display": true
  }
 },
 "nbformat": 4,
 "nbformat_minor": 5
}
