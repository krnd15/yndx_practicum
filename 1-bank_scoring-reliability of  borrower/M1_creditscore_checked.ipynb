{
 "cells": [
  {
   "cell_type": "markdown",
   "id": "d912cd2b",
   "metadata": {},
   "source": [
    "Проект 2_Исследование надёжности заёмщиков\n"
   ]
  },
  {
   "cell_type": "markdown",
   "id": "c380a0eb",
   "metadata": {},
   "source": [
    "<h2> Описание проекта</h2>\n",
    "\n",
    "**Заказчик — кредитный отдел банка. Нужно разобраться, влияет ли семейное положение и количество детей клиента на факт погашения кредита в срок. Входные данные от банка — статистика о платёжеспособности клиентов.'\n",
    "Результаты исследования будут учтены при построении модели кредитного скоринга — специальной системы, которая оценивает способность потенциального заёмщика вернуть кредит банку.**"
   ]
  },
  {
   "cell_type": "markdown",
   "id": "9cbe3762",
   "metadata": {},
   "source": [
    "Описание данных:\n",
    "* `children` — количество детей в семье\n",
    "* `days_employed` — общий трудовой стаж в днях\n",
    "* `dob_years` — возраст клиента в годах\n",
    "* `education` — уровень образования клиента\n",
    "* `education_id` — идентификатор уровня образования\n",
    "* `family_status` — семейное положение\n",
    "* `family_status_id` — идентификатор семейного положения\n",
    "* `gender` — пол клиента\n",
    "* `income_type` — тип занятости\n",
    "* `debt` — имел ли задолженность по возврату кредитов\n",
    "* `total_income` — ежемесячный доход\n",
    "* `purpose` — цель получения кредита"
   ]
  },
  {
   "cell_type": "markdown",
   "id": "995633c5",
   "metadata": {},
   "source": [
    "## Изучение полученных данных <a name=\"Изучение полученных данных\"></a> \n",
    "\n",
    "\n"
   ]
  },
  {
   "cell_type": "code",
   "execution_count": 1,
   "id": "379b4bbd",
   "metadata": {},
   "outputs": [],
   "source": [
    "import pandas as pd\n",
    "import numpy as np\n",
    "import re\n",
    "\n",
    "import seaborn as sns"
   ]
  },
  {
   "cell_type": "code",
   "execution_count": 2,
   "id": "3e5cd6d9",
   "metadata": {},
   "outputs": [],
   "source": [
    "data = pd.read_csv('https://code.s3.yandex.net/datasets/data.csv')"
   ]
  },
  {
   "cell_type": "code",
   "execution_count": 3,
   "id": "4fdb414b",
   "metadata": {},
   "outputs": [
    {
     "data": {
      "text/html": [
       "<div>\n",
       "<style scoped>\n",
       "    .dataframe tbody tr th:only-of-type {\n",
       "        vertical-align: middle;\n",
       "    }\n",
       "\n",
       "    .dataframe tbody tr th {\n",
       "        vertical-align: top;\n",
       "    }\n",
       "\n",
       "    .dataframe thead th {\n",
       "        text-align: right;\n",
       "    }\n",
       "</style>\n",
       "<table border=\"1\" class=\"dataframe\">\n",
       "  <thead>\n",
       "    <tr style=\"text-align: right;\">\n",
       "      <th></th>\n",
       "      <th>children</th>\n",
       "      <th>days_employed</th>\n",
       "      <th>dob_years</th>\n",
       "      <th>education</th>\n",
       "      <th>education_id</th>\n",
       "      <th>family_status</th>\n",
       "      <th>family_status_id</th>\n",
       "      <th>gender</th>\n",
       "      <th>income_type</th>\n",
       "      <th>debt</th>\n",
       "      <th>total_income</th>\n",
       "      <th>purpose</th>\n",
       "    </tr>\n",
       "  </thead>\n",
       "  <tbody>\n",
       "    <tr>\n",
       "      <th>0</th>\n",
       "      <td>1</td>\n",
       "      <td>-8437.673028</td>\n",
       "      <td>42</td>\n",
       "      <td>высшее</td>\n",
       "      <td>0</td>\n",
       "      <td>женат / замужем</td>\n",
       "      <td>0</td>\n",
       "      <td>F</td>\n",
       "      <td>сотрудник</td>\n",
       "      <td>0</td>\n",
       "      <td>253875.639453</td>\n",
       "      <td>покупка жилья</td>\n",
       "    </tr>\n",
       "    <tr>\n",
       "      <th>1</th>\n",
       "      <td>1</td>\n",
       "      <td>-4024.803754</td>\n",
       "      <td>36</td>\n",
       "      <td>среднее</td>\n",
       "      <td>1</td>\n",
       "      <td>женат / замужем</td>\n",
       "      <td>0</td>\n",
       "      <td>F</td>\n",
       "      <td>сотрудник</td>\n",
       "      <td>0</td>\n",
       "      <td>112080.014102</td>\n",
       "      <td>приобретение автомобиля</td>\n",
       "    </tr>\n",
       "    <tr>\n",
       "      <th>2</th>\n",
       "      <td>0</td>\n",
       "      <td>-5623.422610</td>\n",
       "      <td>33</td>\n",
       "      <td>Среднее</td>\n",
       "      <td>1</td>\n",
       "      <td>женат / замужем</td>\n",
       "      <td>0</td>\n",
       "      <td>M</td>\n",
       "      <td>сотрудник</td>\n",
       "      <td>0</td>\n",
       "      <td>145885.952297</td>\n",
       "      <td>покупка жилья</td>\n",
       "    </tr>\n",
       "    <tr>\n",
       "      <th>3</th>\n",
       "      <td>3</td>\n",
       "      <td>-4124.747207</td>\n",
       "      <td>32</td>\n",
       "      <td>среднее</td>\n",
       "      <td>1</td>\n",
       "      <td>женат / замужем</td>\n",
       "      <td>0</td>\n",
       "      <td>M</td>\n",
       "      <td>сотрудник</td>\n",
       "      <td>0</td>\n",
       "      <td>267628.550329</td>\n",
       "      <td>дополнительное образование</td>\n",
       "    </tr>\n",
       "    <tr>\n",
       "      <th>4</th>\n",
       "      <td>0</td>\n",
       "      <td>340266.072047</td>\n",
       "      <td>53</td>\n",
       "      <td>среднее</td>\n",
       "      <td>1</td>\n",
       "      <td>гражданский брак</td>\n",
       "      <td>1</td>\n",
       "      <td>F</td>\n",
       "      <td>пенсионер</td>\n",
       "      <td>0</td>\n",
       "      <td>158616.077870</td>\n",
       "      <td>сыграть свадьбу</td>\n",
       "    </tr>\n",
       "  </tbody>\n",
       "</table>\n",
       "</div>"
      ],
      "text/plain": [
       "   children  days_employed  dob_years education  education_id  \\\n",
       "0         1   -8437.673028         42    высшее             0   \n",
       "1         1   -4024.803754         36   среднее             1   \n",
       "2         0   -5623.422610         33   Среднее             1   \n",
       "3         3   -4124.747207         32   среднее             1   \n",
       "4         0  340266.072047         53   среднее             1   \n",
       "\n",
       "      family_status  family_status_id gender income_type  debt   total_income  \\\n",
       "0   женат / замужем                 0      F   сотрудник     0  253875.639453   \n",
       "1   женат / замужем                 0      F   сотрудник     0  112080.014102   \n",
       "2   женат / замужем                 0      M   сотрудник     0  145885.952297   \n",
       "3   женат / замужем                 0      M   сотрудник     0  267628.550329   \n",
       "4  гражданский брак                 1      F   пенсионер     0  158616.077870   \n",
       "\n",
       "                      purpose  \n",
       "0               покупка жилья  \n",
       "1     приобретение автомобиля  \n",
       "2               покупка жилья  \n",
       "3  дополнительное образование  \n",
       "4             сыграть свадьбу  "
      ]
     },
     "execution_count": 3,
     "metadata": {},
     "output_type": "execute_result"
    }
   ],
   "source": [
    "data.head()"
   ]
  },
  {
   "cell_type": "code",
   "execution_count": 4,
   "id": "76c5e97f",
   "metadata": {},
   "outputs": [
    {
     "name": "stdout",
     "output_type": "stream",
     "text": [
      "<class 'pandas.core.frame.DataFrame'>\n",
      "RangeIndex: 21525 entries, 0 to 21524\n",
      "Data columns (total 12 columns):\n",
      " #   Column            Non-Null Count  Dtype  \n",
      "---  ------            --------------  -----  \n",
      " 0   children          21525 non-null  int64  \n",
      " 1   days_employed     19351 non-null  float64\n",
      " 2   dob_years         21525 non-null  int64  \n",
      " 3   education         21525 non-null  object \n",
      " 4   education_id      21525 non-null  int64  \n",
      " 5   family_status     21525 non-null  object \n",
      " 6   family_status_id  21525 non-null  int64  \n",
      " 7   gender            21525 non-null  object \n",
      " 8   income_type       21525 non-null  object \n",
      " 9   debt              21525 non-null  int64  \n",
      " 10  total_income      19351 non-null  float64\n",
      " 11  purpose           21525 non-null  object \n",
      "dtypes: float64(2), int64(5), object(5)\n",
      "memory usage: 2.0+ MB\n"
     ]
    }
   ],
   "source": [
    "data.info()"
   ]
  },
  {
   "cell_type": "markdown",
   "id": "6950aab0",
   "metadata": {},
   "source": [
    "*Всего в датасете 21525 строк, в столбцах **\"days_employed\", \"total_income\"** 19351, что говорит, о том, что часть данных отсуствует. Также в данных столбцах тип данных float64, что не является справедлвым для **\"days_employed\"** так как данные этого столбца в днях, тип  данных должен быть целочисленным, т.е int64, в столбце **\"total_income\"** также данные лучше оставить целыми числами.*\n",
    "\n",
    "*В **\"days_employed\"** присутствуют отрицательные значения и неестественно большие значения для стажа в днях, данную информацию нужно перепроверить.*\n",
    "\n",
    "*В **\"education\"** также значения повторяются в зависимости от написания, присутствуют заглавные буквы или полностью строчные, например: Среднее, среднее. Информацию внутри столбца **\"education\"** нужно поправить.* \n",
    "\n",
    "*В столбце **\"purpose\"** цели повторяются, например покупка автомобиля или свадьба, встречаются несколько раз, данные категории нужно будет привести к единому варианту, возможно укрупнить.*\n",
    "\n"
   ]
  },
  {
   "cell_type": "markdown",
   "id": "520e1ab8",
   "metadata": {},
   "source": [
    "## Предобработка данных ##"
   ]
  },
  {
   "cell_type": "markdown",
   "id": "3ad8804e",
   "metadata": {},
   "source": [
    "### Работа с пропусками"
   ]
  },
  {
   "cell_type": "code",
   "execution_count": 5,
   "id": "6ebb4ab5",
   "metadata": {},
   "outputs": [
    {
     "data": {
      "text/plain": [
       "children               0\n",
       "days_employed       2174\n",
       "dob_years              0\n",
       "education              0\n",
       "education_id           0\n",
       "family_status          0\n",
       "family_status_id       0\n",
       "gender                 0\n",
       "income_type            0\n",
       "debt                   0\n",
       "total_income        2174\n",
       "purpose                0\n",
       "dtype: int64"
      ]
     },
     "execution_count": 5,
     "metadata": {},
     "output_type": "execute_result"
    }
   ],
   "source": [
    "data.isna().sum() #работа с пропусками"
   ]
  },
  {
   "cell_type": "code",
   "execution_count": 6,
   "id": "f14b93eb",
   "metadata": {},
   "outputs": [
    {
     "data": {
      "text/plain": [
       "children            0.000000\n",
       "days_employed       0.100999\n",
       "dob_years           0.000000\n",
       "education           0.000000\n",
       "education_id        0.000000\n",
       "family_status       0.000000\n",
       "family_status_id    0.000000\n",
       "gender              0.000000\n",
       "income_type         0.000000\n",
       "debt                0.000000\n",
       "total_income        0.100999\n",
       "purpose             0.000000\n",
       "dtype: float64"
      ]
     },
     "execution_count": 6,
     "metadata": {},
     "output_type": "execute_result"
    }
   ],
   "source": [
    "data.isna().mean()\n"
   ]
  },
  {
   "cell_type": "markdown",
   "id": "de645283",
   "metadata": {},
   "source": [
    "*В таблице пропущены значения в столбцах **\"days_employed \" и \"total_income\"**. Что составляет 10% от общих данных. *Отсутствие стажа может говорить об ошибке имеющей последствия человеческого фактора, на большинство потребительских кредитов банками чаще всего стаж и данные по ежемесячному доходу, могут не запрашиваться, подтверждающие документы также могут не заправшиваться. Наличие пустых строк в ежемесячном доходе также может говорить о нахождении клиента в декретном отпуске.\n",
    "Медианное значение показывает справедливое распределение,при наличии выдающихся значений (как например в строках  0 и 21524), поэтому пустые строки заполним медианным значением*"
   ]
  },
  {
   "cell_type": "code",
   "execution_count": 7,
   "id": "f9508ee8",
   "metadata": {},
   "outputs": [
    {
     "name": "stdout",
     "output_type": "stream",
     "text": [
      "145017.93753253992\n"
     ]
    }
   ],
   "source": [
    "total_income_median = data['total_income'].median()\n",
    "print(total_income_median)"
   ]
  },
  {
   "cell_type": "code",
   "execution_count": 8,
   "id": "2f8d3cf9",
   "metadata": {},
   "outputs": [],
   "source": [
    "data['total_income'] = data['total_income'].fillna(value = total_income_median)"
   ]
  },
  {
   "cell_type": "markdown",
   "id": "50836930",
   "metadata": {},
   "source": [
    "*Проверим подставились ли медианные значения.* "
   ]
  },
  {
   "cell_type": "code",
   "execution_count": 9,
   "id": "a37154df",
   "metadata": {
    "scrolled": true
   },
   "outputs": [
    {
     "data": {
      "text/plain": [
       "children               0\n",
       "days_employed       2174\n",
       "dob_years              0\n",
       "education              0\n",
       "education_id           0\n",
       "family_status          0\n",
       "family_status_id       0\n",
       "gender                 0\n",
       "income_type            0\n",
       "debt                   0\n",
       "total_income           0\n",
       "purpose                0\n",
       "dtype: int64"
      ]
     },
     "execution_count": 9,
     "metadata": {},
     "output_type": "execute_result"
    }
   ],
   "source": [
    "data.isna().sum()"
   ]
  },
  {
   "cell_type": "markdown",
   "id": "6364ef35",
   "metadata": {},
   "source": [
    "### Проверка и приведение к единому формату значений `dob_years`, `days_employed`"
   ]
  },
  {
   "cell_type": "markdown",
   "id": "76e90a35",
   "metadata": {},
   "source": [
    "*Отсортируем список по столбцу dob_years чтобы понимать возрастной диапазон*\n",
    "\n"
   ]
  },
  {
   "cell_type": "code",
   "execution_count": 10,
   "id": "6159814d",
   "metadata": {},
   "outputs": [
    {
     "data": {
      "text/html": [
       "<div>\n",
       "<style scoped>\n",
       "    .dataframe tbody tr th:only-of-type {\n",
       "        vertical-align: middle;\n",
       "    }\n",
       "\n",
       "    .dataframe tbody tr th {\n",
       "        vertical-align: top;\n",
       "    }\n",
       "\n",
       "    .dataframe thead th {\n",
       "        text-align: right;\n",
       "    }\n",
       "</style>\n",
       "<table border=\"1\" class=\"dataframe\">\n",
       "  <thead>\n",
       "    <tr style=\"text-align: right;\">\n",
       "      <th></th>\n",
       "      <th>children</th>\n",
       "      <th>days_employed</th>\n",
       "      <th>dob_years</th>\n",
       "      <th>education</th>\n",
       "      <th>education_id</th>\n",
       "      <th>family_status</th>\n",
       "      <th>family_status_id</th>\n",
       "      <th>gender</th>\n",
       "      <th>income_type</th>\n",
       "      <th>debt</th>\n",
       "      <th>total_income</th>\n",
       "      <th>purpose</th>\n",
       "    </tr>\n",
       "  </thead>\n",
       "  <tbody>\n",
       "    <tr>\n",
       "      <th>8880</th>\n",
       "      <td>0</td>\n",
       "      <td>-1678.969771</td>\n",
       "      <td>75</td>\n",
       "      <td>среднее</td>\n",
       "      <td>1</td>\n",
       "      <td>вдовец / вдова</td>\n",
       "      <td>2</td>\n",
       "      <td>F</td>\n",
       "      <td>госслужащий</td>\n",
       "      <td>0</td>\n",
       "      <td>153282.648133</td>\n",
       "      <td>заняться образованием</td>\n",
       "    </tr>\n",
       "    <tr>\n",
       "      <th>4895</th>\n",
       "      <td>0</td>\n",
       "      <td>341528.126150</td>\n",
       "      <td>74</td>\n",
       "      <td>высшее</td>\n",
       "      <td>0</td>\n",
       "      <td>женат / замужем</td>\n",
       "      <td>0</td>\n",
       "      <td>F</td>\n",
       "      <td>пенсионер</td>\n",
       "      <td>0</td>\n",
       "      <td>134935.354225</td>\n",
       "      <td>покупка своего жилья</td>\n",
       "    </tr>\n",
       "    <tr>\n",
       "      <th>2557</th>\n",
       "      <td>0</td>\n",
       "      <td>372861.103965</td>\n",
       "      <td>74</td>\n",
       "      <td>среднее</td>\n",
       "      <td>1</td>\n",
       "      <td>женат / замужем</td>\n",
       "      <td>0</td>\n",
       "      <td>F</td>\n",
       "      <td>пенсионер</td>\n",
       "      <td>0</td>\n",
       "      <td>42927.300898</td>\n",
       "      <td>автомобили</td>\n",
       "    </tr>\n",
       "    <tr>\n",
       "      <th>3460</th>\n",
       "      <td>0</td>\n",
       "      <td>344623.836105</td>\n",
       "      <td>74</td>\n",
       "      <td>среднее</td>\n",
       "      <td>1</td>\n",
       "      <td>женат / замужем</td>\n",
       "      <td>0</td>\n",
       "      <td>M</td>\n",
       "      <td>пенсионер</td>\n",
       "      <td>0</td>\n",
       "      <td>54754.745517</td>\n",
       "      <td>операции со своей недвижимостью</td>\n",
       "    </tr>\n",
       "    <tr>\n",
       "      <th>12317</th>\n",
       "      <td>0</td>\n",
       "      <td>-1729.632531</td>\n",
       "      <td>74</td>\n",
       "      <td>среднее</td>\n",
       "      <td>1</td>\n",
       "      <td>женат / замужем</td>\n",
       "      <td>0</td>\n",
       "      <td>M</td>\n",
       "      <td>компаньон</td>\n",
       "      <td>0</td>\n",
       "      <td>124830.079638</td>\n",
       "      <td>покупка жилой недвижимости</td>\n",
       "    </tr>\n",
       "    <tr>\n",
       "      <th>...</th>\n",
       "      <td>...</td>\n",
       "      <td>...</td>\n",
       "      <td>...</td>\n",
       "      <td>...</td>\n",
       "      <td>...</td>\n",
       "      <td>...</td>\n",
       "      <td>...</td>\n",
       "      <td>...</td>\n",
       "      <td>...</td>\n",
       "      <td>...</td>\n",
       "      <td>...</td>\n",
       "      <td>...</td>\n",
       "    </tr>\n",
       "    <tr>\n",
       "      <th>578</th>\n",
       "      <td>0</td>\n",
       "      <td>397856.565013</td>\n",
       "      <td>0</td>\n",
       "      <td>среднее</td>\n",
       "      <td>1</td>\n",
       "      <td>женат / замужем</td>\n",
       "      <td>0</td>\n",
       "      <td>F</td>\n",
       "      <td>пенсионер</td>\n",
       "      <td>0</td>\n",
       "      <td>97620.687042</td>\n",
       "      <td>строительство собственной недвижимости</td>\n",
       "    </tr>\n",
       "    <tr>\n",
       "      <th>8672</th>\n",
       "      <td>0</td>\n",
       "      <td>-2442.763520</td>\n",
       "      <td>0</td>\n",
       "      <td>среднее</td>\n",
       "      <td>1</td>\n",
       "      <td>Не женат / не замужем</td>\n",
       "      <td>4</td>\n",
       "      <td>M</td>\n",
       "      <td>сотрудник</td>\n",
       "      <td>0</td>\n",
       "      <td>216923.489903</td>\n",
       "      <td>сделка с подержанным автомобилем</td>\n",
       "    </tr>\n",
       "    <tr>\n",
       "      <th>2469</th>\n",
       "      <td>0</td>\n",
       "      <td>-794.876230</td>\n",
       "      <td>0</td>\n",
       "      <td>среднее</td>\n",
       "      <td>1</td>\n",
       "      <td>гражданский брак</td>\n",
       "      <td>1</td>\n",
       "      <td>F</td>\n",
       "      <td>сотрудник</td>\n",
       "      <td>0</td>\n",
       "      <td>95967.700317</td>\n",
       "      <td>сыграть свадьбу</td>\n",
       "    </tr>\n",
       "    <tr>\n",
       "      <th>1890</th>\n",
       "      <td>0</td>\n",
       "      <td>NaN</td>\n",
       "      <td>0</td>\n",
       "      <td>высшее</td>\n",
       "      <td>0</td>\n",
       "      <td>Не женат / не замужем</td>\n",
       "      <td>4</td>\n",
       "      <td>F</td>\n",
       "      <td>сотрудник</td>\n",
       "      <td>0</td>\n",
       "      <td>145017.937533</td>\n",
       "      <td>жилье</td>\n",
       "    </tr>\n",
       "    <tr>\n",
       "      <th>14514</th>\n",
       "      <td>0</td>\n",
       "      <td>400992.375704</td>\n",
       "      <td>0</td>\n",
       "      <td>среднее</td>\n",
       "      <td>1</td>\n",
       "      <td>вдовец / вдова</td>\n",
       "      <td>2</td>\n",
       "      <td>F</td>\n",
       "      <td>пенсионер</td>\n",
       "      <td>0</td>\n",
       "      <td>87215.410371</td>\n",
       "      <td>заняться высшим образованием</td>\n",
       "    </tr>\n",
       "  </tbody>\n",
       "</table>\n",
       "<p>21525 rows × 12 columns</p>\n",
       "</div>"
      ],
      "text/plain": [
       "       children  days_employed  dob_years education  education_id  \\\n",
       "8880          0   -1678.969771         75   среднее             1   \n",
       "4895          0  341528.126150         74    высшее             0   \n",
       "2557          0  372861.103965         74   среднее             1   \n",
       "3460          0  344623.836105         74   среднее             1   \n",
       "12317         0   -1729.632531         74   среднее             1   \n",
       "...         ...            ...        ...       ...           ...   \n",
       "578           0  397856.565013          0   среднее             1   \n",
       "8672          0   -2442.763520          0   среднее             1   \n",
       "2469          0    -794.876230          0   среднее             1   \n",
       "1890          0            NaN          0    высшее             0   \n",
       "14514         0  400992.375704          0   среднее             1   \n",
       "\n",
       "               family_status  family_status_id gender  income_type  debt  \\\n",
       "8880          вдовец / вдова                 2      F  госслужащий     0   \n",
       "4895         женат / замужем                 0      F    пенсионер     0   \n",
       "2557         женат / замужем                 0      F    пенсионер     0   \n",
       "3460         женат / замужем                 0      M    пенсионер     0   \n",
       "12317        женат / замужем                 0      M    компаньон     0   \n",
       "...                      ...               ...    ...          ...   ...   \n",
       "578          женат / замужем                 0      F    пенсионер     0   \n",
       "8672   Не женат / не замужем                 4      M    сотрудник     0   \n",
       "2469        гражданский брак                 1      F    сотрудник     0   \n",
       "1890   Не женат / не замужем                 4      F    сотрудник     0   \n",
       "14514         вдовец / вдова                 2      F    пенсионер     0   \n",
       "\n",
       "        total_income                                 purpose  \n",
       "8880   153282.648133                   заняться образованием  \n",
       "4895   134935.354225                    покупка своего жилья  \n",
       "2557    42927.300898                              автомобили  \n",
       "3460    54754.745517         операции со своей недвижимостью  \n",
       "12317  124830.079638              покупка жилой недвижимости  \n",
       "...              ...                                     ...  \n",
       "578     97620.687042  строительство собственной недвижимости  \n",
       "8672   216923.489903        сделка с подержанным автомобилем  \n",
       "2469    95967.700317                         сыграть свадьбу  \n",
       "1890   145017.937533                                   жилье  \n",
       "14514   87215.410371            заняться высшим образованием  \n",
       "\n",
       "[21525 rows x 12 columns]"
      ]
     },
     "execution_count": 10,
     "metadata": {},
     "output_type": "execute_result"
    }
   ],
   "source": [
    "data.sort_values(by = 'dob_years',ascending=False)"
   ]
  },
  {
   "cell_type": "markdown",
   "id": "fa0ac983",
   "metadata": {},
   "source": [
    "*есть нулевые значения нужно заполнить их медианными значениями, поскольку, нулевых значений возраста быть не может.*"
   ]
  },
  {
   "cell_type": "code",
   "execution_count": 11,
   "id": "02f8fb4e",
   "metadata": {},
   "outputs": [
    {
     "name": "stdout",
     "output_type": "stream",
     "text": [
      "42.0\n"
     ]
    },
    {
     "data": {
      "text/plain": [
       "children                                0\n",
       "days_employed                         NaN\n",
       "dob_years                              42\n",
       "education                          высшее\n",
       "education_id                            0\n",
       "family_status       Не женат / не замужем\n",
       "family_status_id                        4\n",
       "gender                                  F\n",
       "income_type                     сотрудник\n",
       "debt                                    0\n",
       "total_income                145017.937533\n",
       "purpose                             жилье\n",
       "Name: 1890, dtype: object"
      ]
     },
     "execution_count": 11,
     "metadata": {},
     "output_type": "execute_result"
    }
   ],
   "source": [
    "dob_years_median = data['dob_years'].median()\n",
    "print(dob_years_median)\n",
    "data.loc[data['dob_years'] ==0, 'dob_years'] = dob_years_median\n",
    "data.loc[1890]\n",
    "#проверка заполняемости строк, которые были нулевые"
   ]
  },
  {
   "cell_type": "code",
   "execution_count": 12,
   "id": "48c027cb",
   "metadata": {},
   "outputs": [
    {
     "name": "stdout",
     "output_type": "stream",
     "text": [
      "75\n",
      "19\n"
     ]
    }
   ],
   "source": [
    "dob_years_max = data['dob_years'].max()\n",
    "print(dob_years_max)\n",
    "dob_years_min = data['dob_years'].min()\n",
    "print(dob_years_min)"
   ]
  },
  {
   "cell_type": "markdown",
   "id": "98666a90",
   "metadata": {},
   "source": [
    "*Проверю сначала какие максимальные и минимальные значения есть в days_employed* "
   ]
  },
  {
   "cell_type": "code",
   "execution_count": 13,
   "id": "520599ef",
   "metadata": {},
   "outputs": [
    {
     "name": "stdout",
     "output_type": "stream",
     "text": [
      "401755.40047533\n",
      "-18388.949900568383\n"
     ]
    }
   ],
   "source": [
    "print(data['days_employed'].max())\n",
    "print(data['days_employed'].min())"
   ]
  },
  {
   "cell_type": "markdown",
   "id": "d09436cf",
   "metadata": {},
   "source": [
    "*Избавимся от минусов и заполним пропуски медианным значением*"
   ]
  },
  {
   "cell_type": "code",
   "execution_count": 14,
   "id": "3447ac1e",
   "metadata": {},
   "outputs": [
    {
     "name": "stdout",
     "output_type": "stream",
     "text": [
      "2194.220566878695\n"
     ]
    }
   ],
   "source": [
    "data['days_employed'] = data['days_employed'].apply(abs)\n",
    "days_employed_median = data['days_employed'].median()\n",
    "print(days_employed_median)\n",
    "data['days_employed'] = data['days_employed'].fillna(value = days_employed_median)"
   ]
  },
  {
   "cell_type": "markdown",
   "id": "340d2638",
   "metadata": {},
   "source": [
    "Расчитаем стаж, так если бы пользователь начал бы работьать с 16 лет data['dob_years']-16)*365) и сравним значения, количество дней трудоустройства, которые приведены в часах приведем к дням."
   ]
  },
  {
   "cell_type": "code",
   "execution_count": 15,
   "id": "9fc079d4",
   "metadata": {},
   "outputs": [
    {
     "name": "stdout",
     "output_type": "stream",
     "text": [
      "16739.80835313875\n",
      "24.14163324048118\n"
     ]
    },
    {
     "data": {
      "text/html": [
       "<div>\n",
       "<style scoped>\n",
       "    .dataframe tbody tr th:only-of-type {\n",
       "        vertical-align: middle;\n",
       "    }\n",
       "\n",
       "    .dataframe tbody tr th {\n",
       "        vertical-align: top;\n",
       "    }\n",
       "\n",
       "    .dataframe thead th {\n",
       "        text-align: right;\n",
       "    }\n",
       "</style>\n",
       "<table border=\"1\" class=\"dataframe\">\n",
       "  <thead>\n",
       "    <tr style=\"text-align: right;\">\n",
       "      <th></th>\n",
       "      <th>children</th>\n",
       "      <th>days_employed</th>\n",
       "      <th>dob_years</th>\n",
       "      <th>education</th>\n",
       "      <th>education_id</th>\n",
       "      <th>family_status</th>\n",
       "      <th>family_status_id</th>\n",
       "      <th>gender</th>\n",
       "      <th>income_type</th>\n",
       "      <th>debt</th>\n",
       "      <th>total_income</th>\n",
       "      <th>purpose</th>\n",
       "    </tr>\n",
       "  </thead>\n",
       "  <tbody>\n",
       "    <tr>\n",
       "      <th>8880</th>\n",
       "      <td>0</td>\n",
       "      <td>1678.969771</td>\n",
       "      <td>75</td>\n",
       "      <td>среднее</td>\n",
       "      <td>1</td>\n",
       "      <td>вдовец / вдова</td>\n",
       "      <td>2</td>\n",
       "      <td>F</td>\n",
       "      <td>госслужащий</td>\n",
       "      <td>0</td>\n",
       "      <td>153282.648133</td>\n",
       "      <td>заняться образованием</td>\n",
       "    </tr>\n",
       "    <tr>\n",
       "      <th>12317</th>\n",
       "      <td>0</td>\n",
       "      <td>1729.632531</td>\n",
       "      <td>74</td>\n",
       "      <td>среднее</td>\n",
       "      <td>1</td>\n",
       "      <td>женат / замужем</td>\n",
       "      <td>0</td>\n",
       "      <td>M</td>\n",
       "      <td>компаньон</td>\n",
       "      <td>0</td>\n",
       "      <td>124830.079638</td>\n",
       "      <td>покупка жилой недвижимости</td>\n",
       "    </tr>\n",
       "    <tr>\n",
       "      <th>11532</th>\n",
       "      <td>0</td>\n",
       "      <td>6682.867814</td>\n",
       "      <td>74</td>\n",
       "      <td>среднее</td>\n",
       "      <td>1</td>\n",
       "      <td>гражданский брак</td>\n",
       "      <td>1</td>\n",
       "      <td>F</td>\n",
       "      <td>сотрудник</td>\n",
       "      <td>0</td>\n",
       "      <td>98945.906177</td>\n",
       "      <td>сыграть свадьбу</td>\n",
       "    </tr>\n",
       "    <tr>\n",
       "      <th>4895</th>\n",
       "      <td>0</td>\n",
       "      <td>14230.338590</td>\n",
       "      <td>74</td>\n",
       "      <td>высшее</td>\n",
       "      <td>0</td>\n",
       "      <td>женат / замужем</td>\n",
       "      <td>0</td>\n",
       "      <td>F</td>\n",
       "      <td>пенсионер</td>\n",
       "      <td>0</td>\n",
       "      <td>134935.354225</td>\n",
       "      <td>покупка своего жилья</td>\n",
       "    </tr>\n",
       "    <tr>\n",
       "      <th>3460</th>\n",
       "      <td>0</td>\n",
       "      <td>14359.326504</td>\n",
       "      <td>74</td>\n",
       "      <td>среднее</td>\n",
       "      <td>1</td>\n",
       "      <td>женат / замужем</td>\n",
       "      <td>0</td>\n",
       "      <td>M</td>\n",
       "      <td>пенсионер</td>\n",
       "      <td>0</td>\n",
       "      <td>54754.745517</td>\n",
       "      <td>операции со своей недвижимостью</td>\n",
       "    </tr>\n",
       "    <tr>\n",
       "      <th>...</th>\n",
       "      <td>...</td>\n",
       "      <td>...</td>\n",
       "      <td>...</td>\n",
       "      <td>...</td>\n",
       "      <td>...</td>\n",
       "      <td>...</td>\n",
       "      <td>...</td>\n",
       "      <td>...</td>\n",
       "      <td>...</td>\n",
       "      <td>...</td>\n",
       "      <td>...</td>\n",
       "      <td>...</td>\n",
       "    </tr>\n",
       "    <tr>\n",
       "      <th>20230</th>\n",
       "      <td>0</td>\n",
       "      <td>509.969922</td>\n",
       "      <td>19</td>\n",
       "      <td>неоконченное высшее</td>\n",
       "      <td>2</td>\n",
       "      <td>Не женат / не замужем</td>\n",
       "      <td>4</td>\n",
       "      <td>F</td>\n",
       "      <td>госслужащий</td>\n",
       "      <td>0</td>\n",
       "      <td>75787.415536</td>\n",
       "      <td>покупка коммерческой недвижимости</td>\n",
       "    </tr>\n",
       "    <tr>\n",
       "      <th>9218</th>\n",
       "      <td>0</td>\n",
       "      <td>322.024011</td>\n",
       "      <td>19</td>\n",
       "      <td>среднее</td>\n",
       "      <td>1</td>\n",
       "      <td>гражданский брак</td>\n",
       "      <td>1</td>\n",
       "      <td>F</td>\n",
       "      <td>компаньон</td>\n",
       "      <td>0</td>\n",
       "      <td>103676.482282</td>\n",
       "      <td>сыграть свадьбу</td>\n",
       "    </tr>\n",
       "    <tr>\n",
       "      <th>10235</th>\n",
       "      <td>0</td>\n",
       "      <td>793.358581</td>\n",
       "      <td>19</td>\n",
       "      <td>среднее</td>\n",
       "      <td>1</td>\n",
       "      <td>женат / замужем</td>\n",
       "      <td>0</td>\n",
       "      <td>F</td>\n",
       "      <td>сотрудник</td>\n",
       "      <td>0</td>\n",
       "      <td>131308.777259</td>\n",
       "      <td>ремонт жилью</td>\n",
       "    </tr>\n",
       "    <tr>\n",
       "      <th>4052</th>\n",
       "      <td>0</td>\n",
       "      <td>91.425857</td>\n",
       "      <td>19</td>\n",
       "      <td>среднее</td>\n",
       "      <td>1</td>\n",
       "      <td>гражданский брак</td>\n",
       "      <td>1</td>\n",
       "      <td>M</td>\n",
       "      <td>сотрудник</td>\n",
       "      <td>0</td>\n",
       "      <td>145017.937533</td>\n",
       "      <td>на проведение свадьбы</td>\n",
       "    </tr>\n",
       "    <tr>\n",
       "      <th>4098</th>\n",
       "      <td>0</td>\n",
       "      <td>111.762790</td>\n",
       "      <td>19</td>\n",
       "      <td>среднее</td>\n",
       "      <td>1</td>\n",
       "      <td>гражданский брак</td>\n",
       "      <td>1</td>\n",
       "      <td>M</td>\n",
       "      <td>компаньон</td>\n",
       "      <td>0</td>\n",
       "      <td>91876.754772</td>\n",
       "      <td>на проведение свадьбы</td>\n",
       "    </tr>\n",
       "  </tbody>\n",
       "</table>\n",
       "<p>21525 rows × 12 columns</p>\n",
       "</div>"
      ],
      "text/plain": [
       "       children  days_employed  dob_years            education  education_id  \\\n",
       "8880          0    1678.969771         75              среднее             1   \n",
       "12317         0    1729.632531         74              среднее             1   \n",
       "11532         0    6682.867814         74              среднее             1   \n",
       "4895          0   14230.338590         74               высшее             0   \n",
       "3460          0   14359.326504         74              среднее             1   \n",
       "...         ...            ...        ...                  ...           ...   \n",
       "20230         0     509.969922         19  неоконченное высшее             2   \n",
       "9218          0     322.024011         19              среднее             1   \n",
       "10235         0     793.358581         19              среднее             1   \n",
       "4052          0      91.425857         19              среднее             1   \n",
       "4098          0     111.762790         19              среднее             1   \n",
       "\n",
       "               family_status  family_status_id gender  income_type  debt  \\\n",
       "8880          вдовец / вдова                 2      F  госслужащий     0   \n",
       "12317        женат / замужем                 0      M    компаньон     0   \n",
       "11532       гражданский брак                 1      F    сотрудник     0   \n",
       "4895         женат / замужем                 0      F    пенсионер     0   \n",
       "3460         женат / замужем                 0      M    пенсионер     0   \n",
       "...                      ...               ...    ...          ...   ...   \n",
       "20230  Не женат / не замужем                 4      F  госслужащий     0   \n",
       "9218        гражданский брак                 1      F    компаньон     0   \n",
       "10235        женат / замужем                 0      F    сотрудник     0   \n",
       "4052        гражданский брак                 1      M    сотрудник     0   \n",
       "4098        гражданский брак                 1      M    компаньон     0   \n",
       "\n",
       "        total_income                            purpose  \n",
       "8880   153282.648133              заняться образованием  \n",
       "12317  124830.079638         покупка жилой недвижимости  \n",
       "11532   98945.906177                    сыграть свадьбу  \n",
       "4895   134935.354225               покупка своего жилья  \n",
       "3460    54754.745517    операции со своей недвижимостью  \n",
       "...              ...                                ...  \n",
       "20230   75787.415536  покупка коммерческой недвижимости  \n",
       "9218   103676.482282                    сыграть свадьбу  \n",
       "10235  131308.777259                       ремонт жилью  \n",
       "4052   145017.937533              на проведение свадьбы  \n",
       "4098    91876.754772              на проведение свадьбы  \n",
       "\n",
       "[21525 rows x 12 columns]"
      ]
     },
     "execution_count": 15,
     "metadata": {},
     "output_type": "execute_result"
    }
   ],
   "source": [
    "data.loc[data['days_employed'] > ((data['dob_years']-16)*365), 'days_employed'] = data.loc[data['days_employed'] > ((data['dob_years']-16)*365), 'days_employed'] / 24\n",
    "# max & min для проверки на адекватность выдаваемых значений\n",
    "print(data['days_employed'].max()) \n",
    "print(data['days_employed'].min())\n",
    "data.sort_values(by = 'dob_years',ascending=False)"
   ]
  },
  {
   "cell_type": "markdown",
   "id": "888ce1e4",
   "metadata": {},
   "source": [
    "### Обработка столбцов `gender`,`family_status`, `children`\n",
    "\n",
    "\n",
    "*Проверить столбцы 'family_status_id', 'children', 'gender' на уникальные значения*"
   ]
  },
  {
   "cell_type": "code",
   "execution_count": 16,
   "id": "26d26ea0",
   "metadata": {},
   "outputs": [
    {
     "name": "stdout",
     "output_type": "stream",
     "text": [
      "Уникальные значения gender: ['F' 'M' 'XNA']\n"
     ]
    },
    {
     "data": {
      "text/html": [
       "<div>\n",
       "<style scoped>\n",
       "    .dataframe tbody tr th:only-of-type {\n",
       "        vertical-align: middle;\n",
       "    }\n",
       "\n",
       "    .dataframe tbody tr th {\n",
       "        vertical-align: top;\n",
       "    }\n",
       "\n",
       "    .dataframe thead th {\n",
       "        text-align: right;\n",
       "    }\n",
       "</style>\n",
       "<table border=\"1\" class=\"dataframe\">\n",
       "  <thead>\n",
       "    <tr style=\"text-align: right;\">\n",
       "      <th></th>\n",
       "      <th>children</th>\n",
       "      <th>days_employed</th>\n",
       "      <th>dob_years</th>\n",
       "      <th>education</th>\n",
       "      <th>education_id</th>\n",
       "      <th>family_status</th>\n",
       "      <th>family_status_id</th>\n",
       "      <th>gender</th>\n",
       "      <th>income_type</th>\n",
       "      <th>debt</th>\n",
       "      <th>total_income</th>\n",
       "      <th>purpose</th>\n",
       "    </tr>\n",
       "  </thead>\n",
       "  <tbody>\n",
       "    <tr>\n",
       "      <th>10701</th>\n",
       "      <td>0</td>\n",
       "      <td>2358.600502</td>\n",
       "      <td>24</td>\n",
       "      <td>неоконченное высшее</td>\n",
       "      <td>2</td>\n",
       "      <td>гражданский брак</td>\n",
       "      <td>1</td>\n",
       "      <td>XNA</td>\n",
       "      <td>компаньон</td>\n",
       "      <td>0</td>\n",
       "      <td>203905.157261</td>\n",
       "      <td>покупка недвижимости</td>\n",
       "    </tr>\n",
       "  </tbody>\n",
       "</table>\n",
       "</div>"
      ],
      "text/plain": [
       "       children  days_employed  dob_years            education  education_id  \\\n",
       "10701         0    2358.600502         24  неоконченное высшее             2   \n",
       "\n",
       "          family_status  family_status_id gender income_type  debt  \\\n",
       "10701  гражданский брак                 1    XNA   компаньон     0   \n",
       "\n",
       "        total_income               purpose  \n",
       "10701  203905.157261  покупка недвижимости  "
      ]
     },
     "metadata": {},
     "output_type": "display_data"
    }
   ],
   "source": [
    "print ('Уникальные значения gender:', data['gender'].unique())\n",
    "display(data[data['gender'] == 'XNA'])\n"
   ]
  },
  {
   "cell_type": "markdown",
   "id": "4ad551d4",
   "metadata": {},
   "source": [
    "*Всего одна строка не повлияет на результаты исследования, оставляю для дальнейшего исследования вместе с этой строкой.*"
   ]
  },
  {
   "cell_type": "code",
   "execution_count": 17,
   "id": "64651d50",
   "metadata": {},
   "outputs": [
    {
     "data": {
      "text/plain": [
       "array(['женат / замужем', 'гражданский брак', 'вдовец / вдова',\n",
       "       'в разводе', 'Не женат / не замужем'], dtype=object)"
      ]
     },
     "execution_count": 17,
     "metadata": {},
     "output_type": "execute_result"
    }
   ],
   "source": [
    "data['family_status'].unique()"
   ]
  },
  {
   "cell_type": "code",
   "execution_count": 18,
   "id": "e4bd62ab",
   "metadata": {},
   "outputs": [
    {
     "name": "stdout",
     "output_type": "stream",
     "text": [
      "[ 1  0  3  2 -1  4 20  5]\n"
     ]
    }
   ],
   "source": [
    "print(data['children'].unique())\n",
    "data['children'] = data['children'].apply(abs)\n"
   ]
  },
  {
   "cell_type": "code",
   "execution_count": 19,
   "id": "896315c2",
   "metadata": {
    "scrolled": true
   },
   "outputs": [
    {
     "data": {
      "text/html": [
       "<div>\n",
       "<style scoped>\n",
       "    .dataframe tbody tr th:only-of-type {\n",
       "        vertical-align: middle;\n",
       "    }\n",
       "\n",
       "    .dataframe tbody tr th {\n",
       "        vertical-align: top;\n",
       "    }\n",
       "\n",
       "    .dataframe thead th {\n",
       "        text-align: right;\n",
       "    }\n",
       "</style>\n",
       "<table border=\"1\" class=\"dataframe\">\n",
       "  <thead>\n",
       "    <tr style=\"text-align: right;\">\n",
       "      <th></th>\n",
       "      <th>children</th>\n",
       "      <th>days_employed</th>\n",
       "      <th>dob_years</th>\n",
       "      <th>education</th>\n",
       "      <th>education_id</th>\n",
       "      <th>family_status</th>\n",
       "      <th>family_status_id</th>\n",
       "      <th>gender</th>\n",
       "      <th>income_type</th>\n",
       "      <th>debt</th>\n",
       "      <th>total_income</th>\n",
       "      <th>purpose</th>\n",
       "    </tr>\n",
       "  </thead>\n",
       "  <tbody>\n",
       "    <tr>\n",
       "      <th>4397</th>\n",
       "      <td>5</td>\n",
       "      <td>3248.839837</td>\n",
       "      <td>36</td>\n",
       "      <td>среднее</td>\n",
       "      <td>1</td>\n",
       "      <td>женат / замужем</td>\n",
       "      <td>0</td>\n",
       "      <td>F</td>\n",
       "      <td>компаньон</td>\n",
       "      <td>0</td>\n",
       "      <td>168460.926969</td>\n",
       "      <td>операции с недвижимостью</td>\n",
       "    </tr>\n",
       "    <tr>\n",
       "      <th>21156</th>\n",
       "      <td>5</td>\n",
       "      <td>1690.018117</td>\n",
       "      <td>59</td>\n",
       "      <td>среднее</td>\n",
       "      <td>1</td>\n",
       "      <td>женат / замужем</td>\n",
       "      <td>0</td>\n",
       "      <td>M</td>\n",
       "      <td>сотрудник</td>\n",
       "      <td>0</td>\n",
       "      <td>269068.348794</td>\n",
       "      <td>операции со своей недвижимостью</td>\n",
       "    </tr>\n",
       "    <tr>\n",
       "      <th>15916</th>\n",
       "      <td>5</td>\n",
       "      <td>2286.262752</td>\n",
       "      <td>37</td>\n",
       "      <td>среднее</td>\n",
       "      <td>1</td>\n",
       "      <td>женат / замужем</td>\n",
       "      <td>0</td>\n",
       "      <td>F</td>\n",
       "      <td>сотрудник</td>\n",
       "      <td>0</td>\n",
       "      <td>256698.352846</td>\n",
       "      <td>покупка недвижимости</td>\n",
       "    </tr>\n",
       "    <tr>\n",
       "      <th>20452</th>\n",
       "      <td>5</td>\n",
       "      <td>268.425464</td>\n",
       "      <td>38</td>\n",
       "      <td>НАЧАЛЬНОЕ</td>\n",
       "      <td>3</td>\n",
       "      <td>женат / замужем</td>\n",
       "      <td>0</td>\n",
       "      <td>F</td>\n",
       "      <td>сотрудник</td>\n",
       "      <td>0</td>\n",
       "      <td>212545.366151</td>\n",
       "      <td>заняться высшим образованием</td>\n",
       "    </tr>\n",
       "    <tr>\n",
       "      <th>7866</th>\n",
       "      <td>5</td>\n",
       "      <td>773.124856</td>\n",
       "      <td>36</td>\n",
       "      <td>среднее</td>\n",
       "      <td>1</td>\n",
       "      <td>женат / замужем</td>\n",
       "      <td>0</td>\n",
       "      <td>F</td>\n",
       "      <td>сотрудник</td>\n",
       "      <td>0</td>\n",
       "      <td>48772.896208</td>\n",
       "      <td>операции с жильем</td>\n",
       "    </tr>\n",
       "    <tr>\n",
       "      <th>...</th>\n",
       "      <td>...</td>\n",
       "      <td>...</td>\n",
       "      <td>...</td>\n",
       "      <td>...</td>\n",
       "      <td>...</td>\n",
       "      <td>...</td>\n",
       "      <td>...</td>\n",
       "      <td>...</td>\n",
       "      <td>...</td>\n",
       "      <td>...</td>\n",
       "      <td>...</td>\n",
       "      <td>...</td>\n",
       "    </tr>\n",
       "    <tr>\n",
       "      <th>11578</th>\n",
       "      <td>0</td>\n",
       "      <td>15441.148856</td>\n",
       "      <td>52</td>\n",
       "      <td>среднее</td>\n",
       "      <td>1</td>\n",
       "      <td>женат / замужем</td>\n",
       "      <td>0</td>\n",
       "      <td>F</td>\n",
       "      <td>пенсионер</td>\n",
       "      <td>0</td>\n",
       "      <td>147982.225473</td>\n",
       "      <td>строительство недвижимости</td>\n",
       "    </tr>\n",
       "    <tr>\n",
       "      <th>4905</th>\n",
       "      <td>0</td>\n",
       "      <td>3190.008383</td>\n",
       "      <td>32</td>\n",
       "      <td>высшее</td>\n",
       "      <td>0</td>\n",
       "      <td>Не женат / не замужем</td>\n",
       "      <td>4</td>\n",
       "      <td>M</td>\n",
       "      <td>госслужащий</td>\n",
       "      <td>1</td>\n",
       "      <td>113028.844651</td>\n",
       "      <td>операции со своей недвижимостью</td>\n",
       "    </tr>\n",
       "    <tr>\n",
       "      <th>11580</th>\n",
       "      <td>0</td>\n",
       "      <td>938.919009</td>\n",
       "      <td>28</td>\n",
       "      <td>высшее</td>\n",
       "      <td>0</td>\n",
       "      <td>женат / замужем</td>\n",
       "      <td>0</td>\n",
       "      <td>F</td>\n",
       "      <td>госслужащий</td>\n",
       "      <td>1</td>\n",
       "      <td>79365.838130</td>\n",
       "      <td>покупка коммерческой недвижимости</td>\n",
       "    </tr>\n",
       "    <tr>\n",
       "      <th>11581</th>\n",
       "      <td>0</td>\n",
       "      <td>1643.273215</td>\n",
       "      <td>34</td>\n",
       "      <td>среднее</td>\n",
       "      <td>1</td>\n",
       "      <td>женат / замужем</td>\n",
       "      <td>0</td>\n",
       "      <td>M</td>\n",
       "      <td>сотрудник</td>\n",
       "      <td>0</td>\n",
       "      <td>329182.042229</td>\n",
       "      <td>покупка жилья</td>\n",
       "    </tr>\n",
       "    <tr>\n",
       "      <th>11901</th>\n",
       "      <td>0</td>\n",
       "      <td>2694.398983</td>\n",
       "      <td>27</td>\n",
       "      <td>Высшее</td>\n",
       "      <td>0</td>\n",
       "      <td>гражданский брак</td>\n",
       "      <td>1</td>\n",
       "      <td>F</td>\n",
       "      <td>госслужащий</td>\n",
       "      <td>1</td>\n",
       "      <td>158086.735297</td>\n",
       "      <td>профильное образование</td>\n",
       "    </tr>\n",
       "  </tbody>\n",
       "</table>\n",
       "<p>21525 rows × 12 columns</p>\n",
       "</div>"
      ],
      "text/plain": [
       "       children  days_employed  dob_years  education  education_id  \\\n",
       "4397          5    3248.839837         36    среднее             1   \n",
       "21156         5    1690.018117         59    среднее             1   \n",
       "15916         5    2286.262752         37    среднее             1   \n",
       "20452         5     268.425464         38  НАЧАЛЬНОЕ             3   \n",
       "7866          5     773.124856         36    среднее             1   \n",
       "...         ...            ...        ...        ...           ...   \n",
       "11578         0   15441.148856         52    среднее             1   \n",
       "4905          0    3190.008383         32     высшее             0   \n",
       "11580         0     938.919009         28     высшее             0   \n",
       "11581         0    1643.273215         34    среднее             1   \n",
       "11901         0    2694.398983         27     Высшее             0   \n",
       "\n",
       "               family_status  family_status_id gender  income_type  debt  \\\n",
       "4397         женат / замужем                 0      F    компаньон     0   \n",
       "21156        женат / замужем                 0      M    сотрудник     0   \n",
       "15916        женат / замужем                 0      F    сотрудник     0   \n",
       "20452        женат / замужем                 0      F    сотрудник     0   \n",
       "7866         женат / замужем                 0      F    сотрудник     0   \n",
       "...                      ...               ...    ...          ...   ...   \n",
       "11578        женат / замужем                 0      F    пенсионер     0   \n",
       "4905   Не женат / не замужем                 4      M  госслужащий     1   \n",
       "11580        женат / замужем                 0      F  госслужащий     1   \n",
       "11581        женат / замужем                 0      M    сотрудник     0   \n",
       "11901       гражданский брак                 1      F  госслужащий     1   \n",
       "\n",
       "        total_income                            purpose  \n",
       "4397   168460.926969           операции с недвижимостью  \n",
       "21156  269068.348794    операции со своей недвижимостью  \n",
       "15916  256698.352846               покупка недвижимости  \n",
       "20452  212545.366151       заняться высшим образованием  \n",
       "7866    48772.896208                  операции с жильем  \n",
       "...              ...                                ...  \n",
       "11578  147982.225473         строительство недвижимости  \n",
       "4905   113028.844651    операции со своей недвижимостью  \n",
       "11580   79365.838130  покупка коммерческой недвижимости  \n",
       "11581  329182.042229                      покупка жилья  \n",
       "11901  158086.735297             профильное образование  \n",
       "\n",
       "[21525 rows x 12 columns]"
      ]
     },
     "execution_count": 19,
     "metadata": {},
     "output_type": "execute_result"
    }
   ],
   "source": [
    "mistakes_correction = 2 #замена значения 20 в children поскольку вероятнее всего была допушщена ошибка\n",
    "data.loc[data['children'] == 20, 'children'] = mistakes_correction\n",
    "data.sort_values(by = 'children',ascending=False)"
   ]
  },
  {
   "cell_type": "code",
   "execution_count": 20,
   "id": "dd762fc6",
   "metadata": {},
   "outputs": [
    {
     "name": "stdout",
     "output_type": "stream",
     "text": [
      "<class 'pandas.core.frame.DataFrame'>\n",
      "RangeIndex: 21525 entries, 0 to 21524\n",
      "Data columns (total 12 columns):\n",
      " #   Column            Non-Null Count  Dtype \n",
      "---  ------            --------------  ----- \n",
      " 0   children          21525 non-null  int64 \n",
      " 1   days_employed     21525 non-null  int32 \n",
      " 2   dob_years         21525 non-null  int64 \n",
      " 3   education         21525 non-null  object\n",
      " 4   education_id      21525 non-null  int64 \n",
      " 5   family_status     21525 non-null  object\n",
      " 6   family_status_id  21525 non-null  int64 \n",
      " 7   gender            21525 non-null  object\n",
      " 8   income_type       21525 non-null  object\n",
      " 9   debt              21525 non-null  int64 \n",
      " 10  total_income      21525 non-null  int32 \n",
      " 11  purpose           21525 non-null  object\n",
      "dtypes: int32(2), int64(5), object(5)\n",
      "memory usage: 1.8+ MB\n"
     ]
    }
   ],
   "source": [
    "data['total_income'] = data['total_income'].astype('int')\n",
    "data['days_employed'] = data['days_employed'].astype('int')\n",
    "\n",
    "data.info()"
   ]
  },
  {
   "cell_type": "markdown",
   "id": "5e18303f",
   "metadata": {},
   "source": [
    "### Работа с дубликатами\n",
    "\n",
    "- удаление дубликатов, если они есть, \n",
    "- работа с неявными дубликатами, \n"
   ]
  },
  {
   "cell_type": "code",
   "execution_count": 21,
   "id": "2573c980",
   "metadata": {
    "scrolled": true
   },
   "outputs": [
    {
     "data": {
      "text/html": [
       "<div>\n",
       "<style scoped>\n",
       "    .dataframe tbody tr th:only-of-type {\n",
       "        vertical-align: middle;\n",
       "    }\n",
       "\n",
       "    .dataframe tbody tr th {\n",
       "        vertical-align: top;\n",
       "    }\n",
       "\n",
       "    .dataframe thead th {\n",
       "        text-align: right;\n",
       "    }\n",
       "</style>\n",
       "<table border=\"1\" class=\"dataframe\">\n",
       "  <thead>\n",
       "    <tr style=\"text-align: right;\">\n",
       "      <th></th>\n",
       "      <th>children</th>\n",
       "      <th>days_employed</th>\n",
       "      <th>dob_years</th>\n",
       "      <th>education</th>\n",
       "      <th>education_id</th>\n",
       "      <th>family_status</th>\n",
       "      <th>family_status_id</th>\n",
       "      <th>gender</th>\n",
       "      <th>income_type</th>\n",
       "      <th>debt</th>\n",
       "      <th>total_income</th>\n",
       "      <th>purpose</th>\n",
       "    </tr>\n",
       "  </thead>\n",
       "  <tbody>\n",
       "    <tr>\n",
       "      <th>2849</th>\n",
       "      <td>0</td>\n",
       "      <td>2194</td>\n",
       "      <td>41</td>\n",
       "      <td>среднее</td>\n",
       "      <td>1</td>\n",
       "      <td>женат / замужем</td>\n",
       "      <td>0</td>\n",
       "      <td>F</td>\n",
       "      <td>сотрудник</td>\n",
       "      <td>0</td>\n",
       "      <td>145017</td>\n",
       "      <td>покупка жилья для семьи</td>\n",
       "    </tr>\n",
       "    <tr>\n",
       "      <th>4182</th>\n",
       "      <td>1</td>\n",
       "      <td>2194</td>\n",
       "      <td>34</td>\n",
       "      <td>ВЫСШЕЕ</td>\n",
       "      <td>0</td>\n",
       "      <td>гражданский брак</td>\n",
       "      <td>1</td>\n",
       "      <td>F</td>\n",
       "      <td>сотрудник</td>\n",
       "      <td>0</td>\n",
       "      <td>145017</td>\n",
       "      <td>свадьба</td>\n",
       "    </tr>\n",
       "    <tr>\n",
       "      <th>4851</th>\n",
       "      <td>0</td>\n",
       "      <td>2194</td>\n",
       "      <td>60</td>\n",
       "      <td>среднее</td>\n",
       "      <td>1</td>\n",
       "      <td>гражданский брак</td>\n",
       "      <td>1</td>\n",
       "      <td>F</td>\n",
       "      <td>пенсионер</td>\n",
       "      <td>0</td>\n",
       "      <td>145017</td>\n",
       "      <td>свадьба</td>\n",
       "    </tr>\n",
       "    <tr>\n",
       "      <th>5557</th>\n",
       "      <td>0</td>\n",
       "      <td>2194</td>\n",
       "      <td>58</td>\n",
       "      <td>среднее</td>\n",
       "      <td>1</td>\n",
       "      <td>гражданский брак</td>\n",
       "      <td>1</td>\n",
       "      <td>F</td>\n",
       "      <td>пенсионер</td>\n",
       "      <td>0</td>\n",
       "      <td>145017</td>\n",
       "      <td>сыграть свадьбу</td>\n",
       "    </tr>\n",
       "    <tr>\n",
       "      <th>7808</th>\n",
       "      <td>0</td>\n",
       "      <td>2194</td>\n",
       "      <td>57</td>\n",
       "      <td>среднее</td>\n",
       "      <td>1</td>\n",
       "      <td>гражданский брак</td>\n",
       "      <td>1</td>\n",
       "      <td>F</td>\n",
       "      <td>пенсионер</td>\n",
       "      <td>0</td>\n",
       "      <td>145017</td>\n",
       "      <td>на проведение свадьбы</td>\n",
       "    </tr>\n",
       "  </tbody>\n",
       "</table>\n",
       "</div>"
      ],
      "text/plain": [
       "      children  days_employed  dob_years education  education_id  \\\n",
       "2849         0           2194         41   среднее             1   \n",
       "4182         1           2194         34    ВЫСШЕЕ             0   \n",
       "4851         0           2194         60   среднее             1   \n",
       "5557         0           2194         58   среднее             1   \n",
       "7808         0           2194         57   среднее             1   \n",
       "\n",
       "         family_status  family_status_id gender income_type  debt  \\\n",
       "2849   женат / замужем                 0      F   сотрудник     0   \n",
       "4182  гражданский брак                 1      F   сотрудник     0   \n",
       "4851  гражданский брак                 1      F   пенсионер     0   \n",
       "5557  гражданский брак                 1      F   пенсионер     0   \n",
       "7808  гражданский брак                 1      F   пенсионер     0   \n",
       "\n",
       "      total_income                  purpose  \n",
       "2849        145017  покупка жилья для семьи  \n",
       "4182        145017                  свадьба  \n",
       "4851        145017                  свадьба  \n",
       "5557        145017          сыграть свадьбу  \n",
       "7808        145017    на проведение свадьбы  "
      ]
     },
     "metadata": {},
     "output_type": "display_data"
    }
   ],
   "source": [
    "duplicated_data = data[data.duplicated()].head()\n",
    "display(duplicated_data)\n"
   ]
  },
  {
   "cell_type": "code",
   "execution_count": 22,
   "id": "20466eaa",
   "metadata": {},
   "outputs": [
    {
     "data": {
      "text/plain": [
       "55"
      ]
     },
     "execution_count": 22,
     "metadata": {},
     "output_type": "execute_result"
    }
   ],
   "source": [
    "data.duplicated().sum()"
   ]
  },
  {
   "cell_type": "code",
   "execution_count": 23,
   "id": "4af4d542",
   "metadata": {},
   "outputs": [],
   "source": [
    "data = data.drop_duplicates().reset_index(drop=True)"
   ]
  },
  {
   "cell_type": "code",
   "execution_count": 24,
   "id": "657454e5",
   "metadata": {},
   "outputs": [
    {
     "name": "stdout",
     "output_type": "stream",
     "text": [
      "среднее                13704\n",
      "высшее                  4710\n",
      "СРЕДНЕЕ                  772\n",
      "Среднее                  711\n",
      "неоконченное высшее      668\n",
      "ВЫСШЕЕ                   273\n",
      "Высшее                   268\n",
      "начальное                250\n",
      "Неоконченное высшее       47\n",
      "НЕОКОНЧЕННОЕ ВЫСШЕЕ       29\n",
      "НАЧАЛЬНОЕ                 17\n",
      "Начальное                 15\n",
      "ученая степень             4\n",
      "Ученая степень             1\n",
      "УЧЕНАЯ СТЕПЕНЬ             1\n",
      "Name: education, dtype: int64\n"
     ]
    }
   ],
   "source": [
    "print(data['education'].value_counts())"
   ]
  },
  {
   "cell_type": "markdown",
   "id": "9f5ccd69",
   "metadata": {},
   "source": [
    "*По факту уникальных значений, всего 5: начальное, среднее,высшее, неоконченное высшее,ученая степень. Их нужно заменить на все строчные и перепроверить результат тем же способом*"
   ]
  },
  {
   "cell_type": "code",
   "execution_count": 25,
   "id": "36e91631",
   "metadata": {},
   "outputs": [
    {
     "name": "stdout",
     "output_type": "stream",
     "text": [
      "среднее                15187\n",
      "высшее                  5251\n",
      "неоконченное высшее      744\n",
      "начальное                282\n",
      "ученая степень             6\n",
      "Name: education, dtype: int64\n"
     ]
    }
   ],
   "source": [
    "data['education']= data['education'].str.lower()\n",
    "print(data['education'].value_counts())"
   ]
  },
  {
   "cell_type": "markdown",
   "id": "2e41f355",
   "metadata": {},
   "source": [
    "*С family_status все коректно, замен не требуется*"
   ]
  },
  {
   "cell_type": "code",
   "execution_count": 26,
   "id": "09d6a185",
   "metadata": {},
   "outputs": [
    {
     "name": "stdout",
     "output_type": "stream",
     "text": [
      "женат / замужем          12344\n",
      "гражданский брак          4162\n",
      "Не женат / не замужем     2810\n",
      "в разводе                 1195\n",
      "вдовец / вдова             959\n",
      "Name: family_status, dtype: int64\n"
     ]
    }
   ],
   "source": [
    "print(data['family_status'].value_counts())"
   ]
  },
  {
   "cell_type": "markdown",
   "id": "cbb812ba",
   "metadata": {},
   "source": [
    "#### Преобразоование категориальных данных и приведение их к единому формату\n",
    "\n",
    "\n",
    "**Создадим отдельный столбец `purpose_category`, который будет хранить новые категории. Для обработки категорий, напишем функцию, которая приведет похожие категории к единому формату. Новые категории:**\n",
    "\n",
    "- 'операции с автомобилем',\n",
    "- 'операции с недвижимостью',\n",
    "- 'проведение свадьбы',\n",
    "- 'получение образования'."
   ]
  },
  {
   "cell_type": "code",
   "execution_count": 27,
   "id": "50c317a5",
   "metadata": {},
   "outputs": [
    {
     "name": "stdout",
     "output_type": "stream",
     "text": [
      "свадьба                                   793\n",
      "на проведение свадьбы                     772\n",
      "сыграть свадьбу                           769\n",
      "операции с недвижимостью                  675\n",
      "покупка коммерческой недвижимости         662\n",
      "покупка жилья для сдачи                   652\n",
      "операции с жильем                         652\n",
      "операции с коммерческой недвижимостью     650\n",
      "покупка жилья                             646\n",
      "жилье                                     646\n",
      "покупка жилья для семьи                   638\n",
      "строительство собственной недвижимости    635\n",
      "недвижимость                              633\n",
      "операции со своей недвижимостью           627\n",
      "строительство жилой недвижимости          625\n",
      "покупка недвижимости                      621\n",
      "покупка своего жилья                      620\n",
      "строительство недвижимости                619\n",
      "ремонт жилью                              607\n",
      "покупка жилой недвижимости                606\n",
      "на покупку своего автомобиля              505\n",
      "заняться высшим образованием              496\n",
      "автомобиль                                494\n",
      "сделка с подержанным автомобилем          486\n",
      "свой автомобиль                           479\n",
      "на покупку подержанного автомобиля        478\n",
      "автомобили                                478\n",
      "на покупку автомобиля                     472\n",
      "приобретение автомобиля                   461\n",
      "дополнительное образование                460\n",
      "сделка с автомобилем                      455\n",
      "высшее образование                        452\n",
      "образование                               447\n",
      "получение дополнительного образования     447\n",
      "получение образования                     442\n",
      "профильное образование                    436\n",
      "получение высшего образования             426\n",
      "заняться образованием                     408\n",
      "Name: purpose, dtype: int64\n"
     ]
    }
   ],
   "source": [
    "print(data['purpose'].value_counts())"
   ]
  },
  {
   "cell_type": "markdown",
   "id": "2de0cb96",
   "metadata": {},
   "source": [
    "\n",
    "**Повторы могли возникнуть из-за объединени двух систем, а также если данные в системе заполняются вручную/ в онлайн форме/анкете для клиента/сотрудника нет списка из которого он может выбирать. Для удаления дубликатов первоначально выбран способ drop_duplicates()  c исп-ем метода reset_index() для перезаписи индексов таблицы** "
   ]
  },
  {
   "cell_type": "code",
   "execution_count": 28,
   "id": "5531b709",
   "metadata": {},
   "outputs": [],
   "source": [
    "def get_new_purpose(cell):\n",
    "    purpose_dict = {'операции с автомобилем': ['автомобил'],\n",
    "                     'операции с недвижимостью': ['недвижимост', 'жиль'],\n",
    "                     'проведение свадьбы': ['свадьб'],\n",
    "                     'получение образования': ['образов']}\n",
    "    for category, synonyms in purpose_dict.items():\n",
    "        for r in synonyms:\n",
    "            if cell.find(r) >= 0:\n",
    "                return category\n",
    "    return None\n"
   ]
  },
  {
   "cell_type": "code",
   "execution_count": 29,
   "id": "1f6401ea",
   "metadata": {},
   "outputs": [
    {
     "data": {
      "text/html": [
       "<div>\n",
       "<style scoped>\n",
       "    .dataframe tbody tr th:only-of-type {\n",
       "        vertical-align: middle;\n",
       "    }\n",
       "\n",
       "    .dataframe tbody tr th {\n",
       "        vertical-align: top;\n",
       "    }\n",
       "\n",
       "    .dataframe thead th {\n",
       "        text-align: right;\n",
       "    }\n",
       "</style>\n",
       "<table border=\"1\" class=\"dataframe\">\n",
       "  <thead>\n",
       "    <tr style=\"text-align: right;\">\n",
       "      <th></th>\n",
       "      <th>purpose</th>\n",
       "      <th>purpose_category</th>\n",
       "    </tr>\n",
       "  </thead>\n",
       "  <tbody>\n",
       "    <tr>\n",
       "      <th>0</th>\n",
       "      <td>покупка жилья</td>\n",
       "      <td>операции с недвижимостью</td>\n",
       "    </tr>\n",
       "    <tr>\n",
       "      <th>1</th>\n",
       "      <td>приобретение автомобиля</td>\n",
       "      <td>операции с автомобилем</td>\n",
       "    </tr>\n",
       "    <tr>\n",
       "      <th>2</th>\n",
       "      <td>покупка жилья</td>\n",
       "      <td>операции с недвижимостью</td>\n",
       "    </tr>\n",
       "    <tr>\n",
       "      <th>3</th>\n",
       "      <td>дополнительное образование</td>\n",
       "      <td>получение образования</td>\n",
       "    </tr>\n",
       "    <tr>\n",
       "      <th>4</th>\n",
       "      <td>сыграть свадьбу</td>\n",
       "      <td>проведение свадьбы</td>\n",
       "    </tr>\n",
       "    <tr>\n",
       "      <th>...</th>\n",
       "      <td>...</td>\n",
       "      <td>...</td>\n",
       "    </tr>\n",
       "    <tr>\n",
       "      <th>21465</th>\n",
       "      <td>операции с жильем</td>\n",
       "      <td>операции с недвижимостью</td>\n",
       "    </tr>\n",
       "    <tr>\n",
       "      <th>21466</th>\n",
       "      <td>сделка с автомобилем</td>\n",
       "      <td>операции с автомобилем</td>\n",
       "    </tr>\n",
       "    <tr>\n",
       "      <th>21467</th>\n",
       "      <td>недвижимость</td>\n",
       "      <td>операции с недвижимостью</td>\n",
       "    </tr>\n",
       "    <tr>\n",
       "      <th>21468</th>\n",
       "      <td>на покупку своего автомобиля</td>\n",
       "      <td>операции с автомобилем</td>\n",
       "    </tr>\n",
       "    <tr>\n",
       "      <th>21469</th>\n",
       "      <td>на покупку автомобиля</td>\n",
       "      <td>операции с автомобилем</td>\n",
       "    </tr>\n",
       "  </tbody>\n",
       "</table>\n",
       "<p>21470 rows × 2 columns</p>\n",
       "</div>"
      ],
      "text/plain": [
       "                            purpose          purpose_category\n",
       "0                     покупка жилья  операции с недвижимостью\n",
       "1           приобретение автомобиля    операции с автомобилем\n",
       "2                     покупка жилья  операции с недвижимостью\n",
       "3        дополнительное образование     получение образования\n",
       "4                   сыграть свадьбу        проведение свадьбы\n",
       "...                             ...                       ...\n",
       "21465             операции с жильем  операции с недвижимостью\n",
       "21466          сделка с автомобилем    операции с автомобилем\n",
       "21467                  недвижимость  операции с недвижимостью\n",
       "21468  на покупку своего автомобиля    операции с автомобилем\n",
       "21469         на покупку автомобиля    операции с автомобилем\n",
       "\n",
       "[21470 rows x 2 columns]"
      ]
     },
     "execution_count": 29,
     "metadata": {},
     "output_type": "execute_result"
    }
   ],
   "source": [
    "data ['purpose_category'] = data['purpose'].apply(get_new_purpose)\n",
    "data[['purpose','purpose_category']]"
   ]
  },
  {
   "cell_type": "code",
   "execution_count": 30,
   "id": "7ba2e8c5",
   "metadata": {
    "scrolled": false
   },
   "outputs": [
    {
     "name": "stdout",
     "output_type": "stream",
     "text": [
      "                      index  purpose_category\n",
      "0  операции с недвижимостью             10814\n",
      "1    операции с автомобилем              4308\n",
      "2     получение образования              4014\n",
      "3        проведение свадьбы              2334\n"
     ]
    }
   ],
   "source": [
    "print(data['purpose_category'].value_counts().reset_index())"
   ]
  },
  {
   "cell_type": "code",
   "execution_count": 31,
   "id": "f881b3dd",
   "metadata": {
    "scrolled": true
   },
   "outputs": [
    {
     "data": {
      "text/plain": [
       "Text(0.5, 1.0, 'Цели кредитования')"
      ]
     },
     "execution_count": 31,
     "metadata": {},
     "output_type": "execute_result"
    },
    {
     "data": {
      "image/png": "[encoded data removed]",
      "text/plain": [
       "<Figure size 432x288 with 1 Axes>"
      ]
     },
     "metadata": {
      "needs_background": "light"
     },
     "output_type": "display_data"
    }
   ],
   "source": [
    "sns.barplot(  x = 'purpose_category', y = 'index', data = data['purpose_category'].value_counts().reset_index()).set_title('Цели кредитования')"
   ]
  },
  {
   "cell_type": "markdown",
   "id": "7b12850f",
   "metadata": {},
   "source": [
    "*Чаще всего, согласно нашей выгрузке, кредиты берутся на операции с недвижимостью, операции с автомобилем и получение образования распределяются примерно поровну, а также на проведение свадьбы*"
   ]
  },
  {
   "cell_type": "code",
   "execution_count": 32,
   "id": "14b71061",
   "metadata": {},
   "outputs": [
    {
     "name": "stdout",
     "output_type": "stream",
     "text": [
      "сотрудник          11090\n",
      "компаньон           5080\n",
      "пенсионер           3837\n",
      "госслужащий         1457\n",
      "безработный            2\n",
      "предприниматель        2\n",
      "студент                1\n",
      "в декрете              1\n",
      "Name: income_type, dtype: int64\n"
     ]
    }
   ],
   "source": [
    "print(data['income_type'].value_counts())"
   ]
  },
  {
   "cell_type": "code",
   "execution_count": 33,
   "id": "c961a480",
   "metadata": {
    "scrolled": true
   },
   "outputs": [
    {
     "name": "stdout",
     "output_type": "stream",
     "text": [
      "0    19729\n",
      "1     1741\n",
      "Name: debt, dtype: int64\n"
     ]
    }
   ],
   "source": [
    "print(data['debt'].value_counts())"
   ]
  },
  {
   "cell_type": "markdown",
   "id": "66bfae30",
   "metadata": {},
   "source": [
    "*Всего лишь 1741 имели задолженности по возврату кредитов, что не так много.*"
   ]
  },
  {
   "cell_type": "markdown",
   "id": "ffc6cda1",
   "metadata": {},
   "source": [
    "*Создадим два новых фрейма:*\n",
    "* Образование, в который войдут столбцы `education_id` и `education`\n",
    "* Семейное положение, в который войдут столбцы `family_status_id` и `family_status`\n",
    "\n",
    "*Новые датафреймы — будут выступать в роли \"словаря\", к которым  можно будет обратиться по идентификатору.*"
   ]
  },
  {
   "cell_type": "code",
   "execution_count": 34,
   "id": "f95e57d3",
   "metadata": {},
   "outputs": [
    {
     "data": {
      "text/html": [
       "<div>\n",
       "<style scoped>\n",
       "    .dataframe tbody tr th:only-of-type {\n",
       "        vertical-align: middle;\n",
       "    }\n",
       "\n",
       "    .dataframe tbody tr th {\n",
       "        vertical-align: top;\n",
       "    }\n",
       "\n",
       "    .dataframe thead th {\n",
       "        text-align: right;\n",
       "    }\n",
       "</style>\n",
       "<table border=\"1\" class=\"dataframe\">\n",
       "  <thead>\n",
       "    <tr style=\"text-align: right;\">\n",
       "      <th></th>\n",
       "      <th>education_id</th>\n",
       "      <th>education</th>\n",
       "    </tr>\n",
       "  </thead>\n",
       "  <tbody>\n",
       "    <tr>\n",
       "      <th>0</th>\n",
       "      <td>0</td>\n",
       "      <td>высшее</td>\n",
       "    </tr>\n",
       "    <tr>\n",
       "      <th>1</th>\n",
       "      <td>1</td>\n",
       "      <td>среднее</td>\n",
       "    </tr>\n",
       "    <tr>\n",
       "      <th>2</th>\n",
       "      <td>1</td>\n",
       "      <td>среднее</td>\n",
       "    </tr>\n",
       "    <tr>\n",
       "      <th>3</th>\n",
       "      <td>1</td>\n",
       "      <td>среднее</td>\n",
       "    </tr>\n",
       "    <tr>\n",
       "      <th>4</th>\n",
       "      <td>1</td>\n",
       "      <td>среднее</td>\n",
       "    </tr>\n",
       "  </tbody>\n",
       "</table>\n",
       "</div>"
      ],
      "text/plain": [
       "   education_id education\n",
       "0             0    высшее\n",
       "1             1   среднее\n",
       "2             1   среднее\n",
       "3             1   среднее\n",
       "4             1   среднее"
      ]
     },
     "metadata": {},
     "output_type": "display_data"
    }
   ],
   "source": [
    "data_edu = data[['education_id','education']]\n",
    "display(data_edu.head())"
   ]
  },
  {
   "cell_type": "code",
   "execution_count": 35,
   "id": "c76d1adc",
   "metadata": {},
   "outputs": [
    {
     "data": {
      "text/html": [
       "<div>\n",
       "<style scoped>\n",
       "    .dataframe tbody tr th:only-of-type {\n",
       "        vertical-align: middle;\n",
       "    }\n",
       "\n",
       "    .dataframe tbody tr th {\n",
       "        vertical-align: top;\n",
       "    }\n",
       "\n",
       "    .dataframe thead th {\n",
       "        text-align: right;\n",
       "    }\n",
       "</style>\n",
       "<table border=\"1\" class=\"dataframe\">\n",
       "  <thead>\n",
       "    <tr style=\"text-align: right;\">\n",
       "      <th></th>\n",
       "      <th>family_status_id</th>\n",
       "      <th>family_status</th>\n",
       "    </tr>\n",
       "  </thead>\n",
       "  <tbody>\n",
       "    <tr>\n",
       "      <th>0</th>\n",
       "      <td>0</td>\n",
       "      <td>женат / замужем</td>\n",
       "    </tr>\n",
       "    <tr>\n",
       "      <th>1</th>\n",
       "      <td>0</td>\n",
       "      <td>женат / замужем</td>\n",
       "    </tr>\n",
       "    <tr>\n",
       "      <th>2</th>\n",
       "      <td>0</td>\n",
       "      <td>женат / замужем</td>\n",
       "    </tr>\n",
       "    <tr>\n",
       "      <th>3</th>\n",
       "      <td>0</td>\n",
       "      <td>женат / замужем</td>\n",
       "    </tr>\n",
       "    <tr>\n",
       "      <th>4</th>\n",
       "      <td>1</td>\n",
       "      <td>гражданский брак</td>\n",
       "    </tr>\n",
       "    <tr>\n",
       "      <th>...</th>\n",
       "      <td>...</td>\n",
       "      <td>...</td>\n",
       "    </tr>\n",
       "    <tr>\n",
       "      <th>21465</th>\n",
       "      <td>1</td>\n",
       "      <td>гражданский брак</td>\n",
       "    </tr>\n",
       "    <tr>\n",
       "      <th>21466</th>\n",
       "      <td>0</td>\n",
       "      <td>женат / замужем</td>\n",
       "    </tr>\n",
       "    <tr>\n",
       "      <th>21467</th>\n",
       "      <td>1</td>\n",
       "      <td>гражданский брак</td>\n",
       "    </tr>\n",
       "    <tr>\n",
       "      <th>21468</th>\n",
       "      <td>0</td>\n",
       "      <td>женат / замужем</td>\n",
       "    </tr>\n",
       "    <tr>\n",
       "      <th>21469</th>\n",
       "      <td>0</td>\n",
       "      <td>женат / замужем</td>\n",
       "    </tr>\n",
       "  </tbody>\n",
       "</table>\n",
       "<p>21470 rows × 2 columns</p>\n",
       "</div>"
      ],
      "text/plain": [
       "       family_status_id     family_status\n",
       "0                     0   женат / замужем\n",
       "1                     0   женат / замужем\n",
       "2                     0   женат / замужем\n",
       "3                     0   женат / замужем\n",
       "4                     1  гражданский брак\n",
       "...                 ...               ...\n",
       "21465                 1  гражданский брак\n",
       "21466                 0   женат / замужем\n",
       "21467                 1  гражданский брак\n",
       "21468                 0   женат / замужем\n",
       "21469                 0   женат / замужем\n",
       "\n",
       "[21470 rows x 2 columns]"
      ]
     },
     "metadata": {},
     "output_type": "display_data"
    }
   ],
   "source": [
    "data_fam = data[['family_status_id','family_status']]\n",
    "display(data_fam)"
   ]
  },
  {
   "cell_type": "code",
   "execution_count": 36,
   "id": "aeb4c565",
   "metadata": {},
   "outputs": [
    {
     "data": {
      "text/html": [
       "<div>\n",
       "<style scoped>\n",
       "    .dataframe tbody tr th:only-of-type {\n",
       "        vertical-align: middle;\n",
       "    }\n",
       "\n",
       "    .dataframe tbody tr th {\n",
       "        vertical-align: top;\n",
       "    }\n",
       "\n",
       "    .dataframe thead th {\n",
       "        text-align: right;\n",
       "    }\n",
       "</style>\n",
       "<table border=\"1\" class=\"dataframe\">\n",
       "  <thead>\n",
       "    <tr style=\"text-align: right;\">\n",
       "      <th></th>\n",
       "      <th>children</th>\n",
       "      <th>days_employed</th>\n",
       "      <th>dob_years</th>\n",
       "      <th>education_id</th>\n",
       "      <th>family_status_id</th>\n",
       "      <th>gender</th>\n",
       "      <th>income_type</th>\n",
       "      <th>debt</th>\n",
       "      <th>total_income</th>\n",
       "      <th>purpose</th>\n",
       "      <th>purpose_category</th>\n",
       "    </tr>\n",
       "  </thead>\n",
       "  <tbody>\n",
       "    <tr>\n",
       "      <th>0</th>\n",
       "      <td>1</td>\n",
       "      <td>8437</td>\n",
       "      <td>42</td>\n",
       "      <td>0</td>\n",
       "      <td>0</td>\n",
       "      <td>F</td>\n",
       "      <td>сотрудник</td>\n",
       "      <td>0</td>\n",
       "      <td>253875</td>\n",
       "      <td>покупка жилья</td>\n",
       "      <td>операции с недвижимостью</td>\n",
       "    </tr>\n",
       "    <tr>\n",
       "      <th>1</th>\n",
       "      <td>1</td>\n",
       "      <td>4024</td>\n",
       "      <td>36</td>\n",
       "      <td>1</td>\n",
       "      <td>0</td>\n",
       "      <td>F</td>\n",
       "      <td>сотрудник</td>\n",
       "      <td>0</td>\n",
       "      <td>112080</td>\n",
       "      <td>приобретение автомобиля</td>\n",
       "      <td>операции с автомобилем</td>\n",
       "    </tr>\n",
       "    <tr>\n",
       "      <th>2</th>\n",
       "      <td>0</td>\n",
       "      <td>5623</td>\n",
       "      <td>33</td>\n",
       "      <td>1</td>\n",
       "      <td>0</td>\n",
       "      <td>M</td>\n",
       "      <td>сотрудник</td>\n",
       "      <td>0</td>\n",
       "      <td>145885</td>\n",
       "      <td>покупка жилья</td>\n",
       "      <td>операции с недвижимостью</td>\n",
       "    </tr>\n",
       "    <tr>\n",
       "      <th>3</th>\n",
       "      <td>3</td>\n",
       "      <td>4124</td>\n",
       "      <td>32</td>\n",
       "      <td>1</td>\n",
       "      <td>0</td>\n",
       "      <td>M</td>\n",
       "      <td>сотрудник</td>\n",
       "      <td>0</td>\n",
       "      <td>267628</td>\n",
       "      <td>дополнительное образование</td>\n",
       "      <td>получение образования</td>\n",
       "    </tr>\n",
       "    <tr>\n",
       "      <th>4</th>\n",
       "      <td>0</td>\n",
       "      <td>14177</td>\n",
       "      <td>53</td>\n",
       "      <td>1</td>\n",
       "      <td>1</td>\n",
       "      <td>F</td>\n",
       "      <td>пенсионер</td>\n",
       "      <td>0</td>\n",
       "      <td>158616</td>\n",
       "      <td>сыграть свадьбу</td>\n",
       "      <td>проведение свадьбы</td>\n",
       "    </tr>\n",
       "  </tbody>\n",
       "</table>\n",
       "</div>"
      ],
      "text/plain": [
       "   children  days_employed  dob_years  education_id  family_status_id gender  \\\n",
       "0         1           8437         42             0                 0      F   \n",
       "1         1           4024         36             1                 0      F   \n",
       "2         0           5623         33             1                 0      M   \n",
       "3         3           4124         32             1                 0      M   \n",
       "4         0          14177         53             1                 1      F   \n",
       "\n",
       "  income_type  debt  total_income                     purpose  \\\n",
       "0   сотрудник     0        253875               покупка жилья   \n",
       "1   сотрудник     0        112080     приобретение автомобиля   \n",
       "2   сотрудник     0        145885               покупка жилья   \n",
       "3   сотрудник     0        267628  дополнительное образование   \n",
       "4   пенсионер     0        158616             сыграть свадьбу   \n",
       "\n",
       "           purpose_category  \n",
       "0  операции с недвижимостью  \n",
       "1    операции с автомобилем  \n",
       "2  операции с недвижимостью  \n",
       "3     получение образования  \n",
       "4        проведение свадьбы  "
      ]
     },
     "metadata": {},
     "output_type": "display_data"
    }
   ],
   "source": [
    "data = data.drop(['education', 'family_status'], axis=1)\n",
    "display(data.head())"
   ]
  },
  {
   "cell_type": "markdown",
   "id": "632ef82e",
   "metadata": {},
   "source": [
    "### Категоризация по доходу\n",
    "\n",
    "\n",
    "\n",
    "*Создадим столбец `total_income_category` с категориями по доходам:*\n",
    "- 0–30000 — 'E';\n",
    "- 30001–50000 — 'D';\n",
    "- 50001–200000 — 'C';\n",
    "- 200001–1000000 — 'B';\n",
    "- 1000001 и выше — 'A'.\n",
    "\n",
    "*Например, кредитополучателю с доходом 25000 нужно назначить категорию 'E', а клиенту, получающему 235000, — 'B'.*\n",
    "\n",
    "*Для начала пишу ф-ю, которая будет делить доход из total_income на категории*"
   ]
  },
  {
   "cell_type": "code",
   "execution_count": 37,
   "id": "e47e2d23",
   "metadata": {},
   "outputs": [],
   "source": [
    "def score(income):\n",
    "    if income < 30000:\n",
    "        return 'E'\n",
    "    if 30001 <= income <= 50000:\n",
    "        return 'D'\n",
    "    if 50001 <= income <= 200000:\n",
    "        return 'C'\n",
    "    if 200001 <= income <= 1000000:\n",
    "        return 'B'\n",
    "     \n",
    "    return 'A'\n"
   ]
  },
  {
   "cell_type": "code",
   "execution_count": 38,
   "id": "2496922d",
   "metadata": {
    "scrolled": false
   },
   "outputs": [
    {
     "data": {
      "text/html": [
       "<div>\n",
       "<style scoped>\n",
       "    .dataframe tbody tr th:only-of-type {\n",
       "        vertical-align: middle;\n",
       "    }\n",
       "\n",
       "    .dataframe tbody tr th {\n",
       "        vertical-align: top;\n",
       "    }\n",
       "\n",
       "    .dataframe thead th {\n",
       "        text-align: right;\n",
       "    }\n",
       "</style>\n",
       "<table border=\"1\" class=\"dataframe\">\n",
       "  <thead>\n",
       "    <tr style=\"text-align: right;\">\n",
       "      <th></th>\n",
       "      <th>children</th>\n",
       "      <th>days_employed</th>\n",
       "      <th>dob_years</th>\n",
       "      <th>education_id</th>\n",
       "      <th>family_status_id</th>\n",
       "      <th>gender</th>\n",
       "      <th>income_type</th>\n",
       "      <th>debt</th>\n",
       "      <th>total_income</th>\n",
       "      <th>purpose</th>\n",
       "      <th>purpose_category</th>\n",
       "      <th>total_income_category</th>\n",
       "    </tr>\n",
       "  </thead>\n",
       "  <tbody>\n",
       "    <tr>\n",
       "      <th>0</th>\n",
       "      <td>1</td>\n",
       "      <td>8437</td>\n",
       "      <td>42</td>\n",
       "      <td>0</td>\n",
       "      <td>0</td>\n",
       "      <td>F</td>\n",
       "      <td>сотрудник</td>\n",
       "      <td>0</td>\n",
       "      <td>253875</td>\n",
       "      <td>покупка жилья</td>\n",
       "      <td>операции с недвижимостью</td>\n",
       "      <td>B</td>\n",
       "    </tr>\n",
       "    <tr>\n",
       "      <th>1</th>\n",
       "      <td>1</td>\n",
       "      <td>4024</td>\n",
       "      <td>36</td>\n",
       "      <td>1</td>\n",
       "      <td>0</td>\n",
       "      <td>F</td>\n",
       "      <td>сотрудник</td>\n",
       "      <td>0</td>\n",
       "      <td>112080</td>\n",
       "      <td>приобретение автомобиля</td>\n",
       "      <td>операции с автомобилем</td>\n",
       "      <td>C</td>\n",
       "    </tr>\n",
       "    <tr>\n",
       "      <th>2</th>\n",
       "      <td>0</td>\n",
       "      <td>5623</td>\n",
       "      <td>33</td>\n",
       "      <td>1</td>\n",
       "      <td>0</td>\n",
       "      <td>M</td>\n",
       "      <td>сотрудник</td>\n",
       "      <td>0</td>\n",
       "      <td>145885</td>\n",
       "      <td>покупка жилья</td>\n",
       "      <td>операции с недвижимостью</td>\n",
       "      <td>C</td>\n",
       "    </tr>\n",
       "    <tr>\n",
       "      <th>3</th>\n",
       "      <td>3</td>\n",
       "      <td>4124</td>\n",
       "      <td>32</td>\n",
       "      <td>1</td>\n",
       "      <td>0</td>\n",
       "      <td>M</td>\n",
       "      <td>сотрудник</td>\n",
       "      <td>0</td>\n",
       "      <td>267628</td>\n",
       "      <td>дополнительное образование</td>\n",
       "      <td>получение образования</td>\n",
       "      <td>B</td>\n",
       "    </tr>\n",
       "    <tr>\n",
       "      <th>4</th>\n",
       "      <td>0</td>\n",
       "      <td>14177</td>\n",
       "      <td>53</td>\n",
       "      <td>1</td>\n",
       "      <td>1</td>\n",
       "      <td>F</td>\n",
       "      <td>пенсионер</td>\n",
       "      <td>0</td>\n",
       "      <td>158616</td>\n",
       "      <td>сыграть свадьбу</td>\n",
       "      <td>проведение свадьбы</td>\n",
       "      <td>C</td>\n",
       "    </tr>\n",
       "  </tbody>\n",
       "</table>\n",
       "</div>"
      ],
      "text/plain": [
       "   children  days_employed  dob_years  education_id  family_status_id gender  \\\n",
       "0         1           8437         42             0                 0      F   \n",
       "1         1           4024         36             1                 0      F   \n",
       "2         0           5623         33             1                 0      M   \n",
       "3         3           4124         32             1                 0      M   \n",
       "4         0          14177         53             1                 1      F   \n",
       "\n",
       "  income_type  debt  total_income                     purpose  \\\n",
       "0   сотрудник     0        253875               покупка жилья   \n",
       "1   сотрудник     0        112080     приобретение автомобиля   \n",
       "2   сотрудник     0        145885               покупка жилья   \n",
       "3   сотрудник     0        267628  дополнительное образование   \n",
       "4   пенсионер     0        158616             сыграть свадьбу   \n",
       "\n",
       "           purpose_category total_income_category  \n",
       "0  операции с недвижимостью                     B  \n",
       "1    операции с автомобилем                     C  \n",
       "2  операции с недвижимостью                     C  \n",
       "3     получение образования                     B  \n",
       "4        проведение свадьбы                     C  "
      ]
     },
     "metadata": {},
     "output_type": "display_data"
    }
   ],
   "source": [
    "\n",
    "data['total_income_category'] = data['total_income'].apply(score)\n",
    "display(data.head())"
   ]
  },
  {
   "cell_type": "code",
   "execution_count": 39,
   "id": "9385db15",
   "metadata": {
    "scrolled": true
   },
   "outputs": [
    {
     "data": {
      "text/plain": [
       "Text(0.5, 1.0, 'Количество клиентов в категориальных группах')"
      ]
     },
     "execution_count": 39,
     "metadata": {},
     "output_type": "execute_result"
    },
    {
     "data": {
      "image/png": "[encoded data removed]",
      "text/plain": [
       "<Figure size 432x288 with 1 Axes>"
      ]
     },
     "metadata": {
      "needs_background": "light"
     },
     "output_type": "display_data"
    }
   ],
   "source": [
    "sns.barplot(  x = 'total_income_category', y = 'index', data = data['total_income_category'].value_counts().reset_index()).set_title('Количество клиентов в категориальных группах')"
   ]
  },
  {
   "cell_type": "markdown",
   "id": "904bbed6",
   "metadata": {},
   "source": [
    "*Превалирующее большинство это клиенты группы С с доходами от 50000 до 200000, следующие клиенты группы В с доходами в диапазоне от 200000 до 1 млн, за ними следуют клиенты группы D, таких мало, с доходом от 30000 до 50000*"
   ]
  },
  {
   "cell_type": "markdown",
   "id": "5c22004d",
   "metadata": {},
   "source": [
    "## Исследование данных\n",
    "\n",
    "### Изучение  зависимости между количеством детей и возвратом кредита в срок\n"
   ]
  },
  {
   "cell_type": "code",
   "execution_count": 40,
   "id": "15f25886",
   "metadata": {},
   "outputs": [
    {
     "data": {
      "text/html": [
       "<div>\n",
       "<style scoped>\n",
       "    .dataframe tbody tr th:only-of-type {\n",
       "        vertical-align: middle;\n",
       "    }\n",
       "\n",
       "    .dataframe tbody tr th {\n",
       "        vertical-align: top;\n",
       "    }\n",
       "\n",
       "    .dataframe thead th {\n",
       "        text-align: right;\n",
       "    }\n",
       "</style>\n",
       "<table border=\"1\" class=\"dataframe\">\n",
       "  <thead>\n",
       "    <tr style=\"text-align: right;\">\n",
       "      <th></th>\n",
       "      <th>debt</th>\n",
       "      <th>total</th>\n",
       "      <th>share</th>\n",
       "    </tr>\n",
       "    <tr>\n",
       "      <th>children</th>\n",
       "      <th></th>\n",
       "      <th></th>\n",
       "      <th></th>\n",
       "    </tr>\n",
       "  </thead>\n",
       "  <tbody>\n",
       "    <tr>\n",
       "      <th>0</th>\n",
       "      <td>1063</td>\n",
       "      <td>14106</td>\n",
       "      <td>0.075358</td>\n",
       "    </tr>\n",
       "    <tr>\n",
       "      <th>1</th>\n",
       "      <td>445</td>\n",
       "      <td>4856</td>\n",
       "      <td>0.091639</td>\n",
       "    </tr>\n",
       "    <tr>\n",
       "      <th>2</th>\n",
       "      <td>202</td>\n",
       "      <td>2128</td>\n",
       "      <td>0.094925</td>\n",
       "    </tr>\n",
       "    <tr>\n",
       "      <th>3</th>\n",
       "      <td>27</td>\n",
       "      <td>330</td>\n",
       "      <td>0.081818</td>\n",
       "    </tr>\n",
       "    <tr>\n",
       "      <th>4</th>\n",
       "      <td>4</td>\n",
       "      <td>41</td>\n",
       "      <td>0.097561</td>\n",
       "    </tr>\n",
       "    <tr>\n",
       "      <th>5</th>\n",
       "      <td>0</td>\n",
       "      <td>9</td>\n",
       "      <td>0.000000</td>\n",
       "    </tr>\n",
       "  </tbody>\n",
       "</table>\n",
       "</div>"
      ],
      "text/plain": [
       "          debt  total     share\n",
       "children                       \n",
       "0         1063  14106  0.075358\n",
       "1          445   4856  0.091639\n",
       "2          202   2128  0.094925\n",
       "3           27    330  0.081818\n",
       "4            4     41  0.097561\n",
       "5            0      9  0.000000"
      ]
     },
     "metadata": {},
     "output_type": "display_data"
    }
   ],
   "source": [
    "pivot_children = data.pivot_table (index = ['children'], values = 'debt', aggfunc = ['sum','count','mean'])\n",
    "pivot_children.columns = ['debt','total','share']\n",
    "display(pivot_children.sort_values(by = ['total'], ascending = False))"
   ]
  },
  {
   "cell_type": "markdown",
   "id": "2c23c3b7",
   "metadata": {},
   "source": [
    "*Зависимость между количеством детей и возвратом кредита в срок существует. Доля повышвется с появлением детей в семье и начинает расти, но в семьях с тремя детьми доля уменьшается незначительно, и составляет 8,1%, т.е просрочки в семьях с 3 детьми менее вероятны, в сравнении с наличием одного или четырех детей в семье. Также нужно отметить, что в семьях с 5 детьми, возврат в срок осуществляется чаще, но данных по не так много, чтобы точно утверждать это. Также можно предположить, что семьеям, в которых от 4х детей могут чаще отказывать в предоставлении кредита.*"
   ]
  },
  {
   "cell_type": "markdown",
   "id": "d8424940",
   "metadata": {},
   "source": [
    "### Изучение зависимости между семейным положением и возвратом кредита в срок\n"
   ]
  },
  {
   "cell_type": "markdown",
   "id": "d132b9ba",
   "metadata": {},
   "source": [
    "*Поскольку ранее мы обновляли data удаляя 'family_status' будем оъединять для вывода сводной таблицы данные из data_fam, где хранится срез 'family_status' и 'family_status_id'. Итоговую сводную таблицу соединять буду методом merge()*"
   ]
  },
  {
   "cell_type": "code",
   "execution_count": 41,
   "id": "6013f065",
   "metadata": {},
   "outputs": [
    {
     "data": {
      "text/html": [
       "<div>\n",
       "<style scoped>\n",
       "    .dataframe tbody tr th:only-of-type {\n",
       "        vertical-align: middle;\n",
       "    }\n",
       "\n",
       "    .dataframe tbody tr th {\n",
       "        vertical-align: top;\n",
       "    }\n",
       "\n",
       "    .dataframe thead th {\n",
       "        text-align: right;\n",
       "    }\n",
       "</style>\n",
       "<table border=\"1\" class=\"dataframe\">\n",
       "  <thead>\n",
       "    <tr style=\"text-align: right;\">\n",
       "      <th></th>\n",
       "      <th>family_status_id</th>\n",
       "      <th>family_status</th>\n",
       "      <th>debt</th>\n",
       "      <th>share</th>\n",
       "    </tr>\n",
       "  </thead>\n",
       "  <tbody>\n",
       "    <tr>\n",
       "      <th>0</th>\n",
       "      <td>0</td>\n",
       "      <td>женат / замужем</td>\n",
       "      <td>931</td>\n",
       "      <td>0.075421</td>\n",
       "    </tr>\n",
       "    <tr>\n",
       "      <th>1</th>\n",
       "      <td>1</td>\n",
       "      <td>гражданский брак</td>\n",
       "      <td>388</td>\n",
       "      <td>0.093224</td>\n",
       "    </tr>\n",
       "    <tr>\n",
       "      <th>2</th>\n",
       "      <td>2</td>\n",
       "      <td>вдовец / вдова</td>\n",
       "      <td>63</td>\n",
       "      <td>0.065693</td>\n",
       "    </tr>\n",
       "    <tr>\n",
       "      <th>3</th>\n",
       "      <td>3</td>\n",
       "      <td>в разводе</td>\n",
       "      <td>85</td>\n",
       "      <td>0.071130</td>\n",
       "    </tr>\n",
       "    <tr>\n",
       "      <th>4</th>\n",
       "      <td>4</td>\n",
       "      <td>Не женат / не замужем</td>\n",
       "      <td>274</td>\n",
       "      <td>0.097509</td>\n",
       "    </tr>\n",
       "  </tbody>\n",
       "</table>\n",
       "</div>"
      ],
      "text/plain": [
       "   family_status_id          family_status  debt     share\n",
       "0                 0        женат / замужем   931  0.075421\n",
       "1                 1       гражданский брак   388  0.093224\n",
       "2                 2         вдовец / вдова    63  0.065693\n",
       "3                 3              в разводе    85  0.071130\n",
       "4                 4  Не женат / не замужем   274  0.097509"
      ]
     },
     "metadata": {},
     "output_type": "display_data"
    }
   ],
   "source": [
    "\n",
    "pivot_family = data.pivot_table(index = ['family_status_id'], values = 'debt', aggfunc =['sum','mean'])\n",
    "pivot_family.columns = ['debt', 'share']\n",
    "data_fam = data_fam.drop_duplicates()\n",
    "pivot_family = data_fam.merge(pivot_family, on='family_status_id')\n",
    "display(pivot_family.sort_values(by = ['family_status'], ascending = False))"
   ]
  },
  {
   "cell_type": "markdown",
   "id": "8c9dd2e0",
   "metadata": {},
   "source": [
    "Видим, что основными группами которые допускают задержки в своевременной оплате кредитов являются группы **женат / замужем , гражданский брак, Не женат / не замужем** тогда как в категориях  **в разводе, вдовец / вдова** наименьшее количество допущенных просрочек. В данной ситуации также можно говорить о наличии связи семейного статуса и своевременности возврата кредита*"
   ]
  },
  {
   "cell_type": "markdown",
   "id": "a462b3b6",
   "metadata": {},
   "source": [
    "### Изучение зависимости  между уровнем дохода и возвратом кредита в срок"
   ]
  },
  {
   "cell_type": "code",
   "execution_count": 42,
   "id": "0223c0f8",
   "metadata": {},
   "outputs": [
    {
     "data": {
      "text/html": [
       "<div>\n",
       "<style scoped>\n",
       "    .dataframe tbody tr th:only-of-type {\n",
       "        vertical-align: middle;\n",
       "    }\n",
       "\n",
       "    .dataframe tbody tr th {\n",
       "        vertical-align: top;\n",
       "    }\n",
       "\n",
       "    .dataframe thead th {\n",
       "        text-align: right;\n",
       "    }\n",
       "</style>\n",
       "<table border=\"1\" class=\"dataframe\">\n",
       "  <thead>\n",
       "    <tr style=\"text-align: right;\">\n",
       "      <th></th>\n",
       "      <th>debt</th>\n",
       "      <th>total</th>\n",
       "      <th>share</th>\n",
       "    </tr>\n",
       "    <tr>\n",
       "      <th>total_income_category</th>\n",
       "      <th></th>\n",
       "      <th></th>\n",
       "      <th></th>\n",
       "    </tr>\n",
       "  </thead>\n",
       "  <tbody>\n",
       "    <tr>\n",
       "      <th>C</th>\n",
       "      <td>1360</td>\n",
       "      <td>16032</td>\n",
       "      <td>0.084830</td>\n",
       "    </tr>\n",
       "    <tr>\n",
       "      <th>B</th>\n",
       "      <td>356</td>\n",
       "      <td>5041</td>\n",
       "      <td>0.070621</td>\n",
       "    </tr>\n",
       "    <tr>\n",
       "      <th>D</th>\n",
       "      <td>21</td>\n",
       "      <td>350</td>\n",
       "      <td>0.060000</td>\n",
       "    </tr>\n",
       "    <tr>\n",
       "      <th>A</th>\n",
       "      <td>2</td>\n",
       "      <td>25</td>\n",
       "      <td>0.080000</td>\n",
       "    </tr>\n",
       "    <tr>\n",
       "      <th>E</th>\n",
       "      <td>2</td>\n",
       "      <td>22</td>\n",
       "      <td>0.090909</td>\n",
       "    </tr>\n",
       "  </tbody>\n",
       "</table>\n",
       "</div>"
      ],
      "text/plain": [
       "                       debt  total     share\n",
       "total_income_category                       \n",
       "C                      1360  16032  0.084830\n",
       "B                       356   5041  0.070621\n",
       "D                        21    350  0.060000\n",
       "A                         2     25  0.080000\n",
       "E                         2     22  0.090909"
      ]
     },
     "metadata": {},
     "output_type": "display_data"
    }
   ],
   "source": [
    "pivot_income = data.pivot_table (index = ['total_income_category'], values = 'debt', aggfunc = ['sum','count','mean'])\n",
    "pivot_income.columns = ['debt','total','share']\n",
    "display(pivot_income.sort_values(by = ['total'], ascending = False))"
   ]
  },
  {
   "cell_type": "markdown",
   "id": "d15d67c1",
   "metadata": {},
   "source": [
    "*Категориям были присвоены в соответствии с следующим уровнем дохода:*\n",
    "- 0–30000 — 'E';\n",
    "- 30001–50000 — 'D';\n",
    "- 50001–200000 — 'C';\n",
    "- 200001–1000000 — 'B';\n",
    "- 1000001 и выше — 'A'.\n",
    "\n",
    "*С уровнем дохода **D** от 30 001 - 50 000 доля тех кто не вернул кредит в срок самая наименьшая 6,0%, тогда как результаты между остальными категориями распределяются довольно необычно. Чаще всего кредиты не возвращаются своевременно в катериях  **E**(0-30 000) 0,9% и **С** (50 001 -200 000) 0,84%. На основании полученных данных сложно судить о прямой зависимости заработной платы на своевременный возврат кредита. Вероятнее по причине отсутсвия части значений и внесенных коррректировок медианной заработной платы, попробовала бы запросить данные в ячейки которые были пустыми.Полагаю, что в данной ситуации такое распределение имеет смысл если смотреть в зависимости от кол-ва детей на своевременность возврата кредита*"
   ]
  },
  {
   "cell_type": "markdown",
   "id": "56fc1f04",
   "metadata": {},
   "source": [
    "### Изучение влияния  целей кредита  на его возврат в срок"
   ]
  },
  {
   "cell_type": "code",
   "execution_count": 43,
   "id": "fdce5ce2",
   "metadata": {},
   "outputs": [
    {
     "data": {
      "text/html": [
       "<div>\n",
       "<style scoped>\n",
       "    .dataframe tbody tr th:only-of-type {\n",
       "        vertical-align: middle;\n",
       "    }\n",
       "\n",
       "    .dataframe tbody tr th {\n",
       "        vertical-align: top;\n",
       "    }\n",
       "\n",
       "    .dataframe thead th {\n",
       "        text-align: right;\n",
       "    }\n",
       "</style>\n",
       "<table border=\"1\" class=\"dataframe\">\n",
       "  <thead>\n",
       "    <tr style=\"text-align: right;\">\n",
       "      <th></th>\n",
       "      <th>debt</th>\n",
       "      <th>total</th>\n",
       "      <th>share</th>\n",
       "    </tr>\n",
       "    <tr>\n",
       "      <th>purpose_category</th>\n",
       "      <th></th>\n",
       "      <th></th>\n",
       "      <th></th>\n",
       "    </tr>\n",
       "  </thead>\n",
       "  <tbody>\n",
       "    <tr>\n",
       "      <th>операции с недвижимостью</th>\n",
       "      <td>782</td>\n",
       "      <td>10814</td>\n",
       "      <td>0.072314</td>\n",
       "    </tr>\n",
       "    <tr>\n",
       "      <th>операции с автомобилем</th>\n",
       "      <td>403</td>\n",
       "      <td>4308</td>\n",
       "      <td>0.093547</td>\n",
       "    </tr>\n",
       "    <tr>\n",
       "      <th>получение образования</th>\n",
       "      <td>370</td>\n",
       "      <td>4014</td>\n",
       "      <td>0.092177</td>\n",
       "    </tr>\n",
       "    <tr>\n",
       "      <th>проведение свадьбы</th>\n",
       "      <td>186</td>\n",
       "      <td>2334</td>\n",
       "      <td>0.079692</td>\n",
       "    </tr>\n",
       "  </tbody>\n",
       "</table>\n",
       "</div>"
      ],
      "text/plain": [
       "                          debt  total     share\n",
       "purpose_category                               \n",
       "операции с недвижимостью   782  10814  0.072314\n",
       "операции с автомобилем     403   4308  0.093547\n",
       "получение образования      370   4014  0.092177\n",
       "проведение свадьбы         186   2334  0.079692"
      ]
     },
     "metadata": {},
     "output_type": "display_data"
    }
   ],
   "source": [
    "pivot_purpose = data.pivot_table (index = ['purpose_category'], values = 'debt', aggfunc = ['sum','count','mean'])\n",
    "pivot_purpose.columns = ['debt','total','share']\n",
    "display(pivot_purpose.sort_values(by = ['total'], ascending = False))"
   ]
  },
  {
   "cell_type": "markdown",
   "id": "2fcda604",
   "metadata": {},
   "source": [
    "*Категории **операции с автомобилем**  и **получение образования** показывают наибольшую долю в своевременном возврате средств в срок 9,35% и 9,23% соотвественно.*"
   ]
  },
  {
   "cell_type": "markdown",
   "id": "fa5276e0",
   "metadata": {},
   "source": [
    "## Выводы"
   ]
  },
  {
   "cell_type": "markdown",
   "id": "292538f3",
   "metadata": {},
   "source": [
    "*Итоги исследования показывают связь между своеврменностью возврата кредита, с показателями:*\n",
    "- **Количества детей**\n",
    "\n",
    "*Доля наличия задолженности по кредиту с появлением детей в семье растет, но при этом в семьях с тремя детьми она незначительно падает, что говорит о надежности замещиков с 3 детьми в сравнении с семьями с 1-2 детьми.* \n",
    "\n",
    "- **Семейный статус**\n",
    "\n",
    "*Также показывает, что категории **женат / замужем , гражданский брак, Не женат / не замужем** говорят о меньшей надежности заемщика, так как говорит о наличии допущенных просрочек по кредиту, в сравнении с категориями **в разводе, вдовец / вдова** по которым результаты исследования показывают наименьшую долю наличия задержек с возвратом по кредиту 6,5 - 7,11 %*\n",
    "\n",
    "*О категориях уровень дохода и цель кредита не показывают прямой связи  и влияния на своевременность возврата крелита*\n",
    "\n",
    "- **уровень дохода**\n",
    "\n",
    "*Не показал однозначной картины зависимости на срок возврата по кредиту. \n",
    "С уровнем дохода D от 30 001 - 50 000 доля тех кто не вернул кредит в срок самая наименьшая 6,0%, тогда ка в катериях с E(0-30 000) с наименьшим доходом  0,9% и С (50 001 -200 000) со средним доходом (0,84%), значения по сроку возврата находятся на примерно одном уровне.*\n",
    "- **цели кредита**\n",
    "\n",
    "*На основании данных также нельзя говорить об однозначной зависимости на возврат кредита. \n",
    "Категории операции с автомобилем и получение образования показывают наибольшую долю в своевременном возврате средств в срок 9,35% и 9,23% соотвественно.*\n",
    "\n"
   ]
  },
  {
   "cell_type": "markdown",
   "id": "07850fa3",
   "metadata": {},
   "source": [
    "## Итоги"
   ]
  },
  {
   "cell_type": "markdown",
   "id": "d9565c4b",
   "metadata": {},
   "source": [
    "*Наибольшее влияние на возврат кредита в срок оказывает количество детей и семейный статус. Чем больше детей в семье, тем выше вероятность невозарата кредитных средств в срок. \n",
    "Для этого покажу взаимосвязь на графике.*"
   ]
  },
  {
   "cell_type": "code",
   "execution_count": 44,
   "id": "d0a332be",
   "metadata": {},
   "outputs": [
    {
     "name": "stderr",
     "output_type": "stream",
     "text": [
      "C:\\Dev\\Jupyter\\dist\\pyenv3.7-win64\\lib\\site-packages\\seaborn\\_decorators.py:36: FutureWarning: Pass the following variables as keyword args: x, y. From version 0.12, the only valid positional argument will be `data`, and passing other arguments without an explicit keyword will result in an error or misinterpretation.\n",
      "  warnings.warn(\n"
     ]
    },
    {
     "data": {
      "text/plain": [
       "Text(0.5, 1.0, 'Connection between the number of children and loan repayment')"
      ]
     },
     "execution_count": 44,
     "metadata": {},
     "output_type": "execute_result"
    },
    {
     "data": {
      "image/png": "[encoded data removed]",
      "text/plain": [
       "<Figure size 432x288 with 1 Axes>"
      ]
     },
     "metadata": {
      "needs_background": "light"
     },
     "output_type": "display_data"
    }
   ],
   "source": [
    "\n",
    "x=pivot_children.index.get_level_values(0) #вывожу индекс из сводной таблицы\n",
    "sns.barplot(x, (pivot_children['share'])*100).set_title('Connection between the number of children and loan repayment') #для у умножаем на 100% чтобы показать %, а не долю."
   ]
  },
  {
   "cell_type": "markdown",
   "id": "2b4cbf30",
   "metadata": {},
   "source": [
    "*Видим, что с увеличением количества детей, вероятность невозврата кредитных средств в срок растет, тогда как с наличием 3 детей она снижается, но значение по прежнему выше чем в ситуациях, когда у заемщика детей нет.*"
   ]
  },
  {
   "cell_type": "markdown",
   "id": "ff787eb0",
   "metadata": {},
   "source": [
    "*Также взаимосвязь была обнаружена между семейным статусом и его влиянием на возврат кредита в срок.*"
   ]
  },
  {
   "cell_type": "code",
   "execution_count": 45,
   "id": "0fcc7b7a",
   "metadata": {},
   "outputs": [
    {
     "data": {
      "text/plain": [
       "Text(0.5, 1.0, 'Connection between family status and loan repayment')"
      ]
     },
     "execution_count": 45,
     "metadata": {},
     "output_type": "execute_result"
    },
    {
     "data": {
      "image/png": "[encoded data removed]",
      "text/plain": [
       "<Figure size 698.4x379.44 with 1 Axes>"
      ]
     },
     "metadata": {},
     "output_type": "display_data"
    }
   ],
   "source": [
    "sns.set(rc={'figure.figsize':(9.7,5.27)}) #to fix the signatures in abscissa\n",
    "#to show the persentage (*100)\n",
    "sns.barplot(x=pivot_family['family_status'], y=pivot_family['share']*100).set_title('Connection between family status and loan repayment') "
   ]
  },
  {
   "cell_type": "markdown",
   "id": "b401c6ff",
   "metadata": {},
   "source": [
    "*В категориях **женат / замужем , гражданский брак, Не женат / не замужем** говорят о меньшей надежности заемщика, так как говорит о наличии допущенных просрочек по кредиту, в сравнении с категориями в разводе, вдовец / вдова по которым результаты исследования показывают наименьшую долю наличия задержек с возвратом по кредиту*"
   ]
  }
 ],
 "metadata": {
  "ExecuteTimeLog": [
   {
    "duration": 547,
    "start_time": "2022-02-20T06:57:24.145Z"
   },
   {
    "duration": 360,
    "start_time": "2022-02-20T06:57:24.694Z"
   },
   {
    "duration": 27,
    "start_time": "2022-02-20T06:57:25.056Z"
   },
   {
    "duration": 11,
    "start_time": "2022-02-20T06:57:25.085Z"
   },
   {
    "duration": 33,
    "start_time": "2022-02-20T06:57:25.098Z"
   },
   {
    "duration": 4,
    "start_time": "2022-02-20T06:57:25.133Z"
   },
   {
    "duration": 5,
    "start_time": "2022-02-20T06:57:25.139Z"
   },
   {
    "duration": 9,
    "start_time": "2022-02-20T06:57:25.146Z"
   },
   {
    "duration": 25,
    "start_time": "2022-02-20T06:57:25.158Z"
   },
   {
    "duration": 10,
    "start_time": "2022-02-20T06:57:25.185Z"
   },
   {
    "duration": 34,
    "start_time": "2022-02-20T06:57:25.197Z"
   },
   {
    "duration": 9,
    "start_time": "2022-02-20T06:57:25.232Z"
   },
   {
    "duration": 12,
    "start_time": "2022-02-20T06:57:25.242Z"
   },
   {
    "duration": 30,
    "start_time": "2022-02-20T06:57:25.255Z"
   },
   {
    "duration": 13,
    "start_time": "2022-02-20T06:57:25.286Z"
   },
   {
    "duration": 31,
    "start_time": "2022-02-20T06:57:25.300Z"
   },
   {
    "duration": 10,
    "start_time": "2022-02-20T06:57:25.333Z"
   },
   {
    "duration": 26,
    "start_time": "2022-02-20T06:57:25.345Z"
   },
   {
    "duration": 13,
    "start_time": "2022-02-20T06:57:25.373Z"
   },
   {
    "duration": 55,
    "start_time": "2022-02-20T06:57:25.387Z"
   },
   {
    "duration": 15,
    "start_time": "2022-02-20T06:57:25.444Z"
   },
   {
    "duration": 17,
    "start_time": "2022-02-20T06:57:25.460Z"
   },
   {
    "duration": 5,
    "start_time": "2022-02-20T06:57:25.479Z"
   },
   {
    "duration": 16,
    "start_time": "2022-02-20T06:57:25.486Z"
   },
   {
    "duration": 27,
    "start_time": "2022-02-20T06:57:25.504Z"
   },
   {
    "duration": 6,
    "start_time": "2022-02-20T06:57:25.532Z"
   },
   {
    "duration": 2,
    "start_time": "2022-02-20T06:57:25.542Z"
   },
   {
    "duration": 8,
    "start_time": "2022-02-20T06:57:25.545Z"
   },
   {
    "duration": 34,
    "start_time": "2022-02-20T06:57:25.554Z"
   },
   {
    "duration": 5,
    "start_time": "2022-02-20T06:57:25.590Z"
   },
   {
    "duration": 36,
    "start_time": "2022-02-20T06:57:25.597Z"
   },
   {
    "duration": 7,
    "start_time": "2022-02-20T06:57:25.634Z"
   },
   {
    "duration": 10,
    "start_time": "2022-02-20T06:57:25.644Z"
   },
   {
    "duration": 13,
    "start_time": "2022-02-20T06:57:25.656Z"
   },
   {
    "duration": 18,
    "start_time": "2022-02-20T06:57:25.671Z"
   },
   {
    "duration": 5,
    "start_time": "2022-02-20T06:57:25.691Z"
   },
   {
    "duration": 46,
    "start_time": "2022-02-20T06:57:25.697Z"
   },
   {
    "duration": 24,
    "start_time": "2022-02-20T06:57:25.745Z"
   },
   {
    "duration": 21,
    "start_time": "2022-02-20T06:57:25.771Z"
   },
   {
    "duration": 48,
    "start_time": "2022-02-20T06:57:25.794Z"
   },
   {
    "duration": 27,
    "start_time": "2022-02-20T06:57:25.844Z"
   },
   {
    "duration": 31,
    "start_time": "2022-02-20T07:00:19.905Z"
   },
   {
    "duration": 16,
    "start_time": "2022-02-20T07:01:43.870Z"
   },
   {
    "duration": 268,
    "start_time": "2022-02-20T07:02:56.050Z"
   },
   {
    "duration": 8,
    "start_time": "2022-02-20T07:02:58.988Z"
   },
   {
    "duration": 243,
    "start_time": "2022-02-20T14:27:47.787Z"
   },
   {
    "duration": 212,
    "start_time": "2022-02-20T14:28:03.871Z"
   },
   {
    "duration": 616,
    "start_time": "2022-02-20T14:28:13.721Z"
   },
   {
    "duration": 206,
    "start_time": "2022-02-20T14:28:14.339Z"
   },
   {
    "duration": 31,
    "start_time": "2022-02-20T14:28:14.551Z"
   },
   {
    "duration": 34,
    "start_time": "2022-02-20T14:28:14.584Z"
   },
   {
    "duration": 12,
    "start_time": "2022-02-20T14:28:14.620Z"
   },
   {
    "duration": 59,
    "start_time": "2022-02-20T14:28:14.634Z"
   },
   {
    "duration": 20,
    "start_time": "2022-02-20T14:28:14.696Z"
   },
   {
    "duration": 44,
    "start_time": "2022-02-20T14:28:14.719Z"
   },
   {
    "duration": 47,
    "start_time": "2022-02-20T14:28:14.766Z"
   },
   {
    "duration": 42,
    "start_time": "2022-02-20T14:28:14.815Z"
   },
   {
    "duration": 23,
    "start_time": "2022-02-20T14:28:14.859Z"
   },
   {
    "duration": 25,
    "start_time": "2022-02-20T14:28:14.884Z"
   },
   {
    "duration": 26,
    "start_time": "2022-02-20T14:28:14.911Z"
   },
   {
    "duration": 41,
    "start_time": "2022-02-20T14:28:14.940Z"
   },
   {
    "duration": 63,
    "start_time": "2022-02-20T14:28:14.984Z"
   },
   {
    "duration": 21,
    "start_time": "2022-02-20T14:28:15.049Z"
   },
   {
    "duration": 25,
    "start_time": "2022-02-20T14:28:15.073Z"
   },
   {
    "duration": 19,
    "start_time": "2022-02-20T14:28:15.100Z"
   },
   {
    "duration": 63,
    "start_time": "2022-02-20T14:28:15.121Z"
   },
   {
    "duration": 21,
    "start_time": "2022-02-20T14:28:15.187Z"
   },
   {
    "duration": 27,
    "start_time": "2022-02-20T14:28:15.210Z"
   },
   {
    "duration": 17,
    "start_time": "2022-02-20T14:28:15.241Z"
   },
   {
    "duration": 19,
    "start_time": "2022-02-20T14:28:15.260Z"
   },
   {
    "duration": 30,
    "start_time": "2022-02-20T14:28:15.281Z"
   },
   {
    "duration": 20,
    "start_time": "2022-02-20T14:28:15.313Z"
   },
   {
    "duration": 12,
    "start_time": "2022-02-20T14:28:15.335Z"
   },
   {
    "duration": 15,
    "start_time": "2022-02-20T14:28:15.349Z"
   },
   {
    "duration": 7,
    "start_time": "2022-02-20T14:28:15.366Z"
   },
   {
    "duration": 32,
    "start_time": "2022-02-20T14:28:15.375Z"
   },
   {
    "duration": 38,
    "start_time": "2022-02-20T14:28:15.409Z"
   },
   {
    "duration": 7,
    "start_time": "2022-02-20T14:28:15.448Z"
   },
   {
    "duration": 11,
    "start_time": "2022-02-20T14:28:15.458Z"
   },
   {
    "duration": 12,
    "start_time": "2022-02-20T14:28:15.471Z"
   },
   {
    "duration": 10,
    "start_time": "2022-02-20T14:28:15.507Z"
   },
   {
    "duration": 14,
    "start_time": "2022-02-20T14:28:15.518Z"
   },
   {
    "duration": 18,
    "start_time": "2022-02-20T14:28:15.534Z"
   },
   {
    "duration": 10,
    "start_time": "2022-02-20T14:28:15.554Z"
   },
   {
    "duration": 42,
    "start_time": "2022-02-20T14:28:15.566Z"
   },
   {
    "duration": 30,
    "start_time": "2022-02-20T14:28:15.610Z"
   },
   {
    "duration": 28,
    "start_time": "2022-02-20T14:28:15.641Z"
   },
   {
    "duration": 61,
    "start_time": "2022-02-20T14:28:15.671Z"
   },
   {
    "duration": 33,
    "start_time": "2022-02-20T14:28:15.734Z"
   },
   {
    "duration": 771,
    "start_time": "2022-02-20T14:57:20.872Z"
   },
   {
    "duration": 184,
    "start_time": "2022-02-20T15:09:27.253Z"
   },
   {
    "duration": 68,
    "start_time": "2022-02-20T16:52:10.531Z"
   },
   {
    "duration": 327,
    "start_time": "2022-02-20T16:52:31.735Z"
   },
   {
    "duration": 29,
    "start_time": "2022-02-20T16:52:52.155Z"
   },
   {
    "duration": 263,
    "start_time": "2022-02-20T16:56:15.999Z"
   },
   {
    "duration": 264,
    "start_time": "2022-02-20T17:00:42.413Z"
   },
   {
    "duration": 261,
    "start_time": "2022-02-20T17:01:38.580Z"
   },
   {
    "duration": 69,
    "start_time": "2022-02-20T17:11:11.674Z"
   },
   {
    "duration": 73,
    "start_time": "2022-02-20T17:11:24.268Z"
   },
   {
    "duration": 671,
    "start_time": "2022-02-20T17:15:29.383Z"
   },
   {
    "duration": 187,
    "start_time": "2022-02-20T17:15:30.057Z"
   },
   {
    "duration": 32,
    "start_time": "2022-02-20T17:15:30.246Z"
   },
   {
    "duration": 31,
    "start_time": "2022-02-20T17:15:30.280Z"
   },
   {
    "duration": 15,
    "start_time": "2022-02-20T17:15:30.313Z"
   },
   {
    "duration": 34,
    "start_time": "2022-02-20T17:15:30.330Z"
   },
   {
    "duration": 31,
    "start_time": "2022-02-20T17:15:30.366Z"
   },
   {
    "duration": 46,
    "start_time": "2022-02-20T17:15:30.400Z"
   },
   {
    "duration": 30,
    "start_time": "2022-02-20T17:15:30.449Z"
   },
   {
    "duration": 51,
    "start_time": "2022-02-20T17:15:30.481Z"
   },
   {
    "duration": 11,
    "start_time": "2022-02-20T17:15:30.535Z"
   },
   {
    "duration": 20,
    "start_time": "2022-02-20T17:15:30.548Z"
   },
   {
    "duration": 20,
    "start_time": "2022-02-20T17:15:30.570Z"
   },
   {
    "duration": 25,
    "start_time": "2022-02-20T17:15:30.592Z"
   },
   {
    "duration": 64,
    "start_time": "2022-02-20T17:15:30.620Z"
   },
   {
    "duration": 15,
    "start_time": "2022-02-20T17:15:30.686Z"
   },
   {
    "duration": 16,
    "start_time": "2022-02-20T17:15:30.703Z"
   },
   {
    "duration": 16,
    "start_time": "2022-02-20T17:15:30.722Z"
   },
   {
    "duration": 41,
    "start_time": "2022-02-20T17:15:30.740Z"
   },
   {
    "duration": 15,
    "start_time": "2022-02-20T17:15:30.783Z"
   },
   {
    "duration": 34,
    "start_time": "2022-02-20T17:15:30.807Z"
   },
   {
    "duration": 31,
    "start_time": "2022-02-20T17:15:30.843Z"
   },
   {
    "duration": 25,
    "start_time": "2022-02-20T17:15:30.877Z"
   },
   {
    "duration": 27,
    "start_time": "2022-02-20T17:15:30.905Z"
   },
   {
    "duration": 30,
    "start_time": "2022-02-20T17:15:30.934Z"
   },
   {
    "duration": 20,
    "start_time": "2022-02-20T17:15:30.968Z"
   },
   {
    "duration": 28,
    "start_time": "2022-02-20T17:15:30.990Z"
   },
   {
    "duration": 24,
    "start_time": "2022-02-20T17:15:31.020Z"
   },
   {
    "duration": 63,
    "start_time": "2022-02-20T17:15:31.046Z"
   },
   {
    "duration": 88,
    "start_time": "2022-02-20T17:15:31.111Z"
   },
   {
    "duration": 8,
    "start_time": "2022-02-20T17:15:31.201Z"
   },
   {
    "duration": 23,
    "start_time": "2022-02-20T17:15:31.211Z"
   },
   {
    "duration": 8,
    "start_time": "2022-02-20T17:15:31.237Z"
   },
   {
    "duration": 41,
    "start_time": "2022-02-20T17:15:31.247Z"
   },
   {
    "duration": 19,
    "start_time": "2022-02-20T17:15:31.290Z"
   },
   {
    "duration": 27,
    "start_time": "2022-02-20T17:15:31.311Z"
   },
   {
    "duration": 14,
    "start_time": "2022-02-20T17:15:31.340Z"
   },
   {
    "duration": 32,
    "start_time": "2022-02-20T17:15:31.357Z"
   },
   {
    "duration": 49,
    "start_time": "2022-02-20T17:15:31.392Z"
   },
   {
    "duration": 31,
    "start_time": "2022-02-20T17:15:31.443Z"
   },
   {
    "duration": 46,
    "start_time": "2022-02-20T17:15:31.475Z"
   },
   {
    "duration": 35,
    "start_time": "2022-02-20T17:15:31.522Z"
   },
   {
    "duration": 810,
    "start_time": "2022-02-20T17:15:31.559Z"
   },
   {
    "duration": 259,
    "start_time": "2022-02-20T17:15:32.371Z"
   },
   {
    "duration": 673,
    "start_time": "2022-02-20T17:22:32.174Z"
   },
   {
    "duration": 215,
    "start_time": "2022-02-20T17:22:32.850Z"
   },
   {
    "duration": 32,
    "start_time": "2022-02-20T17:22:33.068Z"
   },
   {
    "duration": 14,
    "start_time": "2022-02-20T17:22:33.102Z"
   },
   {
    "duration": 13,
    "start_time": "2022-02-20T17:22:33.119Z"
   },
   {
    "duration": 12,
    "start_time": "2022-02-20T17:22:33.135Z"
   },
   {
    "duration": 7,
    "start_time": "2022-02-20T17:22:33.149Z"
   },
   {
    "duration": 9,
    "start_time": "2022-02-20T17:22:33.160Z"
   },
   {
    "duration": 42,
    "start_time": "2022-02-20T17:22:33.171Z"
   },
   {
    "duration": 29,
    "start_time": "2022-02-20T17:22:33.215Z"
   },
   {
    "duration": 12,
    "start_time": "2022-02-20T17:22:33.246Z"
   },
   {
    "duration": 5,
    "start_time": "2022-02-20T17:22:33.260Z"
   },
   {
    "duration": 43,
    "start_time": "2022-02-20T17:22:33.266Z"
   },
   {
    "duration": 12,
    "start_time": "2022-02-20T17:22:33.312Z"
   },
   {
    "duration": 35,
    "start_time": "2022-02-20T17:22:33.326Z"
   },
   {
    "duration": 15,
    "start_time": "2022-02-20T17:22:33.363Z"
   },
   {
    "duration": 6,
    "start_time": "2022-02-20T17:22:33.408Z"
   },
   {
    "duration": 15,
    "start_time": "2022-02-20T17:22:33.416Z"
   },
   {
    "duration": 31,
    "start_time": "2022-02-20T17:22:33.433Z"
   },
   {
    "duration": 45,
    "start_time": "2022-02-20T17:22:33.466Z"
   },
   {
    "duration": 26,
    "start_time": "2022-02-20T17:22:33.514Z"
   },
   {
    "duration": 17,
    "start_time": "2022-02-20T17:22:33.542Z"
   },
   {
    "duration": 49,
    "start_time": "2022-02-20T17:22:33.563Z"
   },
   {
    "duration": 6,
    "start_time": "2022-02-20T17:22:33.615Z"
   },
   {
    "duration": 21,
    "start_time": "2022-02-20T17:22:33.623Z"
   },
   {
    "duration": 13,
    "start_time": "2022-02-20T17:22:33.646Z"
   },
   {
    "duration": 15,
    "start_time": "2022-02-20T17:22:33.661Z"
   },
   {
    "duration": 9,
    "start_time": "2022-02-20T17:22:33.678Z"
   },
   {
    "duration": 19,
    "start_time": "2022-02-20T17:22:33.690Z"
   },
   {
    "duration": 48,
    "start_time": "2022-02-20T17:22:33.711Z"
   },
   {
    "duration": 7,
    "start_time": "2022-02-20T17:22:33.761Z"
   },
   {
    "duration": 29,
    "start_time": "2022-02-20T17:22:33.770Z"
   },
   {
    "duration": 26,
    "start_time": "2022-02-20T17:22:33.801Z"
   },
   {
    "duration": 21,
    "start_time": "2022-02-20T17:22:33.829Z"
   },
   {
    "duration": 44,
    "start_time": "2022-02-20T17:22:33.852Z"
   },
   {
    "duration": 22,
    "start_time": "2022-02-20T17:22:33.898Z"
   },
   {
    "duration": 6,
    "start_time": "2022-02-20T17:22:33.922Z"
   },
   {
    "duration": 35,
    "start_time": "2022-02-20T17:22:33.930Z"
   },
   {
    "duration": 36,
    "start_time": "2022-02-20T17:22:33.967Z"
   },
   {
    "duration": 29,
    "start_time": "2022-02-20T17:22:34.005Z"
   },
   {
    "duration": 32,
    "start_time": "2022-02-20T17:22:34.036Z"
   },
   {
    "duration": 60,
    "start_time": "2022-02-20T17:22:34.069Z"
   },
   {
    "duration": 751,
    "start_time": "2022-02-20T17:22:34.130Z"
   },
   {
    "duration": 258,
    "start_time": "2022-02-20T17:22:34.883Z"
   },
   {
    "duration": 633,
    "start_time": "2022-02-20T17:23:03.324Z"
   },
   {
    "duration": 223,
    "start_time": "2022-02-20T17:23:03.959Z"
   },
   {
    "duration": 30,
    "start_time": "2022-02-20T17:23:04.184Z"
   },
   {
    "duration": 12,
    "start_time": "2022-02-20T17:23:04.216Z"
   },
   {
    "duration": 10,
    "start_time": "2022-02-20T17:23:04.230Z"
   },
   {
    "duration": 12,
    "start_time": "2022-02-20T17:23:04.242Z"
   },
   {
    "duration": 5,
    "start_time": "2022-02-20T17:23:04.256Z"
   },
   {
    "duration": 5,
    "start_time": "2022-02-20T17:23:04.264Z"
   },
   {
    "duration": 46,
    "start_time": "2022-02-20T17:23:04.271Z"
   },
   {
    "duration": 27,
    "start_time": "2022-02-20T17:23:04.319Z"
   },
   {
    "duration": 12,
    "start_time": "2022-02-20T17:23:04.348Z"
   },
   {
    "duration": 5,
    "start_time": "2022-02-20T17:23:04.362Z"
   },
   {
    "duration": 41,
    "start_time": "2022-02-20T17:23:04.368Z"
   },
   {
    "duration": 24,
    "start_time": "2022-02-20T17:23:04.411Z"
   },
   {
    "duration": 55,
    "start_time": "2022-02-20T17:23:04.437Z"
   },
   {
    "duration": 16,
    "start_time": "2022-02-20T17:23:04.494Z"
   },
   {
    "duration": 10,
    "start_time": "2022-02-20T17:23:04.512Z"
   },
   {
    "duration": 11,
    "start_time": "2022-02-20T17:23:04.524Z"
   },
   {
    "duration": 29,
    "start_time": "2022-02-20T17:23:04.537Z"
   },
   {
    "duration": 44,
    "start_time": "2022-02-20T17:23:04.568Z"
   },
   {
    "duration": 28,
    "start_time": "2022-02-20T17:23:04.615Z"
   },
   {
    "duration": 18,
    "start_time": "2022-02-20T17:23:04.645Z"
   },
   {
    "duration": 48,
    "start_time": "2022-02-20T17:23:04.667Z"
   },
   {
    "duration": 8,
    "start_time": "2022-02-20T17:23:04.717Z"
   },
   {
    "duration": 26,
    "start_time": "2022-02-20T17:23:04.726Z"
   },
   {
    "duration": 8,
    "start_time": "2022-02-20T17:23:04.754Z"
   },
   {
    "duration": 10,
    "start_time": "2022-02-20T17:23:04.764Z"
   },
   {
    "duration": 6,
    "start_time": "2022-02-20T17:23:04.776Z"
   },
   {
    "duration": 25,
    "start_time": "2022-02-20T17:23:04.784Z"
   },
   {
    "duration": 41,
    "start_time": "2022-02-20T17:23:04.811Z"
   },
   {
    "duration": 7,
    "start_time": "2022-02-20T17:23:04.854Z"
   },
   {
    "duration": 13,
    "start_time": "2022-02-20T17:23:04.862Z"
   },
   {
    "duration": 35,
    "start_time": "2022-02-20T17:23:04.877Z"
   },
   {
    "duration": 13,
    "start_time": "2022-02-20T17:23:04.914Z"
   },
   {
    "duration": 22,
    "start_time": "2022-02-20T17:23:04.929Z"
   },
   {
    "duration": 32,
    "start_time": "2022-02-20T17:23:04.954Z"
   },
   {
    "duration": 8,
    "start_time": "2022-02-20T17:23:04.988Z"
   },
   {
    "duration": 36,
    "start_time": "2022-02-20T17:23:04.998Z"
   },
   {
    "duration": 44,
    "start_time": "2022-02-20T17:23:05.036Z"
   },
   {
    "duration": 33,
    "start_time": "2022-02-20T17:23:05.082Z"
   },
   {
    "duration": 34,
    "start_time": "2022-02-20T17:23:05.118Z"
   },
   {
    "duration": 58,
    "start_time": "2022-02-20T17:23:05.154Z"
   },
   {
    "duration": 744,
    "start_time": "2022-02-20T17:23:05.215Z"
   },
   {
    "duration": 260,
    "start_time": "2022-02-20T17:23:05.961Z"
   },
   {
    "duration": 730,
    "start_time": "2022-02-21T06:24:04.245Z"
   },
   {
    "duration": 262,
    "start_time": "2022-02-21T06:24:04.977Z"
   },
   {
    "duration": 27,
    "start_time": "2022-02-21T06:24:05.241Z"
   },
   {
    "duration": 19,
    "start_time": "2022-02-21T06:24:05.270Z"
   },
   {
    "duration": 28,
    "start_time": "2022-02-21T06:24:05.291Z"
   },
   {
    "duration": 11,
    "start_time": "2022-02-21T06:24:05.321Z"
   },
   {
    "duration": 24,
    "start_time": "2022-02-21T06:24:05.334Z"
   },
   {
    "duration": 19,
    "start_time": "2022-02-21T06:24:05.361Z"
   },
   {
    "duration": 16,
    "start_time": "2022-02-21T06:24:05.382Z"
   },
   {
    "duration": 36,
    "start_time": "2022-02-21T06:24:05.400Z"
   },
   {
    "duration": 12,
    "start_time": "2022-02-21T06:24:05.438Z"
   },
   {
    "duration": 13,
    "start_time": "2022-02-21T06:24:05.451Z"
   },
   {
    "duration": 23,
    "start_time": "2022-02-21T06:24:05.466Z"
   },
   {
    "duration": 23,
    "start_time": "2022-02-21T06:24:05.491Z"
   },
   {
    "duration": 48,
    "start_time": "2022-02-21T06:24:05.516Z"
   },
   {
    "duration": 12,
    "start_time": "2022-02-21T06:24:05.566Z"
   },
   {
    "duration": 15,
    "start_time": "2022-02-21T06:24:05.579Z"
   },
   {
    "duration": 26,
    "start_time": "2022-02-21T06:24:05.595Z"
   },
   {
    "duration": 42,
    "start_time": "2022-02-21T06:24:05.622Z"
   },
   {
    "duration": 13,
    "start_time": "2022-02-21T06:24:05.666Z"
   },
   {
    "duration": 35,
    "start_time": "2022-02-21T06:24:05.681Z"
   },
   {
    "duration": 29,
    "start_time": "2022-02-21T06:24:05.717Z"
   },
   {
    "duration": 21,
    "start_time": "2022-02-21T06:24:05.750Z"
   },
   {
    "duration": 19,
    "start_time": "2022-02-21T06:24:05.773Z"
   },
   {
    "duration": 34,
    "start_time": "2022-02-21T06:24:05.793Z"
   },
   {
    "duration": 22,
    "start_time": "2022-02-21T06:24:05.828Z"
   },
   {
    "duration": 21,
    "start_time": "2022-02-21T06:24:05.852Z"
   },
   {
    "duration": 13,
    "start_time": "2022-02-21T06:24:05.875Z"
   },
   {
    "duration": 15,
    "start_time": "2022-02-21T06:24:05.890Z"
   },
   {
    "duration": 55,
    "start_time": "2022-02-21T06:24:05.907Z"
   },
   {
    "duration": 11,
    "start_time": "2022-02-21T06:24:05.964Z"
   },
   {
    "duration": 14,
    "start_time": "2022-02-21T06:24:05.977Z"
   },
   {
    "duration": 29,
    "start_time": "2022-02-21T06:24:05.992Z"
   },
   {
    "duration": 19,
    "start_time": "2022-02-21T06:24:06.022Z"
   },
   {
    "duration": 24,
    "start_time": "2022-02-21T06:24:06.042Z"
   },
   {
    "duration": 27,
    "start_time": "2022-02-21T06:24:06.067Z"
   },
   {
    "duration": 15,
    "start_time": "2022-02-21T06:24:06.096Z"
   },
   {
    "duration": 32,
    "start_time": "2022-02-21T06:24:06.113Z"
   },
   {
    "duration": 31,
    "start_time": "2022-02-21T06:24:06.147Z"
   },
   {
    "duration": 25,
    "start_time": "2022-02-21T06:24:06.180Z"
   },
   {
    "duration": 29,
    "start_time": "2022-02-21T06:24:06.207Z"
   },
   {
    "duration": 29,
    "start_time": "2022-02-21T06:24:06.260Z"
   },
   {
    "duration": 719,
    "start_time": "2022-02-21T06:24:06.291Z"
   },
   {
    "duration": 243,
    "start_time": "2022-02-21T06:24:07.012Z"
   }
  ],
  "kernelspec": {
   "display_name": "Python 3 (ipykernel)",
   "language": "python",
   "name": "python3"
  },
  "language_info": {
   "codemirror_mode": {
    "name": "ipython",
    "version": 3
   },
   "file_extension": ".py",
   "mimetype": "text/x-python",
   "name": "python",
   "nbconvert_exporter": "python",
   "pygments_lexer": "ipython3",
   "version": "3.10.1"
  },
  "toc": {
   "base_numbering": 1,
   "nav_menu": {
    "height": "253px",
    "width": "312px"
   },
   "number_sections": true,
   "sideBar": true,
   "skip_h1_title": false,
   "title_cell": "Table of Contents",
   "title_sidebar": "Contents",
   "toc_cell": false,
   "toc_position": {
    "height": "calc(100% - 180px)",
    "left": "10px",
    "top": "150px",
    "width": "165px"
   },
   "toc_section_display": true,
   "toc_window_display": true
  }
 },
 "nbformat": 4,
 "nbformat_minor": 5
}
