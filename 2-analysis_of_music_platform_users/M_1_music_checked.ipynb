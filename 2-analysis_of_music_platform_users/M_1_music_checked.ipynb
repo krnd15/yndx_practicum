{
 "cells": [
  {
   "cell_type": "markdown",
   "metadata": {
    "toc": true
   },
   "source": [
    "<h1>Table of Contents<span class=\"tocSkip\"></span></h1>\n",
    "<div class=\"toc\"><ul class=\"toc-item\"><li><span><a href=\"#Изучение-полученных-данных\" data-toc-modified-id=\"Изучение-полученных-данных-1\"><span class=\"toc-item-num\">1&nbsp;&nbsp;</span>Изучение полученных данных</a></span></li><li><span><a href=\"#Предобработка-данных\" data-toc-modified-id=\"Предобработка-данных-2\"><span class=\"toc-item-num\">2&nbsp;&nbsp;</span>Предобработка данных</a></span><ul class=\"toc-item\"><li><span><a href=\"#Работа-с-неявными-дубликатами-GENRE\" data-toc-modified-id=\"Работа-с-неявными-дубликатами-GENRE-2.1\"><span class=\"toc-item-num\">2.1&nbsp;&nbsp;</span>Работа с неявными дубликатами GENRE</a></span></li></ul></li><li><span><a href=\"#Исследовательский-анализ-данных\" data-toc-modified-id=\"Исследовательский-анализ-данных-3\"><span class=\"toc-item-num\">3&nbsp;&nbsp;</span>Исследовательский анализ данных</a></span><ul class=\"toc-item\"><li><span><a href=\"#Сравнение-поведения-пользователей-двух-столиц\" data-toc-modified-id=\"Сравнение-поведения-пользователей-двух-столиц-3.1\"><span class=\"toc-item-num\">3.1&nbsp;&nbsp;</span>Сравнение поведения пользователей двух столиц</a></span></li><li><span><a href=\"#Жанровые-предпочтения-в-Москве-и-Петербурге\" data-toc-modified-id=\"Жанровые-предпочтения-в-Москве-и-Петербурге-3.2\"><span class=\"toc-item-num\">3.2&nbsp;&nbsp;</span>Жанровые предпочтения в Москве и Петербурге</a></span></li><li><span><a href=\"#Музыка-в-начале-и-в-конце-недели\" data-toc-modified-id=\"Музыка-в-начале-и-в-конце-недели-3.3\"><span class=\"toc-item-num\">3.3&nbsp;&nbsp;</span>Музыка в начале и в конце недели</a></span></li><li><span><a href=\"#Промежуточные-выводы\" data-toc-modified-id=\"Промежуточные-выводы-3.4\"><span class=\"toc-item-num\">3.4&nbsp;&nbsp;</span>Промежуточные выводы</a></span></li></ul></li><li><span><a href=\"#Итоги-исследования\" data-toc-modified-id=\"Итоги-исследования-4\"><span class=\"toc-item-num\">4&nbsp;&nbsp;</span>Итоги исследования</a></span></li></ul></div>"
   ]
  },
  {
   "cell_type": "markdown",
   "metadata": {
    "id": "E0vqbgi9ay0H"
   },
   "source": [
    "# Яндекс.Музыка"
   ]
  },
  {
   "cell_type": "markdown",
   "metadata": {
    "id": "VUC88oWjTJw2"
   },
   "source": [
    "Сравнение Москвы и Петербурга окружено мифами. Например:\n",
    " * Москва — мегаполис, подчинённый жёсткому ритму рабочей недели;\n",
    " * Петербург — культурная столица, со своими вкусами.\n",
    "На основании данных полученных от команды Яндекс.Музыки необходимо провести анализ предпочтений пользователей двух столиц. \n",
    "\n",
    "**Цель исследования** — проверьте три гипотезы:\n",
    "1. Активность пользователей зависит от дня недели. Причём в Москве и Петербурге это проявляется по-разному.\n",
    "2. В понедельник утром в Москве преобладают одни жанры, а в Петербурге — другие. Так же и вечером пятницы преобладают разные жанры — в зависимости от города. \n",
    "3. Москва и Петербург предпочитают разные жанры музыки. В Москве чаще слушают поп-музыку, в Петербурге — русский рэп.\n",
    "\n",
    "\n",
    "**Описание колонок:**\n",
    "- `userID` — идентификатор пользователя;\n",
    "- `Track` — название трека;\n",
    "- `artist` — имя исполнителя;\n",
    "- `genre` — название жанра;\n",
    "- `City` — город пользователя;\n",
    "- `time` — время начала прослушивания;\n",
    "- `Day` — день недели.\n"
   ]
  },
  {
   "cell_type": "markdown",
   "metadata": {
    "id": "Ml1hmfXC_Zcs"
   },
   "source": [
    "## Изучение полученных данных"
   ]
  },
  {
   "cell_type": "code",
   "execution_count": 1,
   "metadata": {
    "id": "AXN7PHPN_Zcs"
   },
   "outputs": [],
   "source": [
    "import pandas as pd\n",
    "import seaborn as sns\n",
    "sns.set_style(\"whitegrid\")\n",
    "import matplotlib.pyplot as plt\n"
   ]
  },
  {
   "cell_type": "code",
   "execution_count": 2,
   "metadata": {
    "id": "fFVu7vqh_Zct"
   },
   "outputs": [
    {
     "data": {
      "text/html": [
       "<div>\n",
       "<style scoped>\n",
       "    .dataframe tbody tr th:only-of-type {\n",
       "        vertical-align: middle;\n",
       "    }\n",
       "\n",
       "    .dataframe tbody tr th {\n",
       "        vertical-align: top;\n",
       "    }\n",
       "\n",
       "    .dataframe thead th {\n",
       "        text-align: right;\n",
       "    }\n",
       "</style>\n",
       "<table border=\"1\" class=\"dataframe\">\n",
       "  <thead>\n",
       "    <tr style=\"text-align: right;\">\n",
       "      <th></th>\n",
       "      <th>userID</th>\n",
       "      <th>Track</th>\n",
       "      <th>artist</th>\n",
       "      <th>genre</th>\n",
       "      <th>City</th>\n",
       "      <th>time</th>\n",
       "      <th>Day</th>\n",
       "    </tr>\n",
       "  </thead>\n",
       "  <tbody>\n",
       "    <tr>\n",
       "      <th>0</th>\n",
       "      <td>FFB692EC</td>\n",
       "      <td>Kamigata To Boots</td>\n",
       "      <td>The Mass Missile</td>\n",
       "      <td>rock</td>\n",
       "      <td>Saint-Petersburg</td>\n",
       "      <td>20:28:33</td>\n",
       "      <td>Wednesday</td>\n",
       "    </tr>\n",
       "    <tr>\n",
       "      <th>1</th>\n",
       "      <td>55204538</td>\n",
       "      <td>Delayed Because of Accident</td>\n",
       "      <td>Andreas Rönnberg</td>\n",
       "      <td>rock</td>\n",
       "      <td>Moscow</td>\n",
       "      <td>14:07:09</td>\n",
       "      <td>Friday</td>\n",
       "    </tr>\n",
       "    <tr>\n",
       "      <th>2</th>\n",
       "      <td>20EC38</td>\n",
       "      <td>Funiculì funiculà</td>\n",
       "      <td>Mario Lanza</td>\n",
       "      <td>pop</td>\n",
       "      <td>Saint-Petersburg</td>\n",
       "      <td>20:58:07</td>\n",
       "      <td>Wednesday</td>\n",
       "    </tr>\n",
       "    <tr>\n",
       "      <th>3</th>\n",
       "      <td>A3DD03C9</td>\n",
       "      <td>Dragons in the Sunset</td>\n",
       "      <td>Fire + Ice</td>\n",
       "      <td>folk</td>\n",
       "      <td>Saint-Petersburg</td>\n",
       "      <td>08:37:09</td>\n",
       "      <td>Monday</td>\n",
       "    </tr>\n",
       "    <tr>\n",
       "      <th>4</th>\n",
       "      <td>E2DC1FAE</td>\n",
       "      <td>Soul People</td>\n",
       "      <td>Space Echo</td>\n",
       "      <td>dance</td>\n",
       "      <td>Moscow</td>\n",
       "      <td>08:34:34</td>\n",
       "      <td>Monday</td>\n",
       "    </tr>\n",
       "    <tr>\n",
       "      <th>5</th>\n",
       "      <td>842029A1</td>\n",
       "      <td>Преданная</td>\n",
       "      <td>IMPERVTOR</td>\n",
       "      <td>rusrap</td>\n",
       "      <td>Saint-Petersburg</td>\n",
       "      <td>13:09:41</td>\n",
       "      <td>Friday</td>\n",
       "    </tr>\n",
       "    <tr>\n",
       "      <th>6</th>\n",
       "      <td>4CB90AA5</td>\n",
       "      <td>True</td>\n",
       "      <td>Roman Messer</td>\n",
       "      <td>dance</td>\n",
       "      <td>Moscow</td>\n",
       "      <td>13:00:07</td>\n",
       "      <td>Wednesday</td>\n",
       "    </tr>\n",
       "    <tr>\n",
       "      <th>7</th>\n",
       "      <td>F03E1C1F</td>\n",
       "      <td>Feeling This Way</td>\n",
       "      <td>Polina Griffith</td>\n",
       "      <td>dance</td>\n",
       "      <td>Moscow</td>\n",
       "      <td>20:47:49</td>\n",
       "      <td>Wednesday</td>\n",
       "    </tr>\n",
       "    <tr>\n",
       "      <th>8</th>\n",
       "      <td>8FA1D3BE</td>\n",
       "      <td>И вновь продолжается бой</td>\n",
       "      <td>NaN</td>\n",
       "      <td>ruspop</td>\n",
       "      <td>Moscow</td>\n",
       "      <td>09:17:40</td>\n",
       "      <td>Friday</td>\n",
       "    </tr>\n",
       "    <tr>\n",
       "      <th>9</th>\n",
       "      <td>E772D5C0</td>\n",
       "      <td>Pessimist</td>\n",
       "      <td>NaN</td>\n",
       "      <td>dance</td>\n",
       "      <td>Saint-Petersburg</td>\n",
       "      <td>21:20:49</td>\n",
       "      <td>Wednesday</td>\n",
       "    </tr>\n",
       "  </tbody>\n",
       "</table>\n",
       "</div>"
      ],
      "text/plain": [
       "     userID                        Track            artist   genre  \\\n",
       "0  FFB692EC            Kamigata To Boots  The Mass Missile    rock   \n",
       "1  55204538  Delayed Because of Accident  Andreas Rönnberg    rock   \n",
       "2    20EC38            Funiculì funiculà       Mario Lanza     pop   \n",
       "3  A3DD03C9        Dragons in the Sunset        Fire + Ice    folk   \n",
       "4  E2DC1FAE                  Soul People        Space Echo   dance   \n",
       "5  842029A1                    Преданная         IMPERVTOR  rusrap   \n",
       "6  4CB90AA5                         True      Roman Messer   dance   \n",
       "7  F03E1C1F             Feeling This Way   Polina Griffith   dance   \n",
       "8  8FA1D3BE     И вновь продолжается бой               NaN  ruspop   \n",
       "9  E772D5C0                    Pessimist               NaN   dance   \n",
       "\n",
       "             City        time        Day  \n",
       "0  Saint-Petersburg  20:28:33  Wednesday  \n",
       "1            Moscow  14:07:09     Friday  \n",
       "2  Saint-Petersburg  20:58:07  Wednesday  \n",
       "3  Saint-Petersburg  08:37:09     Monday  \n",
       "4            Moscow  08:34:34     Monday  \n",
       "5  Saint-Petersburg  13:09:41     Friday  \n",
       "6            Moscow  13:00:07  Wednesday  \n",
       "7            Moscow  20:47:49  Wednesday  \n",
       "8            Moscow  09:17:40     Friday  \n",
       "9  Saint-Petersburg  21:20:49  Wednesday  "
      ]
     },
     "execution_count": 2,
     "metadata": {},
     "output_type": "execute_result"
    }
   ],
   "source": [
    "# чтение файла с данными и сохранение в df\n",
    "df = pd.read_csv('C:\\Dev\\Jupyter\\dist\\projects\\yandex_music_project.csv')\n",
    "df.head(10)"
   ]
  },
  {
   "cell_type": "code",
   "execution_count": 3,
   "metadata": {
    "id": "DSf2kIb-_Zct",
    "scrolled": true
   },
   "outputs": [
    {
     "name": "stdout",
     "output_type": "stream",
     "text": [
      "<class 'pandas.core.frame.DataFrame'>\n",
      "RangeIndex: 65079 entries, 0 to 65078\n",
      "Data columns (total 7 columns):\n",
      " #   Column    Non-Null Count  Dtype \n",
      "---  ------    --------------  ----- \n",
      " 0     userID  65079 non-null  object\n",
      " 1   Track     63848 non-null  object\n",
      " 2   artist    57876 non-null  object\n",
      " 3   genre     63881 non-null  object\n",
      " 4     City    65079 non-null  object\n",
      " 5   time      65079 non-null  object\n",
      " 6   Day       65079 non-null  object\n",
      "dtypes: object(7)\n",
      "memory usage: 3.5+ MB\n"
     ]
    }
   ],
   "source": [
    "df.info()"
   ]
  },
  {
   "cell_type": "markdown",
   "metadata": {},
   "source": [
    "- Необходимо поправить названия колонок, чтобы было удобнее работать, \n",
    "- поработать с пропусками в столбцах `Track`, `artist`, `genre`\n",
    "- проверить дубликаты, в том числе неявные дубликаты, возможно в жанрах есть повторы, которые можно будет поправить, \n",
    "\n",
    "\n",
    "Посмотрим, какая доля пропусков у нас имеется. \n"
   ]
  },
  {
   "cell_type": "code",
   "execution_count": 4,
   "metadata": {
    "scrolled": true
   },
   "outputs": [
    {
     "data": {
      "text/plain": [
       "  userID     0.000000\n",
       "Track        1.891547\n",
       "artist      11.068086\n",
       "genre        1.840840\n",
       "  City       0.000000\n",
       "time         0.000000\n",
       "Day          0.000000\n",
       "dtype: float64"
      ]
     },
     "execution_count": 4,
     "metadata": {},
     "output_type": "execute_result"
    }
   ],
   "source": [
    "df.isna().mean()*100"
   ]
  },
  {
   "cell_type": "markdown",
   "metadata": {},
   "source": [
    "В стобце трека и жанра, таких значений не более 2%, что не так много, в столбце с именами исполнителей пропусков порядка 11 %, что немало. Пока оставляем как есть и после подумаем, что можно сделать с этими значениями. "
   ]
  },
  {
   "cell_type": "markdown",
   "metadata": {
    "id": "SjYF6Ub9_Zct"
   },
   "source": [
    "## Предобработка данных\n"
   ]
  },
  {
   "cell_type": "code",
   "execution_count": 5,
   "metadata": {},
   "outputs": [],
   "source": [
    "columns_to_replace = ['track','artist', 'genre']\n",
    "#функциф для приведения столбцов к единому формату и удаления дубликатов\n",
    "def standart (data):\n",
    "\n",
    "    #цикл для переименовывания столбцов \n",
    "    new_cols = []\n",
    "    for i in data.columns:\n",
    "        new_cols += [i.lower()]\n",
    "    data.columns = new_cols \n",
    "    data.columns = data.columns.str.strip()\n",
    "    \n",
    "    #замена пустых строк\n",
    "    for elem in columns_to_replace:\n",
    "        df[elem] = df[elem].fillna('unknown')\n",
    "    \n",
    "    #избавляемся от дубликатов   \n",
    "    if data.duplicated().sum() > 0:\n",
    "        data = data.drop_duplicates().reset_index(drop =True)\n",
    "    \n",
    "    return data"
   ]
  },
  {
   "cell_type": "code",
   "execution_count": 6,
   "metadata": {
    "scrolled": true
   },
   "outputs": [
    {
     "name": "stdout",
     "output_type": "stream",
     "text": [
      "Index(['userid', 'track', 'artist', 'genre', 'city', 'time', 'day'], dtype='object')\n",
      "\u001b[1mКоличество дубликатов:\u001b[0m 0\n",
      "<class 'pandas.core.frame.DataFrame'>\n",
      "RangeIndex: 61253 entries, 0 to 61252\n",
      "Data columns (total 7 columns):\n",
      " #   Column  Non-Null Count  Dtype \n",
      "---  ------  --------------  ----- \n",
      " 0   userid  61253 non-null  object\n",
      " 1   track   61253 non-null  object\n",
      " 2   artist  61253 non-null  object\n",
      " 3   genre   61253 non-null  object\n",
      " 4   city    61253 non-null  object\n",
      " 5   time    61253 non-null  object\n",
      " 6   day     61253 non-null  object\n",
      "dtypes: object(7)\n",
      "memory usage: 3.3+ MB\n"
     ]
    }
   ],
   "source": [
    "df = standart (df)\n",
    "print(df.columns) #для проверки\n",
    "BOLD = '\\033[1m'\n",
    "print (BOLD  + 'Количество дубликатов:' +'\\033[0m', df.duplicated().sum())\n",
    "\n",
    "\n",
    "df.info()"
   ]
  },
  {
   "cell_type": "markdown",
   "metadata": {},
   "source": [
    "Функция отработала корректно, дубликатов нет, наименования без пробелов и приведены к единому формату\n"
   ]
  },
  {
   "cell_type": "markdown",
   "metadata": {},
   "source": [
    "### Работа с неявными дубликатами GENRE"
   ]
  },
  {
   "cell_type": "code",
   "execution_count": 7,
   "metadata": {
    "id": "JIUcqzZN_Zct",
    "scrolled": true
   },
   "outputs": [
    {
     "name": "stdout",
     "output_type": "stream",
     "text": [
      "['acid' 'acoustic' 'action' 'adult' 'africa' 'afrikaans' 'alternative'\n",
      " 'alternativepunk' 'ambient' 'americana' 'animated' 'anime' 'arabesk'\n",
      " 'arabic' 'arena' 'argentinetango' 'art' 'audiobook' 'author' 'avantgarde'\n",
      " 'axé' 'baile' 'balkan' 'beats' 'bigroom' 'black' 'bluegrass' 'blues'\n",
      " 'bollywood' 'bossa' 'brazilian' 'breakbeat' 'breaks' 'broadway'\n",
      " 'cantautori' 'cantopop' 'canzone' 'caribbean' 'caucasian' 'celtic'\n",
      " 'chamber' 'chanson' 'children' 'chill' 'chinese' 'choral' 'christian'\n",
      " 'christmas' 'classical' 'classicmetal' 'club' 'colombian' 'comedy'\n",
      " 'conjazz' 'contemporary' 'country' 'cuban' 'dance' 'dancehall' 'dancepop'\n",
      " 'dark' 'death' 'deep' 'deutschrock' 'deutschspr' 'dirty' 'disco' 'dnb'\n",
      " 'documentary' 'downbeat' 'downtempo' 'drum' 'dub' 'dubstep' 'eastern'\n",
      " 'easy' 'electronic' 'electropop' 'emo' 'entehno' 'epicmetal' 'estrada'\n",
      " 'ethnic' 'eurofolk' 'european' 'experimental' 'extrememetal' 'fado'\n",
      " 'fairytail' 'film' 'fitness' 'flamenco' 'folk' 'folklore' 'folkmetal'\n",
      " 'folkrock' 'folktronica' 'forró' 'frankreich' 'französisch' 'french'\n",
      " 'funk' 'future' 'gangsta' 'garage' 'german' 'ghazal' 'gitarre' 'glitch'\n",
      " 'gospel' 'gothic' 'grime' 'grunge' 'gypsy' 'handsup' \"hard'n'heavy\"\n",
      " 'hardcore' 'hardstyle' 'hardtechno' 'hip' 'hip-hop' 'hiphop' 'historisch'\n",
      " 'holiday' 'hop' 'horror' 'house' 'hymn' 'idm' 'independent' 'indian'\n",
      " 'indie' 'indipop' 'industrial' 'inspirational' 'instrumental'\n",
      " 'international' 'irish' 'jam' 'japanese' 'jazz' 'jewish' 'jpop' 'jungle'\n",
      " 'k-pop' 'karadeniz' 'karaoke' 'kayokyoku' 'korean' 'laiko' 'latin'\n",
      " 'latino' 'leftfield' 'local' 'lounge' 'loungeelectronic' 'lovers'\n",
      " 'malaysian' 'mandopop' 'marschmusik' 'meditative' 'mediterranean'\n",
      " 'melodic' 'metal' 'metalcore' 'mexican' 'middle' 'minimal'\n",
      " 'miscellaneous' 'modern' 'mood' 'mpb' 'muslim' 'native' 'neoklassik'\n",
      " 'neue' 'new' 'newage' 'newwave' 'nu' 'nujazz' 'numetal' 'oceania' 'old'\n",
      " 'opera' 'orchestral' 'other' 'piano' 'podcasts' 'pop' 'popdance'\n",
      " 'popelectronic' 'popeurodance' 'poprussian' 'post' 'posthardcore'\n",
      " 'postrock' 'power' 'progmetal' 'progressive' 'psychedelic' 'punjabi'\n",
      " 'punk' 'quebecois' 'ragga' 'ram' 'rancheras' 'rap' 'rave' 'reggae'\n",
      " 'reggaeton' 'regional' 'relax' 'religious' 'retro' 'rhythm' 'rnb' 'rnr'\n",
      " 'rock' 'rockabilly' 'rockalternative' 'rockindie' 'rockother' 'romance'\n",
      " 'roots' 'ruspop' 'rusrap' 'rusrock' 'russian' 'salsa' 'samba' 'scenic'\n",
      " 'schlager' 'self' 'sertanejo' 'shanson' 'shoegazing' 'showtunes' 'singer'\n",
      " 'ska' 'skarock' 'slow' 'smooth' 'soft' 'soul' 'soulful' 'sound'\n",
      " 'soundtrack' 'southern' 'specialty' 'speech' 'spiritual' 'sport'\n",
      " 'stonerrock' 'surf' 'swing' 'synthpop' 'synthrock' 'sängerportrait'\n",
      " 'tango' 'tanzorchester' 'taraftar' 'tatar' 'tech' 'techno' 'teen'\n",
      " 'thrash' 'top' 'traditional' 'tradjazz' 'trance' 'tribal' 'trip'\n",
      " 'triphop' 'tropical' 'türk' 'türkçe' 'ukrrock' 'unknown' 'urban' 'uzbek'\n",
      " 'variété' 'vi' 'videogame' 'vocal' 'western' 'world' 'worldbeat' 'ïîï'\n",
      " 'электроника']\n"
     ]
    }
   ],
   "source": [
    "# Просмотр уникальных названий жанров\n",
    "print(df['genre'].sort_values().unique())"
   ]
  },
  {
   "cell_type": "markdown",
   "metadata": {
    "id": "qej-Qmuo_Zct"
   },
   "source": [
    "Дубликатов всего пара штук, в жанре hiphop и электроника\n",
    "* *hip*,\n",
    "* *hop*,\n",
    "* *hip-hop*.\n",
    "* *электроника*\n",
    "\n",
    "Поменяем названия связанные с hiphop на 'hiphop' электроника на  'electronic'"
   ]
  },
  {
   "cell_type": "code",
   "execution_count": 8,
   "metadata": {},
   "outputs": [],
   "source": [
    "df['genre'] = df['genre'].replace(['hip', 'hop', 'hip-hop'], 'hiphop')\n",
    "df['genre'] = df['genre'].replace('электроника', 'electronic')"
   ]
  },
  {
   "cell_type": "code",
   "execution_count": 9,
   "metadata": {
    "id": "wvixALnFG15m",
    "scrolled": true
   },
   "outputs": [
    {
     "name": "stdout",
     "output_type": "stream",
     "text": [
      "['acid' 'acoustic' 'action' 'adult' 'africa' 'afrikaans' 'alternative'\n",
      " 'alternativepunk' 'ambient' 'americana' 'animated' 'anime' 'arabesk'\n",
      " 'arabic' 'arena' 'argentinetango' 'art' 'audiobook' 'author' 'avantgarde'\n",
      " 'axé' 'baile' 'balkan' 'beats' 'bigroom' 'black' 'bluegrass' 'blues'\n",
      " 'bollywood' 'bossa' 'brazilian' 'breakbeat' 'breaks' 'broadway'\n",
      " 'cantautori' 'cantopop' 'canzone' 'caribbean' 'caucasian' 'celtic'\n",
      " 'chamber' 'chanson' 'children' 'chill' 'chinese' 'choral' 'christian'\n",
      " 'christmas' 'classical' 'classicmetal' 'club' 'colombian' 'comedy'\n",
      " 'conjazz' 'contemporary' 'country' 'cuban' 'dance' 'dancehall' 'dancepop'\n",
      " 'dark' 'death' 'deep' 'deutschrock' 'deutschspr' 'dirty' 'disco' 'dnb'\n",
      " 'documentary' 'downbeat' 'downtempo' 'drum' 'dub' 'dubstep' 'eastern'\n",
      " 'easy' 'electronic' 'electropop' 'emo' 'entehno' 'epicmetal' 'estrada'\n",
      " 'ethnic' 'eurofolk' 'european' 'experimental' 'extrememetal' 'fado'\n",
      " 'fairytail' 'film' 'fitness' 'flamenco' 'folk' 'folklore' 'folkmetal'\n",
      " 'folkrock' 'folktronica' 'forró' 'frankreich' 'französisch' 'french'\n",
      " 'funk' 'future' 'gangsta' 'garage' 'german' 'ghazal' 'gitarre' 'glitch'\n",
      " 'gospel' 'gothic' 'grime' 'grunge' 'gypsy' 'handsup' \"hard'n'heavy\"\n",
      " 'hardcore' 'hardstyle' 'hardtechno' 'hiphop' 'historisch' 'holiday'\n",
      " 'horror' 'house' 'hymn' 'idm' 'independent' 'indian' 'indie' 'indipop'\n",
      " 'industrial' 'inspirational' 'instrumental' 'international' 'irish' 'jam'\n",
      " 'japanese' 'jazz' 'jewish' 'jpop' 'jungle' 'k-pop' 'karadeniz' 'karaoke'\n",
      " 'kayokyoku' 'korean' 'laiko' 'latin' 'latino' 'leftfield' 'local'\n",
      " 'lounge' 'loungeelectronic' 'lovers' 'malaysian' 'mandopop' 'marschmusik'\n",
      " 'meditative' 'mediterranean' 'melodic' 'metal' 'metalcore' 'mexican'\n",
      " 'middle' 'minimal' 'miscellaneous' 'modern' 'mood' 'mpb' 'muslim'\n",
      " 'native' 'neoklassik' 'neue' 'new' 'newage' 'newwave' 'nu' 'nujazz'\n",
      " 'numetal' 'oceania' 'old' 'opera' 'orchestral' 'other' 'piano' 'podcasts'\n",
      " 'pop' 'popdance' 'popelectronic' 'popeurodance' 'poprussian' 'post'\n",
      " 'posthardcore' 'postrock' 'power' 'progmetal' 'progressive' 'psychedelic'\n",
      " 'punjabi' 'punk' 'quebecois' 'ragga' 'ram' 'rancheras' 'rap' 'rave'\n",
      " 'reggae' 'reggaeton' 'regional' 'relax' 'religious' 'retro' 'rhythm'\n",
      " 'rnb' 'rnr' 'rock' 'rockabilly' 'rockalternative' 'rockindie' 'rockother'\n",
      " 'romance' 'roots' 'ruspop' 'rusrap' 'rusrock' 'russian' 'salsa' 'samba'\n",
      " 'scenic' 'schlager' 'self' 'sertanejo' 'shanson' 'shoegazing' 'showtunes'\n",
      " 'singer' 'ska' 'skarock' 'slow' 'smooth' 'soft' 'soul' 'soulful' 'sound'\n",
      " 'soundtrack' 'southern' 'specialty' 'speech' 'spiritual' 'sport'\n",
      " 'stonerrock' 'surf' 'swing' 'synthpop' 'synthrock' 'sängerportrait'\n",
      " 'tango' 'tanzorchester' 'taraftar' 'tatar' 'tech' 'techno' 'teen'\n",
      " 'thrash' 'top' 'traditional' 'tradjazz' 'trance' 'tribal' 'trip'\n",
      " 'triphop' 'tropical' 'türk' 'türkçe' 'ukrrock' 'unknown' 'urban' 'uzbek'\n",
      " 'variété' 'vi' 'videogame' 'vocal' 'western' 'world' 'worldbeat' 'ïîï']\n"
     ]
    }
   ],
   "source": [
    "# Проверка на неявные дубликаты\n",
    "print(df['genre'].sort_values().unique())"
   ]
  },
  {
   "cell_type": "markdown",
   "metadata": {},
   "source": [
    " Данные приведены к единому формату,дубликаты удалены, наименования столбцов приведены к единому стилю, пропущенных строк нет, \n",
    " можем приступить к исследованию данных"
   ]
  },
  {
   "cell_type": "markdown",
   "metadata": {},
   "source": [
    "## Исследовательский анализ данных\n",
    "\n",
    "- Посмотрим топ-10 жанров, которые встречаются в нашем датасете чаще всего, \n",
    "- Проверить  в какие дни больше всего прослушиваний, в разрезе двух столиц, \n",
    "- Проверить преобладание жанров в каждом из городов по дням недели\n"
   ]
  },
  {
   "cell_type": "markdown",
   "metadata": {
    "id": "Im936VVi_Zcu"
   },
   "source": [
    "### Сравнение поведения пользователей двух столиц"
   ]
  },
  {
   "cell_type": "markdown",
   "metadata": {},
   "source": [
    "**GENRE**"
   ]
  },
  {
   "cell_type": "code",
   "execution_count": 32,
   "metadata": {
    "scrolled": false
   },
   "outputs": [
    {
     "data": {
      "image/png": "[encoded data removed]",
      "text/plain": [
       "<Figure size 432x288 with 1 Axes>"
      ]
     },
     "metadata": {
      "needs_background": "light"
     },
     "output_type": "display_data"
    }
   ],
   "source": [
    "sns.barplot(x = 'genre', y = 'index' , data = df['genre'].value_counts().head(10).reset_index(), palette ='husl'\n",
    "           ).set_title('Наиболее прослушиваемые жанры');"
   ]
  },
  {
   "cell_type": "markdown",
   "metadata": {},
   "source": [
    "**CITY - DAY**"
   ]
  },
  {
   "cell_type": "code",
   "execution_count": 11,
   "metadata": {},
   "outputs": [
    {
     "data": {
      "text/html": [
       "<div>\n",
       "<style scoped>\n",
       "    .dataframe tbody tr th:only-of-type {\n",
       "        vertical-align: middle;\n",
       "    }\n",
       "\n",
       "    .dataframe tbody tr th {\n",
       "        vertical-align: top;\n",
       "    }\n",
       "\n",
       "    .dataframe thead th {\n",
       "        text-align: right;\n",
       "    }\n",
       "</style>\n",
       "<table border=\"1\" class=\"dataframe\">\n",
       "  <thead>\n",
       "    <tr style=\"text-align: right;\">\n",
       "      <th>day</th>\n",
       "      <th>Friday</th>\n",
       "      <th>Monday</th>\n",
       "      <th>Wednesday</th>\n",
       "    </tr>\n",
       "    <tr>\n",
       "      <th>city</th>\n",
       "      <th></th>\n",
       "      <th></th>\n",
       "      <th></th>\n",
       "    </tr>\n",
       "  </thead>\n",
       "  <tbody>\n",
       "    <tr>\n",
       "      <th>Moscow</th>\n",
       "      <td>15945</td>\n",
       "      <td>15740</td>\n",
       "      <td>11056</td>\n",
       "    </tr>\n",
       "    <tr>\n",
       "      <th>Saint-Petersburg</th>\n",
       "      <td>5895</td>\n",
       "      <td>5614</td>\n",
       "      <td>7003</td>\n",
       "    </tr>\n",
       "  </tbody>\n",
       "</table>\n",
       "</div>"
      ],
      "text/plain": [
       "day               Friday  Monday  Wednesday\n",
       "city                                       \n",
       "Moscow             15945   15740      11056\n",
       "Saint-Petersburg    5895    5614       7003"
      ]
     },
     "execution_count": 11,
     "metadata": {},
     "output_type": "execute_result"
    }
   ],
   "source": [
    "df.pivot_table(index = 'city', columns ='day' , values ='track', aggfunc ='count')"
   ]
  },
  {
   "cell_type": "code",
   "execution_count": 55,
   "metadata": {
    "scrolled": true
   },
   "outputs": [
    {
     "data": {
      "image/png": "[encoded data removed]",
      "text/plain": [
       "<Figure size 432x288 with 1 Axes>"
      ]
     },
     "metadata": {
      "needs_background": "light"
     },
     "output_type": "display_data"
    }
   ],
   "source": [
    "sns.barplot(x = 'day', y = 'track', hue = 'city',\n",
    "            data = df.pivot_table(index = ['city', 'day'], values ='track', aggfunc ='count').reset_index(),  palette ='husl');"
   ]
  },
  {
   "cell_type": "markdown",
   "metadata": {},
   "source": [
    "- Больше всего прослушиваний в Москве, более чем в 2 раза, но следует отметить, что Москва как мегаполис гораздо густонаселенее, в сравнении с Санкт-Петерербургом. Т.е. пользователей в Москве больше, чем в Санкт-Петербурге. \n",
    "\n",
    "- Больше всего прослушиваний, в конце недели (в пятницу), также жители столицы любят начать рабочую неделю (понедельник) с музыки ❤️. Данная тенденция не характерна для Санкт-Петербурга, количество прослушиваний в среду выше, в сравнении с остальными днями.\n",
    "\n"
   ]
  },
  {
   "cell_type": "markdown",
   "metadata": {
    "id": "JolODAqr_Zcu"
   },
   "source": [
    "### Жанровые предпочтения в Москве и Петербурге\n",
    "\n",
    "Гипотеза: Петербург — столица рэпа, музыку этого жанра там слушают чаще, чем в Москве.  А Москва — город контрастов, в котором, тем не менее, преобладает поп-музыка."
   ]
  },
  {
   "cell_type": "code",
   "execution_count": 13,
   "metadata": {
    "scrolled": false
   },
   "outputs": [
    {
     "data": {
      "text/plain": [
       "array(['pop', 'dance', 'rock', 'electronic', 'hiphop', 'classical',\n",
       "       'world', 'alternative', 'ruspop', 'rusrap'], dtype=object)"
      ]
     },
     "execution_count": 13,
     "metadata": {},
     "output_type": "execute_result"
    }
   ],
   "source": [
    "#топ-10 жаноров в Москве\n",
    "top_10 = df.query('city == \"Moscow\"').pivot_table(index = 'genre',values = 'track',\n",
    "                        aggfunc ='count').sort_values(by = 'track', ascending = False).head(10).reset_index()\n",
    "\n",
    "top_10= top_10['genre'].unique()\n",
    "top_10"
   ]
  },
  {
   "cell_type": "markdown",
   "metadata": {},
   "source": [
    "Поскольку топ-10 для Москвы такой же,  как и на общих данных, то он будет справедлив и для Санкт-Петербурга, создадим сводную таблицу, оставив только необходимые столбцы для просмотра количества треков по городам и дням недели. Построенную сводную таблицу, применим для построения графика. "
   ]
  },
  {
   "cell_type": "markdown",
   "metadata": {},
   "source": [
    "**GENRE - DAY - CITY**"
   ]
  },
  {
   "cell_type": "code",
   "execution_count": 14,
   "metadata": {
    "scrolled": true
   },
   "outputs": [],
   "source": [
    "research = df.query('genre in @top_10').pivot_table(index = ['genre', 'day', 'city'], values = 'track', \n",
    "                    aggfunc = 'count').reset_index()\n"
   ]
  },
  {
   "cell_type": "code",
   "execution_count": 15,
   "metadata": {
    "scrolled": false
   },
   "outputs": [
    {
     "data": {
      "image/png": "[encoded data removed]",
      "text/plain": [
       "<Figure size 1800x2664 with 2 Axes>"
      ]
     },
     "metadata": {
      "needs_background": "light"
     },
     "output_type": "display_data"
    }
   ],
   "source": [
    "#График топ-10 жанров по городам, дням\n",
    "col_count, row_count = 2,2\n",
    "plt.figure(figsize = (25,37))\n",
    "\n",
    "for i, town in enumerate (research['city'].unique()):\n",
    "    data_ft = research.query('city == @town') \n",
    "    sns.barplot(x = 'track', y = 'genre' , hue = 'day', \n",
    "                    data = data_ft.sort_values(by =['track', 'day'], ascending = False), \n",
    "                palette = 'husl',\n",
    "            \n",
    "                ax = plt.subplot (row_count, col_count, i+1))\n",
    "\n",
    "    plt.title(town)\n",
    "    \n",
    "plt.suptitle('Топ-10 жанров в разрезе по дням');\n",
    "       "
   ]
  },
  {
   "cell_type": "markdown",
   "metadata": {},
   "source": [
    "В предпочтениях жанров есть неольшие различия, но в целом, топ -10 для обоих городов одинаковый. \n",
    "Предпочтнеения отдается поп жанру в обоих городах, далее топ-3 немного перетасован. \n",
    "В Санкт-Петербурге, предпочтения отдают року и танцевальным жанрам, тогда как в Москве это танцевальный жанр и потом рок.\n",
    "\n",
    "\n",
    "**Москва**\n",
    "\n",
    "* большинство московских пользователей заканчивают неделю прослушиванием поп-музыки, также как и начинают неделю. Этот жанр больше всего преобладает в прослушиваемых композициях пользователей, \n",
    "\n",
    "* следующая по популяности танцевальная музыка, с нее начинают неделю и ее продолжают слушать в пятницу, \n",
    "\n",
    "* по жанрам тенденция по прослушиванию по дням недели сохраняется, чаще всего пользователи слушают музыку в пятницу, реже в среду, \n",
    "\n",
    "* в понедельник в сравнении с пятницей, преобладает прослушивание танцевального жана, но незначительно, \n",
    "\n",
    "**Санкт-Петербуг**\n",
    "\n",
    "* поп музыка в культурной столице чаще всего слушается в среду,\n",
    "\n",
    "* рок и танцевальная музыка также популярны по средам, \n",
    "\n",
    "* в целом среди питерских пользователей чаще всего треки слушаются по средам,\n",
    "\n",
    "* для пятницы характернее рок, поп и танцевальная, электроника, хип-хоп и классические жарны музыки.\n",
    "\n",
    "\n",
    "Гипотеза частично подтвердилась:\n",
    "* Поп-музыка — самый популярный жанр в Москве, как и предполагала гипотеза. Более того, в топ-10 жанров встречается близкий жанр — русская популярная музыка.\n",
    "* Вопреки ожиданиям, рэп одинаково популярен в Москве и Петербурге. "
   ]
  },
  {
   "cell_type": "markdown",
   "metadata": {
    "id": "atZAxtq4_Zcu"
   },
   "source": [
    "### Музыка в начале и в конце недели"
   ]
  },
  {
   "cell_type": "markdown",
   "metadata": {
    "id": "eXrQqXFH_Zcu"
   },
   "source": [
    "Согласно гипотезе, утром в понедельник в Москве преобладают одни жанры, а в Петербурге — другие. Так же и вечером пятницы преобладают разные жанры — в зависимости от города.\n",
    "\n",
    "Создадим две переменные с таблицами: \n",
    "* по Москве — в `moscow_general`;\n",
    "* по Санкт-Петербургу — в `spb_general`.\n",
    "\n",
    "После чего пишу функцию `genre_weekday()` с четырьмя параметрами:\n",
    "* таблица с данными,\n",
    "* день недели,\n",
    "* начальная временная метка в формате 'hh:mm', \n",
    "* последняя временная метка в формате 'hh:mm'.\n",
    "\n",
    "Функция должна возвращать  информацию о топ-10 жанров тех треков, которые прослушивали в указанный день, в промежутке между двумя отметками времени."
   ]
  },
  {
   "cell_type": "code",
   "execution_count": 16,
   "metadata": {
    "id": "qeaFfM_P_Zcu"
   },
   "outputs": [
    {
     "data": {
      "text/html": [
       "<div>\n",
       "<style scoped>\n",
       "    .dataframe tbody tr th:only-of-type {\n",
       "        vertical-align: middle;\n",
       "    }\n",
       "\n",
       "    .dataframe tbody tr th {\n",
       "        vertical-align: top;\n",
       "    }\n",
       "\n",
       "    .dataframe thead th {\n",
       "        text-align: right;\n",
       "    }\n",
       "</style>\n",
       "<table border=\"1\" class=\"dataframe\">\n",
       "  <thead>\n",
       "    <tr style=\"text-align: right;\">\n",
       "      <th></th>\n",
       "      <th>userid</th>\n",
       "      <th>track</th>\n",
       "      <th>artist</th>\n",
       "      <th>genre</th>\n",
       "      <th>city</th>\n",
       "      <th>time</th>\n",
       "      <th>day</th>\n",
       "    </tr>\n",
       "  </thead>\n",
       "  <tbody>\n",
       "    <tr>\n",
       "      <th>1</th>\n",
       "      <td>55204538</td>\n",
       "      <td>Delayed Because of Accident</td>\n",
       "      <td>Andreas Rönnberg</td>\n",
       "      <td>rock</td>\n",
       "      <td>Moscow</td>\n",
       "      <td>14:07:09</td>\n",
       "      <td>Friday</td>\n",
       "    </tr>\n",
       "    <tr>\n",
       "      <th>4</th>\n",
       "      <td>E2DC1FAE</td>\n",
       "      <td>Soul People</td>\n",
       "      <td>Space Echo</td>\n",
       "      <td>dance</td>\n",
       "      <td>Moscow</td>\n",
       "      <td>08:34:34</td>\n",
       "      <td>Monday</td>\n",
       "    </tr>\n",
       "    <tr>\n",
       "      <th>6</th>\n",
       "      <td>4CB90AA5</td>\n",
       "      <td>True</td>\n",
       "      <td>Roman Messer</td>\n",
       "      <td>dance</td>\n",
       "      <td>Moscow</td>\n",
       "      <td>13:00:07</td>\n",
       "      <td>Wednesday</td>\n",
       "    </tr>\n",
       "    <tr>\n",
       "      <th>7</th>\n",
       "      <td>F03E1C1F</td>\n",
       "      <td>Feeling This Way</td>\n",
       "      <td>Polina Griffith</td>\n",
       "      <td>dance</td>\n",
       "      <td>Moscow</td>\n",
       "      <td>20:47:49</td>\n",
       "      <td>Wednesday</td>\n",
       "    </tr>\n",
       "    <tr>\n",
       "      <th>8</th>\n",
       "      <td>8FA1D3BE</td>\n",
       "      <td>И вновь продолжается бой</td>\n",
       "      <td>unknown</td>\n",
       "      <td>ruspop</td>\n",
       "      <td>Moscow</td>\n",
       "      <td>09:17:40</td>\n",
       "      <td>Friday</td>\n",
       "    </tr>\n",
       "    <tr>\n",
       "      <th>...</th>\n",
       "      <td>...</td>\n",
       "      <td>...</td>\n",
       "      <td>...</td>\n",
       "      <td>...</td>\n",
       "      <td>...</td>\n",
       "      <td>...</td>\n",
       "      <td>...</td>\n",
       "    </tr>\n",
       "    <tr>\n",
       "      <th>61247</th>\n",
       "      <td>83A474E7</td>\n",
       "      <td>I Worship Only What You Bleed</td>\n",
       "      <td>The Black Dahlia Murder</td>\n",
       "      <td>extrememetal</td>\n",
       "      <td>Moscow</td>\n",
       "      <td>21:07:12</td>\n",
       "      <td>Monday</td>\n",
       "    </tr>\n",
       "    <tr>\n",
       "      <th>61248</th>\n",
       "      <td>729CBB09</td>\n",
       "      <td>My Name</td>\n",
       "      <td>McLean</td>\n",
       "      <td>rnb</td>\n",
       "      <td>Moscow</td>\n",
       "      <td>13:32:28</td>\n",
       "      <td>Wednesday</td>\n",
       "    </tr>\n",
       "    <tr>\n",
       "      <th>61250</th>\n",
       "      <td>C5E3A0D5</td>\n",
       "      <td>Jalopiina</td>\n",
       "      <td>unknown</td>\n",
       "      <td>industrial</td>\n",
       "      <td>Moscow</td>\n",
       "      <td>20:09:26</td>\n",
       "      <td>Friday</td>\n",
       "    </tr>\n",
       "    <tr>\n",
       "      <th>61251</th>\n",
       "      <td>321D0506</td>\n",
       "      <td>Freight Train</td>\n",
       "      <td>Chas McDevitt</td>\n",
       "      <td>rock</td>\n",
       "      <td>Moscow</td>\n",
       "      <td>21:43:59</td>\n",
       "      <td>Friday</td>\n",
       "    </tr>\n",
       "    <tr>\n",
       "      <th>61252</th>\n",
       "      <td>3A64EF84</td>\n",
       "      <td>Tell Me Sweet Little Lies</td>\n",
       "      <td>Monica Lopez</td>\n",
       "      <td>country</td>\n",
       "      <td>Moscow</td>\n",
       "      <td>21:59:46</td>\n",
       "      <td>Friday</td>\n",
       "    </tr>\n",
       "  </tbody>\n",
       "</table>\n",
       "<p>42741 rows × 7 columns</p>\n",
       "</div>"
      ],
      "text/plain": [
       "         userid                          track                   artist  \\\n",
       "1      55204538    Delayed Because of Accident         Andreas Rönnberg   \n",
       "4      E2DC1FAE                    Soul People               Space Echo   \n",
       "6      4CB90AA5                           True             Roman Messer   \n",
       "7      F03E1C1F               Feeling This Way          Polina Griffith   \n",
       "8      8FA1D3BE       И вновь продолжается бой                  unknown   \n",
       "...         ...                            ...                      ...   \n",
       "61247  83A474E7  I Worship Only What You Bleed  The Black Dahlia Murder   \n",
       "61248  729CBB09                        My Name                   McLean   \n",
       "61250  C5E3A0D5                      Jalopiina                  unknown   \n",
       "61251  321D0506                  Freight Train            Chas McDevitt   \n",
       "61252  3A64EF84      Tell Me Sweet Little Lies             Monica Lopez   \n",
       "\n",
       "              genre    city      time        day  \n",
       "1              rock  Moscow  14:07:09     Friday  \n",
       "4             dance  Moscow  08:34:34     Monday  \n",
       "6             dance  Moscow  13:00:07  Wednesday  \n",
       "7             dance  Moscow  20:47:49  Wednesday  \n",
       "8            ruspop  Moscow  09:17:40     Friday  \n",
       "...             ...     ...       ...        ...  \n",
       "61247  extrememetal  Moscow  21:07:12     Monday  \n",
       "61248           rnb  Moscow  13:32:28  Wednesday  \n",
       "61250    industrial  Moscow  20:09:26     Friday  \n",
       "61251          rock  Moscow  21:43:59     Friday  \n",
       "61252       country  Moscow  21:59:46     Friday  \n",
       "\n",
       "[42741 rows x 7 columns]"
      ]
     },
     "execution_count": 16,
     "metadata": {},
     "output_type": "execute_result"
    }
   ],
   "source": [
    "# получение таблицы moscow_general из тех строк таблицы df, \n",
    "# для которых значение в столбце 'city' равно 'Moscow'\n",
    "moscow_general = df[df['city'] == 'Moscow']\n"
   ]
  },
  {
   "cell_type": "code",
   "execution_count": 17,
   "metadata": {
    "id": "ORaVRKto_Zcu"
   },
   "outputs": [],
   "source": [
    "# получение таблицы spb_general из тех строк таблицы df,\n",
    "# для которых значение в столбце 'city' равно 'Saint-Petersburg'\n",
    "spb_general = df[df['city'] == 'Saint-Petersburg']\n"
   ]
  },
  {
   "cell_type": "code",
   "execution_count": 18,
   "metadata": {
    "id": "laJT9BYl_Zcu"
   },
   "outputs": [],
   "source": [
    "\n",
    "def genre_weekday(table, day, time1, time2):\n",
    "    genre_df = table[table['day'] == day]\n",
    "    genre_df = genre_df[genre_df['time'] > time1]\n",
    "    genre_df = genre_df[genre_df['time'] < time2]\n",
    "    genre_df_count = genre_df.groupby('genre')['userid'].count()\n",
    "    genre_df_sorted = genre_df_count.sort_values(ascending=False).reset_index()\n",
    "    genre_df_sorted.columns = ['genre' , 'counted']\n",
    "    return genre_df_sorted.head(10)\n",
    "\n",
    "        \n",
    "    \n",
    "\n",
    "# 1) в переменную genre_df сохраняются те строки переданного датафрейма table, для\n",
    "#    которых одновременно:\n",
    "#    - значение в столбце day равно значению аргумента day\n",
    "#    - значение в столбце time больше значения аргумента time1\n",
    "#    - значение в столбце time меньше значения аргумента time2\n",
    "#    Используйте последовательную фильтрацию с помощью логической индексации.\n",
    "# 2) сгруппировать датафрейм genre_df по столбцу genre, взять один из его\n",
    "#    столбцов и посчитать методом count() количество записей для каждого из\n",
    "#    присутствующих жанров, получившийся Series записать в переменную\n",
    "#    genre_df_count\n",
    "# 3) отсортировать genre_df_count по убыванию встречаемости и сохранить\n",
    "#    в переменную genre_df_sorted\n",
    "# 4) вернуть Series из 10 первых значений genre_df_sorted, это будут топ-10\n",
    "#    популярных жанров (в указанный день, в заданное время)"
   ]
  },
  {
   "cell_type": "code",
   "execution_count": 19,
   "metadata": {
    "id": "yz7itPUQ_Zcu"
   },
   "outputs": [
    {
     "name": "stdout",
     "output_type": "stream",
     "text": [
      "\u001b[1mКоличество прослушиваний с 7 - 11  в Москве в понедельник:\u001b[0m\n"
     ]
    },
    {
     "data": {
      "text/html": [
       "<div>\n",
       "<style scoped>\n",
       "    .dataframe tbody tr th:only-of-type {\n",
       "        vertical-align: middle;\n",
       "    }\n",
       "\n",
       "    .dataframe tbody tr th {\n",
       "        vertical-align: top;\n",
       "    }\n",
       "\n",
       "    .dataframe thead th {\n",
       "        text-align: right;\n",
       "    }\n",
       "</style>\n",
       "<table border=\"1\" class=\"dataframe\">\n",
       "  <thead>\n",
       "    <tr style=\"text-align: right;\">\n",
       "      <th></th>\n",
       "      <th>genre</th>\n",
       "      <th>counted</th>\n",
       "    </tr>\n",
       "  </thead>\n",
       "  <tbody>\n",
       "    <tr>\n",
       "      <th>0</th>\n",
       "      <td>pop</td>\n",
       "      <td>781</td>\n",
       "    </tr>\n",
       "    <tr>\n",
       "      <th>1</th>\n",
       "      <td>dance</td>\n",
       "      <td>549</td>\n",
       "    </tr>\n",
       "    <tr>\n",
       "      <th>2</th>\n",
       "      <td>electronic</td>\n",
       "      <td>480</td>\n",
       "    </tr>\n",
       "    <tr>\n",
       "      <th>3</th>\n",
       "      <td>rock</td>\n",
       "      <td>474</td>\n",
       "    </tr>\n",
       "    <tr>\n",
       "      <th>4</th>\n",
       "      <td>hiphop</td>\n",
       "      <td>286</td>\n",
       "    </tr>\n",
       "    <tr>\n",
       "      <th>5</th>\n",
       "      <td>ruspop</td>\n",
       "      <td>186</td>\n",
       "    </tr>\n",
       "    <tr>\n",
       "      <th>6</th>\n",
       "      <td>world</td>\n",
       "      <td>181</td>\n",
       "    </tr>\n",
       "    <tr>\n",
       "      <th>7</th>\n",
       "      <td>rusrap</td>\n",
       "      <td>175</td>\n",
       "    </tr>\n",
       "    <tr>\n",
       "      <th>8</th>\n",
       "      <td>alternative</td>\n",
       "      <td>164</td>\n",
       "    </tr>\n",
       "    <tr>\n",
       "      <th>9</th>\n",
       "      <td>unknown</td>\n",
       "      <td>161</td>\n",
       "    </tr>\n",
       "  </tbody>\n",
       "</table>\n",
       "</div>"
      ],
      "text/plain": [
       "         genre  counted\n",
       "0          pop      781\n",
       "1        dance      549\n",
       "2   electronic      480\n",
       "3         rock      474\n",
       "4       hiphop      286\n",
       "5       ruspop      186\n",
       "6        world      181\n",
       "7       rusrap      175\n",
       "8  alternative      164\n",
       "9      unknown      161"
      ]
     },
     "execution_count": 19,
     "metadata": {},
     "output_type": "execute_result"
    }
   ],
   "source": [
    "# вызов функции для утра понедельника в Москве (вместо df — таблица moscow_general)\n",
    "# объекты, хранящие время, являются строками и сравниваются как строки\n",
    "print (BOLD  + 'Количество прослушиваний с 7 - 11  в Москве в понедельник:' +'\\033[0m')\n",
    "\n",
    "genre_weekday(moscow_general, 'Monday', '07:00', '11:00')\n"
   ]
  },
  {
   "cell_type": "code",
   "execution_count": 20,
   "metadata": {
    "id": "kwUcHPdy_Zcu",
    "scrolled": true
   },
   "outputs": [
    {
     "name": "stdout",
     "output_type": "stream",
     "text": [
      "\u001b[1mКоличество прослушиваний с 7 - 11  в Санкт-Петербурге в понедельник:\u001b[0m\n"
     ]
    },
    {
     "data": {
      "text/html": [
       "<div>\n",
       "<style scoped>\n",
       "    .dataframe tbody tr th:only-of-type {\n",
       "        vertical-align: middle;\n",
       "    }\n",
       "\n",
       "    .dataframe tbody tr th {\n",
       "        vertical-align: top;\n",
       "    }\n",
       "\n",
       "    .dataframe thead th {\n",
       "        text-align: right;\n",
       "    }\n",
       "</style>\n",
       "<table border=\"1\" class=\"dataframe\">\n",
       "  <thead>\n",
       "    <tr style=\"text-align: right;\">\n",
       "      <th></th>\n",
       "      <th>genre</th>\n",
       "      <th>counted</th>\n",
       "    </tr>\n",
       "  </thead>\n",
       "  <tbody>\n",
       "    <tr>\n",
       "      <th>0</th>\n",
       "      <td>pop</td>\n",
       "      <td>218</td>\n",
       "    </tr>\n",
       "    <tr>\n",
       "      <th>1</th>\n",
       "      <td>dance</td>\n",
       "      <td>182</td>\n",
       "    </tr>\n",
       "    <tr>\n",
       "      <th>2</th>\n",
       "      <td>rock</td>\n",
       "      <td>162</td>\n",
       "    </tr>\n",
       "    <tr>\n",
       "      <th>3</th>\n",
       "      <td>electronic</td>\n",
       "      <td>147</td>\n",
       "    </tr>\n",
       "    <tr>\n",
       "      <th>4</th>\n",
       "      <td>hiphop</td>\n",
       "      <td>80</td>\n",
       "    </tr>\n",
       "    <tr>\n",
       "      <th>5</th>\n",
       "      <td>ruspop</td>\n",
       "      <td>64</td>\n",
       "    </tr>\n",
       "    <tr>\n",
       "      <th>6</th>\n",
       "      <td>alternative</td>\n",
       "      <td>58</td>\n",
       "    </tr>\n",
       "    <tr>\n",
       "      <th>7</th>\n",
       "      <td>rusrap</td>\n",
       "      <td>55</td>\n",
       "    </tr>\n",
       "    <tr>\n",
       "      <th>8</th>\n",
       "      <td>jazz</td>\n",
       "      <td>44</td>\n",
       "    </tr>\n",
       "    <tr>\n",
       "      <th>9</th>\n",
       "      <td>classical</td>\n",
       "      <td>40</td>\n",
       "    </tr>\n",
       "  </tbody>\n",
       "</table>\n",
       "</div>"
      ],
      "text/plain": [
       "         genre  counted\n",
       "0          pop      218\n",
       "1        dance      182\n",
       "2         rock      162\n",
       "3   electronic      147\n",
       "4       hiphop       80\n",
       "5       ruspop       64\n",
       "6  alternative       58\n",
       "7       rusrap       55\n",
       "8         jazz       44\n",
       "9    classical       40"
      ]
     },
     "execution_count": 20,
     "metadata": {},
     "output_type": "execute_result"
    }
   ],
   "source": [
    "# вызов функции для утра понедельника в Петербурге (вместо df — таблица spb_general)\n",
    "print (BOLD  + 'Количество прослушиваний с 7 - 11  в Санкт-Петербурге в понедельник:' +'\\033[0m')\n",
    "genre_weekday(spb_general, 'Monday', '07:00', '11:00')\n"
   ]
  },
  {
   "cell_type": "code",
   "execution_count": 21,
   "metadata": {
    "id": "EzXVRE1o_Zcu"
   },
   "outputs": [
    {
     "name": "stdout",
     "output_type": "stream",
     "text": [
      "\u001b[1mКоличество прослушиваний с 17 - 23 в Москве, в пятницу:\u001b[0m\n"
     ]
    },
    {
     "data": {
      "text/html": [
       "<div>\n",
       "<style scoped>\n",
       "    .dataframe tbody tr th:only-of-type {\n",
       "        vertical-align: middle;\n",
       "    }\n",
       "\n",
       "    .dataframe tbody tr th {\n",
       "        vertical-align: top;\n",
       "    }\n",
       "\n",
       "    .dataframe thead th {\n",
       "        text-align: right;\n",
       "    }\n",
       "</style>\n",
       "<table border=\"1\" class=\"dataframe\">\n",
       "  <thead>\n",
       "    <tr style=\"text-align: right;\">\n",
       "      <th></th>\n",
       "      <th>genre</th>\n",
       "      <th>counted</th>\n",
       "    </tr>\n",
       "  </thead>\n",
       "  <tbody>\n",
       "    <tr>\n",
       "      <th>0</th>\n",
       "      <td>pop</td>\n",
       "      <td>713</td>\n",
       "    </tr>\n",
       "    <tr>\n",
       "      <th>1</th>\n",
       "      <td>rock</td>\n",
       "      <td>517</td>\n",
       "    </tr>\n",
       "    <tr>\n",
       "      <th>2</th>\n",
       "      <td>dance</td>\n",
       "      <td>495</td>\n",
       "    </tr>\n",
       "    <tr>\n",
       "      <th>3</th>\n",
       "      <td>electronic</td>\n",
       "      <td>482</td>\n",
       "    </tr>\n",
       "    <tr>\n",
       "      <th>4</th>\n",
       "      <td>hiphop</td>\n",
       "      <td>273</td>\n",
       "    </tr>\n",
       "    <tr>\n",
       "      <th>5</th>\n",
       "      <td>world</td>\n",
       "      <td>208</td>\n",
       "    </tr>\n",
       "    <tr>\n",
       "      <th>6</th>\n",
       "      <td>ruspop</td>\n",
       "      <td>170</td>\n",
       "    </tr>\n",
       "    <tr>\n",
       "      <th>7</th>\n",
       "      <td>alternative</td>\n",
       "      <td>163</td>\n",
       "    </tr>\n",
       "    <tr>\n",
       "      <th>8</th>\n",
       "      <td>classical</td>\n",
       "      <td>163</td>\n",
       "    </tr>\n",
       "    <tr>\n",
       "      <th>9</th>\n",
       "      <td>rusrap</td>\n",
       "      <td>142</td>\n",
       "    </tr>\n",
       "  </tbody>\n",
       "</table>\n",
       "</div>"
      ],
      "text/plain": [
       "         genre  counted\n",
       "0          pop      713\n",
       "1         rock      517\n",
       "2        dance      495\n",
       "3   electronic      482\n",
       "4       hiphop      273\n",
       "5        world      208\n",
       "6       ruspop      170\n",
       "7  alternative      163\n",
       "8    classical      163\n",
       "9       rusrap      142"
      ]
     },
     "execution_count": 21,
     "metadata": {},
     "output_type": "execute_result"
    }
   ],
   "source": [
    "# вызов функции для вечера пятницы в Москве\n",
    "print (BOLD  + 'Количество прослушиваний с 17 - 23 в Москве, в пятницу:' +'\\033[0m')\n",
    "\n",
    "genre_weekday(moscow_general, 'Friday', '17:00', '23:00')"
   ]
  },
  {
   "cell_type": "code",
   "execution_count": 22,
   "metadata": {
    "id": "JZaEKu5v_Zcu"
   },
   "outputs": [
    {
     "name": "stdout",
     "output_type": "stream",
     "text": [
      "\u001b[1mКоличество прослушиваний с 17 - 23 в Санкт-Петербурге, в пятницу:\u001b[0m\n"
     ]
    },
    {
     "data": {
      "text/html": [
       "<div>\n",
       "<style scoped>\n",
       "    .dataframe tbody tr th:only-of-type {\n",
       "        vertical-align: middle;\n",
       "    }\n",
       "\n",
       "    .dataframe tbody tr th {\n",
       "        vertical-align: top;\n",
       "    }\n",
       "\n",
       "    .dataframe thead th {\n",
       "        text-align: right;\n",
       "    }\n",
       "</style>\n",
       "<table border=\"1\" class=\"dataframe\">\n",
       "  <thead>\n",
       "    <tr style=\"text-align: right;\">\n",
       "      <th></th>\n",
       "      <th>genre</th>\n",
       "      <th>counted</th>\n",
       "    </tr>\n",
       "  </thead>\n",
       "  <tbody>\n",
       "    <tr>\n",
       "      <th>0</th>\n",
       "      <td>pop</td>\n",
       "      <td>256</td>\n",
       "    </tr>\n",
       "    <tr>\n",
       "      <th>1</th>\n",
       "      <td>electronic</td>\n",
       "      <td>216</td>\n",
       "    </tr>\n",
       "    <tr>\n",
       "      <th>2</th>\n",
       "      <td>rock</td>\n",
       "      <td>216</td>\n",
       "    </tr>\n",
       "    <tr>\n",
       "      <th>3</th>\n",
       "      <td>dance</td>\n",
       "      <td>210</td>\n",
       "    </tr>\n",
       "    <tr>\n",
       "      <th>4</th>\n",
       "      <td>hiphop</td>\n",
       "      <td>97</td>\n",
       "    </tr>\n",
       "    <tr>\n",
       "      <th>5</th>\n",
       "      <td>alternative</td>\n",
       "      <td>63</td>\n",
       "    </tr>\n",
       "    <tr>\n",
       "      <th>6</th>\n",
       "      <td>jazz</td>\n",
       "      <td>61</td>\n",
       "    </tr>\n",
       "    <tr>\n",
       "      <th>7</th>\n",
       "      <td>classical</td>\n",
       "      <td>60</td>\n",
       "    </tr>\n",
       "    <tr>\n",
       "      <th>8</th>\n",
       "      <td>rusrap</td>\n",
       "      <td>59</td>\n",
       "    </tr>\n",
       "    <tr>\n",
       "      <th>9</th>\n",
       "      <td>world</td>\n",
       "      <td>54</td>\n",
       "    </tr>\n",
       "  </tbody>\n",
       "</table>\n",
       "</div>"
      ],
      "text/plain": [
       "         genre  counted\n",
       "0          pop      256\n",
       "1   electronic      216\n",
       "2         rock      216\n",
       "3        dance      210\n",
       "4       hiphop       97\n",
       "5  alternative       63\n",
       "6         jazz       61\n",
       "7    classical       60\n",
       "8       rusrap       59\n",
       "9        world       54"
      ]
     },
     "execution_count": 22,
     "metadata": {},
     "output_type": "execute_result"
    }
   ],
   "source": [
    "# вызов функции для вечера пятницы в Петербурге\n",
    "print (BOLD  + 'Количество прослушиваний с 17 - 23 в Санкт-Петербурге, в пятницу:' +'\\033[0m')\n",
    "genre_weekday(spb_general, 'Friday', '17:00', '23:00')"
   ]
  },
  {
   "cell_type": "markdown",
   "metadata": {
    "id": "wrCe4MNX_Zcu"
   },
   "source": [
    "### Промежуточные выводы\n",
    "\n",
    "В понедельник утром помогает проснуться треки из жанра поп и танцевального, для обеих столиц.\n",
    "Следующая по популярности для Москвы электронная музыка, для Санкт-Петербурга рок. \n",
    "\n",
    "В вечер пятницы по прежнему, как для московской, так и для питерской аудитории характено прослушивание музыки из жанра поп. Далее по популярности имеются различия, в Москве прослушиваний больше в жанре рок и танцевальной музыки. Для Петербурга характерно прослушивание электронной и рок музыки. \n",
    "\n",
    "Если сравнить топ-10 жанров в понедельник утром, можно сделать такие выводы:\n",
    "\n",
    "1. В Москве и Петербурге слушают похожую музыку. Единственное отличие — в московский рейтинг вошёл жанр “world”, а в петербургский — джаз и классика.\n",
    "\n",
    "2. В Москве пропущенных значений оказалось так много, что значение `'unknown'` заняло десятое место среди самых популярных жанров. Значит, пропущенные значения занимают существенную долю в данных и угрожают достоверности исследования. \n",
    "\n",
    "Вечер пятницы не меняет эту картину. Некоторые жанры поднимаются немного выше, другие спускаются, но в целом топ-10 остаётся тем же самым.\n",
    "\n",
    "Таким образом, вторая гипотеза подтвердилась лишь частично:\n",
    "* Пользователи слушают похожую музыку в начале недели и в конце.\n",
    "* Разница между Москвой и Петербургом не слишком выражена. В Москве чаще слушают русскую популярную музыку, в Петербурге — джаз.\n",
    "\n",
    "Однако пропуски в данных ставят под сомнение этот результат. В Москве их так много, что рейтинг топ-10 мог бы выглядеть иначе, если бы не утерянные  данные о жанрах."
   ]
  },
  {
   "cell_type": "markdown",
   "metadata": {
    "id": "ykKQ0N65_Zcv"
   },
   "source": [
    "## Итоги исследования"
   ]
  },
  {
   "attachments": {
    "image.png": {
     "image/png": "[encoded data removed]"
    }
   },
   "cell_type": "markdown",
   "metadata": {
    "id": "tjUwbHb3_Zcv"
   },
   "source": [
    "Проверка всех трех гипотез показала: \n",
    "\n",
    "1. День недели по-разному влияет на активность пользователей в Москве и Петербурге. \n",
    "\n",
    "Гипотеза подтвердилась, количество прослушиваний по разному распределено в городах по дням. \n",
    "Для Москвы количество прослушиваний выше  в понедельник, \n",
    "для Санкт-Петербурга в среду\n",
    "\n",
    "![image.png](attachment:image.png)\n",
    "\n",
    "2. Музыкальные предпочтения не сильно меняются в течение недели — будь то Москва или Петербург. Небольшие различия заметны в начале недели, по понедельникам:\n",
    "* в Москве слушают музыку жанра “world”,\n",
    "* в Петербурге — джаз и классику.\n",
    "\n",
    "Таким образом, вторая гипотеза подтвердилась лишь отчасти. Этот результат мог оказаться иным, если бы не пропуски в данных.\n",
    "\n",
    "3. Во вкусах пользователей Москвы и Петербурга больше общего чем различий. Вопреки ожиданиям, предпочтения жанров в Петербурге напоминают московские.\n",
    "\n",
    "Третья гипотеза не подтвердилась. Если различия в предпочтениях и существуют, на основной массе пользователей они незаметны.\n",
    "\n"
   ]
  }
 ],
 "metadata": {
  "ExecuteTimeLog": [
   {
    "duration": 5,
    "start_time": "2022-01-30T06:12:15.556Z"
   },
   {
    "duration": 302,
    "start_time": "2022-01-30T06:15:08.367Z"
   },
   {
    "duration": 346,
    "start_time": "2022-01-30T06:15:47.596Z"
   },
   {
    "duration": 738,
    "start_time": "2022-01-30T06:16:00.824Z"
   },
   {
    "duration": 4,
    "start_time": "2022-01-30T06:16:04.720Z"
   },
   {
    "duration": 265,
    "start_time": "2022-01-30T06:16:08.686Z"
   },
   {
    "duration": 4,
    "start_time": "2022-01-30T06:17:57.080Z"
   },
   {
    "duration": 232,
    "start_time": "2022-01-30T06:18:34.211Z"
   },
   {
    "duration": 1751,
    "start_time": "2022-01-30T06:19:17.569Z"
   },
   {
    "duration": 232,
    "start_time": "2022-01-30T06:19:52.756Z"
   },
   {
    "duration": 173,
    "start_time": "2022-01-30T06:23:58.044Z"
   },
   {
    "duration": 185,
    "start_time": "2022-01-30T06:24:00.794Z"
   },
   {
    "duration": 192,
    "start_time": "2022-01-30T06:24:03.910Z"
   },
   {
    "duration": 25,
    "start_time": "2022-01-30T06:24:08.929Z"
   },
   {
    "duration": 3,
    "start_time": "2022-01-30T06:24:26.212Z"
   },
   {
    "duration": 312,
    "start_time": "2022-01-30T06:25:06.452Z"
   },
   {
    "duration": 44,
    "start_time": "2022-01-30T06:25:14.659Z"
   },
   {
    "duration": 3,
    "start_time": "2022-01-30T06:34:43.372Z"
   },
   {
    "duration": 406,
    "start_time": "2022-01-30T06:34:59.192Z"
   },
   {
    "duration": 663,
    "start_time": "2022-01-30T06:35:17.882Z"
   },
   {
    "duration": 5,
    "start_time": "2022-01-30T06:35:28.729Z"
   },
   {
    "duration": 28,
    "start_time": "2022-01-30T06:40:50.666Z"
   },
   {
    "duration": 17,
    "start_time": "2022-01-30T06:40:55.698Z"
   },
   {
    "duration": 3,
    "start_time": "2022-01-30T06:41:06.217Z"
   },
   {
    "duration": 5,
    "start_time": "2022-01-30T06:41:31.104Z"
   },
   {
    "duration": 3,
    "start_time": "2022-01-30T06:42:00.982Z"
   },
   {
    "duration": 29,
    "start_time": "2022-01-30T06:43:11.202Z"
   },
   {
    "duration": 4,
    "start_time": "2022-01-30T06:45:24.916Z"
   },
   {
    "duration": 6194,
    "start_time": "2022-01-30T06:49:51.420Z"
   },
   {
    "duration": 4,
    "start_time": "2022-01-30T06:55:02.498Z"
   },
   {
    "duration": 81,
    "start_time": "2022-01-30T06:55:31.955Z"
   },
   {
    "duration": 78,
    "start_time": "2022-01-30T07:12:17.589Z"
   },
   {
    "duration": 3,
    "start_time": "2022-01-30T07:13:26.938Z"
   },
   {
    "duration": 341,
    "start_time": "2022-01-30T09:46:26.643Z"
   },
   {
    "duration": 752,
    "start_time": "2022-01-30T10:07:07.222Z"
   },
   {
    "duration": 192,
    "start_time": "2022-01-30T10:07:07.976Z"
   },
   {
    "duration": 25,
    "start_time": "2022-01-30T10:07:08.171Z"
   },
   {
    "duration": 49,
    "start_time": "2022-01-30T10:07:08.199Z"
   },
   {
    "duration": 5,
    "start_time": "2022-01-30T10:07:08.250Z"
   },
   {
    "duration": 27,
    "start_time": "2022-01-30T10:07:08.258Z"
   },
   {
    "duration": 4,
    "start_time": "2022-01-30T10:07:08.288Z"
   },
   {
    "duration": 61,
    "start_time": "2022-01-30T10:07:08.296Z"
   },
   {
    "duration": 8693,
    "start_time": "2022-01-30T10:07:08.360Z"
   },
   {
    "duration": 855,
    "start_time": "2022-01-30T10:07:16.203Z"
   },
   {
    "duration": 853,
    "start_time": "2022-01-30T10:07:16.207Z"
   },
   {
    "duration": 850,
    "start_time": "2022-01-30T10:07:16.211Z"
   },
   {
    "duration": 849,
    "start_time": "2022-01-30T10:07:16.214Z"
   },
   {
    "duration": 848,
    "start_time": "2022-01-30T10:07:16.217Z"
   },
   {
    "duration": 846,
    "start_time": "2022-01-30T10:07:16.220Z"
   },
   {
    "duration": 838,
    "start_time": "2022-01-30T10:07:16.229Z"
   },
   {
    "duration": 836,
    "start_time": "2022-01-30T10:07:16.232Z"
   },
   {
    "duration": 835,
    "start_time": "2022-01-30T10:07:16.234Z"
   },
   {
    "duration": 834,
    "start_time": "2022-01-30T10:07:16.236Z"
   },
   {
    "duration": 833,
    "start_time": "2022-01-30T10:07:16.239Z"
   },
   {
    "duration": 832,
    "start_time": "2022-01-30T10:07:16.241Z"
   },
   {
    "duration": 829,
    "start_time": "2022-01-30T10:07:16.245Z"
   },
   {
    "duration": 826,
    "start_time": "2022-01-30T10:07:16.249Z"
   },
   {
    "duration": 823,
    "start_time": "2022-01-30T10:07:16.253Z"
   },
   {
    "duration": 821,
    "start_time": "2022-01-30T10:07:16.256Z"
   },
   {
    "duration": 818,
    "start_time": "2022-01-30T10:07:16.260Z"
   },
   {
    "duration": 815,
    "start_time": "2022-01-30T10:07:16.263Z"
   },
   {
    "duration": 814,
    "start_time": "2022-01-30T10:07:16.266Z"
   },
   {
    "duration": 811,
    "start_time": "2022-01-30T10:07:16.270Z"
   },
   {
    "duration": 802,
    "start_time": "2022-01-30T10:07:16.280Z"
   },
   {
    "duration": 799,
    "start_time": "2022-01-30T10:07:16.284Z"
   },
   {
    "duration": 798,
    "start_time": "2022-01-30T10:07:16.287Z"
   },
   {
    "duration": 796,
    "start_time": "2022-01-30T10:07:16.290Z"
   },
   {
    "duration": 794,
    "start_time": "2022-01-30T10:07:16.293Z"
   },
   {
    "duration": 792,
    "start_time": "2022-01-30T10:07:16.296Z"
   },
   {
    "duration": 790,
    "start_time": "2022-01-30T10:07:16.299Z"
   },
   {
    "duration": 788,
    "start_time": "2022-01-30T10:07:16.302Z"
   },
   {
    "duration": 788,
    "start_time": "2022-01-30T10:07:16.304Z"
   },
   {
    "duration": 23,
    "start_time": "2022-01-30T10:09:02.478Z"
   },
   {
    "duration": 23,
    "start_time": "2022-01-30T10:09:07.181Z"
   },
   {
    "duration": 28,
    "start_time": "2022-01-30T10:09:19.792Z"
   },
   {
    "duration": 86,
    "start_time": "2022-01-30T10:15:20.738Z"
   },
   {
    "duration": 103,
    "start_time": "2022-01-30T10:15:43.241Z"
   },
   {
    "duration": 76,
    "start_time": "2022-01-30T10:16:14.955Z"
   },
   {
    "duration": 9,
    "start_time": "2022-01-30T10:17:42.440Z"
   },
   {
    "duration": 101,
    "start_time": "2022-01-30T10:29:00.260Z"
   },
   {
    "duration": 4,
    "start_time": "2022-01-30T10:32:05.703Z"
   },
   {
    "duration": 3,
    "start_time": "2022-01-30T10:32:39.240Z"
   },
   {
    "duration": 312,
    "start_time": "2022-01-30T10:34:29.794Z"
   },
   {
    "duration": 292,
    "start_time": "2022-01-30T10:36:02.469Z"
   },
   {
    "duration": 41,
    "start_time": "2022-01-30T10:36:47.330Z"
   },
   {
    "duration": 3,
    "start_time": "2022-01-30T10:37:06.691Z"
   },
   {
    "duration": 10,
    "start_time": "2022-01-30T10:37:30.721Z"
   },
   {
    "duration": 14,
    "start_time": "2022-01-30T10:37:44.479Z"
   },
   {
    "duration": 8,
    "start_time": "2022-01-30T10:37:57.851Z"
   },
   {
    "duration": 776,
    "start_time": "2022-01-30T10:38:37.225Z"
   },
   {
    "duration": 203,
    "start_time": "2022-01-30T10:38:38.004Z"
   },
   {
    "duration": 32,
    "start_time": "2022-01-30T10:38:38.210Z"
   },
   {
    "duration": 33,
    "start_time": "2022-01-30T10:38:38.244Z"
   },
   {
    "duration": 4,
    "start_time": "2022-01-30T10:38:38.280Z"
   },
   {
    "duration": 61,
    "start_time": "2022-01-30T10:38:38.286Z"
   },
   {
    "duration": 5,
    "start_time": "2022-01-30T10:38:38.349Z"
   },
   {
    "duration": 29,
    "start_time": "2022-01-30T10:38:38.357Z"
   },
   {
    "duration": 47,
    "start_time": "2022-01-30T10:38:38.389Z"
   },
   {
    "duration": 30,
    "start_time": "2022-01-30T10:38:38.439Z"
   },
   {
    "duration": 100,
    "start_time": "2022-01-30T10:38:38.472Z"
   },
   {
    "duration": 101,
    "start_time": "2022-01-30T10:38:38.575Z"
   },
   {
    "duration": 91,
    "start_time": "2022-01-30T10:38:38.679Z"
   },
   {
    "duration": 10,
    "start_time": "2022-01-30T10:38:38.773Z"
   },
   {
    "duration": 4,
    "start_time": "2022-01-30T10:38:38.785Z"
   },
   {
    "duration": 15,
    "start_time": "2022-01-30T10:38:38.791Z"
   },
   {
    "duration": 8,
    "start_time": "2022-01-30T10:38:38.833Z"
   },
   {
    "duration": 6,
    "start_time": "2022-01-30T10:38:38.844Z"
   },
   {
    "duration": 5,
    "start_time": "2022-01-30T10:38:38.852Z"
   },
   {
    "duration": 5,
    "start_time": "2022-01-30T10:38:38.861Z"
   },
   {
    "duration": 5,
    "start_time": "2022-01-30T10:38:38.869Z"
   },
   {
    "duration": 6,
    "start_time": "2022-01-30T10:38:38.877Z"
   },
   {
    "duration": 43,
    "start_time": "2022-01-30T10:38:38.888Z"
   },
   {
    "duration": 4,
    "start_time": "2022-01-30T10:38:38.934Z"
   },
   {
    "duration": 5,
    "start_time": "2022-01-30T10:38:38.941Z"
   },
   {
    "duration": 6,
    "start_time": "2022-01-30T10:38:38.948Z"
   },
   {
    "duration": 6,
    "start_time": "2022-01-30T10:38:38.957Z"
   },
   {
    "duration": 6,
    "start_time": "2022-01-30T10:38:38.965Z"
   },
   {
    "duration": 6,
    "start_time": "2022-01-30T10:38:38.974Z"
   },
   {
    "duration": 5,
    "start_time": "2022-01-30T10:38:38.982Z"
   },
   {
    "duration": 42,
    "start_time": "2022-01-30T10:38:38.990Z"
   },
   {
    "duration": 6,
    "start_time": "2022-01-30T10:38:39.035Z"
   },
   {
    "duration": 9,
    "start_time": "2022-01-30T10:38:39.043Z"
   },
   {
    "duration": 5,
    "start_time": "2022-01-30T10:38:39.054Z"
   },
   {
    "duration": 5,
    "start_time": "2022-01-30T10:38:39.061Z"
   },
   {
    "duration": 5,
    "start_time": "2022-01-30T10:38:39.069Z"
   },
   {
    "duration": 6,
    "start_time": "2022-01-30T10:38:39.077Z"
   },
   {
    "duration": 6,
    "start_time": "2022-01-30T10:38:39.085Z"
   },
   {
    "duration": 58,
    "start_time": "2022-01-30T10:59:39.725Z"
   },
   {
    "duration": 62,
    "start_time": "2022-01-30T11:01:21.990Z"
   },
   {
    "duration": 36,
    "start_time": "2022-01-30T11:01:57.870Z"
   },
   {
    "duration": 44,
    "start_time": "2022-01-30T11:03:11.851Z"
   },
   {
    "duration": 46,
    "start_time": "2022-01-30T11:03:34.038Z"
   },
   {
    "duration": 687,
    "start_time": "2022-01-30T11:04:07.785Z"
   },
   {
    "duration": 170,
    "start_time": "2022-01-30T11:04:08.475Z"
   },
   {
    "duration": 25,
    "start_time": "2022-01-30T11:04:08.648Z"
   },
   {
    "duration": 37,
    "start_time": "2022-01-30T11:04:08.676Z"
   },
   {
    "duration": 5,
    "start_time": "2022-01-30T11:04:08.732Z"
   },
   {
    "duration": 25,
    "start_time": "2022-01-30T11:04:08.739Z"
   },
   {
    "duration": 7,
    "start_time": "2022-01-30T11:04:08.767Z"
   },
   {
    "duration": 59,
    "start_time": "2022-01-30T11:04:08.778Z"
   },
   {
    "duration": 21,
    "start_time": "2022-01-30T11:04:08.840Z"
   },
   {
    "duration": 27,
    "start_time": "2022-01-30T11:04:08.864Z"
   },
   {
    "duration": 104,
    "start_time": "2022-01-30T11:04:08.893Z"
   },
   {
    "duration": 94,
    "start_time": "2022-01-30T11:04:08.999Z"
   },
   {
    "duration": 80,
    "start_time": "2022-01-30T11:04:09.095Z"
   },
   {
    "duration": 8,
    "start_time": "2022-01-30T11:04:09.177Z"
   },
   {
    "duration": 4,
    "start_time": "2022-01-30T11:04:09.187Z"
   },
   {
    "duration": 42,
    "start_time": "2022-01-30T11:04:09.193Z"
   },
   {
    "duration": 10,
    "start_time": "2022-01-30T11:04:09.237Z"
   },
   {
    "duration": 40,
    "start_time": "2022-01-30T11:04:09.249Z"
   },
   {
    "duration": 3,
    "start_time": "2022-01-30T11:04:09.291Z"
   },
   {
    "duration": 7,
    "start_time": "2022-01-30T11:04:09.296Z"
   },
   {
    "duration": 4,
    "start_time": "2022-01-30T11:04:09.333Z"
   },
   {
    "duration": 10,
    "start_time": "2022-01-30T11:04:09.339Z"
   },
   {
    "duration": 3,
    "start_time": "2022-01-30T11:04:09.355Z"
   },
   {
    "duration": 5,
    "start_time": "2022-01-30T11:04:09.360Z"
   },
   {
    "duration": 5,
    "start_time": "2022-01-30T11:04:09.367Z"
   },
   {
    "duration": 8,
    "start_time": "2022-01-30T11:04:09.374Z"
   },
   {
    "duration": 5,
    "start_time": "2022-01-30T11:04:09.384Z"
   },
   {
    "duration": 5,
    "start_time": "2022-01-30T11:04:09.391Z"
   },
   {
    "duration": 3,
    "start_time": "2022-01-30T11:04:09.432Z"
   },
   {
    "duration": 6,
    "start_time": "2022-01-30T11:04:09.438Z"
   },
   {
    "duration": 10,
    "start_time": "2022-01-30T11:04:09.446Z"
   },
   {
    "duration": 11,
    "start_time": "2022-01-30T11:04:09.458Z"
   },
   {
    "duration": 17,
    "start_time": "2022-01-30T11:04:09.471Z"
   },
   {
    "duration": 6,
    "start_time": "2022-01-30T11:04:09.490Z"
   },
   {
    "duration": 7,
    "start_time": "2022-01-30T11:04:09.498Z"
   },
   {
    "duration": 25,
    "start_time": "2022-01-30T11:04:09.507Z"
   },
   {
    "duration": 7,
    "start_time": "2022-01-30T11:04:09.535Z"
   },
   {
    "duration": 7,
    "start_time": "2022-01-30T11:04:09.544Z"
   },
   {
    "duration": 61,
    "start_time": "2022-01-30T11:06:50.952Z"
   },
   {
    "duration": 43,
    "start_time": "2022-01-30T11:07:13.992Z"
   },
   {
    "duration": 761,
    "start_time": "2022-01-30T11:07:28.993Z"
   },
   {
    "duration": 180,
    "start_time": "2022-01-30T11:07:29.757Z"
   },
   {
    "duration": 26,
    "start_time": "2022-01-30T11:07:29.940Z"
   },
   {
    "duration": 42,
    "start_time": "2022-01-30T11:07:29.968Z"
   },
   {
    "duration": 22,
    "start_time": "2022-01-30T11:07:30.013Z"
   },
   {
    "duration": 32,
    "start_time": "2022-01-30T11:07:30.037Z"
   },
   {
    "duration": 15,
    "start_time": "2022-01-30T11:07:30.071Z"
   },
   {
    "duration": 50,
    "start_time": "2022-01-30T11:07:30.090Z"
   },
   {
    "duration": 37,
    "start_time": "2022-01-30T11:07:30.143Z"
   },
   {
    "duration": 31,
    "start_time": "2022-01-30T11:07:30.183Z"
   },
   {
    "duration": 98,
    "start_time": "2022-01-30T11:07:30.216Z"
   },
   {
    "duration": 99,
    "start_time": "2022-01-30T11:07:30.316Z"
   },
   {
    "duration": 86,
    "start_time": "2022-01-30T11:07:30.417Z"
   },
   {
    "duration": 9,
    "start_time": "2022-01-30T11:07:30.505Z"
   },
   {
    "duration": 4,
    "start_time": "2022-01-30T11:07:30.533Z"
   },
   {
    "duration": 24,
    "start_time": "2022-01-30T11:07:30.540Z"
   },
   {
    "duration": 30,
    "start_time": "2022-01-30T11:07:30.567Z"
   },
   {
    "duration": 55,
    "start_time": "2022-01-30T11:07:30.600Z"
   },
   {
    "duration": 3,
    "start_time": "2022-01-30T11:07:30.658Z"
   },
   {
    "duration": 13,
    "start_time": "2022-01-30T11:07:30.664Z"
   },
   {
    "duration": 21,
    "start_time": "2022-01-30T11:07:30.679Z"
   },
   {
    "duration": 18,
    "start_time": "2022-01-30T11:07:30.703Z"
   },
   {
    "duration": 19,
    "start_time": "2022-01-30T11:07:30.726Z"
   },
   {
    "duration": 13,
    "start_time": "2022-01-30T11:07:30.749Z"
   },
   {
    "duration": 17,
    "start_time": "2022-01-30T11:07:30.765Z"
   },
   {
    "duration": 15,
    "start_time": "2022-01-30T11:07:30.785Z"
   },
   {
    "duration": 21,
    "start_time": "2022-01-30T11:07:30.802Z"
   },
   {
    "duration": 10,
    "start_time": "2022-01-30T11:07:30.825Z"
   },
   {
    "duration": 7,
    "start_time": "2022-01-30T11:07:30.837Z"
   },
   {
    "duration": 9,
    "start_time": "2022-01-30T11:07:30.846Z"
   },
   {
    "duration": 10,
    "start_time": "2022-01-30T11:07:30.857Z"
   },
   {
    "duration": 9,
    "start_time": "2022-01-30T11:07:30.869Z"
   },
   {
    "duration": 14,
    "start_time": "2022-01-30T11:07:30.881Z"
   },
   {
    "duration": 7,
    "start_time": "2022-01-30T11:07:30.898Z"
   },
   {
    "duration": 24,
    "start_time": "2022-01-30T11:07:30.908Z"
   },
   {
    "duration": 4,
    "start_time": "2022-01-30T11:07:30.935Z"
   },
   {
    "duration": 8,
    "start_time": "2022-01-30T11:07:30.942Z"
   },
   {
    "duration": 8,
    "start_time": "2022-01-30T11:07:30.953Z"
   },
   {
    "duration": 975,
    "start_time": "2022-01-30T11:19:00.171Z"
   },
   {
    "duration": 995,
    "start_time": "2022-01-30T11:21:23.654Z"
   },
   {
    "duration": 291,
    "start_time": "2022-01-30T11:29:54.366Z"
   },
   {
    "duration": 64,
    "start_time": "2022-01-30T11:56:30.394Z"
   },
   {
    "duration": 318,
    "start_time": "2022-01-30T11:59:26.787Z"
   },
   {
    "duration": 719,
    "start_time": "2022-01-30T12:00:08.550Z"
   },
   {
    "duration": 174,
    "start_time": "2022-01-30T12:00:09.272Z"
   },
   {
    "duration": 25,
    "start_time": "2022-01-30T12:00:09.449Z"
   },
   {
    "duration": 56,
    "start_time": "2022-01-30T12:00:09.476Z"
   },
   {
    "duration": 5,
    "start_time": "2022-01-30T12:00:09.534Z"
   },
   {
    "duration": 35,
    "start_time": "2022-01-30T12:00:09.541Z"
   },
   {
    "duration": 5,
    "start_time": "2022-01-30T12:00:09.580Z"
   },
   {
    "duration": 56,
    "start_time": "2022-01-30T12:00:09.589Z"
   },
   {
    "duration": 28,
    "start_time": "2022-01-30T12:00:09.648Z"
   },
   {
    "duration": 28,
    "start_time": "2022-01-30T12:00:09.679Z"
   },
   {
    "duration": 97,
    "start_time": "2022-01-30T12:00:09.709Z"
   },
   {
    "duration": 100,
    "start_time": "2022-01-30T12:00:09.809Z"
   },
   {
    "duration": 85,
    "start_time": "2022-01-30T12:00:09.911Z"
   },
   {
    "duration": 9,
    "start_time": "2022-01-30T12:00:09.998Z"
   },
   {
    "duration": 26,
    "start_time": "2022-01-30T12:00:10.009Z"
   },
   {
    "duration": 32,
    "start_time": "2022-01-30T12:00:10.037Z"
   },
   {
    "duration": 11,
    "start_time": "2022-01-30T12:00:10.071Z"
   },
   {
    "duration": 55,
    "start_time": "2022-01-30T12:00:10.084Z"
   },
   {
    "duration": 418,
    "start_time": "2022-01-30T12:00:10.141Z"
   },
   {
    "duration": -44,
    "start_time": "2022-01-30T12:00:10.606Z"
   },
   {
    "duration": -48,
    "start_time": "2022-01-30T12:00:10.612Z"
   },
   {
    "duration": -52,
    "start_time": "2022-01-30T12:00:10.617Z"
   },
   {
    "duration": -58,
    "start_time": "2022-01-30T12:00:10.625Z"
   },
   {
    "duration": -63,
    "start_time": "2022-01-30T12:00:10.631Z"
   },
   {
    "duration": -66,
    "start_time": "2022-01-30T12:00:10.636Z"
   },
   {
    "duration": -67,
    "start_time": "2022-01-30T12:00:10.639Z"
   },
   {
    "duration": -68,
    "start_time": "2022-01-30T12:00:10.641Z"
   },
   {
    "duration": -69,
    "start_time": "2022-01-30T12:00:10.644Z"
   },
   {
    "duration": -70,
    "start_time": "2022-01-30T12:00:10.646Z"
   },
   {
    "duration": -71,
    "start_time": "2022-01-30T12:00:10.649Z"
   },
   {
    "duration": -72,
    "start_time": "2022-01-30T12:00:10.651Z"
   },
   {
    "duration": -74,
    "start_time": "2022-01-30T12:00:10.654Z"
   },
   {
    "duration": -75,
    "start_time": "2022-01-30T12:00:10.657Z"
   },
   {
    "duration": -76,
    "start_time": "2022-01-30T12:00:10.659Z"
   },
   {
    "duration": -78,
    "start_time": "2022-01-30T12:00:10.662Z"
   },
   {
    "duration": -78,
    "start_time": "2022-01-30T12:00:10.664Z"
   },
   {
    "duration": -80,
    "start_time": "2022-01-30T12:00:10.667Z"
   },
   {
    "duration": -81,
    "start_time": "2022-01-30T12:00:10.669Z"
   },
   {
    "duration": 308,
    "start_time": "2022-01-30T12:00:21.160Z"
   },
   {
    "duration": 343,
    "start_time": "2022-01-30T12:01:00.293Z"
   },
   {
    "duration": 320,
    "start_time": "2022-01-30T12:02:32.987Z"
   },
   {
    "duration": 291,
    "start_time": "2022-01-30T12:08:51.331Z"
   },
   {
    "duration": 429,
    "start_time": "2022-01-30T12:09:12.225Z"
   },
   {
    "duration": 117,
    "start_time": "2022-01-30T12:09:18.757Z"
   },
   {
    "duration": 727,
    "start_time": "2022-01-30T12:21:05.282Z"
   },
   {
    "duration": 299,
    "start_time": "2022-01-30T12:21:06.012Z"
   },
   {
    "duration": 31,
    "start_time": "2022-01-30T12:21:06.314Z"
   },
   {
    "duration": 38,
    "start_time": "2022-01-30T12:21:06.348Z"
   },
   {
    "duration": 7,
    "start_time": "2022-01-30T12:21:06.390Z"
   },
   {
    "duration": 38,
    "start_time": "2022-01-30T12:21:06.432Z"
   },
   {
    "duration": 8,
    "start_time": "2022-01-30T12:21:06.473Z"
   },
   {
    "duration": 67,
    "start_time": "2022-01-30T12:21:06.486Z"
   },
   {
    "duration": 35,
    "start_time": "2022-01-30T12:21:06.558Z"
   },
   {
    "duration": 68,
    "start_time": "2022-01-30T12:21:06.597Z"
   },
   {
    "duration": 142,
    "start_time": "2022-01-30T12:21:06.669Z"
   },
   {
    "duration": 106,
    "start_time": "2022-01-30T12:21:06.815Z"
   },
   {
    "duration": 86,
    "start_time": "2022-01-30T12:21:06.924Z"
   },
   {
    "duration": 25,
    "start_time": "2022-01-30T12:21:07.012Z"
   },
   {
    "duration": 7,
    "start_time": "2022-01-30T12:21:07.040Z"
   },
   {
    "duration": 17,
    "start_time": "2022-01-30T12:21:07.049Z"
   },
   {
    "duration": 10,
    "start_time": "2022-01-30T12:21:07.068Z"
   },
   {
    "duration": 77,
    "start_time": "2022-01-30T12:21:07.080Z"
   },
   {
    "duration": 476,
    "start_time": "2022-01-30T12:21:07.159Z"
   },
   {
    "duration": 1,
    "start_time": "2022-01-30T12:21:07.639Z"
   },
   {
    "duration": -10,
    "start_time": "2022-01-30T12:21:07.653Z"
   },
   {
    "duration": -11,
    "start_time": "2022-01-30T12:21:07.656Z"
   },
   {
    "duration": -10,
    "start_time": "2022-01-30T12:21:07.658Z"
   },
   {
    "duration": -11,
    "start_time": "2022-01-30T12:21:07.661Z"
   },
   {
    "duration": -11,
    "start_time": "2022-01-30T12:21:07.663Z"
   },
   {
    "duration": -12,
    "start_time": "2022-01-30T12:21:07.666Z"
   },
   {
    "duration": -13,
    "start_time": "2022-01-30T12:21:07.669Z"
   },
   {
    "duration": -13,
    "start_time": "2022-01-30T12:21:07.672Z"
   },
   {
    "duration": -16,
    "start_time": "2022-01-30T12:21:07.677Z"
   },
   {
    "duration": -23,
    "start_time": "2022-01-30T12:21:07.686Z"
   },
   {
    "duration": -23,
    "start_time": "2022-01-30T12:21:07.689Z"
   },
   {
    "duration": -24,
    "start_time": "2022-01-30T12:21:07.692Z"
   },
   {
    "duration": -24,
    "start_time": "2022-01-30T12:21:07.694Z"
   },
   {
    "duration": -25,
    "start_time": "2022-01-30T12:21:07.697Z"
   },
   {
    "duration": -26,
    "start_time": "2022-01-30T12:21:07.700Z"
   },
   {
    "duration": -27,
    "start_time": "2022-01-30T12:21:07.703Z"
   },
   {
    "duration": -28,
    "start_time": "2022-01-30T12:21:07.706Z"
   },
   {
    "duration": 24,
    "start_time": "2022-01-30T12:21:07.708Z"
   },
   {
    "duration": 383,
    "start_time": "2022-01-30T12:21:18.867Z"
   },
   {
    "duration": 251,
    "start_time": "2022-01-30T12:22:03.948Z"
   },
   {
    "duration": 98,
    "start_time": "2022-01-30T12:22:24.037Z"
   },
   {
    "duration": 122,
    "start_time": "2022-01-30T12:22:29.092Z"
   },
   {
    "duration": 90,
    "start_time": "2022-01-30T12:22:51.821Z"
   },
   {
    "duration": 100,
    "start_time": "2022-01-30T12:26:41.791Z"
   },
   {
    "duration": 58,
    "start_time": "2022-01-30T12:53:13.807Z"
   },
   {
    "duration": 333,
    "start_time": "2022-01-30T12:56:09.656Z"
   },
   {
    "duration": 3964,
    "start_time": "2022-01-30T12:56:47.815Z"
   },
   {
    "duration": 27,
    "start_time": "2022-01-30T12:57:31.910Z"
   },
   {
    "duration": 34,
    "start_time": "2022-01-30T12:58:46.272Z"
   },
   {
    "duration": 378,
    "start_time": "2022-01-30T12:59:22.090Z"
   },
   {
    "duration": 48,
    "start_time": "2022-01-30T13:00:40.987Z"
   },
   {
    "duration": 718,
    "start_time": "2022-01-30T13:01:21.874Z"
   },
   {
    "duration": 179,
    "start_time": "2022-01-30T13:01:22.594Z"
   },
   {
    "duration": 27,
    "start_time": "2022-01-30T13:01:22.776Z"
   },
   {
    "duration": 47,
    "start_time": "2022-01-30T13:01:22.806Z"
   },
   {
    "duration": 6,
    "start_time": "2022-01-30T13:01:22.855Z"
   },
   {
    "duration": 28,
    "start_time": "2022-01-30T13:01:22.863Z"
   },
   {
    "duration": 38,
    "start_time": "2022-01-30T13:01:22.894Z"
   },
   {
    "duration": 29,
    "start_time": "2022-01-30T13:01:22.936Z"
   },
   {
    "duration": 26,
    "start_time": "2022-01-30T13:01:22.968Z"
   },
   {
    "duration": 49,
    "start_time": "2022-01-30T13:01:22.996Z"
   },
   {
    "duration": 105,
    "start_time": "2022-01-30T13:01:23.048Z"
   },
   {
    "duration": 128,
    "start_time": "2022-01-30T13:01:23.156Z"
   },
   {
    "duration": 92,
    "start_time": "2022-01-30T13:01:23.286Z"
   },
   {
    "duration": 8,
    "start_time": "2022-01-30T13:01:23.381Z"
   },
   {
    "duration": 3,
    "start_time": "2022-01-30T13:01:23.392Z"
   },
   {
    "duration": 39,
    "start_time": "2022-01-30T13:01:23.398Z"
   },
   {
    "duration": 8,
    "start_time": "2022-01-30T13:01:23.439Z"
   },
   {
    "duration": 41,
    "start_time": "2022-01-30T13:01:23.449Z"
   },
   {
    "duration": 74,
    "start_time": "2022-01-30T13:01:23.492Z"
   },
   {
    "duration": 93,
    "start_time": "2022-01-30T13:01:23.568Z"
   },
   {
    "duration": 86,
    "start_time": "2022-01-30T13:01:23.579Z"
   },
   {
    "duration": 83,
    "start_time": "2022-01-30T13:01:23.583Z"
   },
   {
    "duration": 80,
    "start_time": "2022-01-30T13:01:23.587Z"
   },
   {
    "duration": 78,
    "start_time": "2022-01-30T13:01:23.590Z"
   },
   {
    "duration": 78,
    "start_time": "2022-01-30T13:01:23.592Z"
   },
   {
    "duration": 76,
    "start_time": "2022-01-30T13:01:23.595Z"
   },
   {
    "duration": 74,
    "start_time": "2022-01-30T13:01:23.598Z"
   },
   {
    "duration": 73,
    "start_time": "2022-01-30T13:01:23.601Z"
   },
   {
    "duration": 73,
    "start_time": "2022-01-30T13:01:23.603Z"
   },
   {
    "duration": 65,
    "start_time": "2022-01-30T13:01:23.612Z"
   },
   {
    "duration": 62,
    "start_time": "2022-01-30T13:01:23.616Z"
   },
   {
    "duration": 61,
    "start_time": "2022-01-30T13:01:23.619Z"
   },
   {
    "duration": 59,
    "start_time": "2022-01-30T13:01:23.622Z"
   },
   {
    "duration": 57,
    "start_time": "2022-01-30T13:01:23.625Z"
   },
   {
    "duration": 56,
    "start_time": "2022-01-30T13:01:23.628Z"
   },
   {
    "duration": 54,
    "start_time": "2022-01-30T13:01:23.631Z"
   },
   {
    "duration": 52,
    "start_time": "2022-01-30T13:01:23.634Z"
   },
   {
    "duration": 52,
    "start_time": "2022-01-30T13:01:23.636Z"
   },
   {
    "duration": 49,
    "start_time": "2022-01-30T13:01:52.093Z"
   },
   {
    "duration": 814,
    "start_time": "2022-01-30T13:02:06.455Z"
   },
   {
    "duration": 194,
    "start_time": "2022-01-30T13:02:07.272Z"
   },
   {
    "duration": 26,
    "start_time": "2022-01-30T13:02:07.469Z"
   },
   {
    "duration": 52,
    "start_time": "2022-01-30T13:02:07.497Z"
   },
   {
    "duration": 4,
    "start_time": "2022-01-30T13:02:07.552Z"
   },
   {
    "duration": 29,
    "start_time": "2022-01-30T13:02:07.560Z"
   },
   {
    "duration": 42,
    "start_time": "2022-01-30T13:02:07.592Z"
   },
   {
    "duration": 33,
    "start_time": "2022-01-30T13:02:07.636Z"
   },
   {
    "duration": 22,
    "start_time": "2022-01-30T13:02:07.671Z"
   },
   {
    "duration": 55,
    "start_time": "2022-01-30T13:02:07.696Z"
   },
   {
    "duration": 97,
    "start_time": "2022-01-30T13:02:07.753Z"
   },
   {
    "duration": 116,
    "start_time": "2022-01-30T13:02:07.853Z"
   },
   {
    "duration": 87,
    "start_time": "2022-01-30T13:02:07.972Z"
   },
   {
    "duration": 9,
    "start_time": "2022-01-30T13:02:08.062Z"
   },
   {
    "duration": 8,
    "start_time": "2022-01-30T13:02:08.073Z"
   },
   {
    "duration": 17,
    "start_time": "2022-01-30T13:02:08.084Z"
   },
   {
    "duration": 9,
    "start_time": "2022-01-30T13:02:08.132Z"
   },
   {
    "duration": 42,
    "start_time": "2022-01-30T13:02:08.146Z"
   },
   {
    "duration": 75,
    "start_time": "2022-01-30T13:02:08.191Z"
   },
   {
    "duration": 102,
    "start_time": "2022-01-30T13:02:08.269Z"
   },
   {
    "duration": 99,
    "start_time": "2022-01-30T13:02:08.275Z"
   },
   {
    "duration": 83,
    "start_time": "2022-01-30T13:02:08.292Z"
   },
   {
    "duration": 74,
    "start_time": "2022-01-30T13:02:08.303Z"
   },
   {
    "duration": 68,
    "start_time": "2022-01-30T13:02:08.310Z"
   },
   {
    "duration": 62,
    "start_time": "2022-01-30T13:02:08.318Z"
   },
   {
    "duration": 59,
    "start_time": "2022-01-30T13:02:08.322Z"
   },
   {
    "duration": 58,
    "start_time": "2022-01-30T13:02:08.325Z"
   },
   {
    "duration": 55,
    "start_time": "2022-01-30T13:02:08.330Z"
   },
   {
    "duration": 50,
    "start_time": "2022-01-30T13:02:08.336Z"
   },
   {
    "duration": 47,
    "start_time": "2022-01-30T13:02:08.341Z"
   },
   {
    "duration": 40,
    "start_time": "2022-01-30T13:02:08.349Z"
   },
   {
    "duration": 32,
    "start_time": "2022-01-30T13:02:08.359Z"
   },
   {
    "duration": 28,
    "start_time": "2022-01-30T13:02:08.366Z"
   },
   {
    "duration": 16,
    "start_time": "2022-01-30T13:02:08.380Z"
   },
   {
    "duration": 13,
    "start_time": "2022-01-30T13:02:08.385Z"
   },
   {
    "duration": 9,
    "start_time": "2022-01-30T13:02:08.390Z"
   },
   {
    "duration": 8,
    "start_time": "2022-01-30T13:02:08.393Z"
   },
   {
    "duration": 5,
    "start_time": "2022-01-30T13:02:08.398Z"
   },
   {
    "duration": 99,
    "start_time": "2022-01-30T13:05:12.800Z"
   },
   {
    "duration": 101,
    "start_time": "2022-01-30T13:06:28.141Z"
   },
   {
    "duration": 166,
    "start_time": "2022-01-30T13:06:52.204Z"
   },
   {
    "duration": 122,
    "start_time": "2022-01-30T13:07:25.561Z"
   },
   {
    "duration": 9,
    "start_time": "2022-01-30T13:11:05.740Z"
   },
   {
    "duration": 5,
    "start_time": "2022-01-30T13:11:10.581Z"
   },
   {
    "duration": 31,
    "start_time": "2022-01-30T13:11:18.406Z"
   },
   {
    "duration": 5,
    "start_time": "2022-01-30T13:12:06.584Z"
   },
   {
    "duration": 29,
    "start_time": "2022-01-30T13:14:10.972Z"
   },
   {
    "duration": 29,
    "start_time": "2022-01-30T13:16:45.557Z"
   },
   {
    "duration": 26,
    "start_time": "2022-01-30T13:16:56.584Z"
   },
   {
    "duration": 30,
    "start_time": "2022-01-30T13:17:04.785Z"
   },
   {
    "duration": 25,
    "start_time": "2022-01-30T13:17:18.661Z"
   },
   {
    "duration": 32,
    "start_time": "2022-01-30T13:18:23.793Z"
   },
   {
    "duration": 3,
    "start_time": "2022-01-30T13:18:32.531Z"
   },
   {
    "duration": 26,
    "start_time": "2022-01-30T13:18:44.191Z"
   },
   {
    "duration": 4,
    "start_time": "2022-01-30T13:34:19.325Z"
   },
   {
    "duration": 28,
    "start_time": "2022-01-30T13:34:27.050Z"
   },
   {
    "duration": 19,
    "start_time": "2022-01-30T13:34:30.753Z"
   },
   {
    "duration": 19,
    "start_time": "2022-01-30T13:34:34.649Z"
   },
   {
    "duration": 18,
    "start_time": "2022-01-30T13:34:38.863Z"
   },
   {
    "duration": 28,
    "start_time": "2022-01-30T13:34:41.984Z"
   },
   {
    "duration": 20,
    "start_time": "2022-01-30T13:34:45.286Z"
   },
   {
    "duration": 6,
    "start_time": "2022-01-30T13:37:46.967Z"
   },
   {
    "duration": 11,
    "start_time": "2022-01-30T13:38:03.432Z"
   },
   {
    "duration": 782,
    "start_time": "2022-01-30T13:45:30.778Z"
   },
   {
    "duration": 198,
    "start_time": "2022-01-30T13:45:31.563Z"
   },
   {
    "duration": 29,
    "start_time": "2022-01-30T13:45:31.765Z"
   },
   {
    "duration": 59,
    "start_time": "2022-01-30T13:45:31.797Z"
   },
   {
    "duration": 5,
    "start_time": "2022-01-30T13:45:31.859Z"
   },
   {
    "duration": 32,
    "start_time": "2022-01-30T13:45:31.867Z"
   },
   {
    "duration": 38,
    "start_time": "2022-01-30T13:45:31.901Z"
   },
   {
    "duration": 41,
    "start_time": "2022-01-30T13:45:31.944Z"
   },
   {
    "duration": 22,
    "start_time": "2022-01-30T13:45:31.989Z"
   },
   {
    "duration": 33,
    "start_time": "2022-01-30T13:45:32.032Z"
   },
   {
    "duration": 108,
    "start_time": "2022-01-30T13:45:32.068Z"
   },
   {
    "duration": 113,
    "start_time": "2022-01-30T13:45:32.179Z"
   },
   {
    "duration": 88,
    "start_time": "2022-01-30T13:45:32.294Z"
   },
   {
    "duration": 8,
    "start_time": "2022-01-30T13:45:32.384Z"
   },
   {
    "duration": 8,
    "start_time": "2022-01-30T13:45:32.395Z"
   },
   {
    "duration": 38,
    "start_time": "2022-01-30T13:45:32.406Z"
   },
   {
    "duration": 10,
    "start_time": "2022-01-30T13:45:32.447Z"
   },
   {
    "duration": 77,
    "start_time": "2022-01-30T13:45:32.459Z"
   },
   {
    "duration": 65,
    "start_time": "2022-01-30T13:45:32.539Z"
   },
   {
    "duration": 26,
    "start_time": "2022-01-30T13:45:32.607Z"
   },
   {
    "duration": 38,
    "start_time": "2022-01-30T13:45:32.636Z"
   },
   {
    "duration": 18,
    "start_time": "2022-01-30T13:45:32.677Z"
   },
   {
    "duration": 40,
    "start_time": "2022-01-30T13:45:32.700Z"
   },
   {
    "duration": 19,
    "start_time": "2022-01-30T13:45:32.743Z"
   },
   {
    "duration": 20,
    "start_time": "2022-01-30T13:45:32.765Z"
   },
   {
    "duration": 53,
    "start_time": "2022-01-30T13:45:32.788Z"
   },
   {
    "duration": 11,
    "start_time": "2022-01-30T13:45:32.844Z"
   },
   {
    "duration": 6,
    "start_time": "2022-01-30T13:45:32.858Z"
   },
   {
    "duration": 8,
    "start_time": "2022-01-30T13:45:32.866Z"
   },
   {
    "duration": 10,
    "start_time": "2022-01-30T13:45:32.877Z"
   },
   {
    "duration": 42,
    "start_time": "2022-01-30T13:45:32.890Z"
   },
   {
    "duration": 9,
    "start_time": "2022-01-30T13:45:32.935Z"
   },
   {
    "duration": 14,
    "start_time": "2022-01-30T13:45:32.947Z"
   },
   {
    "duration": 9,
    "start_time": "2022-01-30T13:45:32.963Z"
   },
   {
    "duration": 6,
    "start_time": "2022-01-30T13:45:32.975Z"
   },
   {
    "duration": 11,
    "start_time": "2022-01-30T13:45:32.983Z"
   },
   {
    "duration": 8,
    "start_time": "2022-01-30T13:45:32.996Z"
   },
   {
    "duration": 6,
    "start_time": "2022-01-30T13:45:33.007Z"
   },
   {
    "duration": 16,
    "start_time": "2022-01-30T13:51:18.201Z"
   },
   {
    "duration": 14,
    "start_time": "2022-01-30T13:51:21.705Z"
   },
   {
    "duration": 107,
    "start_time": "2022-01-30T14:10:14.323Z"
   },
   {
    "duration": 96,
    "start_time": "2022-01-30T14:10:35.756Z"
   },
   {
    "duration": 113,
    "start_time": "2022-01-30T14:13:02.960Z"
   },
   {
    "duration": 5,
    "start_time": "2022-01-30T14:13:17.833Z"
   },
   {
    "duration": 710,
    "start_time": "2022-01-30T14:15:02.750Z"
   },
   {
    "duration": 5,
    "start_time": "2022-01-30T14:20:13.934Z"
   },
   {
    "duration": 935,
    "start_time": "2022-01-30T14:20:22.430Z"
   },
   {
    "duration": 6,
    "start_time": "2022-01-30T14:22:07.936Z"
   },
   {
    "duration": 745,
    "start_time": "2022-01-30T14:22:10.260Z"
   },
   {
    "duration": 634,
    "start_time": "2022-01-30T14:22:21.171Z"
   },
   {
    "duration": 6,
    "start_time": "2022-01-30T14:22:54.620Z"
   },
   {
    "duration": 912,
    "start_time": "2022-01-30T14:22:59.892Z"
   },
   {
    "duration": 6,
    "start_time": "2022-01-30T14:26:03.974Z"
   },
   {
    "duration": 6,
    "start_time": "2022-01-30T14:26:53.255Z"
   },
   {
    "duration": 603,
    "start_time": "2022-01-30T14:26:58.949Z"
   },
   {
    "duration": 804,
    "start_time": "2022-01-30T14:29:10.710Z"
   },
   {
    "duration": 194,
    "start_time": "2022-01-30T14:29:11.517Z"
   },
   {
    "duration": 37,
    "start_time": "2022-01-30T14:29:11.717Z"
   },
   {
    "duration": 35,
    "start_time": "2022-01-30T14:29:11.757Z"
   },
   {
    "duration": 40,
    "start_time": "2022-01-30T14:29:11.794Z"
   },
   {
    "duration": 30,
    "start_time": "2022-01-30T14:29:11.836Z"
   },
   {
    "duration": 4,
    "start_time": "2022-01-30T14:29:11.871Z"
   },
   {
    "duration": 60,
    "start_time": "2022-01-30T14:29:11.878Z"
   },
   {
    "duration": 31,
    "start_time": "2022-01-30T14:29:11.941Z"
   },
   {
    "duration": 33,
    "start_time": "2022-01-30T14:29:11.974Z"
   },
   {
    "duration": 112,
    "start_time": "2022-01-30T14:29:12.010Z"
   },
   {
    "duration": 118,
    "start_time": "2022-01-30T14:29:12.134Z"
   },
   {
    "duration": 84,
    "start_time": "2022-01-30T14:29:12.255Z"
   },
   {
    "duration": 10,
    "start_time": "2022-01-30T14:29:12.341Z"
   },
   {
    "duration": 8,
    "start_time": "2022-01-30T14:29:12.353Z"
   },
   {
    "duration": 18,
    "start_time": "2022-01-30T14:29:12.364Z"
   },
   {
    "duration": 7,
    "start_time": "2022-01-30T14:29:12.385Z"
   },
   {
    "duration": 75,
    "start_time": "2022-01-30T14:29:12.395Z"
   },
   {
    "duration": 64,
    "start_time": "2022-01-30T14:29:12.472Z"
   },
   {
    "duration": 6,
    "start_time": "2022-01-30T14:29:12.539Z"
   },
   {
    "duration": 30,
    "start_time": "2022-01-30T14:29:12.548Z"
   },
   {
    "duration": 17,
    "start_time": "2022-01-30T14:29:12.583Z"
   },
   {
    "duration": 45,
    "start_time": "2022-01-30T14:29:12.603Z"
   },
   {
    "duration": 20,
    "start_time": "2022-01-30T14:29:12.651Z"
   },
   {
    "duration": 22,
    "start_time": "2022-01-30T14:29:12.674Z"
   },
   {
    "duration": 24,
    "start_time": "2022-01-30T14:29:12.734Z"
   },
   {
    "duration": 11,
    "start_time": "2022-01-30T14:29:12.761Z"
   },
   {
    "duration": 19,
    "start_time": "2022-01-30T14:29:12.775Z"
   },
   {
    "duration": 41,
    "start_time": "2022-01-30T14:29:12.797Z"
   },
   {
    "duration": 6,
    "start_time": "2022-01-30T14:29:12.841Z"
   },
   {
    "duration": 775,
    "start_time": "2022-01-30T14:29:12.849Z"
   },
   {
    "duration": 245,
    "start_time": "2022-01-30T14:29:13.382Z"
   },
   {
    "duration": 242,
    "start_time": "2022-01-30T14:29:13.387Z"
   },
   {
    "duration": 240,
    "start_time": "2022-01-30T14:29:13.390Z"
   },
   {
    "duration": 233,
    "start_time": "2022-01-30T14:29:13.399Z"
   },
   {
    "duration": 232,
    "start_time": "2022-01-30T14:29:13.403Z"
   },
   {
    "duration": 221,
    "start_time": "2022-01-30T14:29:13.416Z"
   },
   {
    "duration": 218,
    "start_time": "2022-01-30T14:29:13.421Z"
   },
   {
    "duration": 6,
    "start_time": "2022-01-30T14:29:26.184Z"
   },
   {
    "duration": 690,
    "start_time": "2022-01-30T14:29:32.387Z"
   },
   {
    "duration": 681,
    "start_time": "2022-01-30T14:30:57.282Z"
   },
   {
    "duration": 5,
    "start_time": "2022-01-30T14:31:47.220Z"
   },
   {
    "duration": 313,
    "start_time": "2022-01-30T14:31:59.098Z"
   },
   {
    "duration": 5,
    "start_time": "2022-01-30T14:32:38.395Z"
   },
   {
    "duration": 3,
    "start_time": "2022-01-30T14:38:41.158Z"
   },
   {
    "duration": 762,
    "start_time": "2022-01-30T15:03:52.949Z"
   },
   {
    "duration": 189,
    "start_time": "2022-01-30T15:03:53.714Z"
   },
   {
    "duration": 40,
    "start_time": "2022-01-30T15:03:53.906Z"
   },
   {
    "duration": 48,
    "start_time": "2022-01-30T15:03:53.950Z"
   },
   {
    "duration": 4,
    "start_time": "2022-01-30T15:03:54.001Z"
   },
   {
    "duration": 49,
    "start_time": "2022-01-30T15:03:54.007Z"
   },
   {
    "duration": 5,
    "start_time": "2022-01-30T15:03:54.058Z"
   },
   {
    "duration": 30,
    "start_time": "2022-01-30T15:03:54.067Z"
   },
   {
    "duration": 65,
    "start_time": "2022-01-30T15:03:54.101Z"
   },
   {
    "duration": 30,
    "start_time": "2022-01-30T15:03:54.168Z"
   },
   {
    "duration": 134,
    "start_time": "2022-01-30T15:03:54.201Z"
   },
   {
    "duration": 137,
    "start_time": "2022-01-30T15:03:54.338Z"
   },
   {
    "duration": 114,
    "start_time": "2022-01-30T15:03:54.478Z"
   },
   {
    "duration": 11,
    "start_time": "2022-01-30T15:03:54.595Z"
   },
   {
    "duration": 4,
    "start_time": "2022-01-30T15:03:54.609Z"
   },
   {
    "duration": 20,
    "start_time": "2022-01-30T15:03:54.632Z"
   },
   {
    "duration": 12,
    "start_time": "2022-01-30T15:03:54.655Z"
   },
   {
    "duration": 81,
    "start_time": "2022-01-30T15:03:54.670Z"
   },
   {
    "duration": 84,
    "start_time": "2022-01-30T15:03:54.754Z"
   },
   {
    "duration": 7,
    "start_time": "2022-01-30T15:03:54.841Z"
   },
   {
    "duration": 30,
    "start_time": "2022-01-30T15:03:54.852Z"
   },
   {
    "duration": 54,
    "start_time": "2022-01-30T15:03:54.884Z"
   },
   {
    "duration": 26,
    "start_time": "2022-01-30T15:03:54.947Z"
   },
   {
    "duration": 18,
    "start_time": "2022-01-30T15:03:54.976Z"
   },
   {
    "duration": 69,
    "start_time": "2022-01-30T15:03:54.997Z"
   },
   {
    "duration": 20,
    "start_time": "2022-01-30T15:03:55.069Z"
   },
   {
    "duration": 11,
    "start_time": "2022-01-30T15:03:55.092Z"
   },
   {
    "duration": 25,
    "start_time": "2022-01-30T15:03:55.133Z"
   },
   {
    "duration": 14,
    "start_time": "2022-01-30T15:03:55.161Z"
   },
   {
    "duration": 6,
    "start_time": "2022-01-30T15:03:55.177Z"
   },
   {
    "duration": 760,
    "start_time": "2022-01-30T15:03:55.185Z"
   },
   {
    "duration": 321,
    "start_time": "2022-01-30T15:03:55.626Z"
   },
   {
    "duration": 319,
    "start_time": "2022-01-30T15:03:55.630Z"
   },
   {
    "duration": 318,
    "start_time": "2022-01-30T15:03:55.633Z"
   },
   {
    "duration": 316,
    "start_time": "2022-01-30T15:03:55.637Z"
   },
   {
    "duration": 309,
    "start_time": "2022-01-30T15:03:55.646Z"
   },
   {
    "duration": 309,
    "start_time": "2022-01-30T15:03:55.648Z"
   },
   {
    "duration": 307,
    "start_time": "2022-01-30T15:03:55.651Z"
   },
   {
    "duration": 6,
    "start_time": "2022-01-30T15:06:49.268Z"
   },
   {
    "duration": 607,
    "start_time": "2022-01-30T15:06:53.048Z"
   },
   {
    "duration": 6,
    "start_time": "2022-01-30T16:20:04.347Z"
   },
   {
    "duration": 5,
    "start_time": "2022-01-30T16:58:01.929Z"
   },
   {
    "duration": 638,
    "start_time": "2022-01-30T16:58:10.879Z"
   },
   {
    "duration": 611,
    "start_time": "2022-01-30T16:58:15.939Z"
   },
   {
    "duration": 6,
    "start_time": "2022-01-30T17:00:16.741Z"
   },
   {
    "duration": 24,
    "start_time": "2022-01-30T17:00:19.863Z"
   },
   {
    "duration": 21,
    "start_time": "2022-01-30T17:01:27.208Z"
   },
   {
    "duration": 14,
    "start_time": "2022-01-30T17:01:46.052Z"
   },
   {
    "duration": 13,
    "start_time": "2022-01-30T17:02:01.038Z"
   },
   {
    "duration": 12,
    "start_time": "2022-01-30T17:13:42.592Z"
   },
   {
    "duration": 972,
    "start_time": "2022-01-30T17:13:45.607Z"
   },
   {
    "duration": 325,
    "start_time": "2022-01-30T17:16:51.160Z"
   },
   {
    "duration": 275,
    "start_time": "2022-01-30T17:17:26.289Z"
   },
   {
    "duration": 295,
    "start_time": "2022-01-30T17:18:43.552Z"
   },
   {
    "duration": 271,
    "start_time": "2022-01-30T17:20:45.517Z"
   },
   {
    "duration": 7,
    "start_time": "2022-01-30T17:21:20.027Z"
   },
   {
    "duration": 7,
    "start_time": "2022-01-30T17:21:23.040Z"
   },
   {
    "duration": 7,
    "start_time": "2022-01-30T17:21:25.736Z"
   },
   {
    "duration": 7,
    "start_time": "2022-01-30T17:22:58.026Z"
   },
   {
    "duration": 7,
    "start_time": "2022-01-30T17:23:00.686Z"
   },
   {
    "duration": 287,
    "start_time": "2022-01-30T17:26:03.172Z"
   },
   {
    "duration": 15,
    "start_time": "2022-01-30T17:27:12.571Z"
   },
   {
    "duration": 16,
    "start_time": "2022-01-30T17:27:15.483Z"
   },
   {
    "duration": 15,
    "start_time": "2022-01-30T17:27:27.859Z"
   },
   {
    "duration": 17,
    "start_time": "2022-01-30T17:27:40.044Z"
   },
   {
    "duration": 280,
    "start_time": "2022-01-30T17:27:43.988Z"
   },
   {
    "duration": 326,
    "start_time": "2022-01-30T17:28:06.769Z"
   },
   {
    "duration": 514,
    "start_time": "2022-01-30T17:29:30.005Z"
   },
   {
    "duration": 7,
    "start_time": "2022-01-30T17:30:04.818Z"
   },
   {
    "duration": 7,
    "start_time": "2022-01-30T17:30:10.846Z"
   },
   {
    "duration": 6,
    "start_time": "2022-01-30T17:30:13.176Z"
   },
   {
    "duration": 334,
    "start_time": "2022-01-30T17:30:40.996Z"
   },
   {
    "duration": 29,
    "start_time": "2022-01-30T17:34:06.582Z"
   },
   {
    "duration": 19,
    "start_time": "2022-01-30T17:35:04.889Z"
   },
   {
    "duration": 18,
    "start_time": "2022-01-30T17:35:32.853Z"
   },
   {
    "duration": 356,
    "start_time": "2022-01-30T17:36:02.197Z"
   },
   {
    "duration": 316,
    "start_time": "2022-01-30T17:36:52.917Z"
   },
   {
    "duration": 700,
    "start_time": "2022-01-30T17:37:23.404Z"
   },
   {
    "duration": 297,
    "start_time": "2022-01-30T17:38:08.154Z"
   },
   {
    "duration": 137,
    "start_time": "2022-01-30T17:39:31.654Z"
   },
   {
    "duration": 131,
    "start_time": "2022-01-30T17:39:31.661Z"
   },
   {
    "duration": 787,
    "start_time": "2022-01-30T17:39:45.740Z"
   },
   {
    "duration": 191,
    "start_time": "2022-01-30T17:39:46.530Z"
   },
   {
    "duration": 32,
    "start_time": "2022-01-30T17:39:46.725Z"
   },
   {
    "duration": 36,
    "start_time": "2022-01-30T17:39:46.761Z"
   },
   {
    "duration": 35,
    "start_time": "2022-01-30T17:39:46.799Z"
   },
   {
    "duration": 29,
    "start_time": "2022-01-30T17:39:46.837Z"
   },
   {
    "duration": 9,
    "start_time": "2022-01-30T17:39:46.869Z"
   },
   {
    "duration": 60,
    "start_time": "2022-01-30T17:39:46.884Z"
   },
   {
    "duration": 24,
    "start_time": "2022-01-30T17:39:46.948Z"
   },
   {
    "duration": 28,
    "start_time": "2022-01-30T17:39:46.974Z"
   },
   {
    "duration": 101,
    "start_time": "2022-01-30T17:39:47.005Z"
   },
   {
    "duration": 109,
    "start_time": "2022-01-30T17:39:47.109Z"
   },
   {
    "duration": 82,
    "start_time": "2022-01-30T17:39:47.221Z"
   },
   {
    "duration": 7,
    "start_time": "2022-01-30T17:39:47.306Z"
   },
   {
    "duration": 4,
    "start_time": "2022-01-30T17:39:47.333Z"
   },
   {
    "duration": 17,
    "start_time": "2022-01-30T17:39:47.340Z"
   },
   {
    "duration": 10,
    "start_time": "2022-01-30T17:39:47.360Z"
   },
   {
    "duration": 82,
    "start_time": "2022-01-30T17:39:47.373Z"
   },
   {
    "duration": 45,
    "start_time": "2022-01-30T17:39:47.457Z"
   },
   {
    "duration": 4,
    "start_time": "2022-01-30T17:39:47.505Z"
   },
   {
    "duration": 21,
    "start_time": "2022-01-30T17:39:47.532Z"
   },
   {
    "duration": 18,
    "start_time": "2022-01-30T17:39:47.556Z"
   },
   {
    "duration": 18,
    "start_time": "2022-01-30T17:39:47.579Z"
   },
   {
    "duration": 47,
    "start_time": "2022-01-30T17:39:47.600Z"
   },
   {
    "duration": 22,
    "start_time": "2022-01-30T17:39:47.650Z"
   },
   {
    "duration": 58,
    "start_time": "2022-01-30T17:39:47.675Z"
   },
   {
    "duration": 11,
    "start_time": "2022-01-30T17:39:47.736Z"
   },
   {
    "duration": 19,
    "start_time": "2022-01-30T17:39:47.749Z"
   },
   {
    "duration": 11,
    "start_time": "2022-01-30T17:39:47.770Z"
   },
   {
    "duration": 5,
    "start_time": "2022-01-30T17:39:47.784Z"
   },
   {
    "duration": 57,
    "start_time": "2022-01-30T17:39:47.791Z"
   },
   {
    "duration": 18,
    "start_time": "2022-01-30T17:39:47.851Z"
   },
   {
    "duration": 26,
    "start_time": "2022-01-30T17:39:47.871Z"
   },
   {
    "duration": 45,
    "start_time": "2022-01-30T17:39:47.900Z"
   },
   {
    "duration": 13,
    "start_time": "2022-01-30T17:39:47.947Z"
   },
   {
    "duration": 7,
    "start_time": "2022-01-30T17:39:47.962Z"
   },
   {
    "duration": 13,
    "start_time": "2022-01-30T17:39:47.971Z"
   },
   {
    "duration": 370,
    "start_time": "2022-01-30T17:39:47.987Z"
   },
   {
    "duration": 8701,
    "start_time": "2022-01-30T17:40:15.437Z"
   },
   {
    "duration": 135,
    "start_time": "2022-01-30T17:40:38.024Z"
   },
   {
    "duration": 8371,
    "start_time": "2022-01-30T17:40:48.433Z"
   },
   {
    "duration": 9465,
    "start_time": "2022-01-30T17:41:36.452Z"
   },
   {
    "duration": -790,
    "start_time": "2022-01-30T17:42:18.314Z"
   },
   {
    "duration": 742,
    "start_time": "2022-01-30T17:42:26.850Z"
   },
   {
    "duration": 180,
    "start_time": "2022-01-30T17:42:27.595Z"
   },
   {
    "duration": 27,
    "start_time": "2022-01-30T17:42:27.778Z"
   },
   {
    "duration": 54,
    "start_time": "2022-01-30T17:42:27.808Z"
   },
   {
    "duration": 5,
    "start_time": "2022-01-30T17:42:27.865Z"
   },
   {
    "duration": 31,
    "start_time": "2022-01-30T17:42:27.872Z"
   },
   {
    "duration": 27,
    "start_time": "2022-01-30T17:42:27.906Z"
   },
   {
    "duration": 28,
    "start_time": "2022-01-30T17:42:27.937Z"
   },
   {
    "duration": 22,
    "start_time": "2022-01-30T17:42:27.968Z"
   },
   {
    "duration": 61,
    "start_time": "2022-01-30T17:42:27.993Z"
   },
   {
    "duration": 100,
    "start_time": "2022-01-30T17:42:28.057Z"
   },
   {
    "duration": 114,
    "start_time": "2022-01-30T17:42:28.160Z"
   },
   {
    "duration": 94,
    "start_time": "2022-01-30T17:42:28.277Z"
   },
   {
    "duration": 11,
    "start_time": "2022-01-30T17:42:28.374Z"
   },
   {
    "duration": 5,
    "start_time": "2022-01-30T17:42:28.388Z"
   },
   {
    "duration": 44,
    "start_time": "2022-01-30T17:42:28.396Z"
   },
   {
    "duration": 12,
    "start_time": "2022-01-30T17:42:28.442Z"
   },
   {
    "duration": 43,
    "start_time": "2022-01-30T17:42:28.457Z"
   },
   {
    "duration": 49,
    "start_time": "2022-01-30T17:42:28.533Z"
   },
   {
    "duration": 5,
    "start_time": "2022-01-30T17:42:28.584Z"
   },
   {
    "duration": 53,
    "start_time": "2022-01-30T17:42:28.592Z"
   },
   {
    "duration": 18,
    "start_time": "2022-01-30T17:42:28.648Z"
   },
   {
    "duration": 18,
    "start_time": "2022-01-30T17:42:28.671Z"
   },
   {
    "duration": 46,
    "start_time": "2022-01-30T17:42:28.692Z"
   },
   {
    "duration": 20,
    "start_time": "2022-01-30T17:42:28.741Z"
   },
   {
    "duration": 18,
    "start_time": "2022-01-30T17:42:28.763Z"
   },
   {
    "duration": 12,
    "start_time": "2022-01-30T17:42:28.784Z"
   },
   {
    "duration": 14,
    "start_time": "2022-01-30T17:42:28.833Z"
   },
   {
    "duration": 14,
    "start_time": "2022-01-30T17:42:28.849Z"
   },
   {
    "duration": 6,
    "start_time": "2022-01-30T17:42:28.865Z"
   },
   {
    "duration": 64,
    "start_time": "2022-01-30T17:42:28.875Z"
   },
   {
    "duration": 17,
    "start_time": "2022-01-30T17:42:28.941Z"
   },
   {
    "duration": 78,
    "start_time": "2022-01-30T17:42:28.960Z"
   },
   {
    "duration": 16,
    "start_time": "2022-01-30T17:42:29.040Z"
   },
   {
    "duration": 14,
    "start_time": "2022-01-30T17:42:29.058Z"
   },
   {
    "duration": 58,
    "start_time": "2022-01-30T17:42:29.074Z"
   },
   {
    "duration": 11,
    "start_time": "2022-01-30T17:42:29.134Z"
   },
   {
    "duration": 490,
    "start_time": "2022-01-30T17:42:29.148Z"
   },
   {
    "duration": 283,
    "start_time": "2022-01-30T17:45:22.843Z"
   },
   {
    "duration": 309,
    "start_time": "2022-01-30T17:45:32.517Z"
   },
   {
    "duration": 727,
    "start_time": "2022-01-30T17:45:55.554Z"
   },
   {
    "duration": 188,
    "start_time": "2022-01-30T17:45:56.284Z"
   },
   {
    "duration": 26,
    "start_time": "2022-01-30T17:45:56.476Z"
   },
   {
    "duration": 52,
    "start_time": "2022-01-30T17:45:56.504Z"
   },
   {
    "duration": 4,
    "start_time": "2022-01-30T17:45:56.559Z"
   },
   {
    "duration": 29,
    "start_time": "2022-01-30T17:45:56.565Z"
   },
   {
    "duration": 9,
    "start_time": "2022-01-30T17:45:56.596Z"
   },
   {
    "duration": 31,
    "start_time": "2022-01-30T17:45:56.634Z"
   },
   {
    "duration": 23,
    "start_time": "2022-01-30T17:45:56.670Z"
   },
   {
    "duration": 61,
    "start_time": "2022-01-30T17:45:56.696Z"
   },
   {
    "duration": 97,
    "start_time": "2022-01-30T17:45:56.761Z"
   },
   {
    "duration": 100,
    "start_time": "2022-01-30T17:45:56.860Z"
   },
   {
    "duration": 95,
    "start_time": "2022-01-30T17:45:56.962Z"
   },
   {
    "duration": 11,
    "start_time": "2022-01-30T17:45:57.060Z"
   },
   {
    "duration": 4,
    "start_time": "2022-01-30T17:45:57.074Z"
   },
   {
    "duration": 17,
    "start_time": "2022-01-30T17:45:57.080Z"
   },
   {
    "duration": 42,
    "start_time": "2022-01-30T17:45:57.100Z"
   },
   {
    "duration": 43,
    "start_time": "2022-01-30T17:45:57.145Z"
   },
   {
    "duration": 76,
    "start_time": "2022-01-30T17:45:57.190Z"
   },
   {
    "duration": 5,
    "start_time": "2022-01-30T17:45:57.268Z"
   },
   {
    "duration": 38,
    "start_time": "2022-01-30T17:45:57.275Z"
   },
   {
    "duration": 32,
    "start_time": "2022-01-30T17:45:57.317Z"
   },
   {
    "duration": 19,
    "start_time": "2022-01-30T17:45:57.354Z"
   },
   {
    "duration": 18,
    "start_time": "2022-01-30T17:45:57.376Z"
   },
   {
    "duration": 56,
    "start_time": "2022-01-30T17:45:57.396Z"
   },
   {
    "duration": 21,
    "start_time": "2022-01-30T17:45:57.454Z"
   },
   {
    "duration": 11,
    "start_time": "2022-01-30T17:45:57.478Z"
   },
   {
    "duration": 49,
    "start_time": "2022-01-30T17:45:57.492Z"
   },
   {
    "duration": 12,
    "start_time": "2022-01-30T17:45:57.543Z"
   },
   {
    "duration": 7,
    "start_time": "2022-01-30T17:45:57.557Z"
   },
   {
    "duration": 70,
    "start_time": "2022-01-30T17:45:57.566Z"
   },
   {
    "duration": 27,
    "start_time": "2022-01-30T17:45:57.639Z"
   },
   {
    "duration": 27,
    "start_time": "2022-01-30T17:45:57.669Z"
   },
   {
    "duration": 49,
    "start_time": "2022-01-30T17:45:57.698Z"
   },
   {
    "duration": 20,
    "start_time": "2022-01-30T17:45:57.750Z"
   },
   {
    "duration": 8,
    "start_time": "2022-01-30T17:45:57.774Z"
   },
   {
    "duration": 52,
    "start_time": "2022-01-30T17:45:57.785Z"
   },
   {
    "duration": 7,
    "start_time": "2022-01-30T17:45:57.840Z"
   },
   {
    "duration": 723,
    "start_time": "2022-02-08T12:59:48.188Z"
   },
   {
    "duration": 178,
    "start_time": "2022-02-08T12:59:48.914Z"
   },
   {
    "duration": 25,
    "start_time": "2022-02-08T12:59:49.095Z"
   },
   {
    "duration": 49,
    "start_time": "2022-02-08T12:59:49.122Z"
   },
   {
    "duration": 5,
    "start_time": "2022-02-08T12:59:49.173Z"
   },
   {
    "duration": 26,
    "start_time": "2022-02-08T12:59:49.181Z"
   },
   {
    "duration": 5,
    "start_time": "2022-02-08T12:59:49.209Z"
   },
   {
    "duration": 60,
    "start_time": "2022-02-08T12:59:49.217Z"
   },
   {
    "duration": 20,
    "start_time": "2022-02-08T12:59:49.281Z"
   },
   {
    "duration": 55,
    "start_time": "2022-02-08T12:59:49.304Z"
   },
   {
    "duration": 80,
    "start_time": "2022-02-08T12:59:49.362Z"
   },
   {
    "duration": 100,
    "start_time": "2022-02-08T12:59:49.459Z"
   },
   {
    "duration": 78,
    "start_time": "2022-02-08T12:59:49.561Z"
   },
   {
    "duration": 23,
    "start_time": "2022-02-08T12:59:49.642Z"
   },
   {
    "duration": 4,
    "start_time": "2022-02-08T12:59:49.668Z"
   },
   {
    "duration": 16,
    "start_time": "2022-02-08T12:59:49.675Z"
   },
   {
    "duration": 8,
    "start_time": "2022-02-08T12:59:49.693Z"
   },
   {
    "duration": 85,
    "start_time": "2022-02-08T12:59:49.704Z"
   },
   {
    "duration": 44,
    "start_time": "2022-02-08T12:59:49.792Z"
   },
   {
    "duration": 5,
    "start_time": "2022-02-08T12:59:49.860Z"
   },
   {
    "duration": 25,
    "start_time": "2022-02-08T12:59:49.867Z"
   },
   {
    "duration": 20,
    "start_time": "2022-02-08T12:59:49.894Z"
   },
   {
    "duration": 51,
    "start_time": "2022-02-08T12:59:49.918Z"
   },
   {
    "duration": 17,
    "start_time": "2022-02-08T12:59:49.972Z"
   },
   {
    "duration": 21,
    "start_time": "2022-02-08T12:59:49.991Z"
   },
   {
    "duration": 48,
    "start_time": "2022-02-08T12:59:50.014Z"
   },
   {
    "duration": 11,
    "start_time": "2022-02-08T12:59:50.065Z"
   },
   {
    "duration": 15,
    "start_time": "2022-02-08T12:59:50.079Z"
   },
   {
    "duration": 12,
    "start_time": "2022-02-08T12:59:50.097Z"
   },
   {
    "duration": 5,
    "start_time": "2022-02-08T12:59:50.111Z"
   },
   {
    "duration": 63,
    "start_time": "2022-02-08T12:59:50.118Z"
   },
   {
    "duration": 17,
    "start_time": "2022-02-08T12:59:50.183Z"
   },
   {
    "duration": 22,
    "start_time": "2022-02-08T12:59:50.203Z"
   },
   {
    "duration": 45,
    "start_time": "2022-02-08T12:59:50.227Z"
   },
   {
    "duration": 13,
    "start_time": "2022-02-08T12:59:50.275Z"
   },
   {
    "duration": 6,
    "start_time": "2022-02-08T12:59:50.291Z"
   },
   {
    "duration": 16,
    "start_time": "2022-02-08T12:59:50.300Z"
   },
   {
    "duration": 6,
    "start_time": "2022-02-08T12:59:50.318Z"
   },
   {
    "duration": 15,
    "start_time": "2022-02-08T13:00:23.367Z"
   },
   {
    "duration": 10,
    "start_time": "2022-02-08T13:03:59.148Z"
   },
   {
    "duration": 303,
    "start_time": "2022-02-09T15:37:46.975Z"
   },
   {
    "duration": 555,
    "start_time": "2022-02-09T15:38:10.356Z"
   },
   {
    "duration": 115,
    "start_time": "2022-02-09T15:38:10.912Z"
   },
   {
    "duration": 15,
    "start_time": "2022-02-09T15:38:11.029Z"
   },
   {
    "duration": 10,
    "start_time": "2022-02-09T15:38:11.045Z"
   },
   {
    "duration": 23,
    "start_time": "2022-02-09T15:38:11.057Z"
   },
   {
    "duration": 3,
    "start_time": "2022-02-09T15:38:11.082Z"
   },
   {
    "duration": 41,
    "start_time": "2022-02-09T15:38:11.086Z"
   },
   {
    "duration": 3,
    "start_time": "2022-02-09T15:38:11.129Z"
   },
   {
    "duration": 22,
    "start_time": "2022-02-09T15:38:11.134Z"
   },
   {
    "duration": 16,
    "start_time": "2022-02-09T15:38:11.158Z"
   },
   {
    "duration": 20,
    "start_time": "2022-02-09T15:38:11.175Z"
   },
   {
    "duration": 72,
    "start_time": "2022-02-09T15:38:11.196Z"
   },
   {
    "duration": 63,
    "start_time": "2022-02-09T15:38:11.269Z"
   },
   {
    "duration": 45,
    "start_time": "2022-02-09T15:38:11.333Z"
   },
   {
    "duration": 5,
    "start_time": "2022-02-09T15:38:11.379Z"
   },
   {
    "duration": 3,
    "start_time": "2022-02-09T15:38:11.386Z"
   },
   {
    "duration": 11,
    "start_time": "2022-02-09T15:38:11.390Z"
   },
   {
    "duration": 27,
    "start_time": "2022-02-09T15:38:11.402Z"
   },
   {
    "duration": 25,
    "start_time": "2022-02-09T15:38:11.431Z"
   },
   {
    "duration": 26,
    "start_time": "2022-02-09T15:38:11.458Z"
   },
   {
    "duration": 3,
    "start_time": "2022-02-09T15:38:11.486Z"
   },
   {
    "duration": 42,
    "start_time": "2022-02-09T15:38:11.490Z"
   },
   {
    "duration": 12,
    "start_time": "2022-02-09T15:38:11.534Z"
   },
   {
    "duration": 14,
    "start_time": "2022-02-09T15:38:11.547Z"
   },
   {
    "duration": 12,
    "start_time": "2022-02-09T15:38:11.562Z"
   },
   {
    "duration": 14,
    "start_time": "2022-02-09T15:38:11.575Z"
   },
   {
    "duration": 42,
    "start_time": "2022-02-09T15:38:11.592Z"
   },
   {
    "duration": 8,
    "start_time": "2022-02-09T15:38:11.635Z"
   },
   {
    "duration": 21,
    "start_time": "2022-02-09T15:38:11.645Z"
   },
   {
    "duration": 11,
    "start_time": "2022-02-09T15:38:11.668Z"
   },
   {
    "duration": 5,
    "start_time": "2022-02-09T15:38:11.680Z"
   },
   {
    "duration": 42,
    "start_time": "2022-02-09T15:38:11.687Z"
   },
   {
    "duration": 15,
    "start_time": "2022-02-09T15:38:11.731Z"
   },
   {
    "duration": 16,
    "start_time": "2022-02-09T15:38:11.748Z"
   },
   {
    "duration": 10,
    "start_time": "2022-02-09T15:38:11.766Z"
   },
   {
    "duration": 8,
    "start_time": "2022-02-09T15:38:11.777Z"
   },
   {
    "duration": 3,
    "start_time": "2022-02-09T15:38:11.787Z"
   },
   {
    "duration": 37,
    "start_time": "2022-02-09T15:38:11.792Z"
   },
   {
    "duration": 7,
    "start_time": "2022-02-09T15:38:11.831Z"
   },
   {
    "duration": 4,
    "start_time": "2022-02-09T15:38:11.840Z"
   },
   {
    "duration": 43,
    "start_time": "2022-02-09T15:38:23.329Z"
   },
   {
    "duration": 549,
    "start_time": "2022-02-09T15:38:38.946Z"
   },
   {
    "duration": 116,
    "start_time": "2022-02-09T15:38:39.497Z"
   },
   {
    "duration": 15,
    "start_time": "2022-02-09T15:38:39.615Z"
   },
   {
    "duration": 9,
    "start_time": "2022-02-09T15:38:39.632Z"
   },
   {
    "duration": 23,
    "start_time": "2022-02-09T15:38:39.643Z"
   },
   {
    "duration": 4,
    "start_time": "2022-02-09T15:38:39.668Z"
   },
   {
    "duration": 17,
    "start_time": "2022-02-09T15:38:39.673Z"
   },
   {
    "duration": 36,
    "start_time": "2022-02-09T15:38:39.692Z"
   },
   {
    "duration": 19,
    "start_time": "2022-02-09T15:38:39.730Z"
   },
   {
    "duration": 15,
    "start_time": "2022-02-09T15:38:39.750Z"
   },
   {
    "duration": 18,
    "start_time": "2022-02-09T15:38:39.767Z"
   },
   {
    "duration": 71,
    "start_time": "2022-02-09T15:38:39.786Z"
   },
   {
    "duration": 58,
    "start_time": "2022-02-09T15:38:39.858Z"
   },
   {
    "duration": 48,
    "start_time": "2022-02-09T15:38:39.917Z"
   },
   {
    "duration": 5,
    "start_time": "2022-02-09T15:38:39.966Z"
   },
   {
    "duration": 2,
    "start_time": "2022-02-09T15:38:39.973Z"
   },
   {
    "duration": 10,
    "start_time": "2022-02-09T15:38:39.977Z"
   },
   {
    "duration": 8,
    "start_time": "2022-02-09T15:38:39.989Z"
   },
   {
    "duration": 50,
    "start_time": "2022-02-09T15:38:39.999Z"
   },
   {
    "duration": 29,
    "start_time": "2022-02-09T15:38:40.050Z"
   },
   {
    "duration": 3,
    "start_time": "2022-02-09T15:38:40.080Z"
   },
   {
    "duration": 19,
    "start_time": "2022-02-09T15:38:40.084Z"
   },
   {
    "duration": 23,
    "start_time": "2022-02-09T15:38:40.106Z"
   },
   {
    "duration": 13,
    "start_time": "2022-02-09T15:38:40.131Z"
   },
   {
    "duration": 11,
    "start_time": "2022-02-09T15:38:40.145Z"
   },
   {
    "duration": 13,
    "start_time": "2022-02-09T15:38:40.157Z"
   },
   {
    "duration": 11,
    "start_time": "2022-02-09T15:38:40.172Z"
   },
   {
    "duration": 7,
    "start_time": "2022-02-09T15:38:40.184Z"
   },
   {
    "duration": 42,
    "start_time": "2022-02-09T15:38:40.193Z"
   },
   {
    "duration": 8,
    "start_time": "2022-02-09T15:38:40.236Z"
   },
   {
    "duration": 4,
    "start_time": "2022-02-09T15:38:40.245Z"
   },
   {
    "duration": 21,
    "start_time": "2022-02-09T15:38:40.250Z"
   },
   {
    "duration": 11,
    "start_time": "2022-02-09T15:38:40.272Z"
   },
   {
    "duration": 14,
    "start_time": "2022-02-09T15:38:40.284Z"
   },
   {
    "duration": 35,
    "start_time": "2022-02-09T15:38:40.299Z"
   },
   {
    "duration": 8,
    "start_time": "2022-02-09T15:38:40.335Z"
   },
   {
    "duration": 4,
    "start_time": "2022-02-09T15:38:40.344Z"
   },
   {
    "duration": 7,
    "start_time": "2022-02-09T15:38:40.349Z"
   },
   {
    "duration": 7,
    "start_time": "2022-02-09T15:38:40.357Z"
   },
   {
    "duration": 3,
    "start_time": "2022-02-09T15:38:40.366Z"
   },
   {
    "duration": 3,
    "start_time": "2022-02-09T15:38:54.063Z"
   },
   {
    "duration": 118,
    "start_time": "2022-02-09T15:39:07.343Z"
   },
   {
    "duration": 561,
    "start_time": "2022-02-09T15:39:20.036Z"
   },
   {
    "duration": 118,
    "start_time": "2022-02-09T15:39:20.598Z"
   },
   {
    "duration": 14,
    "start_time": "2022-02-09T15:39:20.718Z"
   },
   {
    "duration": 10,
    "start_time": "2022-02-09T15:39:20.734Z"
   },
   {
    "duration": 22,
    "start_time": "2022-02-09T15:39:20.746Z"
   },
   {
    "duration": 5,
    "start_time": "2022-02-09T15:39:20.770Z"
   },
   {
    "duration": 17,
    "start_time": "2022-02-09T15:39:20.777Z"
   },
   {
    "duration": 3,
    "start_time": "2022-02-09T15:39:20.797Z"
   },
   {
    "duration": 39,
    "start_time": "2022-02-09T15:39:20.802Z"
   },
   {
    "duration": 13,
    "start_time": "2022-02-09T15:39:20.843Z"
   },
   {
    "duration": 17,
    "start_time": "2022-02-09T15:39:20.858Z"
   },
   {
    "duration": 73,
    "start_time": "2022-02-09T15:39:20.876Z"
   },
   {
    "duration": 76,
    "start_time": "2022-02-09T15:39:20.951Z"
   },
   {
    "duration": 51,
    "start_time": "2022-02-09T15:39:21.029Z"
   },
   {
    "duration": 5,
    "start_time": "2022-02-09T15:39:21.081Z"
   },
   {
    "duration": 5,
    "start_time": "2022-02-09T15:39:21.088Z"
   },
   {
    "duration": 12,
    "start_time": "2022-02-09T15:39:21.094Z"
   },
   {
    "duration": 20,
    "start_time": "2022-02-09T15:39:21.107Z"
   },
   {
    "duration": 27,
    "start_time": "2022-02-09T15:39:21.129Z"
   },
   {
    "duration": 30,
    "start_time": "2022-02-09T15:39:21.158Z"
   },
   {
    "duration": 3,
    "start_time": "2022-02-09T15:39:21.190Z"
   },
   {
    "duration": 38,
    "start_time": "2022-02-09T15:39:21.194Z"
   },
   {
    "duration": 12,
    "start_time": "2022-02-09T15:39:21.235Z"
   },
   {
    "duration": 11,
    "start_time": "2022-02-09T15:39:21.249Z"
   },
   {
    "duration": 10,
    "start_time": "2022-02-09T15:39:21.262Z"
   },
   {
    "duration": 18,
    "start_time": "2022-02-09T15:39:21.273Z"
   },
   {
    "duration": 35,
    "start_time": "2022-02-09T15:39:21.293Z"
   },
   {
    "duration": 6,
    "start_time": "2022-02-09T15:39:21.329Z"
   },
   {
    "duration": 10,
    "start_time": "2022-02-09T15:39:21.337Z"
   },
   {
    "duration": 7,
    "start_time": "2022-02-09T15:39:21.348Z"
   },
   {
    "duration": 8,
    "start_time": "2022-02-09T15:39:21.357Z"
   },
   {
    "duration": 31,
    "start_time": "2022-02-09T15:39:21.366Z"
   },
   {
    "duration": 20,
    "start_time": "2022-02-09T15:39:21.399Z"
   },
   {
    "duration": 15,
    "start_time": "2022-02-09T15:39:21.421Z"
   },
   {
    "duration": 10,
    "start_time": "2022-02-09T15:39:21.437Z"
   },
   {
    "duration": 8,
    "start_time": "2022-02-09T15:39:21.449Z"
   },
   {
    "duration": 6,
    "start_time": "2022-02-09T15:39:21.458Z"
   },
   {
    "duration": 11,
    "start_time": "2022-02-09T15:39:21.465Z"
   },
   {
    "duration": 13,
    "start_time": "2022-02-09T15:39:21.477Z"
   },
   {
    "duration": 4,
    "start_time": "2022-02-09T15:39:21.491Z"
   },
   {
    "duration": 55,
    "start_time": "2022-02-09T15:44:01.291Z"
   },
   {
    "duration": 44,
    "start_time": "2022-02-09T15:44:04.330Z"
   },
   {
    "duration": 346,
    "start_time": "2022-02-09T15:47:04.327Z"
   },
   {
    "duration": 556,
    "start_time": "2022-02-09T15:47:19.551Z"
   },
   {
    "duration": 113,
    "start_time": "2022-02-09T15:47:20.109Z"
   },
   {
    "duration": 50,
    "start_time": "2022-02-09T15:47:20.224Z"
   },
   {
    "duration": 10,
    "start_time": "2022-02-09T15:47:20.276Z"
   },
   {
    "duration": 25,
    "start_time": "2022-02-09T15:47:20.287Z"
   },
   {
    "duration": 3,
    "start_time": "2022-02-09T15:47:20.313Z"
   },
   {
    "duration": 17,
    "start_time": "2022-02-09T15:47:20.318Z"
   },
   {
    "duration": 5,
    "start_time": "2022-02-09T15:47:20.338Z"
   },
   {
    "duration": 22,
    "start_time": "2022-02-09T15:47:20.345Z"
   },
   {
    "duration": 15,
    "start_time": "2022-02-09T15:47:20.368Z"
   },
   {
    "duration": 22,
    "start_time": "2022-02-09T15:47:20.384Z"
   },
   {
    "duration": 65,
    "start_time": "2022-02-09T15:47:20.408Z"
   },
   {
    "duration": 63,
    "start_time": "2022-02-09T15:47:20.475Z"
   },
   {
    "duration": 42,
    "start_time": "2022-02-09T15:47:20.540Z"
   },
   {
    "duration": 363,
    "start_time": "2022-02-09T15:47:20.584Z"
   },
   {
    "duration": -586,
    "start_time": "2022-02-09T15:47:21.535Z"
   },
   {
    "duration": -589,
    "start_time": "2022-02-09T15:47:21.539Z"
   },
   {
    "duration": -593,
    "start_time": "2022-02-09T15:47:21.544Z"
   },
   {
    "duration": -596,
    "start_time": "2022-02-09T15:47:21.548Z"
   },
   {
    "duration": -599,
    "start_time": "2022-02-09T15:47:21.552Z"
   },
   {
    "duration": -601,
    "start_time": "2022-02-09T15:47:21.555Z"
   },
   {
    "duration": -605,
    "start_time": "2022-02-09T15:47:21.559Z"
   },
   {
    "duration": -607,
    "start_time": "2022-02-09T15:47:21.562Z"
   },
   {
    "duration": -609,
    "start_time": "2022-02-09T15:47:21.565Z"
   },
   {
    "duration": -612,
    "start_time": "2022-02-09T15:47:21.568Z"
   },
   {
    "duration": -613,
    "start_time": "2022-02-09T15:47:21.570Z"
   },
   {
    "duration": -615,
    "start_time": "2022-02-09T15:47:21.573Z"
   },
   {
    "duration": -618,
    "start_time": "2022-02-09T15:47:21.576Z"
   },
   {
    "duration": -620,
    "start_time": "2022-02-09T15:47:21.579Z"
   },
   {
    "duration": -623,
    "start_time": "2022-02-09T15:47:21.582Z"
   },
   {
    "duration": -624,
    "start_time": "2022-02-09T15:47:21.584Z"
   },
   {
    "duration": -626,
    "start_time": "2022-02-09T15:47:21.587Z"
   },
   {
    "duration": -629,
    "start_time": "2022-02-09T15:47:21.590Z"
   },
   {
    "duration": -630,
    "start_time": "2022-02-09T15:47:21.592Z"
   },
   {
    "duration": -632,
    "start_time": "2022-02-09T15:47:21.595Z"
   },
   {
    "duration": -635,
    "start_time": "2022-02-09T15:47:21.598Z"
   },
   {
    "duration": -636,
    "start_time": "2022-02-09T15:47:21.600Z"
   },
   {
    "duration": -639,
    "start_time": "2022-02-09T15:47:21.604Z"
   },
   {
    "duration": -640,
    "start_time": "2022-02-09T15:47:21.606Z"
   },
   {
    "duration": -644,
    "start_time": "2022-02-09T15:47:21.610Z"
   },
   {
    "duration": 34,
    "start_time": "2022-02-09T15:49:33.422Z"
   },
   {
    "duration": 2,
    "start_time": "2022-02-09T15:54:45.722Z"
   },
   {
    "duration": 552,
    "start_time": "2022-02-09T15:54:49.340Z"
   },
   {
    "duration": 668,
    "start_time": "2022-02-09T15:54:58.695Z"
   },
   {
    "duration": 119,
    "start_time": "2022-02-09T15:54:59.365Z"
   },
   {
    "duration": 15,
    "start_time": "2022-02-09T15:54:59.486Z"
   },
   {
    "duration": 9,
    "start_time": "2022-02-09T15:54:59.502Z"
   },
   {
    "duration": 25,
    "start_time": "2022-02-09T15:54:59.513Z"
   },
   {
    "duration": 3,
    "start_time": "2022-02-09T15:54:59.539Z"
   },
   {
    "duration": 20,
    "start_time": "2022-02-09T15:54:59.544Z"
   },
   {
    "duration": 4,
    "start_time": "2022-02-09T15:54:59.566Z"
   },
   {
    "duration": 24,
    "start_time": "2022-02-09T15:54:59.572Z"
   },
   {
    "duration": 32,
    "start_time": "2022-02-09T15:54:59.598Z"
   },
   {
    "duration": 19,
    "start_time": "2022-02-09T15:54:59.632Z"
   },
   {
    "duration": 54,
    "start_time": "2022-02-09T15:54:59.652Z"
   },
   {
    "duration": 69,
    "start_time": "2022-02-09T15:54:59.707Z"
   },
   {
    "duration": 45,
    "start_time": "2022-02-09T15:54:59.778Z"
   },
   {
    "duration": 37,
    "start_time": "2022-02-09T15:54:59.825Z"
   },
   {
    "duration": 3,
    "start_time": "2022-02-09T15:54:59.864Z"
   },
   {
    "duration": 914,
    "start_time": "2022-02-09T15:54:59.868Z"
   },
   {
    "duration": -1455,
    "start_time": "2022-02-09T15:55:02.239Z"
   },
   {
    "duration": -1477,
    "start_time": "2022-02-09T15:55:02.262Z"
   },
   {
    "duration": -1485,
    "start_time": "2022-02-09T15:55:02.271Z"
   },
   {
    "duration": -1614,
    "start_time": "2022-02-09T15:55:02.401Z"
   },
   {
    "duration": -1644,
    "start_time": "2022-02-09T15:55:02.432Z"
   },
   {
    "duration": -1657,
    "start_time": "2022-02-09T15:55:02.446Z"
   },
   {
    "duration": -1668,
    "start_time": "2022-02-09T15:55:02.458Z"
   },
   {
    "duration": -1685,
    "start_time": "2022-02-09T15:55:02.476Z"
   },
   {
    "duration": -1708,
    "start_time": "2022-02-09T15:55:02.500Z"
   },
   {
    "duration": -1721,
    "start_time": "2022-02-09T15:55:02.513Z"
   },
   {
    "duration": -1733,
    "start_time": "2022-02-09T15:55:02.526Z"
   },
   {
    "duration": -1748,
    "start_time": "2022-02-09T15:55:02.542Z"
   },
   {
    "duration": -1767,
    "start_time": "2022-02-09T15:55:02.562Z"
   },
   {
    "duration": -1779,
    "start_time": "2022-02-09T15:55:02.575Z"
   },
   {
    "duration": -1809,
    "start_time": "2022-02-09T15:55:02.606Z"
   },
   {
    "duration": -1830,
    "start_time": "2022-02-09T15:55:02.628Z"
   },
   {
    "duration": -1841,
    "start_time": "2022-02-09T15:55:02.640Z"
   },
   {
    "duration": -1855,
    "start_time": "2022-02-09T15:55:02.654Z"
   },
   {
    "duration": -1914,
    "start_time": "2022-02-09T15:55:02.714Z"
   },
   {
    "duration": -1922,
    "start_time": "2022-02-09T15:55:02.723Z"
   },
   {
    "duration": -1925,
    "start_time": "2022-02-09T15:55:02.727Z"
   },
   {
    "duration": -1940,
    "start_time": "2022-02-09T15:55:02.743Z"
   },
   {
    "duration": -1951,
    "start_time": "2022-02-09T15:55:02.755Z"
   },
   {
    "duration": 2,
    "start_time": "2022-02-09T15:55:14.519Z"
   },
   {
    "duration": 560,
    "start_time": "2022-02-09T15:55:19.528Z"
   },
   {
    "duration": 3,
    "start_time": "2022-02-09T15:55:39.566Z"
   },
   {
    "duration": 561,
    "start_time": "2022-02-09T15:55:44.103Z"
   },
   {
    "duration": 524,
    "start_time": "2022-02-09T15:57:21.904Z"
   },
   {
    "duration": 573,
    "start_time": "2022-02-09T15:57:39.928Z"
   },
   {
    "duration": 121,
    "start_time": "2022-02-09T15:57:40.502Z"
   },
   {
    "duration": 14,
    "start_time": "2022-02-09T15:57:40.625Z"
   },
   {
    "duration": 9,
    "start_time": "2022-02-09T15:57:40.640Z"
   },
   {
    "duration": 23,
    "start_time": "2022-02-09T15:57:40.650Z"
   },
   {
    "duration": 3,
    "start_time": "2022-02-09T15:57:40.674Z"
   },
   {
    "duration": 18,
    "start_time": "2022-02-09T15:57:40.679Z"
   },
   {
    "duration": 3,
    "start_time": "2022-02-09T15:57:40.699Z"
   },
   {
    "duration": 19,
    "start_time": "2022-02-09T15:57:40.727Z"
   },
   {
    "duration": 15,
    "start_time": "2022-02-09T15:57:40.747Z"
   },
   {
    "duration": 18,
    "start_time": "2022-02-09T15:57:40.763Z"
   },
   {
    "duration": 69,
    "start_time": "2022-02-09T15:57:40.783Z"
   },
   {
    "duration": 60,
    "start_time": "2022-02-09T15:57:40.853Z"
   },
   {
    "duration": 53,
    "start_time": "2022-02-09T15:57:40.915Z"
   },
   {
    "duration": 35,
    "start_time": "2022-02-09T15:57:40.969Z"
   },
   {
    "duration": 7,
    "start_time": "2022-02-09T15:57:41.006Z"
   },
   {
    "duration": 708,
    "start_time": "2022-02-09T15:57:41.014Z"
   },
   {
    "duration": -612,
    "start_time": "2022-02-09T15:57:42.336Z"
   },
   {
    "duration": -623,
    "start_time": "2022-02-09T15:57:42.348Z"
   },
   {
    "duration": -639,
    "start_time": "2022-02-09T15:57:42.365Z"
   },
   {
    "duration": -650,
    "start_time": "2022-02-09T15:57:42.377Z"
   },
   {
    "duration": -669,
    "start_time": "2022-02-09T15:57:42.397Z"
   },
   {
    "duration": -703,
    "start_time": "2022-02-09T15:57:42.432Z"
   },
   {
    "duration": -717,
    "start_time": "2022-02-09T15:57:42.447Z"
   },
   {
    "duration": -720,
    "start_time": "2022-02-09T15:57:42.451Z"
   },
   {
    "duration": -741,
    "start_time": "2022-02-09T15:57:42.473Z"
   },
   {
    "duration": -758,
    "start_time": "2022-02-09T15:57:42.491Z"
   },
   {
    "duration": -782,
    "start_time": "2022-02-09T15:57:42.517Z"
   },
   {
    "duration": -794,
    "start_time": "2022-02-09T15:57:42.530Z"
   },
   {
    "duration": -809,
    "start_time": "2022-02-09T15:57:42.546Z"
   },
   {
    "duration": -826,
    "start_time": "2022-02-09T15:57:42.563Z"
   },
   {
    "duration": -841,
    "start_time": "2022-02-09T15:57:42.579Z"
   },
   {
    "duration": -859,
    "start_time": "2022-02-09T15:57:42.598Z"
   },
   {
    "duration": -882,
    "start_time": "2022-02-09T15:57:42.622Z"
   },
   {
    "duration": -894,
    "start_time": "2022-02-09T15:57:42.635Z"
   },
   {
    "duration": -917,
    "start_time": "2022-02-09T15:57:42.659Z"
   },
   {
    "duration": -971,
    "start_time": "2022-02-09T15:57:42.714Z"
   },
   {
    "duration": -982,
    "start_time": "2022-02-09T15:57:42.726Z"
   },
   {
    "duration": -999,
    "start_time": "2022-02-09T15:57:42.744Z"
   },
   {
    "duration": -1012,
    "start_time": "2022-02-09T15:57:42.757Z"
   },
   {
    "duration": 3,
    "start_time": "2022-02-09T15:57:50.594Z"
   },
   {
    "duration": 600,
    "start_time": "2022-02-09T15:57:56.077Z"
   },
   {
    "duration": 590,
    "start_time": "2022-02-09T15:58:30.394Z"
   },
   {
    "duration": 123,
    "start_time": "2022-02-09T15:58:30.985Z"
   },
   {
    "duration": 19,
    "start_time": "2022-02-09T15:58:31.110Z"
   },
   {
    "duration": 18,
    "start_time": "2022-02-09T15:58:31.131Z"
   },
   {
    "duration": 30,
    "start_time": "2022-02-09T15:58:31.150Z"
   },
   {
    "duration": 4,
    "start_time": "2022-02-09T15:58:31.181Z"
   },
   {
    "duration": 26,
    "start_time": "2022-02-09T15:58:31.186Z"
   },
   {
    "duration": 16,
    "start_time": "2022-02-09T15:58:31.213Z"
   },
   {
    "duration": 22,
    "start_time": "2022-02-09T15:58:31.231Z"
   },
   {
    "duration": 16,
    "start_time": "2022-02-09T15:58:31.255Z"
   },
   {
    "duration": 17,
    "start_time": "2022-02-09T15:58:31.273Z"
   },
   {
    "duration": 73,
    "start_time": "2022-02-09T15:58:31.292Z"
   },
   {
    "duration": 66,
    "start_time": "2022-02-09T15:58:31.367Z"
   },
   {
    "duration": 46,
    "start_time": "2022-02-09T15:58:31.434Z"
   },
   {
    "duration": 46,
    "start_time": "2022-02-09T15:58:31.482Z"
   },
   {
    "duration": 3,
    "start_time": "2022-02-09T15:58:31.529Z"
   },
   {
    "duration": 581,
    "start_time": "2022-02-09T15:58:31.533Z"
   },
   {
    "duration": -617,
    "start_time": "2022-02-09T15:58:32.733Z"
   },
   {
    "duration": -635,
    "start_time": "2022-02-09T15:58:32.751Z"
   },
   {
    "duration": -649,
    "start_time": "2022-02-09T15:58:32.766Z"
   },
   {
    "duration": -661,
    "start_time": "2022-02-09T15:58:32.779Z"
   },
   {
    "duration": -676,
    "start_time": "2022-02-09T15:58:32.795Z"
   },
   {
    "duration": -683,
    "start_time": "2022-02-09T15:58:32.803Z"
   },
   {
    "duration": -700,
    "start_time": "2022-02-09T15:58:32.821Z"
   },
   {
    "duration": -715,
    "start_time": "2022-02-09T15:58:32.837Z"
   },
   {
    "duration": -733,
    "start_time": "2022-02-09T15:58:32.855Z"
   },
   {
    "duration": -738,
    "start_time": "2022-02-09T15:58:32.861Z"
   },
   {
    "duration": -751,
    "start_time": "2022-02-09T15:58:32.875Z"
   },
   {
    "duration": -763,
    "start_time": "2022-02-09T15:58:32.888Z"
   },
   {
    "duration": -778,
    "start_time": "2022-02-09T15:58:32.904Z"
   },
   {
    "duration": -793,
    "start_time": "2022-02-09T15:58:32.920Z"
   },
   {
    "duration": -809,
    "start_time": "2022-02-09T15:58:32.937Z"
   },
   {
    "duration": -840,
    "start_time": "2022-02-09T15:58:32.969Z"
   },
   {
    "duration": -850,
    "start_time": "2022-02-09T15:58:32.980Z"
   },
   {
    "duration": -860,
    "start_time": "2022-02-09T15:58:32.991Z"
   },
   {
    "duration": -874,
    "start_time": "2022-02-09T15:58:33.006Z"
   },
   {
    "duration": -889,
    "start_time": "2022-02-09T15:58:33.021Z"
   },
   {
    "duration": -905,
    "start_time": "2022-02-09T15:58:33.038Z"
   },
   {
    "duration": -941,
    "start_time": "2022-02-09T15:58:33.075Z"
   },
   {
    "duration": -946,
    "start_time": "2022-02-09T15:58:33.081Z"
   },
   {
    "duration": 2,
    "start_time": "2022-02-09T16:00:31.470Z"
   },
   {
    "duration": 9,
    "start_time": "2022-02-09T16:00:36.753Z"
   },
   {
    "duration": 8,
    "start_time": "2022-02-09T16:00:39.435Z"
   },
   {
    "duration": 9,
    "start_time": "2022-02-09T16:00:42.256Z"
   },
   {
    "duration": 610,
    "start_time": "2022-02-09T16:01:00.458Z"
   },
   {
    "duration": 128,
    "start_time": "2022-02-09T16:01:01.070Z"
   },
   {
    "duration": 16,
    "start_time": "2022-02-09T16:01:01.201Z"
   },
   {
    "duration": 12,
    "start_time": "2022-02-09T16:01:01.218Z"
   },
   {
    "duration": 25,
    "start_time": "2022-02-09T16:01:01.232Z"
   },
   {
    "duration": 12,
    "start_time": "2022-02-09T16:01:01.259Z"
   },
   {
    "duration": 22,
    "start_time": "2022-02-09T16:01:01.272Z"
   },
   {
    "duration": 6,
    "start_time": "2022-02-09T16:01:01.297Z"
   },
   {
    "duration": 32,
    "start_time": "2022-02-09T16:01:01.305Z"
   },
   {
    "duration": 39,
    "start_time": "2022-02-09T16:01:01.339Z"
   },
   {
    "duration": 21,
    "start_time": "2022-02-09T16:01:01.380Z"
   },
   {
    "duration": 56,
    "start_time": "2022-02-09T16:01:01.402Z"
   },
   {
    "duration": 77,
    "start_time": "2022-02-09T16:01:01.459Z"
   },
   {
    "duration": 49,
    "start_time": "2022-02-09T16:01:01.538Z"
   },
   {
    "duration": 48,
    "start_time": "2022-02-09T16:01:01.588Z"
   },
   {
    "duration": 2,
    "start_time": "2022-02-09T16:01:01.638Z"
   },
   {
    "duration": 12,
    "start_time": "2022-02-09T16:01:01.642Z"
   },
   {
    "duration": 13,
    "start_time": "2022-02-09T16:01:01.655Z"
   },
   {
    "duration": 40,
    "start_time": "2022-02-09T16:01:01.669Z"
   },
   {
    "duration": 39,
    "start_time": "2022-02-09T16:01:01.711Z"
   },
   {
    "duration": 4,
    "start_time": "2022-02-09T16:01:01.752Z"
   },
   {
    "duration": 25,
    "start_time": "2022-02-09T16:01:01.758Z"
   },
   {
    "duration": 12,
    "start_time": "2022-02-09T16:01:01.787Z"
   },
   {
    "duration": 28,
    "start_time": "2022-02-09T16:01:01.801Z"
   },
   {
    "duration": 13,
    "start_time": "2022-02-09T16:01:01.831Z"
   },
   {
    "duration": 20,
    "start_time": "2022-02-09T16:01:01.846Z"
   },
   {
    "duration": 14,
    "start_time": "2022-02-09T16:01:01.868Z"
   },
   {
    "duration": 8,
    "start_time": "2022-02-09T16:01:01.884Z"
   },
   {
    "duration": 43,
    "start_time": "2022-02-09T16:01:01.893Z"
   },
   {
    "duration": 9,
    "start_time": "2022-02-09T16:01:01.938Z"
   },
   {
    "duration": 4,
    "start_time": "2022-02-09T16:01:01.948Z"
   },
   {
    "duration": 35,
    "start_time": "2022-02-09T16:01:01.954Z"
   },
   {
    "duration": 14,
    "start_time": "2022-02-09T16:01:01.990Z"
   },
   {
    "duration": 34,
    "start_time": "2022-02-09T16:01:02.005Z"
   },
   {
    "duration": 17,
    "start_time": "2022-02-09T16:01:02.041Z"
   },
   {
    "duration": 9,
    "start_time": "2022-02-09T16:01:02.060Z"
   },
   {
    "duration": 4,
    "start_time": "2022-02-09T16:01:02.071Z"
   },
   {
    "duration": 17,
    "start_time": "2022-02-09T16:01:02.077Z"
   },
   {
    "duration": 12,
    "start_time": "2022-02-09T16:01:02.096Z"
   },
   {
    "duration": 5,
    "start_time": "2022-02-09T16:01:02.128Z"
   },
   {
    "duration": 3,
    "start_time": "2022-02-09T16:01:09.806Z"
   },
   {
    "duration": 9,
    "start_time": "2022-02-09T16:01:14.750Z"
   },
   {
    "duration": 3,
    "start_time": "2022-02-09T16:01:50.833Z"
   },
   {
    "duration": 678,
    "start_time": "2022-02-09T16:01:55.268Z"
   },
   {
    "duration": 555,
    "start_time": "2022-02-09T16:02:04.738Z"
   },
   {
    "duration": 121,
    "start_time": "2022-02-09T16:02:05.294Z"
   },
   {
    "duration": 24,
    "start_time": "2022-02-09T16:02:05.417Z"
   },
   {
    "duration": 9,
    "start_time": "2022-02-09T16:02:05.443Z"
   },
   {
    "duration": 25,
    "start_time": "2022-02-09T16:02:05.454Z"
   },
   {
    "duration": 4,
    "start_time": "2022-02-09T16:02:05.480Z"
   },
   {
    "duration": 42,
    "start_time": "2022-02-09T16:02:05.485Z"
   },
   {
    "duration": 4,
    "start_time": "2022-02-09T16:02:05.528Z"
   },
   {
    "duration": 19,
    "start_time": "2022-02-09T16:02:05.535Z"
   },
   {
    "duration": 15,
    "start_time": "2022-02-09T16:02:05.557Z"
   },
   {
    "duration": 19,
    "start_time": "2022-02-09T16:02:05.573Z"
   },
   {
    "duration": 82,
    "start_time": "2022-02-09T16:02:05.593Z"
   },
   {
    "duration": 72,
    "start_time": "2022-02-09T16:02:05.676Z"
   },
   {
    "duration": 45,
    "start_time": "2022-02-09T16:02:05.750Z"
   },
   {
    "duration": 43,
    "start_time": "2022-02-09T16:02:05.797Z"
   },
   {
    "duration": 3,
    "start_time": "2022-02-09T16:02:05.842Z"
   },
   {
    "duration": 589,
    "start_time": "2022-02-09T16:02:05.846Z"
   },
   {
    "duration": -592,
    "start_time": "2022-02-09T16:02:07.029Z"
   },
   {
    "duration": -636,
    "start_time": "2022-02-09T16:02:07.074Z"
   },
   {
    "duration": -648,
    "start_time": "2022-02-09T16:02:07.087Z"
   },
   {
    "duration": -662,
    "start_time": "2022-02-09T16:02:07.102Z"
   },
   {
    "duration": -686,
    "start_time": "2022-02-09T16:02:07.127Z"
   },
   {
    "duration": -703,
    "start_time": "2022-02-09T16:02:07.145Z"
   },
   {
    "duration": -723,
    "start_time": "2022-02-09T16:02:07.166Z"
   },
   {
    "duration": -741,
    "start_time": "2022-02-09T16:02:07.185Z"
   },
   {
    "duration": -750,
    "start_time": "2022-02-09T16:02:07.195Z"
   },
   {
    "duration": -762,
    "start_time": "2022-02-09T16:02:07.208Z"
   },
   {
    "duration": -766,
    "start_time": "2022-02-09T16:02:07.212Z"
   },
   {
    "duration": -777,
    "start_time": "2022-02-09T16:02:07.224Z"
   },
   {
    "duration": -828,
    "start_time": "2022-02-09T16:02:07.276Z"
   },
   {
    "duration": -830,
    "start_time": "2022-02-09T16:02:07.279Z"
   },
   {
    "duration": -832,
    "start_time": "2022-02-09T16:02:07.282Z"
   },
   {
    "duration": -843,
    "start_time": "2022-02-09T16:02:07.294Z"
   },
   {
    "duration": -854,
    "start_time": "2022-02-09T16:02:07.305Z"
   },
   {
    "duration": -910,
    "start_time": "2022-02-09T16:02:07.362Z"
   },
   {
    "duration": -924,
    "start_time": "2022-02-09T16:02:07.377Z"
   },
   {
    "duration": -952,
    "start_time": "2022-02-09T16:02:07.406Z"
   },
   {
    "duration": -970,
    "start_time": "2022-02-09T16:02:07.425Z"
   },
   {
    "duration": -974,
    "start_time": "2022-02-09T16:02:07.430Z"
   },
   {
    "duration": -976,
    "start_time": "2022-02-09T16:02:07.433Z"
   },
   {
    "duration": 3,
    "start_time": "2022-02-09T16:02:17.359Z"
   },
   {
    "duration": 590,
    "start_time": "2022-02-09T16:02:23.779Z"
   },
   {
    "duration": 3,
    "start_time": "2022-02-09T16:02:59.321Z"
   },
   {
    "duration": 10,
    "start_time": "2022-02-09T16:03:10.515Z"
   },
   {
    "duration": 10,
    "start_time": "2022-02-09T16:03:13.151Z"
   },
   {
    "duration": 4,
    "start_time": "2022-02-09T16:03:33.379Z"
   },
   {
    "duration": 14,
    "start_time": "2022-02-09T16:03:38.007Z"
   },
   {
    "duration": 11,
    "start_time": "2022-02-09T16:04:27.121Z"
   },
   {
    "duration": 3,
    "start_time": "2022-02-09T16:04:42.685Z"
   },
   {
    "duration": 10,
    "start_time": "2022-02-09T16:04:47.652Z"
   },
   {
    "duration": 10,
    "start_time": "2022-02-09T16:08:26.980Z"
   },
   {
    "duration": 10,
    "start_time": "2022-02-09T16:08:31.029Z"
   },
   {
    "duration": 3,
    "start_time": "2022-02-09T16:08:35.678Z"
   },
   {
    "duration": 9,
    "start_time": "2022-02-09T16:08:40.128Z"
   },
   {
    "duration": 598,
    "start_time": "2022-02-09T16:08:49.415Z"
   },
   {
    "duration": 122,
    "start_time": "2022-02-09T16:08:50.014Z"
   },
   {
    "duration": 14,
    "start_time": "2022-02-09T16:08:50.138Z"
   },
   {
    "duration": 11,
    "start_time": "2022-02-09T16:08:50.154Z"
   },
   {
    "duration": 22,
    "start_time": "2022-02-09T16:08:50.167Z"
   },
   {
    "duration": 3,
    "start_time": "2022-02-09T16:08:50.190Z"
   },
   {
    "duration": 35,
    "start_time": "2022-02-09T16:08:50.195Z"
   },
   {
    "duration": 3,
    "start_time": "2022-02-09T16:08:50.232Z"
   },
   {
    "duration": 20,
    "start_time": "2022-02-09T16:08:50.237Z"
   },
   {
    "duration": 14,
    "start_time": "2022-02-09T16:08:50.259Z"
   },
   {
    "duration": 17,
    "start_time": "2022-02-09T16:08:50.274Z"
   },
   {
    "duration": 75,
    "start_time": "2022-02-09T16:08:50.293Z"
   },
   {
    "duration": 65,
    "start_time": "2022-02-09T16:08:50.370Z"
   },
   {
    "duration": 44,
    "start_time": "2022-02-09T16:08:50.436Z"
   },
   {
    "duration": 46,
    "start_time": "2022-02-09T16:08:50.482Z"
   },
   {
    "duration": 3,
    "start_time": "2022-02-09T16:08:50.529Z"
   },
   {
    "duration": 12,
    "start_time": "2022-02-09T16:08:50.534Z"
   },
   {
    "duration": 6,
    "start_time": "2022-02-09T16:08:50.548Z"
   },
   {
    "duration": 26,
    "start_time": "2022-02-09T16:08:50.555Z"
   },
   {
    "duration": 48,
    "start_time": "2022-02-09T16:08:50.583Z"
   },
   {
    "duration": 3,
    "start_time": "2022-02-09T16:08:50.632Z"
   },
   {
    "duration": 17,
    "start_time": "2022-02-09T16:08:50.637Z"
   },
   {
    "duration": 11,
    "start_time": "2022-02-09T16:08:50.656Z"
   },
   {
    "duration": 11,
    "start_time": "2022-02-09T16:08:50.669Z"
   },
   {
    "duration": 10,
    "start_time": "2022-02-09T16:08:50.681Z"
   },
   {
    "duration": 39,
    "start_time": "2022-02-09T16:08:50.693Z"
   },
   {
    "duration": 11,
    "start_time": "2022-02-09T16:08:50.735Z"
   },
   {
    "duration": 6,
    "start_time": "2022-02-09T16:08:50.748Z"
   },
   {
    "duration": 11,
    "start_time": "2022-02-09T16:08:50.756Z"
   },
   {
    "duration": 7,
    "start_time": "2022-02-09T16:08:50.768Z"
   },
   {
    "duration": 3,
    "start_time": "2022-02-09T16:08:50.776Z"
   },
   {
    "duration": 23,
    "start_time": "2022-02-09T16:08:50.781Z"
   },
   {
    "duration": 10,
    "start_time": "2022-02-09T16:08:50.827Z"
   },
   {
    "duration": 13,
    "start_time": "2022-02-09T16:08:50.839Z"
   },
   {
    "duration": 9,
    "start_time": "2022-02-09T16:08:50.854Z"
   },
   {
    "duration": 8,
    "start_time": "2022-02-09T16:08:50.864Z"
   },
   {
    "duration": 4,
    "start_time": "2022-02-09T16:08:50.873Z"
   },
   {
    "duration": 7,
    "start_time": "2022-02-09T16:08:50.878Z"
   },
   {
    "duration": 8,
    "start_time": "2022-02-09T16:08:50.886Z"
   },
   {
    "duration": 32,
    "start_time": "2022-02-09T16:08:50.896Z"
   },
   {
    "duration": 3,
    "start_time": "2022-02-09T16:09:16.824Z"
   },
   {
    "duration": 8,
    "start_time": "2022-02-09T16:09:21.270Z"
   },
   {
    "duration": 9,
    "start_time": "2022-02-09T16:09:24.182Z"
   },
   {
    "duration": 6,
    "start_time": "2022-02-09T16:09:32.016Z"
   },
   {
    "duration": 36,
    "start_time": "2022-02-09T16:11:03.130Z"
   },
   {
    "duration": 574,
    "start_time": "2022-02-09T16:16:22.395Z"
   },
   {
    "duration": 122,
    "start_time": "2022-02-09T16:16:22.971Z"
   },
   {
    "duration": 14,
    "start_time": "2022-02-09T16:16:23.094Z"
   },
   {
    "duration": 8,
    "start_time": "2022-02-09T16:16:23.110Z"
   },
   {
    "duration": 20,
    "start_time": "2022-02-09T16:16:23.127Z"
   },
   {
    "duration": 3,
    "start_time": "2022-02-09T16:16:23.149Z"
   },
   {
    "duration": 17,
    "start_time": "2022-02-09T16:16:23.154Z"
   },
   {
    "duration": 4,
    "start_time": "2022-02-09T16:16:23.173Z"
   },
   {
    "duration": 19,
    "start_time": "2022-02-09T16:16:23.179Z"
   },
   {
    "duration": 41,
    "start_time": "2022-02-09T16:16:23.200Z"
   },
   {
    "duration": 18,
    "start_time": "2022-02-09T16:16:23.242Z"
   },
   {
    "duration": 52,
    "start_time": "2022-02-09T16:16:23.262Z"
   },
   {
    "duration": 60,
    "start_time": "2022-02-09T16:16:23.327Z"
   },
   {
    "duration": 52,
    "start_time": "2022-02-09T16:16:23.389Z"
   },
   {
    "duration": 35,
    "start_time": "2022-02-09T16:16:23.442Z"
   },
   {
    "duration": 3,
    "start_time": "2022-02-09T16:16:23.478Z"
   },
   {
    "duration": 10,
    "start_time": "2022-02-09T16:16:23.482Z"
   },
   {
    "duration": 51,
    "start_time": "2022-02-09T16:16:23.493Z"
   },
   {
    "duration": 316,
    "start_time": "2022-02-09T16:16:23.545Z"
   },
   {
    "duration": -656,
    "start_time": "2022-02-09T16:16:24.520Z"
   },
   {
    "duration": -667,
    "start_time": "2022-02-09T16:16:24.533Z"
   },
   {
    "duration": -693,
    "start_time": "2022-02-09T16:16:24.560Z"
   },
   {
    "duration": -699,
    "start_time": "2022-02-09T16:16:24.567Z"
   },
   {
    "duration": -710,
    "start_time": "2022-02-09T16:16:24.579Z"
   },
   {
    "duration": -732,
    "start_time": "2022-02-09T16:16:24.602Z"
   },
   {
    "duration": -743,
    "start_time": "2022-02-09T16:16:24.614Z"
   },
   {
    "duration": -768,
    "start_time": "2022-02-09T16:16:24.640Z"
   },
   {
    "duration": -782,
    "start_time": "2022-02-09T16:16:24.655Z"
   },
   {
    "duration": -797,
    "start_time": "2022-02-09T16:16:24.671Z"
   },
   {
    "duration": -821,
    "start_time": "2022-02-09T16:16:24.696Z"
   },
   {
    "duration": -828,
    "start_time": "2022-02-09T16:16:24.704Z"
   },
   {
    "duration": -840,
    "start_time": "2022-02-09T16:16:24.717Z"
   },
   {
    "duration": -854,
    "start_time": "2022-02-09T16:16:24.732Z"
   },
   {
    "duration": -860,
    "start_time": "2022-02-09T16:16:24.739Z"
   },
   {
    "duration": -870,
    "start_time": "2022-02-09T16:16:24.750Z"
   },
   {
    "duration": -885,
    "start_time": "2022-02-09T16:16:24.766Z"
   },
   {
    "duration": -899,
    "start_time": "2022-02-09T16:16:24.780Z"
   },
   {
    "duration": -909,
    "start_time": "2022-02-09T16:16:24.791Z"
   },
   {
    "duration": -922,
    "start_time": "2022-02-09T16:16:24.805Z"
   },
   {
    "duration": -934,
    "start_time": "2022-02-09T16:16:24.818Z"
   },
   {
    "duration": 11,
    "start_time": "2022-02-09T16:17:02.156Z"
   },
   {
    "duration": 19,
    "start_time": "2022-02-09T16:17:25.536Z"
   },
   {
    "duration": 11,
    "start_time": "2022-02-09T16:17:46.544Z"
   },
   {
    "duration": 11,
    "start_time": "2022-02-09T16:19:38.760Z"
   },
   {
    "duration": 10,
    "start_time": "2022-02-09T16:21:53.840Z"
   },
   {
    "duration": 551,
    "start_time": "2022-02-09T16:23:06.246Z"
   },
   {
    "duration": 123,
    "start_time": "2022-02-09T16:23:06.799Z"
   },
   {
    "duration": 14,
    "start_time": "2022-02-09T16:23:06.924Z"
   },
   {
    "duration": 11,
    "start_time": "2022-02-09T16:23:06.940Z"
   },
   {
    "duration": 24,
    "start_time": "2022-02-09T16:23:06.952Z"
   },
   {
    "duration": 3,
    "start_time": "2022-02-09T16:23:06.978Z"
   },
   {
    "duration": 21,
    "start_time": "2022-02-09T16:23:06.982Z"
   },
   {
    "duration": 23,
    "start_time": "2022-02-09T16:23:07.005Z"
   },
   {
    "duration": 19,
    "start_time": "2022-02-09T16:23:07.030Z"
   },
   {
    "duration": 15,
    "start_time": "2022-02-09T16:23:07.051Z"
   },
   {
    "duration": 20,
    "start_time": "2022-02-09T16:23:07.068Z"
   },
   {
    "duration": 76,
    "start_time": "2022-02-09T16:23:07.089Z"
   },
   {
    "duration": 68,
    "start_time": "2022-02-09T16:23:07.166Z"
   },
   {
    "duration": 45,
    "start_time": "2022-02-09T16:23:07.236Z"
   },
   {
    "duration": 48,
    "start_time": "2022-02-09T16:23:07.283Z"
   },
   {
    "duration": 2,
    "start_time": "2022-02-09T16:23:07.332Z"
   },
   {
    "duration": 11,
    "start_time": "2022-02-09T16:23:07.336Z"
   },
   {
    "duration": 35,
    "start_time": "2022-02-09T16:23:07.348Z"
   },
   {
    "duration": 10,
    "start_time": "2022-02-09T16:23:07.384Z"
   },
   {
    "duration": 32,
    "start_time": "2022-02-09T16:23:07.396Z"
   },
   {
    "duration": 3,
    "start_time": "2022-02-09T16:23:07.429Z"
   },
   {
    "duration": 18,
    "start_time": "2022-02-09T16:23:07.433Z"
   },
   {
    "duration": 11,
    "start_time": "2022-02-09T16:23:07.455Z"
   },
   {
    "duration": 13,
    "start_time": "2022-02-09T16:23:07.468Z"
   },
   {
    "duration": 12,
    "start_time": "2022-02-09T16:23:07.483Z"
   },
   {
    "duration": 44,
    "start_time": "2022-02-09T16:23:07.497Z"
   },
   {
    "duration": 12,
    "start_time": "2022-02-09T16:23:07.543Z"
   },
   {
    "duration": 7,
    "start_time": "2022-02-09T16:23:07.556Z"
   },
   {
    "duration": 14,
    "start_time": "2022-02-09T16:23:07.564Z"
   },
   {
    "duration": 8,
    "start_time": "2022-02-09T16:23:07.579Z"
   },
   {
    "duration": 4,
    "start_time": "2022-02-09T16:23:07.588Z"
   },
   {
    "duration": 43,
    "start_time": "2022-02-09T16:23:07.594Z"
   },
   {
    "duration": 10,
    "start_time": "2022-02-09T16:23:07.639Z"
   },
   {
    "duration": 14,
    "start_time": "2022-02-09T16:23:07.651Z"
   },
   {
    "duration": 10,
    "start_time": "2022-02-09T16:23:07.666Z"
   },
   {
    "duration": 8,
    "start_time": "2022-02-09T16:23:07.677Z"
   },
   {
    "duration": 4,
    "start_time": "2022-02-09T16:23:07.687Z"
   },
   {
    "duration": 36,
    "start_time": "2022-02-09T16:23:07.692Z"
   },
   {
    "duration": 6,
    "start_time": "2022-02-09T16:23:07.729Z"
   },
   {
    "duration": 3,
    "start_time": "2022-02-09T16:23:07.737Z"
   },
   {
    "duration": 54,
    "start_time": "2022-02-09T16:23:40.410Z"
   },
   {
    "duration": 44,
    "start_time": "2022-02-09T16:23:42.421Z"
   },
   {
    "duration": 5,
    "start_time": "2022-02-10T04:24:44.434Z"
   },
   {
    "duration": 3,
    "start_time": "2022-02-10T12:30:44.475Z"
   },
   {
    "duration": 445,
    "start_time": "2022-02-10T12:30:51.601Z"
   },
   {
    "duration": 691,
    "start_time": "2022-02-10T12:31:02.207Z"
   },
   {
    "duration": 172,
    "start_time": "2022-02-10T12:31:02.901Z"
   },
   {
    "duration": 26,
    "start_time": "2022-02-10T12:31:03.076Z"
   },
   {
    "duration": 19,
    "start_time": "2022-02-10T12:31:03.104Z"
   },
   {
    "duration": 34,
    "start_time": "2022-02-10T12:31:03.125Z"
   },
   {
    "duration": 7,
    "start_time": "2022-02-10T12:31:03.161Z"
   },
   {
    "duration": 26,
    "start_time": "2022-02-10T12:31:03.169Z"
   },
   {
    "duration": 24,
    "start_time": "2022-02-10T12:31:03.199Z"
   },
   {
    "duration": 34,
    "start_time": "2022-02-10T12:31:03.225Z"
   },
   {
    "duration": 24,
    "start_time": "2022-02-10T12:31:03.261Z"
   },
   {
    "duration": 29,
    "start_time": "2022-02-10T12:31:03.287Z"
   },
   {
    "duration": 62,
    "start_time": "2022-02-10T12:31:03.318Z"
   },
   {
    "duration": 80,
    "start_time": "2022-02-10T12:31:03.382Z"
   },
   {
    "duration": 61,
    "start_time": "2022-02-10T12:31:03.464Z"
   },
   {
    "duration": 39,
    "start_time": "2022-02-10T12:31:03.527Z"
   },
   {
    "duration": 14,
    "start_time": "2022-02-10T12:31:03.568Z"
   },
   {
    "duration": 21,
    "start_time": "2022-02-10T12:31:03.584Z"
   },
   {
    "duration": 49,
    "start_time": "2022-02-10T12:31:03.607Z"
   },
   {
    "duration": 12,
    "start_time": "2022-02-10T12:31:03.658Z"
   },
   {
    "duration": 10,
    "start_time": "2022-02-10T12:31:03.672Z"
   },
   {
    "duration": 4,
    "start_time": "2022-02-10T12:31:03.684Z"
   },
   {
    "duration": 42,
    "start_time": "2022-02-10T12:31:03.689Z"
   },
   {
    "duration": 15,
    "start_time": "2022-02-10T12:31:03.735Z"
   },
   {
    "duration": 16,
    "start_time": "2022-02-10T12:31:03.752Z"
   },
   {
    "duration": 48,
    "start_time": "2022-02-10T12:31:03.770Z"
   },
   {
    "duration": 17,
    "start_time": "2022-02-10T12:31:03.820Z"
   },
   {
    "duration": 14,
    "start_time": "2022-02-10T12:31:03.839Z"
   },
   {
    "duration": 11,
    "start_time": "2022-02-10T12:31:03.855Z"
   },
   {
    "duration": 14,
    "start_time": "2022-02-10T12:31:03.867Z"
   },
   {
    "duration": 41,
    "start_time": "2022-02-10T12:31:03.883Z"
   },
   {
    "duration": 4,
    "start_time": "2022-02-10T12:31:03.926Z"
   },
   {
    "duration": 27,
    "start_time": "2022-02-10T12:31:03.932Z"
   },
   {
    "duration": 12,
    "start_time": "2022-02-10T12:31:03.962Z"
   },
   {
    "duration": 17,
    "start_time": "2022-02-10T12:31:03.976Z"
   },
   {
    "duration": 14,
    "start_time": "2022-02-10T12:31:04.018Z"
   },
   {
    "duration": 12,
    "start_time": "2022-02-10T12:31:04.034Z"
   },
   {
    "duration": 9,
    "start_time": "2022-02-10T12:31:04.047Z"
   },
   {
    "duration": 10,
    "start_time": "2022-02-10T12:31:04.057Z"
   },
   {
    "duration": 14,
    "start_time": "2022-02-10T12:31:04.069Z"
   },
   {
    "duration": 15,
    "start_time": "2022-02-10T12:31:04.085Z"
   },
   {
    "duration": 17,
    "start_time": "2022-02-10T12:31:29.644Z"
   },
   {
    "duration": 3,
    "start_time": "2022-02-10T12:31:35.710Z"
   },
   {
    "duration": 5,
    "start_time": "2022-02-10T12:32:05.359Z"
   },
   {
    "duration": 16,
    "start_time": "2022-02-10T12:32:10.463Z"
   },
   {
    "duration": 16,
    "start_time": "2022-02-10T12:32:14.449Z"
   },
   {
    "duration": 3,
    "start_time": "2022-02-10T12:32:32.361Z"
   },
   {
    "duration": 3,
    "start_time": "2022-02-10T16:40:01.307Z"
   },
   {
    "duration": 810,
    "start_time": "2022-02-10T16:40:15.220Z"
   },
   {
    "duration": 3,
    "start_time": "2022-02-10T16:41:49.828Z"
   },
   {
    "duration": 280,
    "start_time": "2022-02-10T16:42:00.868Z"
   },
   {
    "duration": 513,
    "start_time": "2022-02-10T16:42:31.520Z"
   },
   {
    "duration": 136,
    "start_time": "2022-02-10T16:42:32.035Z"
   },
   {
    "duration": 16,
    "start_time": "2022-02-10T16:42:32.174Z"
   },
   {
    "duration": 15,
    "start_time": "2022-02-10T16:42:32.192Z"
   },
   {
    "duration": 30,
    "start_time": "2022-02-10T16:42:32.209Z"
   },
   {
    "duration": 18,
    "start_time": "2022-02-10T16:42:32.241Z"
   },
   {
    "duration": 22,
    "start_time": "2022-02-10T16:42:32.261Z"
   },
   {
    "duration": 8,
    "start_time": "2022-02-10T16:42:32.285Z"
   },
   {
    "duration": 27,
    "start_time": "2022-02-10T16:42:32.294Z"
   },
   {
    "duration": 28,
    "start_time": "2022-02-10T16:42:32.322Z"
   },
   {
    "duration": 34,
    "start_time": "2022-02-10T16:42:32.359Z"
   },
   {
    "duration": 68,
    "start_time": "2022-02-10T16:42:32.394Z"
   },
   {
    "duration": 69,
    "start_time": "2022-02-10T16:42:32.463Z"
   },
   {
    "duration": 61,
    "start_time": "2022-02-10T16:42:32.533Z"
   },
   {
    "duration": 36,
    "start_time": "2022-02-10T16:42:32.596Z"
   },
   {
    "duration": 3,
    "start_time": "2022-02-10T16:42:32.634Z"
   },
   {
    "duration": 33,
    "start_time": "2022-02-10T16:42:32.638Z"
   },
   {
    "duration": 50,
    "start_time": "2022-02-10T16:42:32.673Z"
   },
   {
    "duration": 12,
    "start_time": "2022-02-10T16:42:32.724Z"
   },
   {
    "duration": 9,
    "start_time": "2022-02-10T16:42:32.737Z"
   },
   {
    "duration": 13,
    "start_time": "2022-02-10T16:42:32.747Z"
   },
   {
    "duration": 22,
    "start_time": "2022-02-10T16:42:32.763Z"
   },
   {
    "duration": 14,
    "start_time": "2022-02-10T16:42:32.787Z"
   },
   {
    "duration": 16,
    "start_time": "2022-02-10T16:42:32.802Z"
   },
   {
    "duration": 13,
    "start_time": "2022-02-10T16:42:32.819Z"
   },
   {
    "duration": 44,
    "start_time": "2022-02-10T16:42:32.834Z"
   },
   {
    "duration": 17,
    "start_time": "2022-02-10T16:42:32.879Z"
   },
   {
    "duration": 8,
    "start_time": "2022-02-10T16:42:32.897Z"
   },
   {
    "duration": 12,
    "start_time": "2022-02-10T16:42:32.906Z"
   },
   {
    "duration": 8,
    "start_time": "2022-02-10T16:42:32.920Z"
   },
   {
    "duration": 31,
    "start_time": "2022-02-10T16:42:32.929Z"
   },
   {
    "duration": 24,
    "start_time": "2022-02-10T16:42:32.962Z"
   },
   {
    "duration": 12,
    "start_time": "2022-02-10T16:42:32.987Z"
   },
   {
    "duration": 16,
    "start_time": "2022-02-10T16:42:33.001Z"
   },
   {
    "duration": 12,
    "start_time": "2022-02-10T16:42:33.018Z"
   },
   {
    "duration": 34,
    "start_time": "2022-02-10T16:42:33.031Z"
   },
   {
    "duration": 5,
    "start_time": "2022-02-10T16:42:33.067Z"
   },
   {
    "duration": 11,
    "start_time": "2022-02-10T16:42:33.073Z"
   },
   {
    "duration": 10,
    "start_time": "2022-02-10T16:42:33.085Z"
   },
   {
    "duration": 5,
    "start_time": "2022-02-10T16:42:33.096Z"
   },
   {
    "duration": 3,
    "start_time": "2022-02-10T16:42:50.819Z"
   },
   {
    "duration": 14,
    "start_time": "2022-02-10T16:42:55.924Z"
   },
   {
    "duration": 38,
    "start_time": "2022-02-10T16:43:11.683Z"
   },
   {
    "duration": 6,
    "start_time": "2022-02-11T09:23:34.613Z"
   },
   {
    "duration": 5,
    "start_time": "2022-02-11T09:24:26.435Z"
   }
  ],
  "colab": {
   "collapsed_sections": [
    "E0vqbgi9ay0H",
    "VUC88oWjTJw2"
   ],
   "name": "yandex_music_project_2021.2.ipynb",
   "provenance": []
  },
  "kernelspec": {
   "display_name": "Python 3 (ipykernel)",
   "language": "python",
   "name": "python3"
  },
  "language_info": {
   "codemirror_mode": {
    "name": "ipython",
    "version": 3
   },
   "file_extension": ".py",
   "mimetype": "text/x-python",
   "name": "python",
   "nbconvert_exporter": "python",
   "pygments_lexer": "ipython3",
   "version": "3.10.1"
  },
  "toc": {
   "base_numbering": 1,
   "nav_menu": {},
   "number_sections": true,
   "sideBar": true,
   "skip_h1_title": true,
   "title_cell": "Table of Contents",
   "title_sidebar": "Contents",
   "toc_cell": true,
   "toc_position": {
    "height": "calc(100% - 180px)",
    "left": "10px",
    "top": "150px",
    "width": "165px"
   },
   "toc_section_display": true,
   "toc_window_display": true
  }
 },
 "nbformat": 4,
 "nbformat_minor": 1
}
